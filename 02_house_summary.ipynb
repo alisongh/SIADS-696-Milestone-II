{
 "cells": [
  {
   "cell_type": "code",
   "execution_count": 1,
   "metadata": {},
   "outputs": [],
   "source": [
    "# import libraries\n",
    "import pandas as pd\n",
    "import numpy as np\n",
    "from datetime import date\n",
    "import missingno as msno"
   ]
  },
  {
   "cell_type": "code",
   "execution_count": 2,
   "metadata": {},
   "outputs": [],
   "source": [
    "# load data\n",
    "house_path = 'assets/updated_house_price.csv'\n",
    "pop_growth_path_1 = 'assets/population_growth_2000_2010.csv'\n",
    "pop_growth_path_2 = 'assets/population_growth_2010-2020.csv'\n",
    "pop_growth_path_3 = 'assets/population_growth_2020-2021.csv'\n",
    "unemploy_path = 'assets/wake_unemployment.csv'\n",
    "covid_path = 'assets/covid_confirmed.csv'\n",
    "mort_rate_path = 'assets/mort_rate.csv'\n",
    "lumber_path = 'assets/lumber.csv'\n",
    "metals_path = 'assets/metals.csv'\n",
    "build_material_path = 'assets/build_material.csv'\n",
    "int_rate_path = 'assets/int_rate.csv'\n",
    "us_house_supply_path = 'assets/HousingSupply.xlsx'\n",
    "us_house_demand_path = 'assets/HAI.xlsx'\n",
    "wake_supply_path = 'assets/market_hotness_supply_index.csv'\n",
    "wake_demand_path = 'assets/market_hotness_demand_index.csv'\n",
    "\n",
    "crime_apex_path = 'assets/crime_rate/apex.csv'\n",
    "crime_cary_path = 'assets/crime_rate/cary.csv'\n",
    "crime_fuquay_varina_path = 'assets/crime_rate/fuquay_varina.csv'\n",
    "crime_garner_path = 'assets/crime_rate/garner.csv'\n",
    "crime_holly_springs_path = 'assets/crime_rate/hollyspring.csv'\n",
    "crime_morrisville_path = 'assets/crime_rate/morrisville.csv'\n",
    "crime_knightdale_path = 'assets/crime_rate/knightdale.csv'\n",
    "crime_raleigh_path = 'assets/crime_rate/raleigh.csv'\n",
    "crime_rolesville_path = 'assets/crime_rate/rolesville.csv'\n",
    "crime_wake_forest_path = 'assets/crime_rate/wake_forest.csv'\n",
    "crime_wendell_path = 'assets/crime_rate/wendell.csv'\n",
    "crime_zenbulon_path = 'assets/crime_rate/zenbulon.csv'\n",
    "\n",
    "csv = 'csv'\n",
    "xlsx = 'xlsx'\n",
    "encoding_format='latin-1'\n",
    "# date format\n",
    "date_format_ym = '%Y-%m'\n",
    "date_format_y = '%Y'\n",
    "# mortgage rate\n",
    "mort_rate_2022 = {'date': '2022-09', 'Rate': 6.82}\n",
    "\n",
    "# population growth\n",
    "state_name = 'North Carolina'\n",
    "state_short_name = 'NC'\n",
    "county_name = 'Wake County'\n",
    "\n",
    "added_pop_growth = [{'year': '2000', 'pop_growth_rate': 0.018},\n",
    "                    {'year': '2022', 'pop_growth_rate': 0.025}]\n",
    "\n",
    "# covid case\n",
    "start_date = '2000-01-01'\n",
    "covid_date = '2020-01-21'\n",
    "end_date = '2022-09-15'\n",
    "# raw materials\n",
    "material_date = '2000-01'\n",
    "material_lumber = 'lumber'\n",
    "material_metal = 'metal'\n",
    "material_build = 'building'\n",
    "# interest rate\n",
    "country_name = 'USA'\n",
    "int_rate_date = '2000-01'\n",
    "# house market\n",
    "us_house_date = '2000-01'\n",
    "us_house_supply_name = 'supply'\n",
    "us_house_demand_name = 'demand'\n",
    "us_house_start_date = '2000-01-01'\n",
    "us_house_end_date = '2021-12-31'\n",
    "date_list = ['2017-01', '2017-02', '2017-03', '2017-04', '2017-05', '2017-06', '2017-07']\n",
    "wake_supply_name = 'wake_supply_index'\n",
    "wake_demand_name = 'wake_demand_index'\n",
    "# crime data\n",
    "apex_city = 'apex'\n",
    "cary_city = 'cary'\n",
    "fuquay_varina_city = 'fuquay_varina'\n",
    "garner_city = 'garner'\n",
    "holly_springs_city = 'hollyspring'\n",
    "morrisville_city = 'morrisville'\n",
    "knightdale_city = 'knightdale'\n",
    "raleigh_city = 'raleigh'\n",
    "rolesville_city = 'rolesville'\n",
    "wake_forest_city = 'wake_forest'\n",
    "wendell_city = 'wendell'\n",
    "zenbulon_city = 'zenbulon'\n",
    "\n",
    "apex_added_year = 2007\n",
    "knightdale_added_year = [2002, 2003]\n",
    "hollysprings_added_year = 2008\n",
    "raleigh_added_year = [2015,2016,2017]\n",
    "rolesville_added_year = 2008\n",
    "wake_forest_added_year = 2000\n",
    "zenbulon_added_year = 2000\n",
    "\n",
    "apex_start = 0\n",
    "apex_end = 7\n",
    "knightdale_start = [0,1]\n",
    "knightdale_end = [4,5]\n",
    "hollysprings_start = 6\n",
    "hollysprings_end = 10\n",
    "raleigh_start = [12,13,14]\n",
    "raleigh_end = [15,16,17]\n",
    "rolesville_start=4\n",
    "rolesville_end=8\n",
    "wake_forest_start=0\n",
    "wake_forest_end=4\n",
    "zenbulon_start=0\n",
    "zenbulon_end=4\n",
    "# final data\n",
    "removed_column = 'type_and_use'"
   ]
  },
  {
   "cell_type": "code",
   "execution_count": 3,
   "metadata": {},
   "outputs": [],
   "source": [
    "def namestr(obj, namespace):\n",
    "    \"\"\"Extract variable name from namespace\"\"\"\n",
    "    return [name for name in namespace if namespace[name] is obj]"
   ]
  },
  {
   "cell_type": "code",
   "execution_count": 4,
   "metadata": {},
   "outputs": [],
   "source": [
    "def read_file(file_ext, file_path, print_columns=False, encoding=None, sheet_name=None):\n",
    "    \"\"\"Read file based on file extension\n",
    "    \n",
    "    Args:\n",
    "        file_ext (str): file extension\n",
    "        file_path (str): file path\n",
    "        print_columns (bool, optional): print columns. Defaults to False.\n",
    "        encoding (str, optional): encoding. Defaults to None.\n",
    "        sheet_name (str, optional): sheet name. Defaults to None.\n",
    "    \"\"\"\n",
    "    if file_ext == 'csv':\n",
    "        if encoding == None:\n",
    "            df = pd.read_csv(file_path)\n",
    "        elif encoding == 'latin-1':\n",
    "            df = pd.read_csv(file_path, encoding=encoding)\n",
    "    elif file_ext == 'xlsx':\n",
    "        if sheet_name != None:\n",
    "            df = pd.read_excel(file_path, sheet_name=sheet_name)\n",
    "        else:\n",
    "            df = pd.read_excel(file_path)\n",
    "    if print_columns:\n",
    "        print(df.columns)\n",
    "    if sheet_name != None:\n",
    "        print(f\"The data {namestr(file_path, globals())}, {sheet_name} sheet is loaded successfully!\")\n",
    "    else:\n",
    "        print(f\"The data {namestr(file_path, globals())} is loaded successfully!\")\n",
    "    \n",
    "    return df"
   ]
  },
  {
   "cell_type": "code",
   "execution_count": 5,
   "metadata": {},
   "outputs": [],
   "source": [
    "def mortgage_rate_df(house_df, mort_rate_df, added_mort_rate=None):\n",
    "    \"\"\"Add mortgage rate to house dataframe\n",
    "    \n",
    "    Args:\n",
    "        house_df (dataframe): house dataframe\n",
    "        mort_rate_df (dataframe): mortgage rate dataframe\n",
    "        added_mort_rate (dict, optional): missing mortgage rate. Defaults to None.\n",
    "    \"\"\"\n",
    "    mort_rate_df.rename(columns={'Unnamed: 0': 'date'}, inplace=True)\n",
    "    mort_rate_df['date'] = pd.to_datetime(mort_rate_df['date'])\n",
    "    mort_rate_df['date'] = mort_rate_df['date'].dt.strftime(date_format_ym)\n",
    "    if added_mort_rate != None:\n",
    "        mort_rate_df = mort_rate_df.append(added_mort_rate, ignore_index=True)\n",
    "        print(f\"The new mortgage rate data {namestr(added_mort_rate, globals())[0]} is added successfully!\")\n",
    "    else:\n",
    "        pass\n",
    "    house_df['Deed_Date'] = pd.to_datetime(house_df['Deed_Date'])\n",
    "    house_df['Deed_Date'] = house_df['Deed_Date'].dt.strftime(date_format_ym)\n",
    "    house_df.drop(columns=['Unnamed: 0'], inplace=True)\n",
    "\n",
    "    updated_house_df = house_df.merge(mort_rate_df, left_on='Deed_Date', right_on='date', how='left')\n",
    "    updated_house_df.rename(columns={'Rate': 'mort_rate'}, inplace=True)\n",
    "    updated_house_df.drop(columns=['date'], inplace=True)\n",
    "    updated_house_df.columns = map(str.lower, updated_house_df.columns)\n",
    "    print(updated_house_df.shape)\n",
    "    print(f\"The mortgage rate data is merged successfully!\")\n",
    "    return updated_house_df\n"
   ]
  },
  {
   "cell_type": "code",
   "execution_count": 6,
   "metadata": {},
   "outputs": [],
   "source": [
    "def unemployment_rate_df(unemployment_df, updated_house_df):\n",
    "    \"\"\"Add unemployment rate to house dataframe    \n",
    "    \n",
    "    Args:\n",
    "        unemployment_df (dataframe): unemployment dataframe\n",
    "        updated_house_df (dataframe): house dataframe\n",
    "    \"\"\"\n",
    "    unemployment_df['Year'] = unemployment_df['Year'].astype(str)\n",
    "    unemployment_df['Month'] = unemployment_df['Month'].astype(str)\n",
    "    unemployment_df['date'] = unemployment_df['Year'] + '-' + unemployment_df['Month']\n",
    "    unemployment_df['date'] = pd.to_datetime(unemployment_df['date'])\n",
    "    unemployment_df['date'] = unemployment_df['date'].dt.strftime(date_format_ym)\n",
    "    unemployment_df.rename(columns={'Unemployment Rate(%)': 'unemploy_rate'}, inplace=True)\n",
    "    unemployment_df = unemployment_df[['date', 'unemploy_rate']].copy()\n",
    "    \n",
    "    updated_house_df = updated_house_df.merge(unemployment_df, left_on='deed_date', right_on='date', how='left')\n",
    "    updated_house_df.drop(columns=['date'], inplace=True)\n",
    "    print(updated_house_df.shape)\n",
    "    print(f\"The unemployment rate data is merged successfully!\")\n",
    "    return updated_house_df"
   ]
  },
  {
   "cell_type": "code",
   "execution_count": 7,
   "metadata": {},
   "outputs": [],
   "source": [
    "def pre_population_growth_df(population_growth_df, updated_house_df, state_name, county_name, year_range):\n",
    "    \"\"\"Pre process population growth dataframes by city\n",
    "    Removed unnecessary columns and rows\n",
    "    Calculate population growth rate\n",
    "    Combine population growth rates by year\n",
    "    \n",
    "    Args:\n",
    "        population_growth_df (dataframe): population growth dataframe\n",
    "        updated_house_df (dataframe): house dataframe\n",
    "        state_name (str): state name\n",
    "        county_name (str): county name\n",
    "        year_range (list): year range\n",
    "    \"\"\"\n",
    "    population_growth_df = population_growth_df.loc[population_growth_df['STNAME'] == state_name]\n",
    "    population_growth_df = population_growth_df.loc[population_growth_df['CTYNAME'] == county_name]\n",
    "    population_growth_df.drop(columns=['SUMLEV', 'REGION', 'DIVISION', 'STATE', 'COUNTY', 'STNAME'], inplace=True)\n",
    "    \n",
    "    if year_range == \"2000-2010\":\n",
    "        population_growth_df['rate_2001'] = (population_growth_df['POPESTIMATE2001'] - population_growth_df['POPESTIMATE2000']) / population_growth_df['POPESTIMATE2000']\n",
    "        population_growth_df['rate_2002'] = (population_growth_df['POPESTIMATE2002'] - population_growth_df['POPESTIMATE2001']) / population_growth_df['POPESTIMATE2001']\n",
    "        population_growth_df['rate_2003'] = (population_growth_df['POPESTIMATE2003'] - population_growth_df['POPESTIMATE2002']) / population_growth_df['POPESTIMATE2002']\n",
    "        population_growth_df['rate_2004'] = (population_growth_df['POPESTIMATE2004'] - population_growth_df['POPESTIMATE2003']) / population_growth_df['POPESTIMATE2003']\n",
    "        population_growth_df['rate_2005'] = (population_growth_df['POPESTIMATE2005'] - population_growth_df['POPESTIMATE2004']) / population_growth_df['POPESTIMATE2004']\n",
    "        population_growth_df['rate_2006'] = (population_growth_df['POPESTIMATE2006'] - population_growth_df['POPESTIMATE2005']) / population_growth_df['POPESTIMATE2005']\n",
    "        population_growth_df['rate_2007'] = (population_growth_df['POPESTIMATE2007'] - population_growth_df['POPESTIMATE2006']) / population_growth_df['POPESTIMATE2006']\n",
    "        population_growth_df['rate_2008'] = (population_growth_df['POPESTIMATE2008'] - population_growth_df['POPESTIMATE2007']) / population_growth_df['POPESTIMATE2007']\n",
    "        population_growth_df['rate_2009'] = (population_growth_df['POPESTIMATE2009'] - population_growth_df['POPESTIMATE2008']) / population_growth_df['POPESTIMATE2008']\n",
    "        population_growth_df['rate_2010'] = (population_growth_df['POPESTIMATE2010'] - population_growth_df['POPESTIMATE2009']) / population_growth_df['POPESTIMATE2009']\n",
    "        population_growth_df.drop(columns=['ESTIMATESBASE2000', \n",
    "                                           'CENSUS2010POP', \n",
    "                                           'POPESTIMATE2000', \n",
    "                                           'POPESTIMATE2001', \n",
    "                                           'POPESTIMATE2002', \n",
    "                                           'POPESTIMATE2003', \n",
    "                                           'POPESTIMATE2004', \n",
    "                                           'POPESTIMATE2005', \n",
    "                                           'POPESTIMATE2006', \n",
    "                                           'POPESTIMATE2007', \n",
    "                                           'POPESTIMATE2008', \n",
    "                                           'POPESTIMATE2009', \n",
    "                                           'POPESTIMATE2010'], inplace=True)\n",
    "        population_growth_df.set_index('CTYNAME', inplace=True)\n",
    "    elif year_range == \"2011-2020\":\n",
    "        population_growth_df['rate_2011'] = (population_growth_df['POPESTIMATE2011'] - population_growth_df['POPESTIMATE2010']) / population_growth_df['POPESTIMATE2010']\n",
    "        population_growth_df['rate_2012'] = (population_growth_df['POPESTIMATE2012'] - population_growth_df['POPESTIMATE2011']) / population_growth_df['POPESTIMATE2011']\n",
    "        population_growth_df['rate_2013'] = (population_growth_df['POPESTIMATE2013'] - population_growth_df['POPESTIMATE2012']) / population_growth_df['POPESTIMATE2012']\n",
    "        population_growth_df['rate_2014'] = (population_growth_df['POPESTIMATE2014'] - population_growth_df['POPESTIMATE2013']) / population_growth_df['POPESTIMATE2013']\n",
    "        population_growth_df['rate_2015'] = (population_growth_df['POPESTIMATE2015'] - population_growth_df['POPESTIMATE2014']) / population_growth_df['POPESTIMATE2014']\n",
    "        population_growth_df['rate_2016'] = (population_growth_df['POPESTIMATE2016'] - population_growth_df['POPESTIMATE2015']) / population_growth_df['POPESTIMATE2015']\n",
    "        population_growth_df['rate_2017'] = (population_growth_df['POPESTIMATE2017'] - population_growth_df['POPESTIMATE2016']) / population_growth_df['POPESTIMATE2016']\n",
    "        population_growth_df['rate_2018'] = (population_growth_df['POPESTIMATE2018'] - population_growth_df['POPESTIMATE2017']) / population_growth_df['POPESTIMATE2017']\n",
    "        population_growth_df['rate_2019'] = (population_growth_df['POPESTIMATE2019'] - population_growth_df['POPESTIMATE2018']) / population_growth_df['POPESTIMATE2018']\n",
    "        population_growth_df['rate_2020'] = (population_growth_df['POPESTIMATE2020'] - population_growth_df['POPESTIMATE2019']) / population_growth_df['POPESTIMATE2020']\n",
    "        population_growth_df = population_growth_df[['CTYNAME', \n",
    "                                                     'rate_2011', \n",
    "                                                     'rate_2012', \n",
    "                                                     'rate_2013', \n",
    "                                                     'rate_2014', \n",
    "                                                     'rate_2015', \n",
    "                                                     'rate_2016', \n",
    "                                                     'rate_2017', \n",
    "                                                     'rate_2018', \n",
    "                                                     'rate_2019', \n",
    "                                                     'rate_2020']]\n",
    "        population_growth_df.set_index('CTYNAME', inplace=True)\n",
    "    elif year_range == \"2021\":\n",
    "        population_growth_df['rate_2021'] = (population_growth_df['POPESTIMATE2021'] - population_growth_df['POPESTIMATE2020']) / population_growth_df['POPESTIMATE2020']\n",
    "        population_growth_df = population_growth_df[['CTYNAME', 'rate_2021']].copy()\n",
    "        population_growth_df.set_index('CTYNAME', inplace=True)\n",
    "    print(f\"Population growth data {year_range} has been processed successfully\")\n",
    "    return population_growth_df"
   ]
  },
  {
   "cell_type": "code",
   "execution_count": 8,
   "metadata": {},
   "outputs": [],
   "source": [
    "def final_pop_growth_df(pop_growth_df_1, pop_growth_df_2, pop_growth_df_3, updated_house_df, added_pop_growth=None):\n",
    "    \"\"\"Combine population growth dataframe with housing dataframe\n",
    "    \n",
    "    \n",
    "    Args:\n",
    "    ----------\n",
    "    pop_growth_df_1 : pandas dataframe\n",
    "        Population growth dataframe for 2000-2010\n",
    "    pop_growth_df_2 : pandas dataframe\n",
    "        Population growth dataframe for 2011-2020\n",
    "    pop_growth_df_3 : pandas dataframe\n",
    "        Population growth dataframe for 2021\n",
    "    updated_house_df : pandas dataframe\n",
    "        Housing dataframe with population growth data\n",
    "    added_pop_growth : pandas dataframe, optional\n",
    "    \"\"\"\n",
    "    pop_growth_df = pd.concat([pop_growth_df_1, pop_growth_df_2, pop_growth_df_3], axis=1)\n",
    "    final_pop_growth = pop_growth_df.transpose()\n",
    "    final_pop_growth.reset_index(inplace=True)\n",
    "    final_pop_growth.rename(columns={'index':'year', 'Wake County':'pop_growth_rate'}, inplace=True)\n",
    "    final_pop_growth['year'] = final_pop_growth['year'].str.split('_').str[1]\n",
    "    final_pop_growth['year'] = pd.to_datetime(final_pop_growth['year'], format=date_format_y)\n",
    "    final_pop_growth['year'] = final_pop_growth['year'].dt.strftime(date_format_y)\n",
    "\n",
    "    final_pop_growth.rename_axis(None, axis=1, inplace=True)\n",
    "    if added_pop_growth != None:\n",
    "        final_pop_growth = final_pop_growth.append(added_pop_growth, ignore_index=True)\n",
    "    final_pop_growth.sort_values(by='year', inplace=True)\n",
    "    final_pop_growth.reset_index(drop=True, inplace=True)\n",
    "\n",
    "    updated_house_df['year'] = pd.to_datetime(updated_house_df['deed_date']).dt.year\n",
    "    updated_house_df['year'] = updated_house_df['year'].astype(str)\n",
    "    updated_house_df = updated_house_df.merge(final_pop_growth, left_on='year', right_on='year', how='left')\n",
    "    updated_house_df.drop(columns=['year'], inplace=True)\n",
    "    print(\"Population growth data has been merged successfully\")\n",
    "    print(updated_house_df.shape)\n",
    "    return updated_house_df"
   ]
  },
  {
   "cell_type": "code",
   "execution_count": 9,
   "metadata": {},
   "outputs": [],
   "source": [
    "def pre_covid_df(covid_df, updated_house_df, state_short_name, county_name, start_date, covid_date, end_date, freq='D'):\n",
    "    \"\"\"Pre processing covid case dataframe\n",
    "    \n",
    "    Args:\n",
    "    ----------\n",
    "    covid_df : pandas dataframe\n",
    "        Covid case dataframe\n",
    "    updated_house_df : pandas dataframe\n",
    "        Housing dataframe\n",
    "    state_short_name : str \n",
    "        State short name\n",
    "    county_name : str  \n",
    "        County full name\n",
    "    start_date : str\n",
    "        Start date\n",
    "    covid_date : str\n",
    "        Covid date\n",
    "    end_date : str\n",
    "        End date\n",
    "    freq : str, optional\n",
    "    \"\"\"\n",
    "    county_name = county_name.replace(\"County\", \"County \")\n",
    "    nc_covid = covid_df.loc[covid_df['State'] == state_short_name]\n",
    "    wake_covid = nc_covid.loc[nc_covid['County Name'] == county_name]\n",
    "    wake_covid.drop(columns=['countyFIPS', 'StateFIPS', 'State', 'County Name'], inplace=True)\n",
    "\n",
    "    updated_covid_df = pd.DataFrame()\n",
    "    updated_covid_df['date'] = pd.date_range(start=start_date, end=end_date, freq=freq)\n",
    "\n",
    "    final_wake_covid = wake_covid.transpose()\n",
    "    final_wake_covid.reset_index(inplace=True)\n",
    "    # print(final_wake_covid.columns[1])\n",
    "    final_wake_covid.rename(columns={'index':'date', final_wake_covid.columns[1]:'covid_cases'}, inplace=True)\n",
    "    final_wake_covid['date'] = pd.to_datetime(final_wake_covid['date'])\n",
    "\n",
    "    final_covid_df = updated_covid_df.merge(final_wake_covid, left_on='date', right_on='date', how='left')\n",
    "    final_covid_df['covid_cases'].replace(to_replace=0, method='ffill', inplace=True)\n",
    "    final_covid_df['covid_cases'].fillna(method='ffill', inplace=True)\n",
    "    final_covid_df.loc[final_covid_df['date'] < covid_date, 'covid_cases'] = 0\n",
    "\n",
    "    return final_covid_df\n"
   ]
  },
  {
   "cell_type": "code",
   "execution_count": 10,
   "metadata": {},
   "outputs": [],
   "source": [
    "def final_covid_df(updated_house_df, pre_covid_df):\n",
    "    \"\"\"Combine covid case dataframe with housing dataframe\n",
    "    \n",
    "    Args:\n",
    "    ----------\n",
    "    updated_house_df : pandas dataframe\n",
    "        Housing dataframe\n",
    "    pre_covid_df : pandas dataframe\n",
    "        Pre processed covid case dataframe\n",
    "    \"\"\"\n",
    "    updated_house_df['deed_date'] = pd.to_datetime(updated_house_df['deed_date'])\n",
    "\n",
    "    # set covid case to 0 for all dates before 2020-01-21\n",
    "    updated_house_df['covid_cases'] = 0\n",
    "    updated_house_df.set_index('deed_date', inplace=True)\n",
    "    updated_house_df.update(pre_covid_df.set_index('date'))\n",
    "    updated_house_df.reset_index(inplace=True)\n",
    "    print(updated_house_df.shape)\n",
    "    print(\"Covid data has been merged successfully\")\n",
    "    return updated_house_df"
   ]
  },
  {
   "cell_type": "code",
   "execution_count": 11,
   "metadata": {},
   "outputs": [],
   "source": [
    "def raw_material_df(material_name, material_df, date):\n",
    "    \"\"\"Pre processing raw material dataframe\n",
    "    \n",
    "    Args:\n",
    "    ----------\n",
    "    material_name : str\n",
    "        Raw material name\n",
    "    material_df : pandas dataframe\n",
    "        Raw material dataframe\n",
    "    date : str\n",
    "        Date after 2000\n",
    "    \"\"\"\n",
    "    if material_name == 'lumber':\n",
    "        material_df.rename(columns={'DATE':'date', 'WPU081':'lumber_price'}, inplace=True)\n",
    "        material_df['date'] = pd.to_datetime(material_df['date'])\n",
    "        material_df['date'] = material_df['date'].dt.strftime(date_format_ym)\n",
    "        material_df = material_df[material_df['date'] >= date]\n",
    "        material_df.reset_index(drop=True, inplace=True)\n",
    "    elif material_name == 'metal':\n",
    "        material_df.rename(columns={'DATE':'date', 'WPU101':'metals_price'}, inplace=True)\n",
    "        material_df['date'] = pd.to_datetime(material_df['date'])\n",
    "        material_df['date'] = material_df['date'].dt.strftime(date_format_ym)\n",
    "        material_df = material_df[material_df['date'] >= date]\n",
    "        material_df.reset_index(drop=True, inplace=True)\n",
    "    elif material_name == 'building':\n",
    "        material_df.rename(columns={'DATE':'date', 'PCU44414441':'build_price'}, inplace=True)\n",
    "        material_df['date'] = pd.to_datetime(material_df['date'])\n",
    "        material_df['date'] = material_df['date'].dt.strftime(date_format_ym)\n",
    "        material_df = material_df[material_df['date'] >= date]\n",
    "        material_df.reset_index(drop=True, inplace=True)\n",
    "    print(f\"Raw material {material_name} data has been processed successfully\")\n",
    "    return material_df"
   ]
  },
  {
   "cell_type": "code",
   "execution_count": 12,
   "metadata": {},
   "outputs": [],
   "source": [
    "def final_material_df(material_df_1, material_df_2, material_df_3, updated_house_df):\n",
    "    \"\"\"Combine raw material dataframe with housing dataframe\n",
    "    \n",
    "    Args:\n",
    "    ----------\n",
    "    material_df_1 : pandas dataframe\n",
    "        Lumber dataframe\n",
    "    material_df_2 : pandas dataframe\n",
    "        Metals dataframe\n",
    "    material_df_3 : pandas dataframe\n",
    "        Building materials dataframe\n",
    "    updated_house_df : pandas dataframe\n",
    "        Housing dataframe\n",
    "    \"\"\"\n",
    "    lumber_metals_df = material_df_1.merge(material_df_2, left_on='date', right_on='date', how='left')\n",
    "\n",
    "    # updated_house_df['deed_date'] = pd.to_datetime(updated_house_df['deed_date'])\n",
    "    # updated_house_df['deed_date'] = updated_house_df['deed_date'].dt.strftime(date_format_ym)\n",
    "    final_material_df = lumber_metals_df.merge(material_df_3, left_on='date', right_on='date', how='left')\n",
    "    final_material_df.fillna(0, inplace=True)\n",
    "    final_material_df['date'] = pd.to_datetime(final_material_df['date'])\n",
    "\n",
    "    updated_house_df = updated_house_df.merge(final_material_df, left_on='deed_date', right_on='date', how='left')\n",
    "    updated_house_df.drop(columns=['date'], inplace=True)\n",
    "    print(f\"Material data has been merged successfully\")\n",
    "    print(updated_house_df.shape)\n",
    "    return updated_house_df"
   ]
  },
  {
   "cell_type": "code",
   "execution_count": 13,
   "metadata": {},
   "outputs": [],
   "source": [
    "def interest_rate_df(int_rate_df, updated_house_df, country_name, date):\n",
    "    \"\"\"Pre processing interest rate dataframe\n",
    "    \n",
    "    Args:\n",
    "    ----------\n",
    "    int_rate_df : pandas dataframe\n",
    "        Interest rate dataframe\n",
    "    updated_house_df : pandas dataframe\n",
    "        Housing dataframe\n",
    "    country_name : str\n",
    "        Country short name\n",
    "    date : str\n",
    "        Date after 2000\n",
    "    \"\"\"\n",
    "    int_rate_df.drop(labels=[0,1,2], axis=0, inplace=True)\n",
    "    int_rate_df.columns = int_rate_df.iloc[0]\n",
    "    int_rate_df.drop(labels=[3], axis=0, inplace=True)\n",
    "    int_rate_df.reset_index(drop=True, inplace=True)\n",
    "\n",
    "    us_int_rate_df = int_rate_df.loc[int_rate_df['Country Code'] == country_name]\n",
    "    us_int_rate_df.drop(columns=['Country Name', 'Indicator Name', 'Indicator Code'], inplace=True)\n",
    "    us_int_rate_df.reset_index(drop=True, inplace=True)\n",
    "\n",
    "    us_int_rate_df = us_int_rate_df.transpose()\n",
    "    new_header = us_int_rate_df.iloc[0] #grab the first row for the header\n",
    "    us_int_rate_df = us_int_rate_df[1:] #take the data less the header row\n",
    "    us_int_rate_df.columns = new_header #set the header row as the df header\n",
    "    us_int_rate_df.reset_index(inplace=True)\n",
    "    us_int_rate_df.rename(columns={3:'date', country_name:'int_rate'}, inplace=True)\n",
    "    us_int_rate_df['date'] = us_int_rate_df['date'].astype(str)\n",
    "    us_int_rate_df['year'] = us_int_rate_df['date'].str.split('.',0).str[0]\n",
    "    us_int_rate_df['year'] = pd.to_datetime(us_int_rate_df['year'])\n",
    "    us_int_rate_df['year'] = us_int_rate_df['year'].dt.strftime(date_format_ym)\n",
    "    us_int_rate_df.drop(columns=['date'], inplace=True)\n",
    "    us_int_rate_df = us_int_rate_df.rename_axis(None, axis=1)\n",
    "    us_int_rate_final = us_int_rate_df.loc[us_int_rate_df['year'] >= date]\n",
    "    us_int_rate_final['year'] = pd.to_datetime(us_int_rate_final['year'])\n",
    "    us_int_rate_final['year'] = us_int_rate_final['year'].dt.strftime(date_format_y)\n",
    "\n",
    "    updated_house_df['year'] = updated_house_df['deed_date'].dt.strftime(date_format_y)\n",
    "    updated_house_df['year'] = pd.to_datetime(updated_house_df['year'])\n",
    "    updated_house_df['year'] = updated_house_df['deed_date'].dt.strftime(date_format_y)\n",
    "    updated_house_df = updated_house_df.merge(us_int_rate_final, left_on='year', right_on='year', how='right')\n",
    "    updated_house_df.drop(columns=['year'], inplace=True)\n",
    "    print(f\"Interest rate data has been merged successfully\")\n",
    "    print(updated_house_df.shape)\n",
    "    return updated_house_df"
   ]
  },
  {
   "cell_type": "code",
   "execution_count": 14,
   "metadata": {},
   "outputs": [],
   "source": [
    "def us_house_market(house_market_df, market_name, date):\n",
    "    \"\"\"Pre processing US housing market dataframe\n",
    "    \n",
    "    Args:\n",
    "    ----------\n",
    "    house_market_df : pandas dataframe\n",
    "        Housing market dataframe\n",
    "    market_name : str\n",
    "        Housing market name: supply or demand\n",
    "    date : str\n",
    "        Date after 2000\n",
    "    \"\"\"\n",
    "    if market_name == 'supply':\n",
    "        house_market_df.drop(columns=['DealInvt_US'], inplace=True)\n",
    "        house_market_df.rename(columns={'Year':'date', 'Shipments_US': market_name}, inplace=True)\n",
    "    elif market_name == 'demand':\n",
    "        house_market_df = house_market_df[['Year', 'FIXED_US']]\n",
    "        house_market_df.rename(columns={'Year':'date', 'FIXED_US': market_name}, inplace=True)\n",
    "\n",
    "    house_market_df['date'] = house_market_df['date'].astype(str)\n",
    "    house_market_df['date'] = pd.to_datetime(house_market_df['date'])\n",
    "    house_market_df['date'] = house_market_df['date'].dt.strftime(date_format_ym)\n",
    "    house_market_df = house_market_df[house_market_df['date'] >= date]\n",
    "    house_market_df.reset_index(drop=True, inplace=True)\n",
    "    print(f\"{market_name} data has been processed successfully\")\n",
    "    return house_market_df\n"
   ]
  },
  {
   "cell_type": "code",
   "execution_count": 15,
   "metadata": {},
   "outputs": [],
   "source": [
    "def final_us_house_market(house_market_df_supply, house_market_df_demand, supply_name, demand_name, start_date, end_date, freq='MS'):\n",
    "    \"\"\"Combine US housing market dataframes\n",
    "    \n",
    "    Args:\n",
    "    ----------\n",
    "    house_market_df_supply : pandas dataframe\n",
    "        US Housing market supply dataframe\n",
    "    house_market_df_demand : pandas dataframe\n",
    "        US Housing market demand dataframe\n",
    "    supply_name : str\n",
    "        US Housing market supply name\n",
    "    demand_name : str\n",
    "        US Housing market demand name\n",
    "    start_date : str\n",
    "        Start date\n",
    "    end_date : str\n",
    "        End date\n",
    "    freq : str (default: 'MS')\n",
    "        Frequency\n",
    "    \"\"\"\n",
    "    # import pandas as pd\n",
    "    # date_format_ym = '%Y-%m'\n",
    "    us_house_supply_demand_df = house_market_df_supply.merge(house_market_df_demand, left_on='date', right_on='date', how='left')\n",
    "    us_house_supply_demand_df.sort_values(by='date', inplace=True)\n",
    "    us_house_supply_demand_df = pd.DataFrame(np.repeat(us_house_supply_demand_df.values, 12, axis=0))\n",
    "    us_house_supply_demand_df.rename(columns={0:'date', 1:supply_name, 2:demand_name}, inplace=True)\n",
    "    \n",
    "    date_df = pd.DataFrame({'date': pd.date_range(start=start_date, end=end_date, freq=freq)})\n",
    "    us_house_supply_demand_df['new_date'] = date_df['date'].dt.strftime(date_format_ym)\n",
    "    us_house_supply_demand_df.drop(columns=['date'], inplace=True)\n",
    "    us_house_supply_demand_df.rename(columns={'new_date':'date'}, inplace=True)\n",
    "    final_us_house_supply_demand = us_house_supply_demand_df[['date', supply_name, demand_name]].copy()\n",
    "\n",
    "    print(f\"{supply_name} and {demand_name} data has been merged successfully\")\n",
    "    return final_us_house_supply_demand"
   ]
  },
  {
   "cell_type": "code",
   "execution_count": 16,
   "metadata": {},
   "outputs": [],
   "source": [
    "def wake_house_market(wake_supply_df, wake_demand_df, fillna_date_list):\n",
    "    \"\"\"Pre processing Wake housing market dataframe\n",
    "    \n",
    "    Args:\n",
    "    ----------\n",
    "    wake_supply_df : pandas dataframe\n",
    "        Wake housing market supply dataframe\n",
    "    wake_demand_df : pandas dataframe\n",
    "        Wake housing market demand dataframe\n",
    "    fillna_date_list : list\n",
    "        List of dates to fillna\n",
    "    \"\"\"\n",
    "    wake_supply_df.rename(columns={'DATE':'date', 'SUSCCOUNTY37183':wake_supply_name}, inplace=True)\n",
    "    wake_supply_df['date'] = pd.to_datetime(wake_supply_df['date'])\n",
    "    wake_supply_df['date'] = wake_supply_df['date'].dt.strftime(date_format_ym)\n",
    "    wake_supply_df.reset_index(drop=True, inplace=True)\n",
    "\n",
    "    wake_demand_df.rename(columns={'DATE':'date', 'DESCCOUNTY37183':wake_demand_name}, inplace=True)\n",
    "    wake_demand_df['date'] = pd.to_datetime(wake_demand_df['date'])\n",
    "    wake_demand_df['date'] = wake_demand_df['date'].dt.strftime(date_format_ym)\n",
    "    wake_demand_df.reset_index(drop=True, inplace=True)\n",
    "\n",
    "    wake_house_supply_demand_df = wake_supply_df.merge(wake_demand_df, left_on='date', right_on='date', how='left')\n",
    "    wake_supply_dict = {}\n",
    "    wake_demand_dict = {}\n",
    "\n",
    "    count_i = 1\n",
    "    for date in fillna_date_list:\n",
    "        wake_supply_dict[date] = 0\n",
    "        wake_demand_dict[date] = 0\n",
    "        wake_supply_dict[date] = wake_house_supply_demand_df.iloc[:count_i].mean()[0]\n",
    "        wake_demand_dict[date] = wake_house_supply_demand_df.iloc[:count_i].mean()[1]\n",
    "        count_i += 1\n",
    "\n",
    "    new_wake_supply_df = pd.DataFrame.from_dict(wake_supply_dict, orient='index', columns=[wake_supply_name])\n",
    "    new_wake_supply_df.reset_index(inplace=True)\n",
    "    new_wake_demand_df = pd.DataFrame.from_dict(wake_demand_dict, orient='index', columns=[wake_demand_name])\n",
    "    new_wake_demand_df.reset_index(inplace=True)\n",
    "\n",
    "    new_wake_demand_df = new_wake_supply_df.merge(new_wake_demand_df, left_on='index', right_on='index', how='left')\n",
    "    # new_wake_demand_df.rename(columns={'wake_supply_index_x':'wake_supply_index', 'wake_supply_index_y': 'wake_supply_index'}, inplace=True)\n",
    "    new_wake_demand_df.rename(columns={'index':'date'}, inplace=True)\n",
    "    supply_demand_dict = {}\n",
    "    for date in date_list:\n",
    "        supply_demand_dict['date'] = 0\n",
    "        supply_demand_dict[wake_supply_name] = 0\n",
    "        supply_demand_dict[wake_demand_name] = 0\n",
    "        supply_demand_dict['date'] = date\n",
    "        supply_demand_dict[wake_supply_name] = new_wake_demand_df.loc[new_wake_demand_df['date'] == date, wake_supply_name].values[0]\n",
    "        supply_demand_dict[wake_demand_name] = new_wake_demand_df.loc[new_wake_demand_df['date'] == date, wake_demand_name].values[0]\n",
    "        wake_house_supply_demand_df = wake_house_supply_demand_df.append(supply_demand_dict, ignore_index=True)\n",
    "\n",
    "    wake_house_supply_demand_df.sort_values(by='date', inplace=True)\n",
    "    wake_house_supply_demand_df.reset_index(drop=True, inplace=True)\n",
    "    print(f\"{wake_supply_name} and {wake_demand_name} data has been merged successfully\")\n",
    "    return wake_house_supply_demand_df\n",
    "    "
   ]
  },
  {
   "cell_type": "code",
   "execution_count": 17,
   "metadata": {},
   "outputs": [],
   "source": [
    "def final_house_market(us_house_market_df, wake_house_market_df, updated_house_df):\n",
    "    \"\"\"Final housing market dataframe\n",
    "    \n",
    "    Args:\n",
    "    ----------\n",
    "    us_house_market_df : pandas dataframe\n",
    "        US housing market dataframe\n",
    "    wake_house_market_df : pandas dataframe\n",
    "        Wake housing market dataframe\n",
    "    updated_house_df : pandas dataframe\n",
    "        Updated housing market dataframe\n",
    "    \"\"\"\n",
    "    updated_house_df['year'] = updated_house_df['deed_date'].dt.strftime(date_format_ym)\n",
    "    updated_house_df['year'] = pd.to_datetime(updated_house_df['year'])\n",
    "    us_house_market_df['date'] = pd.to_datetime(us_house_market_df['date'])\n",
    "    wake_house_market_df['date'] = pd.to_datetime(wake_house_market_df['date'])\n",
    "    updated_house_df = updated_house_df.merge(us_house_market_df, left_on='year', right_on='date', how='left')\n",
    "    updated_house_df = updated_house_df.merge(wake_house_market_df, left_on='year', right_on='date', how='left')\n",
    "    updated_house_df.drop(columns=['year', 'date_x', 'date_y'], inplace=True)\n",
    "\n",
    "    print(updated_house_df.shape)\n",
    "    print(f\"Final house market data and Updated house data has been merged successfully\")\n",
    "    return updated_house_df"
   ]
  },
  {
   "cell_type": "code",
   "execution_count": 18,
   "metadata": {},
   "outputs": [],
   "source": [
    "def wake_crime(crime_df, city_name, added_year=None, add_start=None, add_end=None, multi_num=None, multi_year=None, multi_start=None, multi_end=None,  if_added=False, if_added_multi=False):\n",
    "    \"\"\"Pre processing Wake crime dataframe\n",
    "    \n",
    "    Args:\n",
    "    ----------\n",
    "    crime_df : pandas dataframe\n",
    "        Wake crime dataframe\n",
    "    city_name : str\n",
    "        City name\n",
    "    added_year : int\n",
    "        Year to add\n",
    "    add_start : str\n",
    "        Start date to add\n",
    "    add_end : str\n",
    "        End date to add\n",
    "    multi_num : int\n",
    "        Number to multiply\n",
    "    multi_year : int\n",
    "        Year to multiply\n",
    "    multi_start : str\n",
    "        Start date to multiply\n",
    "    multi_end : str\n",
    "        End date to multiply\n",
    "    if_added : bool (default: False)\n",
    "        If need to add missing values\n",
    "    if_added_multi : bool (default: False)\n",
    "        If need to add multiple missing values\n",
    "    \"\"\"\n",
    "    crime_df = crime_df.transpose()\n",
    "    crime_df.reset_index(inplace=True)\n",
    "\n",
    "    crime_df.drop(labels=[0], axis=0, inplace=True)\n",
    "    crime_df.rename(columns={'index':'year', 0:city_name}, inplace=True)\n",
    "    crime_df.drop(labels=[1], axis=1, inplace=True)\n",
    "\n",
    "    if if_added:\n",
    "        if if_added_multi:\n",
    "            for i in range(multi_num):\n",
    "                crime_df = crime_df.append({'year': multi_year[i], city_name:crime_df.iloc[multi_start[i]:multi_end[i], 1].median()}, ignore_index=True)\n",
    "        else: \n",
    "            crime_df = crime_df.append({'year': added_year, city_name:crime_df.iloc[add_start:add_end, 1].median()}, ignore_index=True)\n",
    "    crime_df['year'] = crime_df['year'].astype(int)\n",
    "    crime_df[city_name] = crime_df[city_name].astype(int)\n",
    "    crime_df = crime_df.sort_values(by='year')\n",
    "    crime_df.reset_index(inplace=True, drop=True)\n",
    "\n",
    "    print(f\"{city_name} crime data has been merged successfully\")\n",
    "    return crime_df"
   ]
  },
  {
   "cell_type": "code",
   "execution_count": 19,
   "metadata": {},
   "outputs": [],
   "source": [
    "def final_crime(updated_house_df, apex_crime, cary_crime, fuquay_varina_crime, garner_crime, holly_springs_crime, knightdale_crime, morrisville_crime, raleigh_crime, rolesville_crime, wake_forest_crime, wendell_crime, zenbulon_crime, merge_on='year'):\n",
    "    \"\"\"Combine all crime dataframes to updated house dataframe\n",
    "    \n",
    "    Args:\n",
    "    ----------\n",
    "    updated_house_df : pandas dataframe\n",
    "        Updated house dataframe\n",
    "    apex_crime : pandas dataframe\n",
    "        Apex crime dataframe\n",
    "    cary_crime : pandas dataframe\n",
    "        Cary crime dataframe\n",
    "    fuquay_varina_crime : pandas dataframe\n",
    "        Fuquay Varina crime dataframe\n",
    "    garner_crime : pandas dataframe\n",
    "        Garner crime dataframe\n",
    "    holly_springs_crime : pandas dataframe\n",
    "        Holly Springs crime dataframe\n",
    "    knightdale_crime : pandas dataframe\n",
    "        Knightdale crime dataframe\n",
    "    morrisville_crime : pandas dataframe\n",
    "        Morrisville crime dataframe\n",
    "    raleigh_crime : pandas dataframe\n",
    "        Raleigh crime dataframe\n",
    "    rolesville_crime : pandas dataframe\n",
    "        Rolesville crime dataframe\n",
    "    wake_forest_crime : pandas dataframe\n",
    "        Wake Forest crime dataframe\n",
    "    wendell_crime : pandas dataframe\n",
    "        Wendell crime dataframe\n",
    "    zenbulon_crime : pandas dataframe\n",
    "        Zenbulon crime dataframe\n",
    "    merge_on : str (default: 'year')\n",
    "        Column to merge on\n",
    "    \"\"\"\n",
    "    \n",
    "    updated_house_df[merge_on] = updated_house_df['deed_date'].dt.strftime(date_format_y)\n",
    "    updated_house_df[merge_on] = updated_house_df[merge_on].astype(int)\n",
    "    updated_house_df['crime'] = 0\n",
    "\n",
    "    for i in range(len(apex_crime)):\n",
    "        updated_house_df.loc[(updated_house_df['physical_city'] == 'apex') & (updated_house_df[merge_on] == apex_crime.iloc[i, 0]), 'crime'] = apex_crime.iloc[i, 1]\n",
    "        updated_house_df.loc[(updated_house_df['physical_city'] == 'cary') & (updated_house_df[merge_on] == cary_crime.iloc[i, 0]), 'crime'] = cary_crime.iloc[i, 1]\n",
    "        updated_house_df.loc[(updated_house_df['physical_city'] == 'fuquay_varina') & (updated_house_df[merge_on] == fuquay_varina_crime.iloc[i, 0]), 'crime'] = fuquay_varina_crime.iloc[i, 1]\n",
    "        updated_house_df.loc[(updated_house_df['physical_city'] == 'garner') & (updated_house_df[merge_on] == garner_crime.iloc[i, 0]), 'crime'] = garner_crime.iloc[i, 1]\n",
    "        updated_house_df.loc[(updated_house_df['physical_city'] == 'knightdale') & (updated_house_df[merge_on] == knightdale_crime.iloc[i, 0]), 'crime'] = knightdale_crime.iloc[i, 1]\n",
    "        updated_house_df.loc[(updated_house_df['physical_city'] == 'morrisville') & (updated_house_df[merge_on] == morrisville_crime.iloc[i, 0]), 'crime'] = morrisville_crime.iloc[i, 1]\n",
    "        updated_house_df.loc[(updated_house_df['physical_city'] == 'hollyspring') & (updated_house_df[merge_on] == holly_springs_crime.iloc[i, 0]), 'crime'] = holly_springs_crime.iloc[i, 1]\n",
    "        updated_house_df.loc[(updated_house_df['physical_city'] == 'raleigh') & (updated_house_df[merge_on] == raleigh_crime.iloc[i, 0]), 'crime'] = raleigh_crime.iloc[i, 1]\n",
    "        updated_house_df.loc[(updated_house_df['physical_city'] == 'rolesville') & (updated_house_df[merge_on] == rolesville_crime.iloc[i, 0]), 'crime'] = rolesville_crime.iloc[i, 1]\n",
    "        updated_house_df.loc[(updated_house_df['physical_city'] == 'wake_forest') & (updated_house_df[merge_on] == wake_forest_crime.iloc[i, 0]), 'crime'] = wake_forest_crime.iloc[i, 1]\n",
    "        updated_house_df.loc[(updated_house_df['physical_city'] == 'wendell') & (updated_house_df[merge_on] == wendell_crime.iloc[i, 0]), 'crime'] = wendell_crime.iloc[i, 1]\n",
    "        updated_house_df.loc[(updated_house_df['physical_city'] == 'zebulon') & (updated_house_df[merge_on] == zenbulon_crime.iloc[i, 0]), 'crime'] = zenbulon_crime.iloc[i, 1]\n",
    "\n",
    "    print(updated_house_df.shape)\n",
    "    return updated_house_df"
   ]
  },
  {
   "cell_type": "code",
   "execution_count": 40,
   "metadata": {},
   "outputs": [],
   "source": [
    "def utility_data(updated_house_df):\n",
    "    \"\"\"Add utility data to updated house dataframe\n",
    "    \n",
    "    Args:\n",
    "    ----------\n",
    "    updated_house_df : pandas dataframe\n",
    "        Updated house dataframe\n",
    "    \"\"\"\n",
    "    updated_house_df['electric'] = 0\n",
    "    updated_house_df['gas'] = 0\n",
    "    updated_house_df['water'] = 0\n",
    "    updated_house_df['sewer'] = 0\n",
    "    updated_house_df['all'] = 0\n",
    "\n",
    "    # ALL, E, GE, G, W, S, WE, SE, WSE, SGE, WS, WSG, WG, SG, WGE\n",
    "    updated_house_df.loc[updated_house_df['utilities'] == \"ALL\", 'electric'] = 1\n",
    "    updated_house_df.loc[updated_house_df['utilities'] == \"ALL\", 'gas'] = 1\n",
    "    updated_house_df.loc[updated_house_df['utilities'] == \"ALL\", 'water'] = 1\n",
    "    updated_house_df.loc[updated_house_df['utilities'] == \"ALL\", 'sewer'] = 1\n",
    "    updated_house_df.loc[updated_house_df['utilities'] == \"ALL\", 'all'] = 1\n",
    "    updated_house_df.loc[updated_house_df['utilities'] == \"E\", 'electric'] = 1\n",
    "    updated_house_df.loc[updated_house_df['utilities'] == \"GE\", 'electric'] = 1\n",
    "    updated_house_df.loc[updated_house_df['utilities'] == \"GE\", 'gas'] = 1\n",
    "    updated_house_df.loc[updated_house_df['utilities'] == \"G\", 'gas'] = 1\n",
    "    updated_house_df.loc[updated_house_df['utilities'] == \"W\", 'water'] = 1\n",
    "    updated_house_df.loc[updated_house_df['utilities'] == \"S\", 'sewer'] = 1\n",
    "    updated_house_df.loc[updated_house_df['utilities'] == \"WE\", 'electric'] = 1\n",
    "    updated_house_df.loc[updated_house_df['utilities'] == \"WE\", 'water'] = 1\n",
    "    updated_house_df.loc[updated_house_df['utilities'] == \"SE\", 'electric'] = 1\n",
    "    updated_house_df.loc[updated_house_df['utilities'] == \"SE\", 'sewer'] = 1\n",
    "    updated_house_df.loc[updated_house_df['utilities'] == \"WSE\", 'electric'] = 1\n",
    "    updated_house_df.loc[updated_house_df['utilities'] == \"WSE\", 'water'] = 1\n",
    "    updated_house_df.loc[updated_house_df['utilities'] == \"WSE\", 'sewer'] = 1\n",
    "    updated_house_df.loc[updated_house_df['utilities'] == \"SGE\", 'electric'] = 1\n",
    "    updated_house_df.loc[updated_house_df['utilities'] == \"SGE\", 'gas'] = 1\n",
    "    updated_house_df.loc[updated_house_df['utilities'] == \"SGE\", 'sewer'] = 1\n",
    "    updated_house_df.loc[updated_house_df['utilities'] == \"WS\", 'water'] = 1\n",
    "    updated_house_df.loc[updated_house_df['utilities'] == \"WS\", 'sewer'] = 1\n",
    "    updated_house_df.loc[updated_house_df['utilities'] == \"WSG\", 'gas'] = 1\n",
    "    updated_house_df.loc[updated_house_df['utilities'] == \"WSG\", 'water'] = 1\n",
    "    updated_house_df.loc[updated_house_df['utilities'] == \"WSG\", 'sewer'] = 1\n",
    "    updated_house_df.loc[updated_house_df['utilities'] == \"WG\", 'gas'] = 1\n",
    "    updated_house_df.loc[updated_house_df['utilities'] == \"WG\", 'water'] = 1\n",
    "    updated_house_df.loc[updated_house_df['utilities'] == \"SG\", 'gas'] = 1\n",
    "    updated_house_df.loc[updated_house_df['utilities'] == \"SG\", 'sewer'] = 1\n",
    "    updated_house_df.loc[updated_house_df['utilities'] == \"WGE\", 'sewer'] = 1\n",
    "    updated_house_df.loc[updated_house_df['utilities'] == \"WGE\", 'water'] = 1\n",
    "    updated_house_df.loc[updated_house_df['utilities'] == \"WGE\", 'gas'] = 1\n",
    "\n",
    "    # remove the utilities column\n",
    "    updated_house_df.drop(columns=['utilities'], inplace=True)\n",
    "    print(updated_house_df.shape)\n",
    "    print(\"Utilities are converted successfully!\")\n",
    "    print(\"Utilities are added successfully!\")\n",
    "    return updated_house_df"
   ]
  },
  {
   "cell_type": "code",
   "execution_count": 43,
   "metadata": {},
   "outputs": [],
   "source": [
    "def final_df(updated_house_df, removed_column):\n",
    "    \"\"\"Final process house dataframe, such as removing unnecessary columns\"\"\"\n",
    "    updated_house_df.drop(columns=[removed_column], inplace=True)\n",
    "    print(f\"{removed_column} column has been removed\")\n",
    "    print(updated_house_df.shape)\n",
    "    return updated_house_df"
   ]
  },
  {
   "cell_type": "markdown",
   "metadata": {},
   "source": [
    "## Read files"
   ]
  },
  {
   "cell_type": "code",
   "execution_count": 20,
   "metadata": {},
   "outputs": [
    {
     "name": "stdout",
     "output_type": "stream",
     "text": [
      "The data ['house_path'] is loaded successfully!\n",
      "The data ['pop_growth_path_1'] is loaded successfully!\n",
      "The data ['pop_growth_path_2'] is loaded successfully!\n",
      "The data ['pop_growth_path_3'] is loaded successfully!\n",
      "The data ['unemploy_path'] is loaded successfully!\n",
      "The data ['covid_path'] is loaded successfully!\n",
      "The data ['mort_rate_path'] is loaded successfully!\n",
      "The data ['lumber_path'] is loaded successfully!\n",
      "The data ['metals_path'] is loaded successfully!\n",
      "The data ['build_material_path'] is loaded successfully!\n",
      "The data ['int_rate_path'] is loaded successfully!\n",
      "The data ['us_house_supply_path'], Manufactured_Annual sheet is loaded successfully!\n",
      "The data ['us_house_demand_path'], HAI_Annual sheet is loaded successfully!\n",
      "The data ['wake_supply_path'] is loaded successfully!\n",
      "The data ['wake_demand_path'] is loaded successfully!\n"
     ]
    }
   ],
   "source": [
    "house_df = read_file(csv, house_path)\n",
    "pop_growth_df_1 = read_file(csv, pop_growth_path_1, encoding=encoding_format)\n",
    "pop_growth_df_2 = read_file(csv, pop_growth_path_2, encoding=encoding_format)\n",
    "pop_growth_df_3 = read_file(csv, pop_growth_path_3, encoding=encoding_format)\n",
    "unemploy_df = read_file(csv, unemploy_path)\n",
    "covid_df = read_file(csv, covid_path)\n",
    "mort_rate_df = read_file(csv, mort_rate_path)\n",
    "lumber_df = read_file(csv, lumber_path)\n",
    "metals_df = read_file(csv, metals_path)\n",
    "build_material_df = read_file(csv, build_material_path)\n",
    "int_rate_df = read_file(csv, int_rate_path)\n",
    "us_house_supply_df = read_file(xlsx, us_house_supply_path, encoding=encoding_format, sheet_name='Manufactured_Annual')\n",
    "us_house_demand_df = read_file(xlsx, us_house_demand_path, encoding=encoding_format, sheet_name='HAI_Annual')\n",
    "wake_supply_df = read_file(csv, wake_supply_path)\n",
    "wake_demand_df = read_file(csv, wake_demand_path)\n"
   ]
  },
  {
   "cell_type": "code",
   "execution_count": 21,
   "metadata": {},
   "outputs": [
    {
     "name": "stdout",
     "output_type": "stream",
     "text": [
      "The data ['crime_apex_path'] is loaded successfully!\n",
      "The data ['crime_cary_path'] is loaded successfully!\n",
      "The data ['crime_fuquay_varina_path'] is loaded successfully!\n",
      "The data ['crime_holly_springs_path'] is loaded successfully!\n",
      "The data ['crime_garner_path'] is loaded successfully!\n",
      "The data ['crime_morrisville_path'] is loaded successfully!\n",
      "The data ['crime_knightdale_path'] is loaded successfully!\n",
      "The data ['crime_raleigh_path'] is loaded successfully!\n",
      "The data ['crime_rolesville_path'] is loaded successfully!\n",
      "The data ['crime_wake_forest_path'] is loaded successfully!\n",
      "The data ['crime_wendell_path'] is loaded successfully!\n",
      "The data ['crime_zenbulon_path'] is loaded successfully!\n"
     ]
    }
   ],
   "source": [
    "apex = read_file(csv, crime_apex_path)\n",
    "cary = read_file(csv, crime_cary_path)\n",
    "fuquay_varina = read_file(csv, crime_fuquay_varina_path)\n",
    "holly_springs = read_file(csv, crime_holly_springs_path)\n",
    "garner = read_file(csv, crime_garner_path)\n",
    "morrisville = read_file(csv, crime_morrisville_path)\n",
    "knightdale = read_file(csv, crime_knightdale_path)\n",
    "raleigh = read_file(csv, crime_raleigh_path)\n",
    "rolesville = read_file(csv, crime_rolesville_path)\n",
    "wake_forest = read_file(csv, crime_wake_forest_path)\n",
    "wendell = read_file(csv, crime_wendell_path)\n",
    "zenbulon = read_file(csv, crime_zenbulon_path)"
   ]
  },
  {
   "cell_type": "markdown",
   "metadata": {},
   "source": [
    "## Mortgage rate"
   ]
  },
  {
   "cell_type": "code",
   "execution_count": 22,
   "metadata": {},
   "outputs": [
    {
     "name": "stdout",
     "output_type": "stream",
     "text": [
      "The new mortgage rate data mort_rate_2022 is added successfully!\n",
      "(278913, 12)\n",
      "The mortgage rate data is merged successfully!\n"
     ]
    }
   ],
   "source": [
    "updated_house_df = mortgage_rate_df(house_df, mort_rate_df, mort_rate_2022)"
   ]
  },
  {
   "cell_type": "markdown",
   "metadata": {},
   "source": [
    "## Unemployment rate"
   ]
  },
  {
   "cell_type": "code",
   "execution_count": 23,
   "metadata": {},
   "outputs": [
    {
     "name": "stdout",
     "output_type": "stream",
     "text": [
      "(278913, 13)\n",
      "The unemployment rate data is merged successfully!\n"
     ]
    }
   ],
   "source": [
    "updated_house_df = unemployment_rate_df(unemploy_df, updated_house_df)"
   ]
  },
  {
   "cell_type": "markdown",
   "metadata": {},
   "source": [
    "## Population growth"
   ]
  },
  {
   "cell_type": "code",
   "execution_count": 24,
   "metadata": {},
   "outputs": [
    {
     "name": "stdout",
     "output_type": "stream",
     "text": [
      "Population growth data 2000-2010 has been processed successfully\n",
      "Population growth data 2011-2020 has been processed successfully\n",
      "Population growth data 2021 has been processed successfully\n"
     ]
    }
   ],
   "source": [
    "pop_growth_df_1 = pre_population_growth_df(pop_growth_df_1, updated_house_df, state_name, county_name, \"2000-2010\")\n",
    "pop_growth_df_2 = pre_population_growth_df(pop_growth_df_2, updated_house_df, state_name, county_name, \"2011-2020\")\n",
    "pop_growth_df_3 = pre_population_growth_df(pop_growth_df_3, updated_house_df, state_name, county_name, \"2021\")"
   ]
  },
  {
   "cell_type": "markdown",
   "metadata": {},
   "source": [
    "#### Combine all population growth datasets together"
   ]
  },
  {
   "cell_type": "markdown",
   "metadata": {},
   "source": [
    "Since we missed 2000 and 2022 population data, we will use 2010 and 2020 Census Total Population annual growth rate respectively."
   ]
  },
  {
   "cell_type": "code",
   "execution_count": 25,
   "metadata": {},
   "outputs": [
    {
     "name": "stdout",
     "output_type": "stream",
     "text": [
      "Population growth data has been merged successfully\n",
      "(278913, 14)\n"
     ]
    }
   ],
   "source": [
    "updated_house_df = final_pop_growth_df(pop_growth_df_1, pop_growth_df_2, pop_growth_df_3, updated_house_df, added_pop_growth)"
   ]
  },
  {
   "cell_type": "markdown",
   "metadata": {},
   "source": [
    "## COVID data"
   ]
  },
  {
   "cell_type": "code",
   "execution_count": 26,
   "metadata": {},
   "outputs": [
    {
     "name": "stderr",
     "output_type": "stream",
     "text": [
      "c:\\Users\\aliso\\AppData\\Local\\Programs\\Python\\Python39\\lib\\site-packages\\pandas\\core\\frame.py:4901: SettingWithCopyWarning: \n",
      "A value is trying to be set on a copy of a slice from a DataFrame\n",
      "\n",
      "See the caveats in the documentation: https://pandas.pydata.org/pandas-docs/stable/user_guide/indexing.html#returning-a-view-versus-a-copy\n",
      "  return super().drop(\n"
     ]
    }
   ],
   "source": [
    "pre_covid_df = pre_covid_df(covid_df, updated_house_df, state_short_name, county_name, start_date, covid_date, end_date)"
   ]
  },
  {
   "cell_type": "code",
   "execution_count": 27,
   "metadata": {},
   "outputs": [
    {
     "name": "stdout",
     "output_type": "stream",
     "text": [
      "(278913, 15)\n",
      "Covid data has been merged successfully\n"
     ]
    }
   ],
   "source": [
    "updated_house_df = final_covid_df(updated_house_df, pre_covid_df)"
   ]
  },
  {
   "cell_type": "markdown",
   "metadata": {},
   "source": [
    "## Raw materials data\n",
    "### Lumber"
   ]
  },
  {
   "cell_type": "code",
   "execution_count": 28,
   "metadata": {},
   "outputs": [
    {
     "name": "stdout",
     "output_type": "stream",
     "text": [
      "Raw material lumber data has been processed successfully\n",
      "Raw material metal data has been processed successfully\n",
      "Raw material building data has been processed successfully\n",
      "Material data has been merged successfully\n",
      "(278913, 18)\n"
     ]
    }
   ],
   "source": [
    "lumber_df = raw_material_df(material_lumber, lumber_df, material_date)\n",
    "metal_df = raw_material_df(material_metal, metals_df, material_date)\n",
    "build_df = raw_material_df(material_build, build_material_df, material_date)\n",
    "\n",
    "updated_house_df = final_material_df(lumber_df, metal_df, build_df, updated_house_df)"
   ]
  },
  {
   "cell_type": "markdown",
   "metadata": {},
   "source": [
    "## Interest rate data"
   ]
  },
  {
   "cell_type": "code",
   "execution_count": 29,
   "metadata": {},
   "outputs": [
    {
     "name": "stderr",
     "output_type": "stream",
     "text": [
      "C:\\Users\\aliso\\AppData\\Local\\Temp/ipykernel_37304/1673225838.py:24: SettingWithCopyWarning: \n",
      "A value is trying to be set on a copy of a slice from a DataFrame.\n",
      "Try using .loc[row_indexer,col_indexer] = value instead\n",
      "\n",
      "See the caveats in the documentation: https://pandas.pydata.org/pandas-docs/stable/user_guide/indexing.html#returning-a-view-versus-a-copy\n",
      "  us_int_rate_final['year'] = pd.to_datetime(us_int_rate_final['year'])\n",
      "C:\\Users\\aliso\\AppData\\Local\\Temp/ipykernel_37304/1673225838.py:25: SettingWithCopyWarning: \n",
      "A value is trying to be set on a copy of a slice from a DataFrame.\n",
      "Try using .loc[row_indexer,col_indexer] = value instead\n",
      "\n",
      "See the caveats in the documentation: https://pandas.pydata.org/pandas-docs/stable/user_guide/indexing.html#returning-a-view-versus-a-copy\n",
      "  us_int_rate_final['year'] = us_int_rate_final['year'].dt.strftime(date_format_y)\n"
     ]
    },
    {
     "name": "stdout",
     "output_type": "stream",
     "text": [
      "Interest rate data has been merged successfully\n",
      "(259024, 19)\n"
     ]
    }
   ],
   "source": [
    "updated_house_df = interest_rate_df(int_rate_df, updated_house_df, country_name, int_rate_date)"
   ]
  },
  {
   "cell_type": "code",
   "execution_count": 30,
   "metadata": {},
   "outputs": [],
   "source": [
    "# uncomment the below to save the dataframes to csv files\n",
    "# us_int_rate_final.to_csv('assets/us_int_rate.csv')"
   ]
  },
  {
   "cell_type": "markdown",
   "metadata": {},
   "source": [
    "## House demand and supply data\n",
    "### US House demand and supply"
   ]
  },
  {
   "cell_type": "markdown",
   "metadata": {},
   "source": [
    "#### US house supply data"
   ]
  },
  {
   "cell_type": "code",
   "execution_count": 31,
   "metadata": {},
   "outputs": [
    {
     "name": "stdout",
     "output_type": "stream",
     "text": [
      "supply data has been processed successfully\n",
      "demand data has been processed successfully\n"
     ]
    },
    {
     "name": "stderr",
     "output_type": "stream",
     "text": [
      "c:\\Users\\aliso\\AppData\\Local\\Programs\\Python\\Python39\\lib\\site-packages\\pandas\\core\\frame.py:5034: SettingWithCopyWarning: \n",
      "A value is trying to be set on a copy of a slice from a DataFrame\n",
      "\n",
      "See the caveats in the documentation: https://pandas.pydata.org/pandas-docs/stable/user_guide/indexing.html#returning-a-view-versus-a-copy\n",
      "  return super().rename(\n",
      "C:\\Users\\aliso\\AppData\\Local\\Temp/ipykernel_37304/1567816961.py:9: SettingWithCopyWarning: \n",
      "A value is trying to be set on a copy of a slice from a DataFrame.\n",
      "Try using .loc[row_indexer,col_indexer] = value instead\n",
      "\n",
      "See the caveats in the documentation: https://pandas.pydata.org/pandas-docs/stable/user_guide/indexing.html#returning-a-view-versus-a-copy\n",
      "  house_market_df['date'] = house_market_df['date'].astype(str)\n",
      "C:\\Users\\aliso\\AppData\\Local\\Temp/ipykernel_37304/1567816961.py:10: SettingWithCopyWarning: \n",
      "A value is trying to be set on a copy of a slice from a DataFrame.\n",
      "Try using .loc[row_indexer,col_indexer] = value instead\n",
      "\n",
      "See the caveats in the documentation: https://pandas.pydata.org/pandas-docs/stable/user_guide/indexing.html#returning-a-view-versus-a-copy\n",
      "  house_market_df['date'] = pd.to_datetime(house_market_df['date'])\n",
      "C:\\Users\\aliso\\AppData\\Local\\Temp/ipykernel_37304/1567816961.py:11: SettingWithCopyWarning: \n",
      "A value is trying to be set on a copy of a slice from a DataFrame.\n",
      "Try using .loc[row_indexer,col_indexer] = value instead\n",
      "\n",
      "See the caveats in the documentation: https://pandas.pydata.org/pandas-docs/stable/user_guide/indexing.html#returning-a-view-versus-a-copy\n",
      "  house_market_df['date'] = house_market_df['date'].dt.strftime(date_format_ym)\n"
     ]
    }
   ],
   "source": [
    "us_house_supply = us_house_market(us_house_supply_df, us_house_supply_name, us_house_date)\n",
    "us_house_demand = us_house_market(us_house_demand_df, us_house_demand_name, us_house_date)"
   ]
  },
  {
   "cell_type": "code",
   "execution_count": 32,
   "metadata": {},
   "outputs": [
    {
     "name": "stdout",
     "output_type": "stream",
     "text": [
      "supply and demand data has been merged successfully\n"
     ]
    }
   ],
   "source": [
    "final_us_house_market = final_us_house_market(us_house_supply, us_house_demand, us_house_supply_name, us_house_demand_name, us_house_start_date, us_house_end_date)"
   ]
  },
  {
   "cell_type": "markdown",
   "metadata": {},
   "source": [
    "### Wake Market Hotness\n",
    "Wake market hotness only contains data after 2017\n",
    "#### Wake supply"
   ]
  },
  {
   "cell_type": "code",
   "execution_count": 33,
   "metadata": {},
   "outputs": [
    {
     "name": "stdout",
     "output_type": "stream",
     "text": [
      "wake_supply_index and wake_demand_index data has been merged successfully\n"
     ]
    },
    {
     "name": "stderr",
     "output_type": "stream",
     "text": [
      "C:\\Users\\aliso\\AppData\\Local\\Temp/ipykernel_37304/1817106646.py:20: FutureWarning: Dropping of nuisance columns in DataFrame reductions (with 'numeric_only=None') is deprecated; in a future version this will raise TypeError.  Select only valid columns before calling the reduction.\n",
      "  wake_supply_dict[date] = wake_house_supply_demand_df.iloc[:count_i].mean()[0]\n",
      "C:\\Users\\aliso\\AppData\\Local\\Temp/ipykernel_37304/1817106646.py:21: FutureWarning: Dropping of nuisance columns in DataFrame reductions (with 'numeric_only=None') is deprecated; in a future version this will raise TypeError.  Select only valid columns before calling the reduction.\n",
      "  wake_demand_dict[date] = wake_house_supply_demand_df.iloc[:count_i].mean()[1]\n"
     ]
    }
   ],
   "source": [
    "wake_house_supply_demand_df = wake_house_market(wake_supply_df, wake_demand_df, date_list)"
   ]
  },
  {
   "cell_type": "code",
   "execution_count": 34,
   "metadata": {},
   "outputs": [
    {
     "name": "stdout",
     "output_type": "stream",
     "text": [
      "(259024, 23)\n",
      "Final house market data and Updated house data has been merged successfully\n"
     ]
    }
   ],
   "source": [
    "updated_house_df = final_house_market(final_us_house_market, wake_house_supply_demand_df, updated_house_df)"
   ]
  },
  {
   "cell_type": "markdown",
   "metadata": {},
   "source": [
    "## Crime data in Wake, NC"
   ]
  },
  {
   "cell_type": "code",
   "execution_count": 36,
   "metadata": {},
   "outputs": [
    {
     "name": "stdout",
     "output_type": "stream",
     "text": [
      "apex crime data has been merged successfully\n",
      "cary crime data has been merged successfully\n",
      "fuquay_varina crime data has been merged successfully\n",
      "garner crime data has been merged successfully\n",
      "hollyspring crime data has been merged successfully\n",
      "knightdale crime data has been merged successfully\n",
      "morrisville crime data has been merged successfully\n",
      "raleigh crime data has been merged successfully\n",
      "rolesville crime data has been merged successfully\n",
      "wake_forest crime data has been merged successfully\n",
      "wendell crime data has been merged successfully\n",
      "zenbulon crime data has been merged successfully\n"
     ]
    }
   ],
   "source": [
    "apex_crime = wake_crime(apex, apex_city, apex_added_year, apex_start, apex_end, if_added=True)\n",
    "cary_crime = wake_crime(cary, cary_city)\n",
    "fuquay_varina_crime = wake_crime(fuquay_varina, fuquay_varina_city)\n",
    "garner_crime = wake_crime(garner, garner_city)\n",
    "holly_springs_crime = wake_crime(holly_springs, holly_springs_city, hollysprings_added_year, hollysprings_start, hollysprings_end, if_added=True)\n",
    "knightdale_crime = wake_crime(knightdale, knightdale_city, multi_num=2, multi_year=knightdale_added_year, multi_start=knightdale_start, multi_end=knightdale_end, if_added=True, if_added_multi=True)\n",
    "morrisville_crime = wake_crime(morrisville, morrisville_city)\n",
    "raleigh_crime = wake_crime(raleigh, raleigh_city, multi_num=3, multi_year=raleigh_added_year, multi_start=raleigh_start, multi_end=raleigh_end, if_added=True, if_added_multi=True)\n",
    "rolesville_crime = wake_crime(rolesville, rolesville_city, rolesville_added_year, rolesville_start, rolesville_end, if_added=True)\n",
    "wake_forest_crime = wake_crime(wake_forest, wake_forest_city, wake_forest_added_year, wake_forest_start, wake_forest_end, if_added=True)\n",
    "wendell_crime = wake_crime(wendell, wendell_city)\n",
    "zenbulon_crime = wake_crime(zenbulon, zenbulon_city, zenbulon_added_year, zenbulon_start, zenbulon_end, if_added=True)"
   ]
  },
  {
   "cell_type": "code",
   "execution_count": 38,
   "metadata": {},
   "outputs": [
    {
     "name": "stdout",
     "output_type": "stream",
     "text": [
      "(259024, 25)\n"
     ]
    }
   ],
   "source": [
    "updated_house_df = final_crime(updated_house_df, apex_crime, cary_crime, fuquay_varina_crime, garner_crime, holly_springs_crime, knightdale_crime, morrisville_crime, raleigh_crime, rolesville_crime, wake_forest_crime, wendell_crime, zenbulon_crime, merge_on='year')"
   ]
  },
  {
   "cell_type": "markdown",
   "metadata": {},
   "source": [
    "### Combine crime data "
   ]
  },
  {
   "cell_type": "markdown",
   "metadata": {},
   "source": [
    "## Utility data"
   ]
  },
  {
   "cell_type": "markdown",
   "metadata": {},
   "source": [
    "Let's read code description file and we will find the following:\n",
    "* E: electric\n",
    "* G: gas\n",
    "* W: water\n",
    "* S: sewer\n",
    "\n",
    "Let's make utilities variable as several sub-utility boolean (1 or 0) variables, like below\n",
    "* electric\n",
    "* gas\n",
    "* water\n",
    "* sewer"
   ]
  },
  {
   "cell_type": "code",
   "execution_count": 41,
   "metadata": {},
   "outputs": [
    {
     "name": "stdout",
     "output_type": "stream",
     "text": [
      "(259024, 29)\n",
      "Utilities are converted successfully!\n",
      "Utilities are added successfully!\n"
     ]
    }
   ],
   "source": [
    "updated_house_df = utility_data(updated_house_df)"
   ]
  },
  {
   "cell_type": "markdown",
   "metadata": {},
   "source": [
    "## Remove unneccassary columns"
   ]
  },
  {
   "cell_type": "code",
   "execution_count": 44,
   "metadata": {},
   "outputs": [
    {
     "name": "stdout",
     "output_type": "stream",
     "text": [
      "type_and_use column has been removed\n",
      "(259024, 28)\n"
     ]
    }
   ],
   "source": [
    "updated_house_df = final_df(updated_house_df, removed_column)"
   ]
  },
  {
   "cell_type": "markdown",
   "metadata": {},
   "source": [
    "## Check missing value"
   ]
  },
  {
   "cell_type": "code",
   "execution_count": 45,
   "metadata": {},
   "outputs": [
    {
     "data": {
      "text/plain": [
       "deed_date                       0\n",
       "land_sale_price                 0\n",
       "total_sale_price                0\n",
       "assessed_building_value         0\n",
       "story_height                    0\n",
       "heated_area                     0\n",
       "bath                            0\n",
       "physical_zip_code               0\n",
       "physical_city                   0\n",
       "mort_rate                       0\n",
       "unemploy_rate                   0\n",
       "pop_growth_rate                 0\n",
       "covid_cases                     0\n",
       "lumber_price                    0\n",
       "metals_price                    0\n",
       "build_price                     0\n",
       "int_rate                        0\n",
       "supply                          0\n",
       "demand                          0\n",
       "wake_supply_index          135260\n",
       "wake_demand_index          135260\n",
       "year                            0\n",
       "crime                           0\n",
       "electric                        0\n",
       "gas                             0\n",
       "water                           0\n",
       "sewer                           0\n",
       "all                             0\n",
       "dtype: int64"
      ]
     },
     "execution_count": 45,
     "metadata": {},
     "output_type": "execute_result"
    }
   ],
   "source": [
    "updated_house_df.isna().sum()"
   ]
  },
  {
   "cell_type": "code",
   "execution_count": 46,
   "metadata": {},
   "outputs": [
    {
     "data": {
      "text/plain": [
       "<AxesSubplot:>"
      ]
     },
     "execution_count": 46,
     "metadata": {},
     "output_type": "execute_result"
    },
    {
     "data": {
      "image/png": "[encoded data removed]",
      "text/plain": [
       "<Figure size 1800x720 with 3 Axes>"
      ]
     },
     "metadata": {
      "needs_background": "light"
     },
     "output_type": "display_data"
    }
   ],
   "source": [
    "msno.bar(updated_house_df)"
   ]
  },
  {
   "cell_type": "markdown",
   "metadata": {},
   "source": [
    "Since there is no Wake County house supply and demand data before 2017, we will leave the missing values as it."
   ]
  },
  {
   "cell_type": "markdown",
   "metadata": {},
   "source": [
    "# Save as a CSV file"
   ]
  },
  {
   "cell_type": "code",
   "execution_count": null,
   "metadata": {},
   "outputs": [],
   "source": [
    "# uncomment to save the data as a CSV file in your local drive if needed\n",
    "updated_house_df.to_csv('assets/updated_house_df.csv', index=False)"
   ]
  },
  {
   "cell_type": "code",
   "execution_count": null,
   "metadata": {},
   "outputs": [],
   "source": []
  }
 ],
 "metadata": {
  "kernelspec": {
   "display_name": "Python 3.9.8 64-bit",
   "language": "python",
   "name": "python3"
  },
  "language_info": {
   "codemirror_mode": {
    "name": "ipython",
    "version": 3
   },
   "file_extension": ".py",
   "mimetype": "text/x-python",
   "name": "python",
   "nbconvert_exporter": "python",
   "pygments_lexer": "ipython3",
   "version": "3.9.8"
  },
  "orig_nbformat": 4,
  "vscode": {
   "interpreter": {
    "hash": "72572667d892e1791183c326e3aa8bbc0ee980c8a9bf058479e648f1904c68bf"
   }
  }
 },
 "nbformat": 4,
 "nbformat_minor": 2
}
