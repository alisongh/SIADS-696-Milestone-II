{
 "cells": [
  {
   "cell_type": "code",
   "execution_count": 1,
   "id": "hairy-newspaper",
   "metadata": {},
   "outputs": [],
   "source": [
    "import pandas as pd\n",
    "import numpy as np\n",
    "import matplotlib as mpl\n",
    "import matplotlib.pyplot as plt\n",
    "import statsmodels.api as sm"
   ]
  },
  {
   "cell_type": "code",
   "execution_count": 2,
   "id": "opposed-castle",
   "metadata": {},
   "outputs": [
    {
     "name": "stderr",
     "output_type": "stream",
     "text": [
      "/usr/local/lib/python3.9/site-packages/IPython/core/interactiveshell.py:3165: DtypeWarning: Columns (47,70,71,72,79) have mixed types.Specify dtype option on import or set low_memory=False.\n",
      "  has_raised = await self.run_ast_nodes(code_ast.body, cell_name,\n"
     ]
    }
   ],
   "source": [
    "raw_df = pd.read_csv('house_price.csv')"
   ]
  },
  {
   "cell_type": "code",
   "execution_count": 3,
   "id": "tutorial-baking",
   "metadata": {},
   "outputs": [],
   "source": [
    "house_df = pd.read_csv('assets/updated_house_df.csv')\n",
    "#house_df[\"deed_date\"] = pd.to_datetime(house_df[\"deed_date\"])\n",
    "#house_df[\"year\"] = house_df[\"deed_date\"].dt.year"
   ]
  },
  {
   "cell_type": "code",
   "execution_count": 4,
   "id": "outdoor-trial",
   "metadata": {},
   "outputs": [
    {
     "data": {
      "text/plain": [
       "(259024, 34)"
      ]
     },
     "execution_count": 4,
     "metadata": {},
     "output_type": "execute_result"
    }
   ],
   "source": [
    "house_df.shape"
   ]
  },
  {
   "cell_type": "code",
   "execution_count": 5,
   "id": "radio-heating",
   "metadata": {},
   "outputs": [
    {
     "data": {
      "text/plain": [
       "Index(['deed_date', 'land_sale_price', 'total_sale_price',\n",
       "       'assessed_building_value', 'story_height', 'heated_area', 'bath',\n",
       "       'bath_fixtures', 'physical_zip_code', 'physical_city', 'street_number',\n",
       "       'street_name', 'street_type', 'planning_jurisdiction', 'address',\n",
       "       'mort_rate', 'unemploy_rate', 'pop_growth_rate', 'covid_cases',\n",
       "       'lumber_price', 'metals_price', 'build_price', 'int_rate', 'supply',\n",
       "       'demand', 'wake_supply_index', 'wake_demand_index', 'year', 'crime',\n",
       "       'electric', 'gas', 'water', 'sewer', 'all'],\n",
       "      dtype='object')"
      ]
     },
     "execution_count": 5,
     "metadata": {},
     "output_type": "execute_result"
    }
   ],
   "source": [
    "house_df.columns"
   ]
  },
  {
   "cell_type": "code",
   "execution_count": 6,
   "id": "portable-wheat",
   "metadata": {},
   "outputs": [
    {
     "data": {
      "text/html": [
       "<div>\n",
       "<style scoped>\n",
       "    .dataframe tbody tr th:only-of-type {\n",
       "        vertical-align: middle;\n",
       "    }\n",
       "\n",
       "    .dataframe tbody tr th {\n",
       "        vertical-align: top;\n",
       "    }\n",
       "\n",
       "    .dataframe thead th {\n",
       "        text-align: right;\n",
       "    }\n",
       "</style>\n",
       "<table border=\"1\" class=\"dataframe\">\n",
       "  <thead>\n",
       "    <tr style=\"text-align: right;\">\n",
       "      <th></th>\n",
       "      <th>deed_date</th>\n",
       "      <th>land_sale_price</th>\n",
       "      <th>total_sale_price</th>\n",
       "      <th>assessed_building_value</th>\n",
       "      <th>story_height</th>\n",
       "      <th>heated_area</th>\n",
       "      <th>bath</th>\n",
       "      <th>bath_fixtures</th>\n",
       "      <th>physical_zip_code</th>\n",
       "      <th>physical_city</th>\n",
       "      <th>...</th>\n",
       "      <th>demand</th>\n",
       "      <th>wake_supply_index</th>\n",
       "      <th>wake_demand_index</th>\n",
       "      <th>year</th>\n",
       "      <th>crime</th>\n",
       "      <th>electric</th>\n",
       "      <th>gas</th>\n",
       "      <th>water</th>\n",
       "      <th>sewer</th>\n",
       "      <th>all</th>\n",
       "    </tr>\n",
       "  </thead>\n",
       "  <tbody>\n",
       "    <tr>\n",
       "      <th>0</th>\n",
       "      <td>2000-05-01</td>\n",
       "      <td>0.0</td>\n",
       "      <td>17500.0</td>\n",
       "      <td>134923.0</td>\n",
       "      <td>1.0</td>\n",
       "      <td>1300</td>\n",
       "      <td>1.5</td>\n",
       "      <td>0</td>\n",
       "      <td>27603</td>\n",
       "      <td>raleigh</td>\n",
       "      <td>...</td>\n",
       "      <td>120.5</td>\n",
       "      <td>NaN</td>\n",
       "      <td>NaN</td>\n",
       "      <td>2000</td>\n",
       "      <td>2049</td>\n",
       "      <td>1</td>\n",
       "      <td>0</td>\n",
       "      <td>0</td>\n",
       "      <td>0</td>\n",
       "      <td>0</td>\n",
       "    </tr>\n",
       "    <tr>\n",
       "      <th>1</th>\n",
       "      <td>2000-06-01</td>\n",
       "      <td>0.0</td>\n",
       "      <td>144000.0</td>\n",
       "      <td>174591.0</td>\n",
       "      <td>1.0</td>\n",
       "      <td>1888</td>\n",
       "      <td>2.0</td>\n",
       "      <td>0</td>\n",
       "      <td>27604</td>\n",
       "      <td>raleigh</td>\n",
       "      <td>...</td>\n",
       "      <td>120.5</td>\n",
       "      <td>NaN</td>\n",
       "      <td>NaN</td>\n",
       "      <td>2000</td>\n",
       "      <td>2049</td>\n",
       "      <td>1</td>\n",
       "      <td>1</td>\n",
       "      <td>1</td>\n",
       "      <td>1</td>\n",
       "      <td>1</td>\n",
       "    </tr>\n",
       "    <tr>\n",
       "      <th>2</th>\n",
       "      <td>2000-05-01</td>\n",
       "      <td>0.0</td>\n",
       "      <td>259000.0</td>\n",
       "      <td>248271.0</td>\n",
       "      <td>2.0</td>\n",
       "      <td>2648</td>\n",
       "      <td>2.5</td>\n",
       "      <td>0</td>\n",
       "      <td>27607</td>\n",
       "      <td>raleigh</td>\n",
       "      <td>...</td>\n",
       "      <td>120.5</td>\n",
       "      <td>NaN</td>\n",
       "      <td>NaN</td>\n",
       "      <td>2000</td>\n",
       "      <td>2049</td>\n",
       "      <td>1</td>\n",
       "      <td>1</td>\n",
       "      <td>1</td>\n",
       "      <td>1</td>\n",
       "      <td>1</td>\n",
       "    </tr>\n",
       "    <tr>\n",
       "      <th>3</th>\n",
       "      <td>2000-04-01</td>\n",
       "      <td>0.0</td>\n",
       "      <td>131000.0</td>\n",
       "      <td>174298.0</td>\n",
       "      <td>1.0</td>\n",
       "      <td>2148</td>\n",
       "      <td>2.0</td>\n",
       "      <td>0</td>\n",
       "      <td>27604</td>\n",
       "      <td>raleigh</td>\n",
       "      <td>...</td>\n",
       "      <td>120.5</td>\n",
       "      <td>NaN</td>\n",
       "      <td>NaN</td>\n",
       "      <td>2000</td>\n",
       "      <td>2049</td>\n",
       "      <td>1</td>\n",
       "      <td>1</td>\n",
       "      <td>1</td>\n",
       "      <td>1</td>\n",
       "      <td>1</td>\n",
       "    </tr>\n",
       "    <tr>\n",
       "      <th>4</th>\n",
       "      <td>2000-05-01</td>\n",
       "      <td>0.0</td>\n",
       "      <td>110000.0</td>\n",
       "      <td>115151.0</td>\n",
       "      <td>1.0</td>\n",
       "      <td>1216</td>\n",
       "      <td>1.5</td>\n",
       "      <td>0</td>\n",
       "      <td>27604</td>\n",
       "      <td>raleigh</td>\n",
       "      <td>...</td>\n",
       "      <td>120.5</td>\n",
       "      <td>NaN</td>\n",
       "      <td>NaN</td>\n",
       "      <td>2000</td>\n",
       "      <td>2049</td>\n",
       "      <td>1</td>\n",
       "      <td>1</td>\n",
       "      <td>1</td>\n",
       "      <td>1</td>\n",
       "      <td>1</td>\n",
       "    </tr>\n",
       "  </tbody>\n",
       "</table>\n",
       "<p>5 rows × 34 columns</p>\n",
       "</div>"
      ],
      "text/plain": [
       "    deed_date  land_sale_price  total_sale_price  assessed_building_value  \\\n",
       "0  2000-05-01              0.0           17500.0                 134923.0   \n",
       "1  2000-06-01              0.0          144000.0                 174591.0   \n",
       "2  2000-05-01              0.0          259000.0                 248271.0   \n",
       "3  2000-04-01              0.0          131000.0                 174298.0   \n",
       "4  2000-05-01              0.0          110000.0                 115151.0   \n",
       "\n",
       "   story_height  heated_area  bath  bath_fixtures  physical_zip_code  \\\n",
       "0           1.0         1300   1.5              0              27603   \n",
       "1           1.0         1888   2.0              0              27604   \n",
       "2           2.0         2648   2.5              0              27607   \n",
       "3           1.0         2148   2.0              0              27604   \n",
       "4           1.0         1216   1.5              0              27604   \n",
       "\n",
       "  physical_city  ...  demand wake_supply_index wake_demand_index  year crime  \\\n",
       "0       raleigh  ...   120.5               NaN               NaN  2000  2049   \n",
       "1       raleigh  ...   120.5               NaN               NaN  2000  2049   \n",
       "2       raleigh  ...   120.5               NaN               NaN  2000  2049   \n",
       "3       raleigh  ...   120.5               NaN               NaN  2000  2049   \n",
       "4       raleigh  ...   120.5               NaN               NaN  2000  2049   \n",
       "\n",
       "   electric  gas  water  sewer  all  \n",
       "0         1    0      0      0    0  \n",
       "1         1    1      1      1    1  \n",
       "2         1    1      1      1    1  \n",
       "3         1    1      1      1    1  \n",
       "4         1    1      1      1    1  \n",
       "\n",
       "[5 rows x 34 columns]"
      ]
     },
     "execution_count": 6,
     "metadata": {},
     "output_type": "execute_result"
    }
   ],
   "source": [
    "house_df.head()"
   ]
  },
  {
   "cell_type": "code",
   "execution_count": 7,
   "id": "covered-career",
   "metadata": {},
   "outputs": [
    {
     "data": {
      "text/html": [
       "<div>\n",
       "<style scoped>\n",
       "    .dataframe tbody tr th:only-of-type {\n",
       "        vertical-align: middle;\n",
       "    }\n",
       "\n",
       "    .dataframe tbody tr th {\n",
       "        vertical-align: top;\n",
       "    }\n",
       "\n",
       "    .dataframe thead th {\n",
       "        text-align: right;\n",
       "    }\n",
       "</style>\n",
       "<table border=\"1\" class=\"dataframe\">\n",
       "  <thead>\n",
       "    <tr style=\"text-align: right;\">\n",
       "      <th></th>\n",
       "      <th>deed_date</th>\n",
       "      <th>land_sale_price</th>\n",
       "      <th>total_sale_price</th>\n",
       "      <th>assessed_building_value</th>\n",
       "      <th>story_height</th>\n",
       "      <th>heated_area</th>\n",
       "      <th>bath</th>\n",
       "      <th>bath_fixtures</th>\n",
       "      <th>physical_zip_code</th>\n",
       "      <th>physical_city</th>\n",
       "      <th>...</th>\n",
       "      <th>demand</th>\n",
       "      <th>wake_supply_index</th>\n",
       "      <th>wake_demand_index</th>\n",
       "      <th>year</th>\n",
       "      <th>crime</th>\n",
       "      <th>electric</th>\n",
       "      <th>gas</th>\n",
       "      <th>water</th>\n",
       "      <th>sewer</th>\n",
       "      <th>all</th>\n",
       "    </tr>\n",
       "  </thead>\n",
       "  <tbody>\n",
       "  </tbody>\n",
       "</table>\n",
       "<p>0 rows × 34 columns</p>\n",
       "</div>"
      ],
      "text/plain": [
       "Empty DataFrame\n",
       "Columns: [deed_date, land_sale_price, total_sale_price, assessed_building_value, story_height, heated_area, bath, bath_fixtures, physical_zip_code, physical_city, street_number, street_name, street_type, planning_jurisdiction, address, mort_rate, unemploy_rate, pop_growth_rate, covid_cases, lumber_price, metals_price, build_price, int_rate, supply, demand, wake_supply_index, wake_demand_index, year, crime, electric, gas, water, sewer, all]\n",
       "Index: []\n",
       "\n",
       "[0 rows x 34 columns]"
      ]
     },
     "execution_count": 7,
     "metadata": {},
     "output_type": "execute_result"
    }
   ],
   "source": [
    "house_df[house_df['bath'] == 'J']"
   ]
  },
  {
   "cell_type": "code",
   "execution_count": 8,
   "id": "demanding-present",
   "metadata": {},
   "outputs": [
    {
     "data": {
      "text/plain": [
       "(259024, 34)"
      ]
     },
     "execution_count": 8,
     "metadata": {},
     "output_type": "execute_result"
    }
   ],
   "source": [
    "house_df.shape"
   ]
  },
  {
   "cell_type": "code",
   "execution_count": 9,
   "id": "guilty-saudi",
   "metadata": {},
   "outputs": [
    {
     "data": {
      "text/html": [
       "<div>\n",
       "<style scoped>\n",
       "    .dataframe tbody tr th:only-of-type {\n",
       "        vertical-align: middle;\n",
       "    }\n",
       "\n",
       "    .dataframe tbody tr th {\n",
       "        vertical-align: top;\n",
       "    }\n",
       "\n",
       "    .dataframe thead th {\n",
       "        text-align: right;\n",
       "    }\n",
       "</style>\n",
       "<table border=\"1\" class=\"dataframe\">\n",
       "  <thead>\n",
       "    <tr style=\"text-align: right;\">\n",
       "      <th></th>\n",
       "      <th>259021</th>\n",
       "      <th>259022</th>\n",
       "      <th>259023</th>\n",
       "    </tr>\n",
       "  </thead>\n",
       "  <tbody>\n",
       "    <tr>\n",
       "      <th>deed_date</th>\n",
       "      <td>2021-12-01</td>\n",
       "      <td>2021-12-01</td>\n",
       "      <td>2021-05-01</td>\n",
       "    </tr>\n",
       "    <tr>\n",
       "      <th>land_sale_price</th>\n",
       "      <td>0.0</td>\n",
       "      <td>0.0</td>\n",
       "      <td>0.0</td>\n",
       "    </tr>\n",
       "    <tr>\n",
       "      <th>total_sale_price</th>\n",
       "      <td>430000.0</td>\n",
       "      <td>200300.0</td>\n",
       "      <td>170000.0</td>\n",
       "    </tr>\n",
       "    <tr>\n",
       "      <th>assessed_building_value</th>\n",
       "      <td>322050.0</td>\n",
       "      <td>65465.0</td>\n",
       "      <td>119201.0</td>\n",
       "    </tr>\n",
       "    <tr>\n",
       "      <th>story_height</th>\n",
       "      <td>2.0</td>\n",
       "      <td>1.0</td>\n",
       "      <td>1.0</td>\n",
       "    </tr>\n",
       "    <tr>\n",
       "      <th>heated_area</th>\n",
       "      <td>1479</td>\n",
       "      <td>2407</td>\n",
       "      <td>896</td>\n",
       "    </tr>\n",
       "    <tr>\n",
       "      <th>bath</th>\n",
       "      <td>2.5</td>\n",
       "      <td>2.0</td>\n",
       "      <td>1.0</td>\n",
       "    </tr>\n",
       "    <tr>\n",
       "      <th>bath_fixtures</th>\n",
       "      <td>0</td>\n",
       "      <td>3</td>\n",
       "      <td>0</td>\n",
       "    </tr>\n",
       "    <tr>\n",
       "      <th>physical_zip_code</th>\n",
       "      <td>27610</td>\n",
       "      <td>27601</td>\n",
       "      <td>27529</td>\n",
       "    </tr>\n",
       "    <tr>\n",
       "      <th>physical_city</th>\n",
       "      <td>raleigh</td>\n",
       "      <td>raleigh</td>\n",
       "      <td>garner</td>\n",
       "    </tr>\n",
       "    <tr>\n",
       "      <th>street_number</th>\n",
       "      <td>2204</td>\n",
       "      <td>918</td>\n",
       "      <td>206</td>\n",
       "    </tr>\n",
       "    <tr>\n",
       "      <th>street_name</th>\n",
       "      <td>MILLBANK VILLAGE</td>\n",
       "      <td>STATE</td>\n",
       "      <td>HARPER</td>\n",
       "    </tr>\n",
       "    <tr>\n",
       "      <th>street_type</th>\n",
       "      <td>CT</td>\n",
       "      <td>ST</td>\n",
       "      <td>ST</td>\n",
       "    </tr>\n",
       "    <tr>\n",
       "      <th>planning_jurisdiction</th>\n",
       "      <td>RA</td>\n",
       "      <td>RA</td>\n",
       "      <td>GA</td>\n",
       "    </tr>\n",
       "    <tr>\n",
       "      <th>address</th>\n",
       "      <td>2204 MILLBANK VILLAGE CT, raleigh</td>\n",
       "      <td>918 STATE ST, raleigh</td>\n",
       "      <td>206 HARPER ST, garner</td>\n",
       "    </tr>\n",
       "    <tr>\n",
       "      <th>mort_rate</th>\n",
       "      <td>3.1</td>\n",
       "      <td>3.1</td>\n",
       "      <td>2.96</td>\n",
       "    </tr>\n",
       "    <tr>\n",
       "      <th>unemploy_rate</th>\n",
       "      <td>2.6</td>\n",
       "      <td>2.6</td>\n",
       "      <td>4.3</td>\n",
       "    </tr>\n",
       "    <tr>\n",
       "      <th>pop_growth_rate</th>\n",
       "      <td>0.014689</td>\n",
       "      <td>0.014689</td>\n",
       "      <td>0.014689</td>\n",
       "    </tr>\n",
       "    <tr>\n",
       "      <th>covid_cases</th>\n",
       "      <td>134830.0</td>\n",
       "      <td>134830.0</td>\n",
       "      <td>85911.0</td>\n",
       "    </tr>\n",
       "    <tr>\n",
       "      <th>lumber_price</th>\n",
       "      <td>346.95</td>\n",
       "      <td>346.95</td>\n",
       "      <td>462.0</td>\n",
       "    </tr>\n",
       "    <tr>\n",
       "      <th>metals_price</th>\n",
       "      <td>433.252</td>\n",
       "      <td>433.252</td>\n",
       "      <td>332.6</td>\n",
       "    </tr>\n",
       "    <tr>\n",
       "      <th>build_price</th>\n",
       "      <td>199.89</td>\n",
       "      <td>199.89</td>\n",
       "      <td>235.1</td>\n",
       "    </tr>\n",
       "    <tr>\n",
       "      <th>int_rate</th>\n",
       "      <td>-0.869249</td>\n",
       "      <td>-0.869249</td>\n",
       "      <td>-0.869249</td>\n",
       "    </tr>\n",
       "    <tr>\n",
       "      <th>supply</th>\n",
       "      <td>95.9</td>\n",
       "      <td>95.9</td>\n",
       "      <td>95.9</td>\n",
       "    </tr>\n",
       "    <tr>\n",
       "      <th>demand</th>\n",
       "      <td>152.0</td>\n",
       "      <td>152.0</td>\n",
       "      <td>152.0</td>\n",
       "    </tr>\n",
       "    <tr>\n",
       "      <th>wake_supply_index</th>\n",
       "      <td>97.590361</td>\n",
       "      <td>97.590361</td>\n",
       "      <td>93.214965</td>\n",
       "    </tr>\n",
       "    <tr>\n",
       "      <th>wake_demand_index</th>\n",
       "      <td>73.367153</td>\n",
       "      <td>73.367153</td>\n",
       "      <td>68.801522</td>\n",
       "    </tr>\n",
       "    <tr>\n",
       "      <th>year</th>\n",
       "      <td>2021</td>\n",
       "      <td>2021</td>\n",
       "      <td>2021</td>\n",
       "    </tr>\n",
       "    <tr>\n",
       "      <th>crime</th>\n",
       "      <td>0</td>\n",
       "      <td>0</td>\n",
       "      <td>0</td>\n",
       "    </tr>\n",
       "    <tr>\n",
       "      <th>electric</th>\n",
       "      <td>1</td>\n",
       "      <td>1</td>\n",
       "      <td>1</td>\n",
       "    </tr>\n",
       "    <tr>\n",
       "      <th>gas</th>\n",
       "      <td>1</td>\n",
       "      <td>1</td>\n",
       "      <td>1</td>\n",
       "    </tr>\n",
       "    <tr>\n",
       "      <th>water</th>\n",
       "      <td>1</td>\n",
       "      <td>1</td>\n",
       "      <td>1</td>\n",
       "    </tr>\n",
       "    <tr>\n",
       "      <th>sewer</th>\n",
       "      <td>1</td>\n",
       "      <td>1</td>\n",
       "      <td>1</td>\n",
       "    </tr>\n",
       "    <tr>\n",
       "      <th>all</th>\n",
       "      <td>1</td>\n",
       "      <td>1</td>\n",
       "      <td>1</td>\n",
       "    </tr>\n",
       "  </tbody>\n",
       "</table>\n",
       "</div>"
      ],
      "text/plain": [
       "                                                    259021  \\\n",
       "deed_date                                       2021-12-01   \n",
       "land_sale_price                                        0.0   \n",
       "total_sale_price                                  430000.0   \n",
       "assessed_building_value                           322050.0   \n",
       "story_height                                           2.0   \n",
       "heated_area                                           1479   \n",
       "bath                                                   2.5   \n",
       "bath_fixtures                                            0   \n",
       "physical_zip_code                                    27610   \n",
       "physical_city                                      raleigh   \n",
       "street_number                                         2204   \n",
       "street_name                               MILLBANK VILLAGE   \n",
       "street_type                                             CT   \n",
       "planning_jurisdiction                                   RA   \n",
       "address                  2204 MILLBANK VILLAGE CT, raleigh   \n",
       "mort_rate                                              3.1   \n",
       "unemploy_rate                                          2.6   \n",
       "pop_growth_rate                                   0.014689   \n",
       "covid_cases                                       134830.0   \n",
       "lumber_price                                        346.95   \n",
       "metals_price                                       433.252   \n",
       "build_price                                         199.89   \n",
       "int_rate                                         -0.869249   \n",
       "supply                                                95.9   \n",
       "demand                                               152.0   \n",
       "wake_supply_index                                97.590361   \n",
       "wake_demand_index                                73.367153   \n",
       "year                                                  2021   \n",
       "crime                                                    0   \n",
       "electric                                                 1   \n",
       "gas                                                      1   \n",
       "water                                                    1   \n",
       "sewer                                                    1   \n",
       "all                                                      1   \n",
       "\n",
       "                                        259022                 259023  \n",
       "deed_date                           2021-12-01             2021-05-01  \n",
       "land_sale_price                            0.0                    0.0  \n",
       "total_sale_price                      200300.0               170000.0  \n",
       "assessed_building_value                65465.0               119201.0  \n",
       "story_height                               1.0                    1.0  \n",
       "heated_area                               2407                    896  \n",
       "bath                                       2.0                    1.0  \n",
       "bath_fixtures                                3                      0  \n",
       "physical_zip_code                        27601                  27529  \n",
       "physical_city                          raleigh                 garner  \n",
       "street_number                              918                    206  \n",
       "street_name                              STATE                 HARPER  \n",
       "street_type                                 ST                     ST  \n",
       "planning_jurisdiction                       RA                     GA  \n",
       "address                  918 STATE ST, raleigh  206 HARPER ST, garner  \n",
       "mort_rate                                  3.1                   2.96  \n",
       "unemploy_rate                              2.6                    4.3  \n",
       "pop_growth_rate                       0.014689               0.014689  \n",
       "covid_cases                           134830.0                85911.0  \n",
       "lumber_price                            346.95                  462.0  \n",
       "metals_price                           433.252                  332.6  \n",
       "build_price                             199.89                  235.1  \n",
       "int_rate                             -0.869249              -0.869249  \n",
       "supply                                    95.9                   95.9  \n",
       "demand                                   152.0                  152.0  \n",
       "wake_supply_index                    97.590361              93.214965  \n",
       "wake_demand_index                    73.367153              68.801522  \n",
       "year                                      2021                   2021  \n",
       "crime                                        0                      0  \n",
       "electric                                     1                      1  \n",
       "gas                                          1                      1  \n",
       "water                                        1                      1  \n",
       "sewer                                        1                      1  \n",
       "all                                          1                      1  "
      ]
     },
     "execution_count": 9,
     "metadata": {},
     "output_type": "execute_result"
    }
   ],
   "source": [
    "house_df.tail(3).T"
   ]
  },
  {
   "cell_type": "code",
   "execution_count": 10,
   "id": "compressed-england",
   "metadata": {
    "scrolled": true
   },
   "outputs": [
    {
     "data": {
      "text/plain": [
       "Index(['deed_date', 'land_sale_price', 'total_sale_price',\n",
       "       'assessed_building_value', 'story_height', 'heated_area', 'bath',\n",
       "       'bath_fixtures', 'physical_zip_code', 'physical_city', 'street_number',\n",
       "       'street_name', 'street_type', 'planning_jurisdiction', 'address',\n",
       "       'mort_rate', 'unemploy_rate', 'pop_growth_rate', 'covid_cases',\n",
       "       'lumber_price', 'metals_price', 'build_price', 'int_rate', 'supply',\n",
       "       'demand', 'wake_supply_index', 'wake_demand_index', 'year', 'crime',\n",
       "       'electric', 'gas', 'water', 'sewer', 'all'],\n",
       "      dtype='object')"
      ]
     },
     "execution_count": 10,
     "metadata": {},
     "output_type": "execute_result"
    }
   ],
   "source": [
    "house_df.columns"
   ]
  },
  {
   "cell_type": "code",
   "execution_count": 11,
   "id": "instant-canal",
   "metadata": {},
   "outputs": [
    {
     "data": {
      "text/plain": [
       "0    203238\n",
       "1     55786\n",
       "Name: is_covid, dtype: int64"
      ]
     },
     "execution_count": 11,
     "metadata": {},
     "output_type": "execute_result"
    }
   ],
   "source": [
    "house_df['is_covid'] = 0\n",
    "house_df.loc[(house_df['covid_cases'] > 0), 'is_covid'] = 1\n",
    "house_df['is_covid'].value_counts()"
   ]
  },
  {
   "cell_type": "markdown",
   "id": "spanish-dakota",
   "metadata": {},
   "source": [
    "## summary stats and distribution"
   ]
  },
  {
   "cell_type": "markdown",
   "id": "differential-snapshot",
   "metadata": {},
   "source": [
    "### land_sale_price"
   ]
  },
  {
   "cell_type": "code",
   "execution_count": 12,
   "id": "stupid-junior",
   "metadata": {},
   "outputs": [
    {
     "data": {
      "text/plain": [
       "<AxesSubplot:>"
      ]
     },
     "execution_count": 12,
     "metadata": {},
     "output_type": "execute_result"
    },
    {
     "data": {
      "image/png": "[encoded data removed]",
      "text/plain": [
       "<Figure size 432x288 with 1 Axes>"
      ]
     },
     "metadata": {
      "needs_background": "light"
     },
     "output_type": "display_data"
    }
   ],
   "source": [
    "house_df.land_sale_price.hist(bins=np.arange(0,1e6,1e4))"
   ]
  },
  {
   "cell_type": "code",
   "execution_count": 13,
   "id": "inclusive-medium",
   "metadata": {},
   "outputs": [
    {
     "data": {
      "text/plain": [
       "0.0         148605\n",
       "30000.0       1894\n",
       "45000.0       1790\n",
       "40000.0       1714\n",
       "35000.0       1628\n",
       "             ...  \n",
       "423700.0         1\n",
       "444100.0         1\n",
       "78726.0          1\n",
       "11700.0          1\n",
       "47100.0          1\n",
       "Name: land_sale_price, Length: 3581, dtype: int64"
      ]
     },
     "execution_count": 13,
     "metadata": {},
     "output_type": "execute_result"
    }
   ],
   "source": [
    "house_df.land_sale_price.value_counts()"
   ]
  },
  {
   "cell_type": "code",
   "execution_count": 14,
   "id": "severe-cedar",
   "metadata": {},
   "outputs": [
    {
     "data": {
      "text/plain": [
       "<AxesSubplot:>"
      ]
     },
     "execution_count": 14,
     "metadata": {},
     "output_type": "execute_result"
    },
    {
     "data": {
      "image/png": "[encoded data removed]",
      "text/plain": [
       "<Figure size 432x288 with 1 Axes>"
      ]
     },
     "metadata": {
      "needs_background": "light"
     },
     "output_type": "display_data"
    }
   ],
   "source": [
    "lsp = house_df.land_sale_price\n",
    "lsp = lsp[lsp != 0]\n",
    "lsp.hist(bins=np.arange(0,4e5,1e4))"
   ]
  },
  {
   "cell_type": "markdown",
   "id": "turkish-syndicate",
   "metadata": {},
   "source": [
    "roughly lognormal distributed"
   ]
  },
  {
   "cell_type": "code",
   "execution_count": 15,
   "id": "superior-upset",
   "metadata": {},
   "outputs": [
    {
     "data": {
      "text/plain": [
       "<AxesSubplot:>"
      ]
     },
     "execution_count": 15,
     "metadata": {},
     "output_type": "execute_result"
    },
    {
     "data": {
      "image/png": "[encoded data removed]",
      "text/plain": [
       "<Figure size 432x288 with 1 Axes>"
      ]
     },
     "metadata": {
      "needs_background": "light"
     },
     "output_type": "display_data"
    }
   ],
   "source": [
    "np.log10(lsp).hist(bins=np.arange(3.5,6.5,0.1))"
   ]
  },
  {
   "cell_type": "code",
   "execution_count": 16,
   "id": "billion-cream",
   "metadata": {},
   "outputs": [
    {
     "data": {
      "text/plain": [
       "count     110419.0\n",
       "mean       61520.0\n",
       "std        76448.0\n",
       "min          190.0\n",
       "25%        31000.0\n",
       "50%        45000.0\n",
       "75%        72500.0\n",
       "max      5538500.0\n",
       "Name: land_sale_price, dtype: float64"
      ]
     },
     "execution_count": 16,
     "metadata": {},
     "output_type": "execute_result"
    }
   ],
   "source": [
    "np.round(lsp.describe())"
   ]
  },
  {
   "cell_type": "markdown",
   "id": "chronic-massage",
   "metadata": {},
   "source": [
    "### total_sale_price\n",
    "\n",
    "this is what we are going to predict"
   ]
  },
  {
   "cell_type": "code",
   "execution_count": 17,
   "id": "occasional-deputy",
   "metadata": {},
   "outputs": [
    {
     "data": {
      "text/plain": [
       "<AxesSubplot:>"
      ]
     },
     "execution_count": 17,
     "metadata": {},
     "output_type": "execute_result"
    },
    {
     "data": {
      "image/png": "[encoded data removed]",
      "text/plain": [
       "<Figure size 432x288 with 1 Axes>"
      ]
     },
     "metadata": {
      "needs_background": "light"
     },
     "output_type": "display_data"
    }
   ],
   "source": [
    "house_df.total_sale_price.hist(bins=np.arange(0,2e6,1e4))"
   ]
  },
  {
   "cell_type": "code",
   "execution_count": 18,
   "id": "corresponding-radar",
   "metadata": {},
   "outputs": [
    {
     "data": {
      "text/plain": [
       "5.0             1\n",
       "313.0          16\n",
       "315.0           1\n",
       "500.0         124\n",
       "1000.0         99\n",
       "             ... \n",
       "24125000.0     26\n",
       "24306400.0     17\n",
       "25783000.0     22\n",
       "47925000.0      3\n",
       "70600000.0     18\n",
       "Name: total_sale_price, Length: 3653, dtype: int64"
      ]
     },
     "execution_count": 18,
     "metadata": {},
     "output_type": "execute_result"
    }
   ],
   "source": [
    "house_df.total_sale_price.value_counts().sort_index()"
   ]
  },
  {
   "cell_type": "code",
   "execution_count": 19,
   "id": "eleven-airplane",
   "metadata": {},
   "outputs": [
    {
     "name": "stdout",
     "output_type": "stream",
     "text": [
      "[5.00e+00 2.55e+04 4.90e+04 6.60e+04 7.90e+04 8.85e+04 9.60e+04 1.03e+05\n",
      " 1.09e+05 1.14e+05]\n",
      "[  530000.   550000.   570000.   595000.   621500.   651000.   693000.\n",
      "   749500.   825000.   995000. 70600000.]\n"
     ]
    }
   ],
   "source": [
    "tsp = house_df.total_sale_price\n",
    "print(np.percentile(tsp, range(0,10)))\n",
    "print(np.percentile(tsp, range(90,101)))"
   ]
  },
  {
   "cell_type": "code",
   "execution_count": 20,
   "id": "correct-witch",
   "metadata": {},
   "outputs": [
    {
     "name": "stdout",
     "output_type": "stream",
     "text": [
      "[5.0000e+00 3.0000e+03 8.0000e+03 1.5000e+04 2.0000e+04 2.5500e+04\n",
      " 3.0806e+04 3.5500e+04 4.0000e+04 4.5000e+04 4.9000e+04 5.3000e+04\n",
      " 5.6500e+04 6.0000e+04 6.3000e+04 6.6000e+04]\n",
      "[  995000.          1034000.          1079907.99999998  1129000.\n",
      "  1200000.          1262442.49999996  1350000.          1500000.\n",
      "  1787921.7999998   2649424.9999967  70600000.        ]\n"
     ]
    }
   ],
   "source": [
    "print(np.percentile(tsp, np.arange(0,3.1,0.2)))\n",
    "print(np.percentile(tsp, np.arange(99,100.1,0.1)))"
   ]
  },
  {
   "cell_type": "code",
   "execution_count": 21,
   "id": "diagnostic-ballet",
   "metadata": {},
   "outputs": [
    {
     "data": {
      "text/plain": [
       "<AxesSubplot:>"
      ]
     },
     "execution_count": 21,
     "metadata": {},
     "output_type": "execute_result"
    },
    {
     "data": {
      "image/png": "[encoded data removed]",
      "text/plain": [
       "<Figure size 432x288 with 1 Axes>"
      ]
     },
     "metadata": {
      "needs_background": "light"
     },
     "output_type": "display_data"
    }
   ],
   "source": [
    "l, r = np.percentile(tsp, [1, 99.5])\n",
    "tsp = tsp[(tsp > l) & (tsp < r)]\n",
    "tsp.hist(bins=np.arange(0,1e6,1e4))"
   ]
  },
  {
   "cell_type": "code",
   "execution_count": 22,
   "id": "legal-paintball",
   "metadata": {},
   "outputs": [],
   "source": [
    "# clean 1.5% outliers\n",
    "house_df = house_df[(house_df[\"total_sale_price\"] > l) &\n",
    "                    (house_df[\"total_sale_price\"] < r)]\n",
    "# create log house px\n",
    "house_df[\"log_px\"] = np.log10(house_df[\"total_sale_price\"])"
   ]
  },
  {
   "cell_type": "markdown",
   "id": "robust-twins",
   "metadata": {},
   "source": [
    "somewhere between normal and lognormal"
   ]
  },
  {
   "cell_type": "code",
   "execution_count": 23,
   "id": "appointed-needle",
   "metadata": {},
   "outputs": [
    {
     "data": {
      "text/plain": [
       "<AxesSubplot:>"
      ]
     },
     "execution_count": 23,
     "metadata": {},
     "output_type": "execute_result"
    },
    {
     "data": {
      "image/png": "[encoded data removed]",
      "text/plain": [
       "<Figure size 432x288 with 1 Axes>"
      ]
     },
     "metadata": {
      "needs_background": "light"
     },
     "output_type": "display_data"
    }
   ],
   "source": [
    "np.log10(tsp).hist(bins=np.arange(4,6.5,0.1))"
   ]
  },
  {
   "cell_type": "code",
   "execution_count": 24,
   "id": "fundamental-provision",
   "metadata": {},
   "outputs": [
    {
     "data": {
      "text/plain": [
       "count     255108.0\n",
       "mean      300363.0\n",
       "std       174210.0\n",
       "min        25800.0\n",
       "25%       174000.0\n",
       "50%       265000.0\n",
       "75%       382500.0\n",
       "max      1262000.0\n",
       "Name: total_sale_price, dtype: float64"
      ]
     },
     "execution_count": 24,
     "metadata": {},
     "output_type": "execute_result"
    }
   ],
   "source": [
    "# note this is after dropping 2% outliers\n",
    "np.round(tsp.describe())"
   ]
  },
  {
   "cell_type": "code",
   "execution_count": 25,
   "id": "functioning-third",
   "metadata": {},
   "outputs": [
    {
     "data": {
      "text/plain": [
       "<AxesSubplot:xlabel='year'>"
      ]
     },
     "execution_count": 25,
     "metadata": {},
     "output_type": "execute_result"
    },
    {
     "data": {
      "image/png": "[encoded data removed]",
      "text/plain": [
       "<Figure size 432x288 with 1 Axes>"
      ]
     },
     "metadata": {
      "needs_background": "light"
     },
     "output_type": "display_data"
    }
   ],
   "source": [
    "# see trend\n",
    "house_df.groupby(\"year\")[\"total_sale_price\"].median().plot()"
   ]
  },
  {
   "cell_type": "code",
   "execution_count": 26,
   "id": "incomplete-simulation",
   "metadata": {},
   "outputs": [
    {
     "data": {
      "text/plain": [
       "Index(['deed_date', 'land_sale_price', 'total_sale_price',\n",
       "       'assessed_building_value', 'story_height', 'heated_area', 'bath',\n",
       "       'bath_fixtures', 'physical_zip_code', 'physical_city', 'street_number',\n",
       "       'street_name', 'street_type', 'planning_jurisdiction', 'address',\n",
       "       'mort_rate', 'unemploy_rate', 'pop_growth_rate', 'covid_cases',\n",
       "       'lumber_price', 'metals_price', 'build_price', 'int_rate', 'supply',\n",
       "       'demand', 'wake_supply_index', 'wake_demand_index', 'year', 'crime',\n",
       "       'electric', 'gas', 'water', 'sewer', 'all', 'is_covid', 'log_px'],\n",
       "      dtype='object')"
      ]
     },
     "execution_count": 26,
     "metadata": {},
     "output_type": "execute_result"
    }
   ],
   "source": [
    "house_df.columns"
   ]
  },
  {
   "cell_type": "code",
   "execution_count": 27,
   "id": "accomplished-cleaning",
   "metadata": {},
   "outputs": [
    {
     "data": {
      "text/plain": [
       "<AxesSubplot:xlabel='year'>"
      ]
     },
     "execution_count": 27,
     "metadata": {},
     "output_type": "execute_result"
    },
    {
     "data": {
      "image/png": "[encoded data removed]",
      "text/plain": [
       "<Figure size 432x288 with 1 Axes>"
      ]
     },
     "metadata": {
      "needs_background": "light"
     },
     "output_type": "display_data"
    }
   ],
   "source": [
    "house_df[[\"lumber_price\",\"metals_price\",\"year\"]].drop_duplicates([\"year\"]).set_index(\"year\").sort_index().plot()"
   ]
  },
  {
   "cell_type": "code",
   "execution_count": 28,
   "id": "mexican-tokyo",
   "metadata": {},
   "outputs": [
    {
     "data": {
      "text/plain": [
       "<AxesSubplot:xlabel='year'>"
      ]
     },
     "execution_count": 28,
     "metadata": {},
     "output_type": "execute_result"
    },
    {
     "data": {
      "image/png": "[encoded data removed]",
      "text/plain": [
       "<Figure size 432x288 with 1 Axes>"
      ]
     },
     "metadata": {
      "needs_background": "light"
     },
     "output_type": "display_data"
    }
   ],
   "source": [
    "house_df[[\"mort_rate\",\"year\"]].drop_duplicates([\"year\"]).set_index(\"year\").sort_index().plot()"
   ]
  },
  {
   "cell_type": "code",
   "execution_count": 29,
   "id": "necessary-columbia",
   "metadata": {},
   "outputs": [
    {
     "data": {
      "text/plain": [
       "<AxesSubplot:xlabel='year'>"
      ]
     },
     "execution_count": 29,
     "metadata": {},
     "output_type": "execute_result"
    },
    {
     "data": {
      "image/png": "[encoded data removed]",
      "text/plain": [
       "<Figure size 432x288 with 1 Axes>"
      ]
     },
     "metadata": {
      "needs_background": "light"
     },
     "output_type": "display_data"
    }
   ],
   "source": [
    "house_df[[\"pop_growth_rate\",\"year\"]].drop_duplicates([\"year\"]).set_index(\"year\").sort_index().plot()"
   ]
  },
  {
   "cell_type": "markdown",
   "id": "alike-variety",
   "metadata": {},
   "source": [
    "### deed_date"
   ]
  },
  {
   "cell_type": "code",
   "execution_count": 30,
   "id": "satellite-interim",
   "metadata": {},
   "outputs": [
    {
     "data": {
      "text/plain": [
       "<AxesSubplot:>"
      ]
     },
     "execution_count": 30,
     "metadata": {},
     "output_type": "execute_result"
    },
    {
     "data": {
      "image/png": "[encoded data removed]",
      "text/plain": [
       "<Figure size 432x288 with 1 Axes>"
      ]
     },
     "metadata": {
      "needs_background": "light"
     },
     "output_type": "display_data"
    }
   ],
   "source": [
    "# seeing some trend changes\n",
    "house_df[\"year\"].value_counts().sort_index().plot()"
   ]
  },
  {
   "cell_type": "markdown",
   "id": "sitting-civilization",
   "metadata": {},
   "source": [
    "### assessed_building_value"
   ]
  },
  {
   "cell_type": "code",
   "execution_count": 31,
   "id": "numerical-illness",
   "metadata": {},
   "outputs": [
    {
     "data": {
      "text/plain": [
       "<AxesSubplot:>"
      ]
     },
     "execution_count": 31,
     "metadata": {},
     "output_type": "execute_result"
    },
    {
     "data": {
      "image/png": "[encoded data removed]",
      "text/plain": [
       "<Figure size 432x288 with 1 Axes>"
      ]
     },
     "metadata": {
      "needs_background": "light"
     },
     "output_type": "display_data"
    }
   ],
   "source": [
    "house_df.assessed_building_value.hist(bins=np.arange(0,1e7,1e4))"
   ]
  },
  {
   "cell_type": "code",
   "execution_count": 32,
   "id": "competent-barbados",
   "metadata": {},
   "outputs": [
    {
     "data": {
      "text/plain": [
       "count      255108.0\n",
       "mean       260276.0\n",
       "std        157082.0\n",
       "min             0.0\n",
       "25%        164511.0\n",
       "50%        231002.0\n",
       "75%        322801.0\n",
       "max      18296504.0\n",
       "Name: assessed_building_value, dtype: float64"
      ]
     },
     "execution_count": 32,
     "metadata": {},
     "output_type": "execute_result"
    }
   ],
   "source": [
    "np.round(house_df.assessed_building_value.describe())"
   ]
  },
  {
   "cell_type": "markdown",
   "id": "behavioral-copyright",
   "metadata": {},
   "source": [
    "### story_height"
   ]
  },
  {
   "cell_type": "code",
   "execution_count": 33,
   "id": "happy-treasury",
   "metadata": {},
   "outputs": [
    {
     "data": {
      "text/plain": [
       "2.00    123371\n",
       "1.00     73158\n",
       "1.50     18593\n",
       "1.75     17352\n",
       "1.88     11331\n",
       "1.63      6238\n",
       "1.40      3906\n",
       "3.00      1148\n",
       "2.50         6\n",
       "2.40         3\n",
       "2.63         1\n",
       "2.75         1\n",
       "Name: story_height, dtype: int64"
      ]
     },
     "execution_count": 33,
     "metadata": {},
     "output_type": "execute_result"
    }
   ],
   "source": [
    "house_df.story_height.value_counts()"
   ]
  },
  {
   "cell_type": "markdown",
   "id": "piano-feeling",
   "metadata": {},
   "source": [
    "The numeric value for story height does not have linear relationship with price\n",
    "\n",
    "Non-integer story heights of 1.4, 1.5, 1.63, etc. may correspond to multiple levels, hence better price than 2 story.\n",
    "We need to investigate more the usefulness of this feature."
   ]
  },
  {
   "cell_type": "code",
   "execution_count": 34,
   "id": "french-princeton",
   "metadata": {},
   "outputs": [
    {
     "data": {
      "text/plain": [
       "<AxesSubplot:xlabel='story_height'>"
      ]
     },
     "execution_count": 34,
     "metadata": {},
     "output_type": "execute_result"
    },
    {
     "data": {
      "image/png": "[encoded data removed]",
      "text/plain": [
       "<Figure size 432x288 with 1 Axes>"
      ]
     },
     "metadata": {
      "needs_background": "light"
     },
     "output_type": "display_data"
    }
   ],
   "source": [
    "house_df[(house_df[\"story_height\"] <= 2)].groupby(\"story_height\")[\"total_sale_price\"].median().sort_index().plot()"
   ]
  },
  {
   "cell_type": "code",
   "execution_count": 35,
   "id": "friendly-oregon",
   "metadata": {},
   "outputs": [
    {
     "data": {
      "text/plain": [
       "<AxesSubplot:>"
      ]
     },
     "execution_count": 35,
     "metadata": {},
     "output_type": "execute_result"
    },
    {
     "data": {
      "image/png": "[encoded data removed]",
      "text/plain": [
       "<Figure size 432x288 with 1 Axes>"
      ]
     },
     "metadata": {
      "needs_background": "light"
     },
     "output_type": "display_data"
    }
   ],
   "source": [
    "np.log10(house_df[(house_df[\"story_height\"] == 2)][\"total_sale_price\"]).hist(bins=np.arange(4,7,0.1))"
   ]
  },
  {
   "cell_type": "code",
   "execution_count": 36,
   "id": "parental-hazard",
   "metadata": {},
   "outputs": [
    {
     "data": {
      "text/plain": [
       "<AxesSubplot:>"
      ]
     },
     "execution_count": 36,
     "metadata": {},
     "output_type": "execute_result"
    },
    {
     "data": {
      "image/png": "[encoded data removed]",
      "text/plain": [
       "<Figure size 432x288 with 1 Axes>"
      ]
     },
     "metadata": {
      "needs_background": "light"
     },
     "output_type": "display_data"
    }
   ],
   "source": [
    "np.log10(house_df[(house_df[\"story_height\"] == 1.5)][\"total_sale_price\"]).hist(bins=np.arange(4,7,0.1))"
   ]
  },
  {
   "cell_type": "code",
   "execution_count": 37,
   "id": "resident-friendship",
   "metadata": {},
   "outputs": [
    {
     "data": {
      "text/plain": [
       "<AxesSubplot:>"
      ]
     },
     "execution_count": 37,
     "metadata": {},
     "output_type": "execute_result"
    },
    {
     "data": {
      "image/png": "[encoded data removed]",
      "text/plain": [
       "<Figure size 432x288 with 1 Axes>"
      ]
     },
     "metadata": {
      "needs_background": "light"
     },
     "output_type": "display_data"
    }
   ],
   "source": [
    "np.log10(house_df[(house_df[\"story_height\"] == 1.5)][\"total_sale_price\"]).hist(bins=np.arange(4,7,0.1))"
   ]
  },
  {
   "cell_type": "code",
   "execution_count": 38,
   "id": "divided-amazon",
   "metadata": {},
   "outputs": [
    {
     "data": {
      "text/plain": [
       "story_height\n",
       "1.50    AxesSubplot(0.125,0.125;0.775x0.755)\n",
       "1.75    AxesSubplot(0.125,0.125;0.775x0.755)\n",
       "1.88    AxesSubplot(0.125,0.125;0.775x0.755)\n",
       "Name: total_sale_price, dtype: object"
      ]
     },
     "execution_count": 38,
     "metadata": {},
     "output_type": "execute_result"
    },
    {
     "data": {
      "image/png": "[encoded data removed]",
      "text/plain": [
       "<Figure size 432x288 with 1 Axes>"
      ]
     },
     "metadata": {
      "needs_background": "light"
     },
     "output_type": "display_data"
    }
   ],
   "source": [
    "house_df[(house_df[\"story_height\"].isin([1.5,1.75,1.88]))].groupby(\"story_height\")\\\n",
    "    [\"total_sale_price\"].hist(bins=np.arange(0,1e6,2e4))"
   ]
  },
  {
   "cell_type": "code",
   "execution_count": 39,
   "id": "suburban-million",
   "metadata": {},
   "outputs": [
    {
     "data": {
      "text/plain": [
       "story_height\n",
       "1.4    AxesSubplot(0.125,0.125;0.775x0.755)\n",
       "Name: total_sale_price, dtype: object"
      ]
     },
     "execution_count": 39,
     "metadata": {},
     "output_type": "execute_result"
    },
    {
     "data": {
      "image/png": "[encoded data removed]",
      "text/plain": [
       "<Figure size 432x288 with 1 Axes>"
      ]
     },
     "metadata": {
      "needs_background": "light"
     },
     "output_type": "display_data"
    }
   ],
   "source": [
    "house_df[(house_df[\"story_height\"].isin([1.4]))].groupby(\"story_height\")\\\n",
    "    [\"total_sale_price\"].hist(bins=np.arange(0,1e6,2e4))"
   ]
  },
  {
   "cell_type": "code",
   "execution_count": 40,
   "id": "nearby-identifier",
   "metadata": {},
   "outputs": [
    {
     "data": {
      "text/plain": [
       "<AxesSubplot:xlabel='story_height'>"
      ]
     },
     "execution_count": 40,
     "metadata": {},
     "output_type": "execute_result"
    },
    {
     "data": {
      "image/png": "[encoded data removed]",
      "text/plain": [
       "<Figure size 432x288 with 1 Axes>"
      ]
     },
     "metadata": {
      "needs_background": "light"
     },
     "output_type": "display_data"
    }
   ],
   "source": [
    "house_df[(house_df[\"story_height\"] <= 3)].groupby(\"story_height\")[\"total_sale_price\"].std().sort_index().plot()"
   ]
  },
  {
   "cell_type": "code",
   "execution_count": 41,
   "id": "innovative-insight",
   "metadata": {},
   "outputs": [
    {
     "data": {
      "text/plain": [
       "<AxesSubplot:xlabel='story_height'>"
      ]
     },
     "execution_count": 41,
     "metadata": {},
     "output_type": "execute_result"
    },
    {
     "data": {
      "image/png": "[encoded data removed]",
      "text/plain": [
       "<Figure size 432x288 with 1 Axes>"
      ]
     },
     "metadata": {
      "needs_background": "light"
     },
     "output_type": "display_data"
    }
   ],
   "source": [
    "house_df[(house_df[\"story_height\"] <= 3)].groupby(\"story_height\")[\"log_px\"].std().sort_index().plot()"
   ]
  },
  {
   "cell_type": "markdown",
   "id": "straight-seller",
   "metadata": {},
   "source": [
    "### bath"
   ]
  },
  {
   "cell_type": "code",
   "execution_count": 42,
   "id": "tracked-tragedy",
   "metadata": {},
   "outputs": [
    {
     "data": {
      "text/plain": [
       "2.5    110431\n",
       "3.5     51216\n",
       "2.0     45268\n",
       "3.0     25838\n",
       "1.5     10724\n",
       "1.0     10593\n",
       "0.0       626\n",
       "4.0       412\n",
       "Name: bath, dtype: int64"
      ]
     },
     "execution_count": 42,
     "metadata": {},
     "output_type": "execute_result"
    }
   ],
   "source": [
    "house_df.bath.value_counts()"
   ]
  },
  {
   "cell_type": "code",
   "execution_count": 43,
   "id": "annual-pillow",
   "metadata": {},
   "outputs": [
    {
     "name": "stdout",
     "output_type": "stream",
     "text": [
      "0.0       626\n",
      "1.0     10593\n",
      "1.5     10724\n",
      "2.0     45268\n",
      "2.5    110431\n",
      "3.0     25838\n",
      "3.5     51216\n",
      "4.0       412\n",
      "Name: bath, dtype: int64\n"
     ]
    }
   ],
   "source": [
    "# create two features \"bath_unknown\" for bath==0, and \"bath\" for bath >= 0\n",
    "# \"bath_unknown\" includes \"adequate, no plumbing, limited plumbing, no of fixtures\"\n",
    "print(house_df.bath.value_counts().sort_index())\n",
    "house_df[\"bath_unknown\"] = 0\n",
    "house_df.loc[(house_df[\"bath\"] == 0), \"bath_unknown\"] = 1"
   ]
  },
  {
   "cell_type": "code",
   "execution_count": 44,
   "id": "molecular-gardening",
   "metadata": {},
   "outputs": [
    {
     "data": {
      "text/plain": [
       "0    254482\n",
       "1       626\n",
       "Name: bath_unknown, dtype: int64"
      ]
     },
     "execution_count": 44,
     "metadata": {},
     "output_type": "execute_result"
    }
   ],
   "source": [
    "house_df.bath_unknown.value_counts()"
   ]
  },
  {
   "cell_type": "code",
   "execution_count": 45,
   "id": "hybrid-vienna",
   "metadata": {},
   "outputs": [
    {
     "data": {
      "text/plain": [
       "<AxesSubplot:xlabel='bath'>"
      ]
     },
     "execution_count": 45,
     "metadata": {},
     "output_type": "execute_result"
    },
    {
     "data": {
      "image/png": "[encoded data removed]",
      "text/plain": [
       "<Figure size 432x288 with 1 Axes>"
      ]
     },
     "metadata": {
      "needs_background": "light"
     },
     "output_type": "display_data"
    }
   ],
   "source": [
    "# from the avg price we see \"bath_unknown\"s' median is somewhere between 1 - 3.5 baths\n",
    "# so it should not be treated as 0 baths.\n",
    "house_df.groupby(\"bath\")[\"total_sale_price\"].median().plot()"
   ]
  },
  {
   "cell_type": "code",
   "execution_count": 46,
   "id": "abandoned-entity",
   "metadata": {},
   "outputs": [
    {
     "data": {
      "text/plain": [
       "<AxesSubplot:xlabel='bath'>"
      ]
     },
     "execution_count": 46,
     "metadata": {},
     "output_type": "execute_result"
    },
    {
     "data": {
      "image/png": "[encoded data removed]",
      "text/plain": [
       "<Figure size 432x288 with 1 Axes>"
      ]
     },
     "metadata": {
      "needs_background": "light"
     },
     "output_type": "display_data"
    }
   ],
   "source": [
    "house_df.groupby(\"bath\")[\"total_sale_price\"].std().plot()"
   ]
  },
  {
   "cell_type": "code",
   "execution_count": 47,
   "id": "sunset-postcard",
   "metadata": {},
   "outputs": [
    {
     "data": {
      "text/plain": [
       "<AxesSubplot:xlabel='bath'>"
      ]
     },
     "execution_count": 47,
     "metadata": {},
     "output_type": "execute_result"
    },
    {
     "data": {
      "image/png": "[encoded data removed]",
      "text/plain": [
       "<Figure size 432x288 with 1 Axes>"
      ]
     },
     "metadata": {
      "needs_background": "light"
     },
     "output_type": "display_data"
    }
   ],
   "source": [
    "house_df[(house_df[\"bath\"] >= 1)].groupby(\"bath\")[\"total_sale_price\"].std().plot()"
   ]
  },
  {
   "cell_type": "code",
   "execution_count": 48,
   "id": "preceding-monitoring",
   "metadata": {},
   "outputs": [],
   "source": [
    "house_df['log_px'] = np.log10(house_df[\"total_sale_price\"])"
   ]
  },
  {
   "cell_type": "code",
   "execution_count": 49,
   "id": "wireless-athletics",
   "metadata": {},
   "outputs": [
    {
     "data": {
      "text/plain": [
       "<AxesSubplot:>"
      ]
     },
     "execution_count": 49,
     "metadata": {},
     "output_type": "execute_result"
    },
    {
     "data": {
      "image/png": "[encoded data removed]",
      "text/plain": [
       "<Figure size 432x288 with 1 Axes>"
      ]
     },
     "metadata": {
      "needs_background": "light"
     },
     "output_type": "display_data"
    }
   ],
   "source": [
    "house_df[(house_df['bath'] == 0)]['log_px'].hist()"
   ]
  },
  {
   "cell_type": "code",
   "execution_count": 50,
   "id": "peaceful-clinic",
   "metadata": {},
   "outputs": [
    {
     "data": {
      "text/plain": [
       "<AxesSubplot:>"
      ]
     },
     "execution_count": 50,
     "metadata": {},
     "output_type": "execute_result"
    },
    {
     "data": {
      "image/png": "[encoded data removed]",
      "text/plain": [
       "<Figure size 432x288 with 1 Axes>"
      ]
     },
     "metadata": {
      "needs_background": "light"
     },
     "output_type": "display_data"
    }
   ],
   "source": [
    "house_df[(house_df[\"bath\"]==1)][\"total_sale_price\"].hist()#bins=np.arange())"
   ]
  },
  {
   "cell_type": "code",
   "execution_count": 51,
   "id": "certified-catering",
   "metadata": {},
   "outputs": [
    {
     "data": {
      "text/plain": [
       "Index(['deed_date', 'land_sale_price', 'total_sale_price',\n",
       "       'assessed_building_value', 'story_height', 'heated_area', 'bath',\n",
       "       'bath_fixtures', 'physical_zip_code', 'physical_city', 'street_number',\n",
       "       'street_name', 'street_type', 'planning_jurisdiction', 'address',\n",
       "       'mort_rate', 'unemploy_rate', 'pop_growth_rate', 'covid_cases',\n",
       "       'lumber_price', 'metals_price', 'build_price', 'int_rate', 'supply',\n",
       "       'demand', 'wake_supply_index', 'wake_demand_index', 'year', 'crime',\n",
       "       'electric', 'gas', 'water', 'sewer', 'all', 'is_covid', 'log_px',\n",
       "       'bath_unknown'],\n",
       "      dtype='object')"
      ]
     },
     "execution_count": 51,
     "metadata": {},
     "output_type": "execute_result"
    }
   ],
   "source": [
    "house_df.columns"
   ]
  },
  {
   "cell_type": "markdown",
   "id": "passive-survival",
   "metadata": {},
   "source": [
    "### physical_zip_code"
   ]
  },
  {
   "cell_type": "code",
   "execution_count": 52,
   "id": "continent-psychiatry",
   "metadata": {},
   "outputs": [
    {
     "name": "stdout",
     "output_type": "stream",
     "text": [
      "27587    18380\n",
      "27519    15969\n",
      "27610    15164\n",
      "27526    13961\n",
      "27616    13687\n",
      "27502    13102\n",
      "27540    12490\n",
      "27603    11161\n",
      "27615    10705\n",
      "27613    10413\n",
      "27513    10252\n",
      "27604    10171\n",
      "27614     8881\n",
      "27612     8361\n",
      "27529     7707\n",
      "27545     7450\n",
      "27511     7239\n",
      "27606     7094\n",
      "27560     6770\n",
      "27609     6641\n",
      "27539     6473\n",
      "27518     4746\n",
      "27591     4637\n",
      "27617     4319\n",
      "27523     4229\n",
      "27597     3586\n",
      "27607     3501\n",
      "27608     2925\n",
      "27571     2509\n",
      "27605     1305\n",
      "27601     1280\n",
      "Name: physical_zip_code, dtype: int64\n"
     ]
    }
   ],
   "source": [
    "print(house_df[\"physical_zip_code\"].value_counts())\n",
    "house_df = house_df[(house_df[\"physical_zip_code\"] != 0)]"
   ]
  },
  {
   "cell_type": "code",
   "execution_count": 53,
   "id": "juvenile-dodge",
   "metadata": {},
   "outputs": [
    {
     "data": {
      "text/html": [
       "<div>\n",
       "<style scoped>\n",
       "    .dataframe tbody tr th:only-of-type {\n",
       "        vertical-align: middle;\n",
       "    }\n",
       "\n",
       "    .dataframe tbody tr th {\n",
       "        vertical-align: top;\n",
       "    }\n",
       "\n",
       "    .dataframe thead th {\n",
       "        text-align: right;\n",
       "    }\n",
       "</style>\n",
       "<table border=\"1\" class=\"dataframe\">\n",
       "  <thead>\n",
       "    <tr style=\"text-align: right;\">\n",
       "      <th></th>\n",
       "      <th>count</th>\n",
       "      <th>mean</th>\n",
       "      <th>std</th>\n",
       "      <th>min</th>\n",
       "      <th>25%</th>\n",
       "      <th>50%</th>\n",
       "      <th>75%</th>\n",
       "      <th>max</th>\n",
       "    </tr>\n",
       "    <tr>\n",
       "      <th>physical_zip_code</th>\n",
       "      <th></th>\n",
       "      <th></th>\n",
       "      <th></th>\n",
       "      <th></th>\n",
       "      <th></th>\n",
       "      <th></th>\n",
       "      <th></th>\n",
       "      <th></th>\n",
       "    </tr>\n",
       "  </thead>\n",
       "  <tbody>\n",
       "    <tr>\n",
       "      <th>27571</th>\n",
       "      <td>2509.0</td>\n",
       "      <td>5.475418</td>\n",
       "      <td>0.169018</td>\n",
       "      <td>4.414973</td>\n",
       "      <td>5.381115</td>\n",
       "      <td>5.494155</td>\n",
       "      <td>5.588832</td>\n",
       "      <td>6.068260</td>\n",
       "    </tr>\n",
       "    <tr>\n",
       "      <th>27616</th>\n",
       "      <td>13687.0</td>\n",
       "      <td>5.289872</td>\n",
       "      <td>0.180437</td>\n",
       "      <td>4.439333</td>\n",
       "      <td>5.167317</td>\n",
       "      <td>5.298853</td>\n",
       "      <td>5.417886</td>\n",
       "      <td>5.960709</td>\n",
       "    </tr>\n",
       "    <tr>\n",
       "      <th>27519</th>\n",
       "      <td>15969.0</td>\n",
       "      <td>5.576290</td>\n",
       "      <td>0.181137</td>\n",
       "      <td>4.447158</td>\n",
       "      <td>5.462398</td>\n",
       "      <td>5.577492</td>\n",
       "      <td>5.703291</td>\n",
       "      <td>6.100715</td>\n",
       "    </tr>\n",
       "    <tr>\n",
       "      <th>27560</th>\n",
       "      <td>6770.0</td>\n",
       "      <td>5.441918</td>\n",
       "      <td>0.181471</td>\n",
       "      <td>4.477121</td>\n",
       "      <td>5.315970</td>\n",
       "      <td>5.462398</td>\n",
       "      <td>5.563481</td>\n",
       "      <td>6.096910</td>\n",
       "    </tr>\n",
       "    <tr>\n",
       "      <th>27523</th>\n",
       "      <td>4229.0</td>\n",
       "      <td>5.620688</td>\n",
       "      <td>0.196942</td>\n",
       "      <td>4.439333</td>\n",
       "      <td>5.495544</td>\n",
       "      <td>5.628900</td>\n",
       "      <td>5.750508</td>\n",
       "      <td>6.100543</td>\n",
       "    </tr>\n",
       "    <tr>\n",
       "      <th>27518</th>\n",
       "      <td>4746.0</td>\n",
       "      <td>5.556608</td>\n",
       "      <td>0.197872</td>\n",
       "      <td>4.414973</td>\n",
       "      <td>5.451786</td>\n",
       "      <td>5.571126</td>\n",
       "      <td>5.681241</td>\n",
       "      <td>6.101059</td>\n",
       "    </tr>\n",
       "    <tr>\n",
       "      <th>27502</th>\n",
       "      <td>13102.0</td>\n",
       "      <td>5.485631</td>\n",
       "      <td>0.199550</td>\n",
       "      <td>4.431364</td>\n",
       "      <td>5.361728</td>\n",
       "      <td>5.501059</td>\n",
       "      <td>5.621695</td>\n",
       "      <td>6.097084</td>\n",
       "    </tr>\n",
       "    <tr>\n",
       "      <th>27526</th>\n",
       "      <td>13961.0</td>\n",
       "      <td>5.402173</td>\n",
       "      <td>0.200404</td>\n",
       "      <td>4.414973</td>\n",
       "      <td>5.290035</td>\n",
       "      <td>5.427324</td>\n",
       "      <td>5.537819</td>\n",
       "      <td>6.079181</td>\n",
       "    </tr>\n",
       "    <tr>\n",
       "      <th>27540</th>\n",
       "      <td>12490.0</td>\n",
       "      <td>5.489878</td>\n",
       "      <td>0.203415</td>\n",
       "      <td>4.414973</td>\n",
       "      <td>5.352183</td>\n",
       "      <td>5.509203</td>\n",
       "      <td>5.633468</td>\n",
       "      <td>6.091667</td>\n",
       "    </tr>\n",
       "    <tr>\n",
       "      <th>27545</th>\n",
       "      <td>7450.0</td>\n",
       "      <td>5.279840</td>\n",
       "      <td>0.206308</td>\n",
       "      <td>4.414973</td>\n",
       "      <td>5.133539</td>\n",
       "      <td>5.293363</td>\n",
       "      <td>5.431364</td>\n",
       "      <td>6.000000</td>\n",
       "    </tr>\n",
       "    <tr>\n",
       "      <th>27617</th>\n",
       "      <td>4319.0</td>\n",
       "      <td>5.447428</td>\n",
       "      <td>0.207783</td>\n",
       "      <td>4.477121</td>\n",
       "      <td>5.311224</td>\n",
       "      <td>5.429752</td>\n",
       "      <td>5.579784</td>\n",
       "      <td>6.100371</td>\n",
       "    </tr>\n",
       "    <tr>\n",
       "      <th>27539</th>\n",
       "      <td>6473.0</td>\n",
       "      <td>5.515519</td>\n",
       "      <td>0.211816</td>\n",
       "      <td>4.414973</td>\n",
       "      <td>5.391817</td>\n",
       "      <td>5.547775</td>\n",
       "      <td>5.665581</td>\n",
       "      <td>6.079181</td>\n",
       "    </tr>\n",
       "    <tr>\n",
       "      <th>27610</th>\n",
       "      <td>15164.0</td>\n",
       "      <td>5.173862</td>\n",
       "      <td>0.219245</td>\n",
       "      <td>4.414973</td>\n",
       "      <td>5.064458</td>\n",
       "      <td>5.176091</td>\n",
       "      <td>5.298853</td>\n",
       "      <td>6.052694</td>\n",
       "    </tr>\n",
       "    <tr>\n",
       "      <th>27587</th>\n",
       "      <td>18380.0</td>\n",
       "      <td>5.480105</td>\n",
       "      <td>0.225353</td>\n",
       "      <td>4.411620</td>\n",
       "      <td>5.356981</td>\n",
       "      <td>5.505150</td>\n",
       "      <td>5.623249</td>\n",
       "      <td>6.099335</td>\n",
       "    </tr>\n",
       "    <tr>\n",
       "      <th>27613</th>\n",
       "      <td>10413.0</td>\n",
       "      <td>5.459262</td>\n",
       "      <td>0.229137</td>\n",
       "      <td>4.414973</td>\n",
       "      <td>5.305351</td>\n",
       "      <td>5.468347</td>\n",
       "      <td>5.612784</td>\n",
       "      <td>6.096910</td>\n",
       "    </tr>\n",
       "    <tr>\n",
       "      <th>27614</th>\n",
       "      <td>8881.0</td>\n",
       "      <td>5.531090</td>\n",
       "      <td>0.230543</td>\n",
       "      <td>4.462398</td>\n",
       "      <td>5.379306</td>\n",
       "      <td>5.544068</td>\n",
       "      <td>5.677151</td>\n",
       "      <td>6.096910</td>\n",
       "    </tr>\n",
       "    <tr>\n",
       "      <th>27604</th>\n",
       "      <td>10171.0</td>\n",
       "      <td>5.240518</td>\n",
       "      <td>0.230710</td>\n",
       "      <td>4.414973</td>\n",
       "      <td>5.107210</td>\n",
       "      <td>5.230449</td>\n",
       "      <td>5.380211</td>\n",
       "      <td>6.088136</td>\n",
       "    </tr>\n",
       "    <tr>\n",
       "      <th>27513</th>\n",
       "      <td>10252.0</td>\n",
       "      <td>5.443570</td>\n",
       "      <td>0.235914</td>\n",
       "      <td>4.414973</td>\n",
       "      <td>5.285557</td>\n",
       "      <td>5.452553</td>\n",
       "      <td>5.605305</td>\n",
       "      <td>6.096910</td>\n",
       "    </tr>\n",
       "    <tr>\n",
       "      <th>27529</th>\n",
       "      <td>7707.0</td>\n",
       "      <td>5.261152</td>\n",
       "      <td>0.244232</td>\n",
       "      <td>4.414973</td>\n",
       "      <td>5.108903</td>\n",
       "      <td>5.281033</td>\n",
       "      <td>5.444045</td>\n",
       "      <td>5.993436</td>\n",
       "    </tr>\n",
       "    <tr>\n",
       "      <th>27603</th>\n",
       "      <td>11161.0</td>\n",
       "      <td>5.323763</td>\n",
       "      <td>0.244261</td>\n",
       "      <td>4.414973</td>\n",
       "      <td>5.173186</td>\n",
       "      <td>5.337459</td>\n",
       "      <td>5.493458</td>\n",
       "      <td>6.096910</td>\n",
       "    </tr>\n",
       "    <tr>\n",
       "      <th>27597</th>\n",
       "      <td>3586.0</td>\n",
       "      <td>5.277010</td>\n",
       "      <td>0.245117</td>\n",
       "      <td>4.414973</td>\n",
       "      <td>5.136721</td>\n",
       "      <td>5.342423</td>\n",
       "      <td>5.435367</td>\n",
       "      <td>6.088136</td>\n",
       "    </tr>\n",
       "    <tr>\n",
       "      <th>27591</th>\n",
       "      <td>4637.0</td>\n",
       "      <td>5.276343</td>\n",
       "      <td>0.250414</td>\n",
       "      <td>4.414973</td>\n",
       "      <td>5.107210</td>\n",
       "      <td>5.326336</td>\n",
       "      <td>5.454845</td>\n",
       "      <td>5.972666</td>\n",
       "    </tr>\n",
       "    <tr>\n",
       "      <th>27511</th>\n",
       "      <td>7239.0</td>\n",
       "      <td>5.337870</td>\n",
       "      <td>0.257293</td>\n",
       "      <td>4.414973</td>\n",
       "      <td>5.183270</td>\n",
       "      <td>5.342423</td>\n",
       "      <td>5.502427</td>\n",
       "      <td>6.096910</td>\n",
       "    </tr>\n",
       "    <tr>\n",
       "      <th>27612</th>\n",
       "      <td>8361.0</td>\n",
       "      <td>5.442890</td>\n",
       "      <td>0.259015</td>\n",
       "      <td>4.414973</td>\n",
       "      <td>5.287802</td>\n",
       "      <td>5.445604</td>\n",
       "      <td>5.615950</td>\n",
       "      <td>6.078819</td>\n",
       "    </tr>\n",
       "    <tr>\n",
       "      <th>27615</th>\n",
       "      <td>10705.0</td>\n",
       "      <td>5.416389</td>\n",
       "      <td>0.264154</td>\n",
       "      <td>4.431364</td>\n",
       "      <td>5.239299</td>\n",
       "      <td>5.423246</td>\n",
       "      <td>5.610128</td>\n",
       "      <td>6.100371</td>\n",
       "    </tr>\n",
       "    <tr>\n",
       "      <th>27607</th>\n",
       "      <td>3501.0</td>\n",
       "      <td>5.504589</td>\n",
       "      <td>0.295086</td>\n",
       "      <td>4.414973</td>\n",
       "      <td>5.352183</td>\n",
       "      <td>5.518514</td>\n",
       "      <td>5.698101</td>\n",
       "      <td>6.098644</td>\n",
       "    </tr>\n",
       "    <tr>\n",
       "      <th>27608</th>\n",
       "      <td>2925.0</td>\n",
       "      <td>5.616501</td>\n",
       "      <td>0.298692</td>\n",
       "      <td>4.439333</td>\n",
       "      <td>5.454845</td>\n",
       "      <td>5.665112</td>\n",
       "      <td>5.837904</td>\n",
       "      <td>6.099335</td>\n",
       "    </tr>\n",
       "    <tr>\n",
       "      <th>27606</th>\n",
       "      <td>7094.0</td>\n",
       "      <td>5.313389</td>\n",
       "      <td>0.302298</td>\n",
       "      <td>4.423246</td>\n",
       "      <td>5.100371</td>\n",
       "      <td>5.322219</td>\n",
       "      <td>5.531479</td>\n",
       "      <td>6.090012</td>\n",
       "    </tr>\n",
       "    <tr>\n",
       "      <th>27605</th>\n",
       "      <td>1305.0</td>\n",
       "      <td>5.405193</td>\n",
       "      <td>0.312869</td>\n",
       "      <td>4.414973</td>\n",
       "      <td>5.225309</td>\n",
       "      <td>5.385606</td>\n",
       "      <td>5.602060</td>\n",
       "      <td>6.096910</td>\n",
       "    </tr>\n",
       "    <tr>\n",
       "      <th>27609</th>\n",
       "      <td>6641.0</td>\n",
       "      <td>5.368955</td>\n",
       "      <td>0.317593</td>\n",
       "      <td>4.414973</td>\n",
       "      <td>5.161368</td>\n",
       "      <td>5.361728</td>\n",
       "      <td>5.596597</td>\n",
       "      <td>6.099335</td>\n",
       "    </tr>\n",
       "    <tr>\n",
       "      <th>27601</th>\n",
       "      <td>1280.0</td>\n",
       "      <td>5.395001</td>\n",
       "      <td>0.354149</td>\n",
       "      <td>4.414973</td>\n",
       "      <td>5.207836</td>\n",
       "      <td>5.477844</td>\n",
       "      <td>5.653213</td>\n",
       "      <td>6.088136</td>\n",
       "    </tr>\n",
       "  </tbody>\n",
       "</table>\n",
       "</div>"
      ],
      "text/plain": [
       "                     count      mean       std       min       25%       50%  \\\n",
       "physical_zip_code                                                              \n",
       "27571               2509.0  5.475418  0.169018  4.414973  5.381115  5.494155   \n",
       "27616              13687.0  5.289872  0.180437  4.439333  5.167317  5.298853   \n",
       "27519              15969.0  5.576290  0.181137  4.447158  5.462398  5.577492   \n",
       "27560               6770.0  5.441918  0.181471  4.477121  5.315970  5.462398   \n",
       "27523               4229.0  5.620688  0.196942  4.439333  5.495544  5.628900   \n",
       "27518               4746.0  5.556608  0.197872  4.414973  5.451786  5.571126   \n",
       "27502              13102.0  5.485631  0.199550  4.431364  5.361728  5.501059   \n",
       "27526              13961.0  5.402173  0.200404  4.414973  5.290035  5.427324   \n",
       "27540              12490.0  5.489878  0.203415  4.414973  5.352183  5.509203   \n",
       "27545               7450.0  5.279840  0.206308  4.414973  5.133539  5.293363   \n",
       "27617               4319.0  5.447428  0.207783  4.477121  5.311224  5.429752   \n",
       "27539               6473.0  5.515519  0.211816  4.414973  5.391817  5.547775   \n",
       "27610              15164.0  5.173862  0.219245  4.414973  5.064458  5.176091   \n",
       "27587              18380.0  5.480105  0.225353  4.411620  5.356981  5.505150   \n",
       "27613              10413.0  5.459262  0.229137  4.414973  5.305351  5.468347   \n",
       "27614               8881.0  5.531090  0.230543  4.462398  5.379306  5.544068   \n",
       "27604              10171.0  5.240518  0.230710  4.414973  5.107210  5.230449   \n",
       "27513              10252.0  5.443570  0.235914  4.414973  5.285557  5.452553   \n",
       "27529               7707.0  5.261152  0.244232  4.414973  5.108903  5.281033   \n",
       "27603              11161.0  5.323763  0.244261  4.414973  5.173186  5.337459   \n",
       "27597               3586.0  5.277010  0.245117  4.414973  5.136721  5.342423   \n",
       "27591               4637.0  5.276343  0.250414  4.414973  5.107210  5.326336   \n",
       "27511               7239.0  5.337870  0.257293  4.414973  5.183270  5.342423   \n",
       "27612               8361.0  5.442890  0.259015  4.414973  5.287802  5.445604   \n",
       "27615              10705.0  5.416389  0.264154  4.431364  5.239299  5.423246   \n",
       "27607               3501.0  5.504589  0.295086  4.414973  5.352183  5.518514   \n",
       "27608               2925.0  5.616501  0.298692  4.439333  5.454845  5.665112   \n",
       "27606               7094.0  5.313389  0.302298  4.423246  5.100371  5.322219   \n",
       "27605               1305.0  5.405193  0.312869  4.414973  5.225309  5.385606   \n",
       "27609               6641.0  5.368955  0.317593  4.414973  5.161368  5.361728   \n",
       "27601               1280.0  5.395001  0.354149  4.414973  5.207836  5.477844   \n",
       "\n",
       "                        75%       max  \n",
       "physical_zip_code                      \n",
       "27571              5.588832  6.068260  \n",
       "27616              5.417886  5.960709  \n",
       "27519              5.703291  6.100715  \n",
       "27560              5.563481  6.096910  \n",
       "27523              5.750508  6.100543  \n",
       "27518              5.681241  6.101059  \n",
       "27502              5.621695  6.097084  \n",
       "27526              5.537819  6.079181  \n",
       "27540              5.633468  6.091667  \n",
       "27545              5.431364  6.000000  \n",
       "27617              5.579784  6.100371  \n",
       "27539              5.665581  6.079181  \n",
       "27610              5.298853  6.052694  \n",
       "27587              5.623249  6.099335  \n",
       "27613              5.612784  6.096910  \n",
       "27614              5.677151  6.096910  \n",
       "27604              5.380211  6.088136  \n",
       "27513              5.605305  6.096910  \n",
       "27529              5.444045  5.993436  \n",
       "27603              5.493458  6.096910  \n",
       "27597              5.435367  6.088136  \n",
       "27591              5.454845  5.972666  \n",
       "27511              5.502427  6.096910  \n",
       "27612              5.615950  6.078819  \n",
       "27615              5.610128  6.100371  \n",
       "27607              5.698101  6.098644  \n",
       "27608              5.837904  6.099335  \n",
       "27606              5.531479  6.090012  \n",
       "27605              5.602060  6.096910  \n",
       "27609              5.596597  6.099335  \n",
       "27601              5.653213  6.088136  "
      ]
     },
     "execution_count": 53,
     "metadata": {},
     "output_type": "execute_result"
    }
   ],
   "source": [
    "# use 27587 as base case\n",
    "house_df.groupby(\"physical_zip_code\")[\"log_px\"].describe().sort_values(\"std\")"
   ]
  },
  {
   "cell_type": "code",
   "execution_count": 54,
   "id": "known-evanescence",
   "metadata": {
    "scrolled": true
   },
   "outputs": [
    {
     "name": "stdout",
     "output_type": "stream",
     "text": [
      "raleigh          115608\n",
      "cary              38207\n",
      "apex              23803\n",
      "wake forest       18380\n",
      "fuquay varina     13961\n",
      "holly springs     12490\n",
      "garner             7707\n",
      "knightdale         7450\n",
      "morrisville        6770\n",
      "wendell            4637\n",
      "zebulon            3586\n",
      "rolesville         2509\n",
      "Name: physical_city, dtype: int64\n"
     ]
    }
   ],
   "source": [
    "print(house_df[\"physical_city\"].value_counts())"
   ]
  },
  {
   "cell_type": "code",
   "execution_count": 140,
   "id": "inclusive-hostel",
   "metadata": {},
   "outputs": [
    {
     "data": {
      "text/plain": [
       "296307.28430171404"
      ]
     },
     "execution_count": 140,
     "metadata": {},
     "output_type": "execute_result"
    }
   ],
   "source": [
    "house_df[(house_df['total_sale_price']<1000000)]['total_sale_price'].mean()"
   ]
  },
  {
   "cell_type": "markdown",
   "id": "direct-rwanda",
   "metadata": {},
   "source": [
    "## Regression"
   ]
  },
  {
   "cell_type": "code",
   "execution_count": 55,
   "id": "public-conditions",
   "metadata": {},
   "outputs": [
    {
     "data": {
      "text/plain": [
       "Index(['deed_date', 'land_sale_price', 'total_sale_price',\n",
       "       'assessed_building_value', 'story_height', 'heated_area', 'bath',\n",
       "       'bath_fixtures', 'physical_zip_code', 'physical_city', 'street_number',\n",
       "       'street_name', 'street_type', 'planning_jurisdiction', 'address',\n",
       "       'mort_rate', 'unemploy_rate', 'pop_growth_rate', 'covid_cases',\n",
       "       'lumber_price', 'metals_price', 'build_price', 'int_rate', 'supply',\n",
       "       'demand', 'wake_supply_index', 'wake_demand_index', 'year', 'crime',\n",
       "       'electric', 'gas', 'water', 'sewer', 'all', 'is_covid', 'log_px',\n",
       "       'bath_unknown'],\n",
       "      dtype='object')"
      ]
     },
     "execution_count": 55,
     "metadata": {},
     "output_type": "execute_result"
    }
   ],
   "source": [
    "house_df.columns"
   ]
  },
  {
   "cell_type": "code",
   "execution_count": 108,
   "id": "northern-secondary",
   "metadata": {
    "scrolled": false
   },
   "outputs": [],
   "source": [
    "# import statsmodels.api as sm\n",
    "# yvar = \"log_px\"\n",
    "\n",
    "# intercept = [\"I\"]\n",
    "# macro = [\"mort_rate\", \"lumber_price\"]\n",
    "\n",
    "# xvars = intercept + macro\n",
    "# reg_df = house_df.copy()\n",
    "# reg_df[\"I\"] = 1\n",
    "# reg_df = reg_df[(reg_df[[yvar]+xvars].notnull().all(axis=1))]\n",
    "\n",
    "# model = sm.OLS(reg_df[yvar], reg_df[xvars]).fit()\n",
    "# print(model.summary())"
   ]
  },
  {
   "cell_type": "code",
   "execution_count": 109,
   "id": "geographic-resource",
   "metadata": {},
   "outputs": [],
   "source": [
    "# import statsmodels.api as sm\n",
    "# yvar = \"log_px\"\n",
    "\n",
    "# reg_df = house_df.copy()\n",
    "\n",
    "# intercept = [\"I\"]\n",
    "# macro = [\"mort_rate\", \"lumber_price\"]\n",
    "# #### story\n",
    "# # base case is story==2, each of below variable represents difference to story==2\n",
    "# story = [\"I_story1\", \"I_story1-2\", \"I_story_other\"]\n",
    "\n",
    "# reg_df[\"I_story1\"] = 0\n",
    "# reg_df.loc[(reg_df[\"story_height\"] == 1), \"I_story1\"] = 1\n",
    "\n",
    "# reg_df[\"I_story1-2\"] = 0\n",
    "# reg_df.loc[(reg_df[\"story_height\"] > 1) &\n",
    "#            (reg_df[\"story_height\"] < 2), \"I_story1-2\"] = 1\n",
    "\n",
    "# reg_df[\"I_story_other\"] = 0\n",
    "# reg_df.loc[(reg_df[\"story_height\"] > 2), \"I_story_other\"] = 1\n",
    "\n",
    "# #### regression\n",
    "# xvars = intercept + macro + story \n",
    "\n",
    "# reg_df[\"I\"] = 1\n",
    "# reg_df = reg_df[(reg_df[[yvar]+xvars].notnull().all(axis=1))]\n",
    "\n",
    "# model = sm.OLS(reg_df[yvar], reg_df[xvars]).fit()\n",
    "# print(model.summary())"
   ]
  },
  {
   "cell_type": "code",
   "execution_count": 146,
   "id": "compressed-tomato",
   "metadata": {
    "scrolled": false
   },
   "outputs": [
    {
     "name": "stderr",
     "output_type": "stream",
     "text": [
      "<ipython-input-146-83a9ce591e75>:74: SettingWithCopyWarning: \n",
      "A value is trying to be set on a copy of a slice from a DataFrame.\n",
      "Try using .loc[row_indexer,col_indexer] = value instead\n",
      "\n",
      "See the caveats in the documentation: https://pandas.pydata.org/pandas-docs/stable/user_guide/indexing.html#returning-a-view-versus-a-copy\n",
      "  X_train[\"log_heated_area0\"] = X_train[\"log_heated_area\"] - X_train[\"log_heated_area\"].mean()\n",
      "<ipython-input-146-83a9ce591e75>:75: SettingWithCopyWarning: \n",
      "A value is trying to be set on a copy of a slice from a DataFrame.\n",
      "Try using .loc[row_indexer,col_indexer] = value instead\n",
      "\n",
      "See the caveats in the documentation: https://pandas.pydata.org/pandas-docs/stable/user_guide/indexing.html#returning-a-view-versus-a-copy\n",
      "  X_train[\"mort_rate0\"] = X_train[\"mort_rate\"] - X_train[\"mort_rate\"].mean()\n",
      "<ipython-input-146-83a9ce591e75>:76: SettingWithCopyWarning: \n",
      "A value is trying to be set on a copy of a slice from a DataFrame.\n",
      "Try using .loc[row_indexer,col_indexer] = value instead\n",
      "\n",
      "See the caveats in the documentation: https://pandas.pydata.org/pandas-docs/stable/user_guide/indexing.html#returning-a-view-versus-a-copy\n",
      "  X_train[\"bath0\"] = X_train[\"bath\"] - 2\n",
      "<ipython-input-146-83a9ce591e75>:77: SettingWithCopyWarning: \n",
      "A value is trying to be set on a copy of a slice from a DataFrame.\n",
      "Try using .loc[row_indexer,col_indexer] = value instead\n",
      "\n",
      "See the caveats in the documentation: https://pandas.pydata.org/pandas-docs/stable/user_guide/indexing.html#returning-a-view-versus-a-copy\n",
      "  X_train[\"bath0_covid\"] = X_train[\"bath0\"] * X_train[\"is_covid\"]\n",
      "<ipython-input-146-83a9ce591e75>:78: SettingWithCopyWarning: \n",
      "A value is trying to be set on a copy of a slice from a DataFrame.\n",
      "Try using .loc[row_indexer,col_indexer] = value instead\n",
      "\n",
      "See the caveats in the documentation: https://pandas.pydata.org/pandas-docs/stable/user_guide/indexing.html#returning-a-view-versus-a-copy\n",
      "  X_train[\"lumber_price0\"] = X_train[\"lumber_price\"] - X_train[\"lumber_price\"].mean()\n",
      "<ipython-input-146-83a9ce591e75>:79: SettingWithCopyWarning: \n",
      "A value is trying to be set on a copy of a slice from a DataFrame.\n",
      "Try using .loc[row_indexer,col_indexer] = value instead\n",
      "\n",
      "See the caveats in the documentation: https://pandas.pydata.org/pandas-docs/stable/user_guide/indexing.html#returning-a-view-versus-a-copy\n",
      "  X_train[\"metals_price0\"] = X_train[\"metals_price\"] - X_train[\"metals_price\"].mean()\n",
      "<ipython-input-146-83a9ce591e75>:81: SettingWithCopyWarning: \n",
      "A value is trying to be set on a copy of a slice from a DataFrame.\n",
      "Try using .loc[row_indexer,col_indexer] = value instead\n",
      "\n",
      "See the caveats in the documentation: https://pandas.pydata.org/pandas-docs/stable/user_guide/indexing.html#returning-a-view-versus-a-copy\n",
      "  X_test[\"log_heated_area0\"] = X_test[\"log_heated_area\"] - X_train[\"log_heated_area\"].mean()\n",
      "<ipython-input-146-83a9ce591e75>:82: SettingWithCopyWarning: \n",
      "A value is trying to be set on a copy of a slice from a DataFrame.\n",
      "Try using .loc[row_indexer,col_indexer] = value instead\n",
      "\n",
      "See the caveats in the documentation: https://pandas.pydata.org/pandas-docs/stable/user_guide/indexing.html#returning-a-view-versus-a-copy\n",
      "  X_test[\"mort_rate0\"] = X_test[\"mort_rate\"] - X_train[\"mort_rate\"].mean()\n",
      "<ipython-input-146-83a9ce591e75>:83: SettingWithCopyWarning: \n",
      "A value is trying to be set on a copy of a slice from a DataFrame.\n",
      "Try using .loc[row_indexer,col_indexer] = value instead\n",
      "\n",
      "See the caveats in the documentation: https://pandas.pydata.org/pandas-docs/stable/user_guide/indexing.html#returning-a-view-versus-a-copy\n",
      "  X_test[\"bath0\"] = X_test[\"bath\"] - 2\n",
      "<ipython-input-146-83a9ce591e75>:84: SettingWithCopyWarning: \n",
      "A value is trying to be set on a copy of a slice from a DataFrame.\n",
      "Try using .loc[row_indexer,col_indexer] = value instead\n",
      "\n",
      "See the caveats in the documentation: https://pandas.pydata.org/pandas-docs/stable/user_guide/indexing.html#returning-a-view-versus-a-copy\n",
      "  X_test[\"bath0_covid\"] = X_test[\"bath0\"] * X_test[\"is_covid\"]\n",
      "<ipython-input-146-83a9ce591e75>:85: SettingWithCopyWarning: \n",
      "A value is trying to be set on a copy of a slice from a DataFrame.\n",
      "Try using .loc[row_indexer,col_indexer] = value instead\n",
      "\n",
      "See the caveats in the documentation: https://pandas.pydata.org/pandas-docs/stable/user_guide/indexing.html#returning-a-view-versus-a-copy\n",
      "  X_test[\"lumber_price0\"] = X_test[\"lumber_price\"] - X_train[\"lumber_price\"].mean()\n",
      "<ipython-input-146-83a9ce591e75>:86: SettingWithCopyWarning: \n",
      "A value is trying to be set on a copy of a slice from a DataFrame.\n",
      "Try using .loc[row_indexer,col_indexer] = value instead\n",
      "\n",
      "See the caveats in the documentation: https://pandas.pydata.org/pandas-docs/stable/user_guide/indexing.html#returning-a-view-versus-a-copy\n",
      "  X_test[\"metals_price0\"] = X_test[\"metals_price\"] - X_train[\"metals_price\"].mean()\n",
      "<ipython-input-146-83a9ce591e75>:89: SettingWithCopyWarning: \n",
      "A value is trying to be set on a copy of a slice from a DataFrame.\n",
      "Try using .loc[row_indexer,col_indexer] = value instead\n",
      "\n",
      "See the caveats in the documentation: https://pandas.pydata.org/pandas-docs/stable/user_guide/indexing.html#returning-a-view-versus-a-copy\n",
      "  X_train[\"log_heated_area0_covid\"] = X_train[\"is_covid\"] * X_train[\"log_heated_area0\"]\n",
      "<ipython-input-146-83a9ce591e75>:90: SettingWithCopyWarning: \n",
      "A value is trying to be set on a copy of a slice from a DataFrame.\n",
      "Try using .loc[row_indexer,col_indexer] = value instead\n",
      "\n",
      "See the caveats in the documentation: https://pandas.pydata.org/pandas-docs/stable/user_guide/indexing.html#returning-a-view-versus-a-copy\n",
      "  X_test[\"log_heated_area0_covid\"] = X_test[\"is_covid\"] * X_test[\"log_heated_area0\"]\n"
     ]
    },
    {
     "name": "stdout",
     "output_type": "stream",
     "text": [
      "                            OLS Regression Results                            \n",
      "==============================================================================\n",
      "Dep. Variable:                 log_px   R-squared:                       0.698\n",
      "Model:                            OLS   Adj. R-squared:                  0.698\n",
      "Method:                 Least Squares   F-statistic:                     6135.\n",
      "Date:                Mon, 10 Oct 2022   Prob (F-statistic):               0.00\n",
      "Time:                        12:22:56   Log-Likelihood:             1.1050e+05\n",
      "No. Observations:              204086   AIC:                        -2.208e+05\n",
      "Df Residuals:                  204008   BIC:                        -2.200e+05\n",
      "Df Model:                          77                                         \n",
      "Covariance Type:            nonrobust                                         \n",
      "==========================================================================================\n",
      "                             coef    std err          t      P>|t|      [0.025      0.975]\n",
      "------------------------------------------------------------------------------------------\n",
      "I                          5.2110      0.001   4610.607      0.000       5.209       5.213\n",
      "mort_rate0                -0.0204      0.000    -59.538      0.000      -0.021      -0.020\n",
      "lumber_price0              0.0003   9.54e-06     34.553      0.000       0.000       0.000\n",
      "metals_price0              0.0002   6.82e-06     36.613      0.000       0.000       0.000\n",
      "I_story1                   0.0236      0.001     24.638      0.000       0.022       0.025\n",
      "I_story1-2                 0.0329      0.001     35.715      0.000       0.031       0.035\n",
      "I_story_other             -0.0923      0.005    -17.013      0.000      -0.103      -0.082\n",
      "bath0                      0.0438      0.001     54.187      0.000       0.042       0.045\n",
      "gas                        0.0173      0.002     11.259      0.000       0.014       0.020\n",
      "sewer                     -0.0189      0.002    -11.630      0.000      -0.022      -0.016\n",
      "crime                  -6.882e-06   7.41e-07     -9.288      0.000   -8.33e-06   -5.43e-06\n",
      "log_heated_area0           0.9138      0.003    303.284      0.000       0.908       0.920\n",
      "bath0_covid               -0.0170      0.002     -9.744      0.000      -0.020      -0.014\n",
      "log_heated_area0_covid    -0.0904      0.007    -13.748      0.000      -0.103      -0.077\n",
      "I_story1_covid             0.0157      0.002      7.592      0.000       0.012       0.020\n",
      "I_story1-2_covid          -0.0060      0.002     -3.052      0.002      -0.010      -0.002\n",
      "I_story_other_covid        0.0264      0.011      2.447      0.014       0.005       0.047\n",
      "is_covid                   0.0613      0.002     31.304      0.000       0.057       0.065\n",
      "I_zip27604                 0.1210      0.002     64.261      0.000       0.117       0.125\n",
      "I_zip27607                 0.2397      0.003     81.593      0.000       0.234       0.245\n",
      "I_zip27609                 0.1461      0.002     65.618      0.000       0.142       0.150\n",
      "I_zip27615                 0.1720      0.002     96.517      0.000       0.168       0.175\n",
      "I_zip27603                 0.1393      0.002     78.073      0.000       0.136       0.143\n",
      "I_zip27608                 0.3488      0.003    108.023      0.000       0.342       0.355\n",
      "I_zip27587                 0.1490      0.001    102.402      0.000       0.146       0.152\n",
      "I_zip27511                 0.1353      0.002     64.269      0.000       0.131       0.139\n",
      "I_zip27610                 0.0475      0.002     30.426      0.000       0.044       0.051\n",
      "I_zip27597                 0.0658      0.003     20.690      0.000       0.060       0.072\n",
      "I_zip27612                 0.1921      0.002     97.372      0.000       0.188       0.196\n",
      "I_zip27591                 0.0833      0.003     30.585      0.000       0.078       0.089\n",
      "I_zip27613                 0.1880      0.002    104.529      0.000       0.185       0.192\n",
      "I_zip27605                 0.3741      0.005     77.634      0.000       0.365       0.384\n",
      "I_zip27513                 0.1874      0.002    104.795      0.000       0.184       0.191\n",
      "I_zip27529                 0.0656      0.002     31.577      0.000       0.062       0.070\n",
      "I_zip27601                 0.2686      0.005     53.083      0.000       0.259       0.279\n",
      "I_zip27526                 0.1247      0.002     74.980      0.000       0.121       0.128\n",
      "I_zip27502                 0.1882      0.002    112.824      0.000       0.185       0.191\n",
      "I_zip27545                 0.0826      0.002     39.343      0.000       0.079       0.087\n",
      "I_zip27539                 0.1727      0.002     76.704      0.000       0.168       0.177\n",
      "I_zip27606                 0.1308      0.002     60.343      0.000       0.127       0.135\n",
      "I_zip27616                 0.1020      0.002     62.888      0.000       0.099       0.105\n",
      "I_zip27614                 0.1861      0.002     96.271      0.000       0.182       0.190\n",
      "I_zip27571                 0.1220      0.004     34.278      0.000       0.115       0.129\n",
      "I_zip27523                 0.2201      0.003     74.970      0.000       0.214       0.226\n",
      "I_zip27540                 0.1629      0.002     94.314      0.000       0.160       0.166\n",
      "I_zip27519                 0.2087      0.002    138.839      0.000       0.206       0.212\n",
      "I_zip27518                 0.1927      0.003     75.695      0.000       0.188       0.198\n",
      "I_zip27617                 0.2148      0.003     79.691      0.000       0.210       0.220\n",
      "I_zip27560                 0.1790      0.002     83.240      0.000       0.175       0.183\n",
      "I_zip27604_covid           0.0039      0.004      1.027      0.305      -0.004       0.011\n",
      "I_zip27607_covid           0.0056      0.007      0.834      0.404      -0.008       0.019\n",
      "I_zip27609_covid           0.0165      0.005      3.413      0.001       0.007       0.026\n",
      "I_zip27615_covid           0.0119      0.004      3.091      0.002       0.004       0.019\n",
      "I_zip27603_covid           0.0112      0.004      3.076      0.002       0.004       0.018\n",
      "I_zip27608_covid           0.0255      0.007      3.580      0.000       0.012       0.039\n",
      "I_zip27587_covid          -0.0108      0.003     -3.784      0.000      -0.016      -0.005\n",
      "I_zip27511_covid           0.0271      0.005      5.740      0.000       0.018       0.036\n",
      "I_zip27610_covid           0.0455      0.003     13.367      0.000       0.039       0.052\n",
      "I_zip27597_covid          -0.0089      0.006     -1.591      0.112      -0.020       0.002\n",
      "I_zip27612_covid          -0.0096      0.004     -2.215      0.027      -0.018      -0.001\n",
      "I_zip27591_covid           0.0248      0.005      4.826      0.000       0.015       0.035\n",
      "I_zip27613_covid          -0.0127      0.004     -3.182      0.001      -0.021      -0.005\n",
      "I_zip27605_covid          -0.0046      0.010     -0.447      0.655      -0.025       0.016\n",
      "I_zip27513_covid          -0.0179      0.004     -4.459      0.000      -0.026      -0.010\n",
      "I_zip27529_covid           0.0118      0.004      2.722      0.006       0.003       0.020\n",
      "I_zip27601_covid           0.1261      0.010     12.962      0.000       0.107       0.145\n",
      "I_zip27526_covid          -0.0061      0.003     -2.029      0.043      -0.012      -0.000\n",
      "I_zip27502_covid          -0.0113      0.003     -3.442      0.001      -0.018      -0.005\n",
      "I_zip27545_covid          -0.0117      0.004     -2.595      0.009      -0.020      -0.003\n",
      "I_zip27539_covid          -0.0087      0.005     -1.820      0.069      -0.018       0.001\n",
      "I_zip27606_covid           0.0111      0.005      2.416      0.016       0.002       0.020\n",
      "I_zip27616_covid          -0.0014      0.003     -0.418      0.676      -0.008       0.005\n",
      "I_zip27614_covid          -0.0292      0.004     -6.607      0.000      -0.038      -0.021\n",
      "I_zip27571_covid          -0.0026      0.007     -0.354      0.724      -0.017       0.012\n",
      "I_zip27523_covid          -0.0189      0.005     -3.695      0.000      -0.029      -0.009\n",
      "I_zip27540_covid          -0.0068      0.003     -2.076      0.038      -0.013      -0.000\n",
      "I_zip27519_covid          -0.0148      0.003     -4.520      0.000      -0.021      -0.008\n",
      "I_zip27518_covid          -0.0132      0.006     -2.244      0.025      -0.025      -0.002\n",
      "I_zip27617_covid          -0.0501      0.006     -8.422      0.000      -0.062      -0.038\n",
      "I_zip27560_covid          -0.0203      0.005     -4.009      0.000      -0.030      -0.010\n",
      "==============================================================================\n",
      "Omnibus:                    77549.859   Durbin-Watson:                   1.997\n",
      "Prob(Omnibus):                  0.000   Jarque-Bera (JB):           837291.728\n",
      "Skew:                          -1.523   Prob(JB):                         0.00\n",
      "Kurtosis:                      12.444   Cond. No.                     1.10e+19\n",
      "==============================================================================\n",
      "\n",
      "Notes:\n",
      "[1] Standard Errors assume that the covariance matrix of the errors is correctly specified.\n",
      "[2] The smallest eigenvalue is 1.72e-27. This might indicate that there are\n",
      "strong multicollinearity problems or that the design matrix is singular.\n"
     ]
    }
   ],
   "source": [
    "#from statistics import LinearRegression\n",
    "import statsmodels.api as sm\n",
    "yvar = \"log_px\"\n",
    "\n",
    "reg_df = house_df.copy()\n",
    "\n",
    "intercept = [\"I\"]\n",
    "macro = [\"mort_rate\", \"lumber_price\", \"metals_price\"]\n",
    "#### story\n",
    "# base case is story==2, each of below variable represents difference to story==2\n",
    "story = [\"I_story1\", \"I_story1-2\", \"I_story_other\"]\n",
    "\n",
    "reg_df[\"is_covid\"] = 0\n",
    "reg_df.loc[reg_df[\"covid_cases\"] > 0, \"is_covid\"] = 1\n",
    "\n",
    "reg_df[\"I_story1\"] = 0\n",
    "reg_df.loc[(reg_df[\"story_height\"] == 1), \"I_story1\"] = 1\n",
    "\n",
    "reg_df[\"I_story1-2\"] = 0\n",
    "reg_df.loc[(reg_df[\"story_height\"] > 1) &\n",
    "           (reg_df[\"story_height\"] < 2), \"I_story1-2\"] = 1\n",
    "\n",
    "reg_df[\"I_story_other\"] = 0\n",
    "reg_df.loc[(reg_df[\"story_height\"] > 2), \"I_story_other\"] = 1\n",
    "\n",
    "#### bath\n",
    "bath = [\"I_bath_unknown\", \"bath\"]\n",
    "reg_df[\"I_bath_unknown\"] = 0\n",
    "reg_df.loc[(reg_df[\"bath\"] == 0), \"I_bath_unknown\"] = 1\n",
    "\n",
    "#### heated area\n",
    "reg_df[\"log_heated_area\"] = np.log10(reg_df[\"heated_area\"])\n",
    "\n",
    "\n",
    "#### zip 27587 has the most number of the observations. so we set it as a benchmark.\n",
    "all_zips = reg_df[\"physical_zip_code\"].unique().tolist()\n",
    "zip_vars = []\n",
    "for z in all_zips:\n",
    "    zip_var = f\"I_zip{z}\"\n",
    "    zip_vars.append(zip_var)\n",
    "    reg_df[zip_var] = 0\n",
    "    reg_df.loc[(reg_df[\"physical_zip_code\"] == z), zip_var] = 1\n",
    "    \n",
    "#### zip interaction with covid\n",
    "zip_covid = []\n",
    "for z in zip_vars:\n",
    "    col = z + \"_covid\"\n",
    "    zip_covid.append(col)\n",
    "    reg_df[col] = reg_df[z] * reg_df[\"is_covid\"]\n",
    "    \n",
    "zip_vars = [z for z in zip_vars if z != \"I_27587\"]\n",
    "    \n",
    "#### bath interaction with covid\n",
    "#### The relative impact of covid to each zip code relative to 27587\n",
    "reg_df[\"bath_covid\"] = reg_df[\"bath\"] * reg_df[\"is_covid\"]\n",
    "reg_df[\"I_story1_covid\"] = reg_df[\"I_story1\"] * reg_df[\"is_covid\"]\n",
    "reg_df[\"I_story1-2_covid\"] = reg_df[\"I_story1-2\"] * reg_df[\"is_covid\"]\n",
    "reg_df[\"I_story_other_covid\"] = reg_df[\"I_story_other\"] * reg_df[\"is_covid\"]\n",
    "\n",
    "\n",
    "#### regression\n",
    "potential_xvars = intercept + macro + story + bath + ['gas', 'sewer', 'crime', 'log_heated_area'] +\\\n",
    "    [\"bath_covid\",\"I_story1_covid\",\"I_story1-2_covid\",\"I_story_other_covid\"]+\\\n",
    "    ['is_covid'] + zip_vars + zip_covid\n",
    "\n",
    "reg_df[\"I\"] = 1\n",
    "reg_df = reg_df[(reg_df[[yvar]+potential_xvars].notnull().all(axis=1))]\n",
    "\n",
    "X, y = reg_df[potential_xvars], reg_df[yvar]\n",
    "from sklearn.model_selection import train_test_split\n",
    "X_train, X_test, y_train, y_test = train_test_split(X, y, test_size=0.2, random_state=42)\n",
    "\n",
    "## Demeaning\n",
    "X_train[\"log_heated_area0\"] = X_train[\"log_heated_area\"] - X_train[\"log_heated_area\"].mean()\n",
    "X_train[\"mort_rate0\"] = X_train[\"mort_rate\"] - X_train[\"mort_rate\"].mean()\n",
    "X_train[\"bath0\"] = X_train[\"bath\"] - 2\n",
    "X_train[\"bath0_covid\"] = X_train[\"bath0\"] * X_train[\"is_covid\"]\n",
    "X_train[\"lumber_price0\"] = X_train[\"lumber_price\"] - X_train[\"lumber_price\"].mean()\n",
    "X_train[\"metals_price0\"] = X_train[\"metals_price\"] - X_train[\"metals_price\"].mean()\n",
    "\n",
    "X_test[\"log_heated_area0\"] = X_test[\"log_heated_area\"] - X_train[\"log_heated_area\"].mean()\n",
    "X_test[\"mort_rate0\"] = X_test[\"mort_rate\"] - X_train[\"mort_rate\"].mean()\n",
    "X_test[\"bath0\"] = X_test[\"bath\"] - 2\n",
    "X_test[\"bath0_covid\"] = X_test[\"bath0\"] * X_test[\"is_covid\"]\n",
    "X_test[\"lumber_price0\"] = X_test[\"lumber_price\"] - X_train[\"lumber_price\"].mean()\n",
    "X_test[\"metals_price0\"] = X_test[\"metals_price\"] - X_train[\"metals_price\"].mean()\n",
    "\n",
    "## X_train,X_test interaction\n",
    "X_train[\"log_heated_area0_covid\"] = X_train[\"is_covid\"] * X_train[\"log_heated_area0\"]\n",
    "X_test[\"log_heated_area0_covid\"] = X_test[\"is_covid\"] * X_test[\"log_heated_area0\"]\n",
    "\n",
    "macro0 = [c + \"0\" for c in macro]\n",
    "xvars = intercept + macro0 + story + [\"bath0\"] + ['gas', 'sewer', 'crime', 'log_heated_area0'] +\\\n",
    "    [\"bath0_covid\",\"log_heated_area0_covid\",\"I_story1_covid\",\"I_story1-2_covid\",\"I_story_other_covid\"]+\\\n",
    "    ['is_covid'] + zip_vars + zip_covid\n",
    "\n",
    "X_train, X_test = X_train[xvars], X_test[xvars]\n",
    "\n",
    "model = sm.OLS(y_train, X_train).fit()\n",
    "print(model.summary())"
   ]
  },
  {
   "cell_type": "code",
   "execution_count": 127,
   "id": "vocal-israel",
   "metadata": {},
   "outputs": [
    {
     "data": {
      "text/plain": [
       "242214.42285751208"
      ]
     },
     "execution_count": 127,
     "metadata": {},
     "output_type": "execute_result"
    }
   ],
   "source": [
    "10** 5.3842"
   ]
  },
  {
   "cell_type": "code",
   "execution_count": 131,
   "id": "tamil-flush",
   "metadata": {},
   "outputs": [
    {
     "data": {
      "text/plain": [
       "-0.06243799307411979"
      ]
     },
     "execution_count": 131,
     "metadata": {},
     "output_type": "execute_result"
    }
   ],
   "source": [
    "10**-0.028 -1"
   ]
  },
  {
   "cell_type": "code",
   "execution_count": 134,
   "id": "inner-opportunity",
   "metadata": {},
   "outputs": [
    {
     "data": {
      "text/plain": [
       "0.034427362715672594"
      ]
     },
     "execution_count": 134,
     "metadata": {},
     "output_type": "execute_result"
    }
   ],
   "source": [
    "10 **  0.0147 -1"
   ]
  },
  {
   "cell_type": "code",
   "execution_count": 142,
   "id": "enabling-kennedy",
   "metadata": {},
   "outputs": [
    {
     "data": {
      "text/plain": [
       "-0.045886589718020176"
      ]
     },
     "execution_count": 142,
     "metadata": {},
     "output_type": "execute_result"
    }
   ],
   "source": [
    "10 ** -0.0204 -1"
   ]
  },
  {
   "cell_type": "code",
   "execution_count": 143,
   "id": "formed-beijing",
   "metadata": {},
   "outputs": [
    {
     "data": {
      "text/plain": [
       "0.1061142822180785"
      ]
     },
     "execution_count": 143,
     "metadata": {},
     "output_type": "execute_result"
    }
   ],
   "source": [
    "10 ** 0.0438 -1 ##bath"
   ]
  },
  {
   "cell_type": "code",
   "execution_count": 144,
   "id": "still-latest",
   "metadata": {},
   "outputs": [
    {
     "data": {
      "text/plain": [
       "0.15159560831803431"
      ]
     },
     "execution_count": 144,
     "metadata": {},
     "output_type": "execute_result"
    }
   ],
   "source": [
    "10 ** 0.0613 -1 ##covid"
   ]
  },
  {
   "cell_type": "code",
   "execution_count": 128,
   "id": "absolute-prerequisite",
   "metadata": {},
   "outputs": [
    {
     "data": {
      "text/plain": [
       "sewer        -0.015451\n",
       "I_zip27610   -0.006147\n",
       "crime        -0.004157\n",
       "I_zip27529   -0.002562\n",
       "I_zip27616   -0.002492\n",
       "                ...   \n",
       "I_story1-2    0.007460\n",
       "is_covid      0.010940\n",
       "gas           0.013442\n",
       "bath0         0.024317\n",
       "I             5.359963\n",
       "Length: 78, dtype: float64"
      ]
     },
     "execution_count": 128,
     "metadata": {},
     "output_type": "execute_result"
    }
   ],
   "source": [
    "(X_test[xvars].mean() * model.params[xvars]).sort_values()"
   ]
  },
  {
   "cell_type": "code",
   "execution_count": 124,
   "id": "caring-footage",
   "metadata": {},
   "outputs": [
    {
     "data": {
      "text/plain": [
       "<AxesSubplot:>"
      ]
     },
     "execution_count": 124,
     "metadata": {},
     "output_type": "execute_result"
    },
    {
     "data": {
      "image/png": "[encoded data removed]",
      "text/plain": [
       "<Figure size 432x288 with 1 Axes>"
      ]
     },
     "metadata": {
      "needs_background": "light"
     },
     "output_type": "display_data"
    }
   ],
   "source": [
    "## after loged, the hist is more symmetric because our y var is symmetric. \n",
    "reg_df[\"log_heated_area\"].hist(bins=np.arange(2.5,4.3,0.1))#.hist(bins=np.arange(0,10000,100))"
   ]
  },
  {
   "cell_type": "code",
   "execution_count": 125,
   "id": "general-houston",
   "metadata": {},
   "outputs": [
    {
     "data": {
      "text/plain": [
       "<matplotlib.collections.PathCollection at 0x13e79e580>"
      ]
     },
     "execution_count": 125,
     "metadata": {},
     "output_type": "execute_result"
    },
    {
     "data": {
      "image/png": "[encoded data removed]",
      "text/plain": [
       "<Figure size 432x288 with 1 Axes>"
      ]
     },
     "metadata": {
      "needs_background": "light"
     },
     "output_type": "display_data"
    }
   ],
   "source": [
    "res = model.params[zip_vars].reset_index() # price by zip\n",
    "res[\"zip_covid\"] = model.params[zip_covid].values # price chg after covide by zip\n",
    "res[\"zip\"] = all_zips\n",
    "res = res.drop(\"index\", axis=1)\n",
    "\n",
    "counts = reg_df.groupby(\"physical_zip_code\").apply(len).reset_index()\n",
    "counts.columns = [\"zip\", \"cnts\"]\n",
    "res = pd.merge(res, counts, on=\"zip\")\n",
    "res = res[(res.cnts > 300)]\n",
    "\n",
    "plt.scatter(res[0], res[\"zip_covid\"])"
   ]
  },
  {
   "cell_type": "code",
   "execution_count": 71,
   "id": "supreme-blowing",
   "metadata": {},
   "outputs": [
    {
     "data": {
      "text/html": [
       "<div>\n",
       "<style scoped>\n",
       "    .dataframe tbody tr th:only-of-type {\n",
       "        vertical-align: middle;\n",
       "    }\n",
       "\n",
       "    .dataframe tbody tr th {\n",
       "        vertical-align: top;\n",
       "    }\n",
       "\n",
       "    .dataframe thead th {\n",
       "        text-align: right;\n",
       "    }\n",
       "</style>\n",
       "<table border=\"1\" class=\"dataframe\">\n",
       "  <thead>\n",
       "    <tr style=\"text-align: right;\">\n",
       "      <th></th>\n",
       "      <th>0</th>\n",
       "      <th>zip_covid</th>\n",
       "      <th>zip</th>\n",
       "      <th>cnts</th>\n",
       "    </tr>\n",
       "  </thead>\n",
       "  <tbody>\n",
       "    <tr>\n",
       "      <th>7</th>\n",
       "      <td>-0.103602</td>\n",
       "      <td>0.064391</td>\n",
       "      <td>27610</td>\n",
       "      <td>15164</td>\n",
       "    </tr>\n",
       "    <tr>\n",
       "      <th>14</th>\n",
       "      <td>-0.083646</td>\n",
       "      <td>0.025862</td>\n",
       "      <td>27529</td>\n",
       "      <td>7707</td>\n",
       "    </tr>\n",
       "    <tr>\n",
       "      <th>8</th>\n",
       "      <td>-0.083079</td>\n",
       "      <td>0.005395</td>\n",
       "      <td>27597</td>\n",
       "      <td>3586</td>\n",
       "    </tr>\n",
       "    <tr>\n",
       "      <th>18</th>\n",
       "      <td>-0.066239</td>\n",
       "      <td>0.003069</td>\n",
       "      <td>27545</td>\n",
       "      <td>7450</td>\n",
       "    </tr>\n",
       "    <tr>\n",
       "      <th>10</th>\n",
       "      <td>-0.066168</td>\n",
       "      <td>0.040754</td>\n",
       "      <td>27591</td>\n",
       "      <td>4637</td>\n",
       "    </tr>\n",
       "    <tr>\n",
       "      <th>21</th>\n",
       "      <td>-0.046696</td>\n",
       "      <td>0.016176</td>\n",
       "      <td>27616</td>\n",
       "      <td>13687</td>\n",
       "    </tr>\n",
       "    <tr>\n",
       "      <th>0</th>\n",
       "      <td>-0.029852</td>\n",
       "      <td>0.024392</td>\n",
       "      <td>27604</td>\n",
       "      <td>10171</td>\n",
       "    </tr>\n",
       "    <tr>\n",
       "      <th>23</th>\n",
       "      <td>-0.026287</td>\n",
       "      <td>0.008705</td>\n",
       "      <td>27571</td>\n",
       "      <td>2509</td>\n",
       "    </tr>\n",
       "    <tr>\n",
       "      <th>16</th>\n",
       "      <td>-0.022815</td>\n",
       "      <td>0.005926</td>\n",
       "      <td>27526</td>\n",
       "      <td>13961</td>\n",
       "    </tr>\n",
       "    <tr>\n",
       "      <th>20</th>\n",
       "      <td>-0.019766</td>\n",
       "      <td>0.028397</td>\n",
       "      <td>27606</td>\n",
       "      <td>7094</td>\n",
       "    </tr>\n",
       "    <tr>\n",
       "      <th>6</th>\n",
       "      <td>-0.013205</td>\n",
       "      <td>0.039784</td>\n",
       "      <td>27511</td>\n",
       "      <td>7239</td>\n",
       "    </tr>\n",
       "    <tr>\n",
       "      <th>4</th>\n",
       "      <td>-0.010301</td>\n",
       "      <td>0.026376</td>\n",
       "      <td>27603</td>\n",
       "      <td>11161</td>\n",
       "    </tr>\n",
       "    <tr>\n",
       "      <th>2</th>\n",
       "      <td>-0.002734</td>\n",
       "      <td>0.030430</td>\n",
       "      <td>27609</td>\n",
       "      <td>6641</td>\n",
       "    </tr>\n",
       "    <tr>\n",
       "      <th>25</th>\n",
       "      <td>0.014019</td>\n",
       "      <td>0.003933</td>\n",
       "      <td>27540</td>\n",
       "      <td>12490</td>\n",
       "    </tr>\n",
       "    <tr>\n",
       "      <th>19</th>\n",
       "      <td>0.023323</td>\n",
       "      <td>0.001077</td>\n",
       "      <td>27539</td>\n",
       "      <td>6473</td>\n",
       "    </tr>\n",
       "    <tr>\n",
       "      <th>3</th>\n",
       "      <td>0.023635</td>\n",
       "      <td>0.023466</td>\n",
       "      <td>27615</td>\n",
       "      <td>10705</td>\n",
       "    </tr>\n",
       "    <tr>\n",
       "      <th>29</th>\n",
       "      <td>0.029980</td>\n",
       "      <td>-0.005611</td>\n",
       "      <td>27560</td>\n",
       "      <td>6770</td>\n",
       "    </tr>\n",
       "    <tr>\n",
       "      <th>22</th>\n",
       "      <td>0.036630</td>\n",
       "      <td>-0.021795</td>\n",
       "      <td>27614</td>\n",
       "      <td>8881</td>\n",
       "    </tr>\n",
       "    <tr>\n",
       "      <th>13</th>\n",
       "      <td>0.038581</td>\n",
       "      <td>-0.006345</td>\n",
       "      <td>27513</td>\n",
       "      <td>10252</td>\n",
       "    </tr>\n",
       "    <tr>\n",
       "      <th>17</th>\n",
       "      <td>0.039250</td>\n",
       "      <td>0.001440</td>\n",
       "      <td>27502</td>\n",
       "      <td>13102</td>\n",
       "    </tr>\n",
       "    <tr>\n",
       "      <th>11</th>\n",
       "      <td>0.040033</td>\n",
       "      <td>-0.002216</td>\n",
       "      <td>27613</td>\n",
       "      <td>10413</td>\n",
       "    </tr>\n",
       "    <tr>\n",
       "      <th>9</th>\n",
       "      <td>0.043313</td>\n",
       "      <td>0.003936</td>\n",
       "      <td>27612</td>\n",
       "      <td>8361</td>\n",
       "    </tr>\n",
       "    <tr>\n",
       "      <th>27</th>\n",
       "      <td>0.044639</td>\n",
       "      <td>-0.007803</td>\n",
       "      <td>27518</td>\n",
       "      <td>4746</td>\n",
       "    </tr>\n",
       "    <tr>\n",
       "      <th>26</th>\n",
       "      <td>0.058880</td>\n",
       "      <td>-0.003324</td>\n",
       "      <td>27519</td>\n",
       "      <td>15969</td>\n",
       "    </tr>\n",
       "    <tr>\n",
       "      <th>28</th>\n",
       "      <td>0.065785</td>\n",
       "      <td>-0.034388</td>\n",
       "      <td>27617</td>\n",
       "      <td>4319</td>\n",
       "    </tr>\n",
       "    <tr>\n",
       "      <th>24</th>\n",
       "      <td>0.070672</td>\n",
       "      <td>-0.011301</td>\n",
       "      <td>27523</td>\n",
       "      <td>4229</td>\n",
       "    </tr>\n",
       "    <tr>\n",
       "      <th>1</th>\n",
       "      <td>0.090418</td>\n",
       "      <td>0.017945</td>\n",
       "      <td>27607</td>\n",
       "      <td>3501</td>\n",
       "    </tr>\n",
       "    <tr>\n",
       "      <th>15</th>\n",
       "      <td>0.115034</td>\n",
       "      <td>0.148287</td>\n",
       "      <td>27601</td>\n",
       "      <td>1280</td>\n",
       "    </tr>\n",
       "    <tr>\n",
       "      <th>5</th>\n",
       "      <td>0.196241</td>\n",
       "      <td>0.040495</td>\n",
       "      <td>27608</td>\n",
       "      <td>2925</td>\n",
       "    </tr>\n",
       "    <tr>\n",
       "      <th>12</th>\n",
       "      <td>0.213447</td>\n",
       "      <td>0.016740</td>\n",
       "      <td>27605</td>\n",
       "      <td>1305</td>\n",
       "    </tr>\n",
       "  </tbody>\n",
       "</table>\n",
       "</div>"
      ],
      "text/plain": [
       "           0  zip_covid    zip   cnts\n",
       "7  -0.103602   0.064391  27610  15164\n",
       "14 -0.083646   0.025862  27529   7707\n",
       "8  -0.083079   0.005395  27597   3586\n",
       "18 -0.066239   0.003069  27545   7450\n",
       "10 -0.066168   0.040754  27591   4637\n",
       "21 -0.046696   0.016176  27616  13687\n",
       "0  -0.029852   0.024392  27604  10171\n",
       "23 -0.026287   0.008705  27571   2509\n",
       "16 -0.022815   0.005926  27526  13961\n",
       "20 -0.019766   0.028397  27606   7094\n",
       "6  -0.013205   0.039784  27511   7239\n",
       "4  -0.010301   0.026376  27603  11161\n",
       "2  -0.002734   0.030430  27609   6641\n",
       "25  0.014019   0.003933  27540  12490\n",
       "19  0.023323   0.001077  27539   6473\n",
       "3   0.023635   0.023466  27615  10705\n",
       "29  0.029980  -0.005611  27560   6770\n",
       "22  0.036630  -0.021795  27614   8881\n",
       "13  0.038581  -0.006345  27513  10252\n",
       "17  0.039250   0.001440  27502  13102\n",
       "11  0.040033  -0.002216  27613  10413\n",
       "9   0.043313   0.003936  27612   8361\n",
       "27  0.044639  -0.007803  27518   4746\n",
       "26  0.058880  -0.003324  27519  15969\n",
       "28  0.065785  -0.034388  27617   4319\n",
       "24  0.070672  -0.011301  27523   4229\n",
       "1   0.090418   0.017945  27607   3501\n",
       "15  0.115034   0.148287  27601   1280\n",
       "5   0.196241   0.040495  27608   2925\n",
       "12  0.213447   0.016740  27605   1305"
      ]
     },
     "execution_count": 71,
     "metadata": {},
     "output_type": "execute_result"
    }
   ],
   "source": [
    "res.sort_values(0)"
   ]
  },
  {
   "cell_type": "code",
   "execution_count": 105,
   "id": "acting-azerbaijan",
   "metadata": {},
   "outputs": [
    {
     "name": "stdout",
     "output_type": "stream",
     "text": [
      "                            OLS Regression Results                            \n",
      "==============================================================================\n",
      "Dep. Variable:                 log_px   R-squared:                       0.206\n",
      "Model:                            OLS   Adj. R-squared:                  0.206\n",
      "Method:                 Least Squares   F-statistic:                     353.5\n",
      "Date:                Mon, 10 Oct 2022   Prob (F-statistic):               0.00\n",
      "Time:                        09:50:17   Log-Likelihood:                 16446.\n",
      "No. Observations:               83071   AIC:                        -3.277e+04\n",
      "Df Residuals:                   83009   BIC:                        -3.219e+04\n",
      "Df Model:                          61                                         \n",
      "Covariance Type:            nonrobust                                         \n",
      "====================================================================================\n",
      "                       coef    std err          t      P>|t|      [0.025      0.975]\n",
      "------------------------------------------------------------------------------------\n",
      "I                    5.5223      0.004   1345.486      0.000       5.514       5.530\n",
      "is_covid             0.0672      0.005     13.169      0.000       0.057       0.077\n",
      "I_zip27604          -0.2083      0.007    -28.619      0.000      -0.223      -0.194\n",
      "I_zip27607           0.0728      0.011      6.643      0.000       0.051       0.094\n",
      "I_zip27609          -0.0828      0.008     -9.779      0.000      -0.099      -0.066\n",
      "I_zip27615          -0.0620      0.007     -8.454      0.000      -0.076      -0.048\n",
      "I_zip27603          -0.1131      0.007    -16.052      0.000      -0.127      -0.099\n",
      "I_zip27608           0.1615      0.012     13.433      0.000       0.138       0.185\n",
      "I_zip27511          -0.0931      0.008    -11.071      0.000      -0.110      -0.077\n",
      "I_zip27610          -0.2558      0.007    -38.777      0.000      -0.269      -0.243\n",
      "I_zip27597          -0.1750      0.010    -17.808      0.000      -0.194      -0.156\n",
      "I_zip27612          -0.0116      0.008     -1.482      0.138      -0.027       0.004\n",
      "I_zip27591          -0.1558      0.009    -18.198      0.000      -0.173      -0.139\n",
      "I_zip27613          -0.0017      0.008     -0.224      0.823      -0.017       0.013\n",
      "I_zip27605           0.0050      0.017      0.294      0.769      -0.028       0.038\n",
      "I_zip27513          -0.0124      0.008     -1.650      0.099      -0.027       0.002\n",
      "I_zip27529          -0.1801      0.008    -22.564      0.000      -0.196      -0.164\n",
      "I_zip27601           0.0232      0.016      1.427      0.154      -0.009       0.055\n",
      "I_zip27526          -0.0760      0.006    -11.830      0.000      -0.089      -0.063\n",
      "I_zip27502           0.0311      0.006      4.918      0.000       0.019       0.044\n",
      "I_zip27545          -0.1486      0.008    -18.858      0.000      -0.164      -0.133\n",
      "I_zip27539           0.0372      0.009      4.209      0.000       0.020       0.054\n",
      "I_zip27606          -0.1213      0.008    -14.556      0.000      -0.138      -0.105\n",
      "I_zip27616          -0.1659      0.007    -25.452      0.000      -0.179      -0.153\n",
      "I_zip27614           0.0343      0.008      4.341      0.000       0.019       0.050\n",
      "I_zip27571           0.0017      0.013      0.130      0.896      -0.023       0.027\n",
      "I_zip27523           0.1566      0.008     20.044      0.000       0.141       0.172\n",
      "I_zip27540           0.0307      0.007      4.652      0.000       0.018       0.044\n",
      "I_zip27519           0.1096      0.006     17.055      0.000       0.097       0.122\n",
      "I_zip27518           0.0810      0.010      7.830      0.000       0.061       0.101\n",
      "I_zip27617          -0.0359      0.010     -3.568      0.000      -0.056      -0.016\n",
      "I_zip27560          -0.0419      0.010     -4.389      0.000      -0.061      -0.023\n",
      "I_zip27604_covid    -0.0041      0.009     -0.463      0.644      -0.022       0.013\n",
      "I_zip27607_covid    -0.0305      0.014     -2.215      0.027      -0.058      -0.004\n",
      "I_zip27609_covid    -0.0066      0.010     -0.629      0.530      -0.027       0.014\n",
      "I_zip27615_covid     0.0195      0.009      2.158      0.031       0.002       0.037\n",
      "I_zip27603_covid    -0.0038      0.009     -0.435      0.664      -0.021       0.013\n",
      "I_zip27608_covid    -0.0297      0.015     -1.992      0.046      -0.059      -0.000\n",
      "I_zip27511_covid    -0.0086      0.010     -0.828      0.408      -0.029       0.012\n",
      "I_zip27610_covid     0.0288      0.008      3.520      0.000       0.013       0.045\n",
      "I_zip27597_covid    -0.0153      0.012     -1.290      0.197      -0.039       0.008\n",
      "I_zip27612_covid    -0.0330      0.010     -3.383      0.001      -0.052      -0.014\n",
      "I_zip27591_covid   5.33e-05      0.011      0.005      0.996      -0.021       0.021\n",
      "I_zip27613_covid    -0.0185      0.009     -1.973      0.049      -0.037      -0.000\n",
      "I_zip27605_covid    -0.0478      0.021     -2.293      0.022      -0.089      -0.007\n",
      "I_zip27513_covid    -0.0287      0.009     -3.084      0.002      -0.047      -0.010\n",
      "I_zip27529_covid    -0.0006      0.010     -0.060      0.952      -0.020       0.019\n",
      "I_zip27601_covid     0.0057      0.020      0.289      0.772      -0.033       0.044\n",
      "I_zip27526_covid     0.0036      0.008      0.463      0.643      -0.012       0.019\n",
      "I_zip27502_covid    -0.0238      0.008     -3.032      0.002      -0.039      -0.008\n",
      "I_zip27545_covid    -0.0395      0.010     -4.011      0.000      -0.059      -0.020\n",
      "I_zip27539_covid    -0.0085      0.011     -0.786      0.432      -0.030       0.013\n",
      "I_zip27606_covid    -0.0010      0.010     -0.097      0.923      -0.021       0.019\n",
      "I_zip27616_covid     0.0037      0.008      0.450      0.653      -0.012       0.020\n",
      "I_zip27614_covid    -0.0012      0.010     -0.123      0.902      -0.021       0.018\n",
      "I_zip27571_covid    -0.0226      0.015     -1.460      0.144      -0.053       0.008\n",
      "I_zip27523_covid    -0.0306      0.010     -3.082      0.002      -0.050      -0.011\n",
      "I_zip27540_covid    -0.0115      0.008     -1.427      0.154      -0.027       0.004\n",
      "I_zip27519_covid    -0.0434      0.008     -5.445      0.000      -0.059      -0.028\n",
      "I_zip27518_covid    -0.0178      0.013     -1.400      0.162      -0.043       0.007\n",
      "I_zip27617_covid    -0.0211      0.013     -1.686      0.092      -0.046       0.003\n",
      "I_zip27560_covid    -0.0054      0.012     -0.465      0.642      -0.028       0.017\n",
      "==============================================================================\n",
      "Omnibus:                     9358.283   Durbin-Watson:                   1.198\n",
      "Prob(Omnibus):                  0.000   Jarque-Bera (JB):            22620.755\n",
      "Skew:                          -0.667   Prob(JB):                         0.00\n",
      "Kurtosis:                       5.181   Cond. No.                         67.5\n",
      "==============================================================================\n",
      "\n",
      "Notes:\n",
      "[1] Standard Errors assume that the covariance matrix of the errors is correctly specified.\n"
     ]
    }
   ],
   "source": [
    "\n",
    "#### regression\n",
    "x_zip_covid = intercept + [\"is_covid\",\"mort_rate\",\"lumber_price\"] + zip_vars + zip_covid\n",
    "\n",
    "reg_df[\"I\"] = 1\n",
    "reg_df = reg_df[(reg_df[[yvar]+x_zip_covid].notnull().all(axis=1))]\n",
    "reg_df = reg_df[reg_df.year > 2013]\n",
    "\n",
    "zip_covid_model = sm.OLS(reg_df[yvar], reg_df[x_zip_covid]).fit()\n",
    "print(model.summary())"
   ]
  },
  {
   "cell_type": "code",
   "execution_count": 106,
   "id": "exempt-pennsylvania",
   "metadata": {},
   "outputs": [
    {
     "data": {
      "text/plain": [
       "0.1985114084940489"
      ]
     },
     "execution_count": 106,
     "metadata": {},
     "output_type": "execute_result"
    }
   ],
   "source": [
    "model.resid.std()"
   ]
  },
  {
   "cell_type": "code",
   "execution_count": 107,
   "id": "handy-event",
   "metadata": {
    "scrolled": true
   },
   "outputs": [
    {
     "data": {
      "text/plain": [
       "<matplotlib.collections.PathCollection at 0x13e52ea30>"
      ]
     },
     "execution_count": 107,
     "metadata": {},
     "output_type": "execute_result"
    },
    {
     "data": {
      "image/png": "[encoded data removed]",
      "text/plain": [
       "<Figure size 432x288 with 1 Axes>"
      ]
     },
     "metadata": {
      "needs_background": "light"
     },
     "output_type": "display_data"
    }
   ],
   "source": [
    "res = zip_covid_model.params[zip_vars].reset_index() # price by zip\n",
    "res[\"zip_covid\"] = zip_covid_model.params[zip_covid].values # price chg after covide by zip\n",
    "res[\"zip\"] = all_zips\n",
    "res = res.drop(\"index\", axis=1)\n",
    "\n",
    "counts = reg_df.groupby(\"physical_zip_code\").apply(len).reset_index()\n",
    "counts.columns = [\"zip\", \"cnts\"]\n",
    "res = pd.merge(res, counts, on=\"zip\")\n",
    "res = res[(res.cnts > 300)]\n",
    "\n",
    "plt.scatter(res[0], res[\"zip_covid\"])"
   ]
  },
  {
   "cell_type": "markdown",
   "id": "industrial-negotiation",
   "metadata": {},
   "source": [
    "## Random Forest"
   ]
  },
  {
   "cell_type": "code",
   "execution_count": 147,
   "id": "distinct-timing",
   "metadata": {},
   "outputs": [],
   "source": [
    "# random forest using same data\n",
    "\n",
    "from sklearn.ensemble import RandomForestRegressor\n",
    "\n",
    "rf_reg = RandomForestRegressor(n_estimators=100, random_state=42)\n",
    "rf_reg.fit(X_train, y_train)\n",
    "y_pred = rf_reg.predict(X_test)"
   ]
  },
  {
   "cell_type": "code",
   "execution_count": 148,
   "id": "b0981db9",
   "metadata": {},
   "outputs": [
    {
     "data": {
      "text/plain": [
       "0.7236022780188431"
      ]
     },
     "execution_count": 148,
     "metadata": {},
     "output_type": "execute_result"
    }
   ],
   "source": [
    "rf_reg.score(X_test, y_test)"
   ]
  },
  {
   "cell_type": "code",
   "execution_count": 78,
   "id": "8ae1bf6f",
   "metadata": {},
   "outputs": [],
   "source": [
    "# import shap\n",
    "# explainer = shap.TreeExplainer(rf_reg)\n",
    "# shap_values = explainer.shap_values(X_test)\n"
   ]
  },
  {
   "cell_type": "code",
   "execution_count": 79,
   "id": "8556553e",
   "metadata": {},
   "outputs": [],
   "source": [
    "# shap.summary_plot(shap_values, X_test, plot_type=\"bar\")"
   ]
  },
  {
   "cell_type": "markdown",
   "id": "dd61e3a4",
   "metadata": {},
   "source": []
  },
  {
   "cell_type": "code",
   "execution_count": 149,
   "id": "satellite-digit",
   "metadata": {},
   "outputs": [
    {
     "name": "stdout",
     "output_type": "stream",
     "text": [
      "Mean Absolute Error: 0.08562835880775399\n",
      "Mean Squared Error: 0.018168249416041803\n",
      "Root Mean Squared Error: 0.13478964877186156\n"
     ]
    }
   ],
   "source": [
    "from sklearn import metrics\n",
    "print('Mean Absolute Error:', metrics.mean_absolute_error(y_test, y_pred))\n",
    "print('Mean Squared Error:', metrics.mean_squared_error(y_test, y_pred))\n",
    "print('Root Mean Squared Error:', np.sqrt(metrics.mean_squared_error(y_test, y_pred)))"
   ]
  },
  {
   "cell_type": "code",
   "execution_count": 150,
   "id": "serious-baptist",
   "metadata": {},
   "outputs": [
    {
     "data": {
      "text/plain": [
       "log_heated_area0          0.628193\n",
       "lumber_price0             0.059398\n",
       "mort_rate0                0.052387\n",
       "metals_price0             0.039531\n",
       "log_heated_area0_covid    0.037980\n",
       "                            ...   \n",
       "I_zip27560_covid          0.000155\n",
       "I_story_other_covid       0.000121\n",
       "I_zip27617_covid          0.000099\n",
       "I_zip27571_covid          0.000070\n",
       "I                         0.000000\n",
       "Length: 80, dtype: float64"
      ]
     },
     "execution_count": 150,
     "metadata": {},
     "output_type": "execute_result"
    }
   ],
   "source": [
    "pd.Series(rf_reg.feature_importances_, index=xvars).sort_values(ascending=False)"
   ]
  },
  {
   "cell_type": "code",
   "execution_count": 152,
   "id": "processed-sending",
   "metadata": {},
   "outputs": [
    {
     "data": {
      "text/plain": [
       "<AxesSubplot:>"
      ]
     },
     "execution_count": 152,
     "metadata": {},
     "output_type": "execute_result"
    },
    {
     "data": {
      "image/png": "[encoded data removed]",
      "text/plain": [
       "<Figure size 864x576 with 1 Axes>"
      ]
     },
     "metadata": {
      "needs_background": "light"
     },
     "output_type": "display_data"
    }
   ],
   "source": [
    "pd.Series(rf_reg.feature_importances_, index=xvars).plot.bar(figsize=[12,8])"
   ]
  },
  {
   "cell_type": "markdown",
   "id": "vulnerable-process",
   "metadata": {
    "code_folding": []
   },
   "source": []
  },
  {
   "cell_type": "code",
   "execution_count": null,
   "id": "peaceful-communist",
   "metadata": {},
   "outputs": [],
   "source": []
  },
  {
   "cell_type": "markdown",
   "id": "46ba0b21",
   "metadata": {},
   "source": [
    "## Decision Tree"
   ]
  },
  {
   "cell_type": "code",
   "execution_count": null,
   "id": "2bed5c25",
   "metadata": {},
   "outputs": [
    {
     "name": "stdout",
     "output_type": "stream",
     "text": [
      "0.48754443473688414 0.5020743240487482\n"
     ]
    }
   ],
   "source": [
    "from sklearn.tree import DecisionTreeRegressor\n",
    "dr_reg = DecisionTreeRegressor(random_state=42).fit(X_train, y_train)\n",
    "dr_score = dr_reg.score(X_test, y_test)\n",
    "predict_dr = dr_reg.predict(X_test)\n",
    "expl_dr = explained_variance_score(predict_dr, y_test)\n",
    "print(dr_score, expl_dr)"
   ]
  },
  {
   "cell_type": "markdown",
   "id": "432e0ad7",
   "metadata": {},
   "source": []
  }
 ],
 "metadata": {
  "kernelspec": {
   "display_name": "Python 3",
   "language": "python",
   "name": "python3"
  },
  "language_info": {
   "codemirror_mode": {
    "name": "ipython",
    "version": 3
   },
   "file_extension": ".py",
   "mimetype": "text/x-python",
   "name": "python",
   "nbconvert_exporter": "python",
   "pygments_lexer": "ipython3",
   "version": "3.9.13"
  },
  "vscode": {
   "interpreter": {
    "hash": "aee8b7b246df8f9039afb4144a1f6fd8d2ca17a180786b69acc140d282b71a49"
   }
  }
 },
 "nbformat": 4,
 "nbformat_minor": 5
}
