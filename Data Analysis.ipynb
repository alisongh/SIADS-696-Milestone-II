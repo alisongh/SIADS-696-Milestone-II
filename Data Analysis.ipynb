{
 "cells": [
  {
   "cell_type": "code",
   "execution_count": 1,
   "id": "hairy-newspaper",
   "metadata": {},
   "outputs": [],
   "source": [
    "import pandas as pd\n",
    "import numpy as np\n",
    "import matplotlib as mpl\n",
    "import matplotlib.pyplot as plt\n",
    "import statsmodels.api as sm"
   ]
  },
  {
   "cell_type": "code",
   "execution_count": 2,
   "id": "opposed-castle",
   "metadata": {},
   "outputs": [
    {
     "name": "stderr",
     "output_type": "stream",
     "text": [
      "/usr/local/lib/python3.9/site-packages/IPython/core/interactiveshell.py:3165: DtypeWarning: Columns (47,70,71,72,79) have mixed types.Specify dtype option on import or set low_memory=False.\n",
      "  has_raised = await self.run_ast_nodes(code_ast.body, cell_name,\n"
     ]
    }
   ],
   "source": [
    "raw_df = pd.read_csv('house_price.csv')"
   ]
  },
  {
   "cell_type": "code",
   "execution_count": 2,
   "id": "tutorial-baking",
   "metadata": {},
   "outputs": [],
   "source": [
    "house_df = pd.read_csv('data/updated_house_df.csv')\n",
    "house_df = house_df.drop_duplicates([\"deed_date\",\"total_sale_price\",\"heated_area\"])\n",
    "house_df[\"deed_date\"] = pd.to_datetime(house_df[\"deed_date\"])\n",
    "house_df[\"year\"] = house_df[\"deed_date\"].dt.year"
   ]
  },
  {
   "cell_type": "code",
   "execution_count": 3,
   "id": "demanding-present",
   "metadata": {},
   "outputs": [
    {
     "data": {
      "text/plain": [
       "(284027, 25)"
      ]
     },
     "execution_count": 3,
     "metadata": {},
     "output_type": "execute_result"
    }
   ],
   "source": [
    "house_df.shape"
   ]
  },
  {
   "cell_type": "code",
   "execution_count": 4,
   "id": "guilty-saudi",
   "metadata": {},
   "outputs": [
    {
     "data": {
      "text/html": [
       "<div>\n",
       "<style scoped>\n",
       "    .dataframe tbody tr th:only-of-type {\n",
       "        vertical-align: middle;\n",
       "    }\n",
       "\n",
       "    .dataframe tbody tr th {\n",
       "        vertical-align: top;\n",
       "    }\n",
       "\n",
       "    .dataframe thead th {\n",
       "        text-align: right;\n",
       "    }\n",
       "</style>\n",
       "<table border=\"1\" class=\"dataframe\">\n",
       "  <thead>\n",
       "    <tr style=\"text-align: right;\">\n",
       "      <th></th>\n",
       "      <th>2744422</th>\n",
       "      <th>2744423</th>\n",
       "      <th>2744427</th>\n",
       "    </tr>\n",
       "  </thead>\n",
       "  <tbody>\n",
       "    <tr>\n",
       "      <th>land_sale_price</th>\n",
       "      <td>0.0</td>\n",
       "      <td>0.0</td>\n",
       "      <td>0.0</td>\n",
       "    </tr>\n",
       "    <tr>\n",
       "      <th>total_sale_price</th>\n",
       "      <td>602350.0</td>\n",
       "      <td>443100.0</td>\n",
       "      <td>280000.0</td>\n",
       "    </tr>\n",
       "    <tr>\n",
       "      <th>deed_date</th>\n",
       "      <td>2019-11-01 00:00:00</td>\n",
       "      <td>2019-11-01 00:00:00</td>\n",
       "      <td>2020-02-01 00:00:00</td>\n",
       "    </tr>\n",
       "    <tr>\n",
       "      <th>assessed_building_value</th>\n",
       "      <td>559351.0</td>\n",
       "      <td>411437.0</td>\n",
       "      <td>224222.0</td>\n",
       "    </tr>\n",
       "    <tr>\n",
       "      <th>story_height</th>\n",
       "      <td>3.0</td>\n",
       "      <td>3.0</td>\n",
       "      <td>2.0</td>\n",
       "    </tr>\n",
       "    <tr>\n",
       "      <th>heated_area</th>\n",
       "      <td>2307</td>\n",
       "      <td>1840</td>\n",
       "      <td>2446</td>\n",
       "    </tr>\n",
       "    <tr>\n",
       "      <th>utilities</th>\n",
       "      <td>ALL</td>\n",
       "      <td>ALL</td>\n",
       "      <td>ALL</td>\n",
       "    </tr>\n",
       "    <tr>\n",
       "      <th>bath</th>\n",
       "      <td>3.0</td>\n",
       "      <td>3.0</td>\n",
       "      <td>2.5</td>\n",
       "    </tr>\n",
       "    <tr>\n",
       "      <th>type_and_use</th>\n",
       "      <td>1.0</td>\n",
       "      <td>1.0</td>\n",
       "      <td>1.0</td>\n",
       "    </tr>\n",
       "    <tr>\n",
       "      <th>physical_zip_code</th>\n",
       "      <td>27606</td>\n",
       "      <td>27606</td>\n",
       "      <td>27587</td>\n",
       "    </tr>\n",
       "    <tr>\n",
       "      <th>physical_city</th>\n",
       "      <td>RALEIGH</td>\n",
       "      <td>RALEIGH</td>\n",
       "      <td>WAKE FOREST</td>\n",
       "    </tr>\n",
       "    <tr>\n",
       "      <th>mort_rate</th>\n",
       "      <td>3.7</td>\n",
       "      <td>3.7</td>\n",
       "      <td>3.47</td>\n",
       "    </tr>\n",
       "    <tr>\n",
       "      <th>unemploy_rate</th>\n",
       "      <td>3.1</td>\n",
       "      <td>3.1</td>\n",
       "      <td>3.2</td>\n",
       "    </tr>\n",
       "    <tr>\n",
       "      <th>pop_growth_rate</th>\n",
       "      <td>0.018855</td>\n",
       "      <td>0.018855</td>\n",
       "      <td>0.017201</td>\n",
       "    </tr>\n",
       "    <tr>\n",
       "      <th>covid_cases</th>\n",
       "      <td>NaN</td>\n",
       "      <td>NaN</td>\n",
       "      <td>0.0</td>\n",
       "    </tr>\n",
       "    <tr>\n",
       "      <th>is_covid</th>\n",
       "      <td>0</td>\n",
       "      <td>0</td>\n",
       "      <td>0</td>\n",
       "    </tr>\n",
       "    <tr>\n",
       "      <th>lumber_price</th>\n",
       "      <td>208.3</td>\n",
       "      <td>208.3</td>\n",
       "      <td>215.2</td>\n",
       "    </tr>\n",
       "    <tr>\n",
       "      <th>metals_price</th>\n",
       "      <td>205.1</td>\n",
       "      <td>205.1</td>\n",
       "      <td>209.1</td>\n",
       "    </tr>\n",
       "    <tr>\n",
       "      <th>build_price</th>\n",
       "      <td>152.2</td>\n",
       "      <td>152.2</td>\n",
       "      <td>152.2</td>\n",
       "    </tr>\n",
       "    <tr>\n",
       "      <th>int_rate</th>\n",
       "      <td>3.432389</td>\n",
       "      <td>3.432389</td>\n",
       "      <td>2.311078</td>\n",
       "    </tr>\n",
       "    <tr>\n",
       "      <th>manufactured_house_number</th>\n",
       "      <td>94.6</td>\n",
       "      <td>94.6</td>\n",
       "      <td>94.4</td>\n",
       "    </tr>\n",
       "    <tr>\n",
       "      <th>hai</th>\n",
       "      <td>159.7</td>\n",
       "      <td>159.7</td>\n",
       "      <td>169.9</td>\n",
       "    </tr>\n",
       "    <tr>\n",
       "      <th>wake_supply_index</th>\n",
       "      <td>65.504122</td>\n",
       "      <td>65.504122</td>\n",
       "      <td>79.074191</td>\n",
       "    </tr>\n",
       "    <tr>\n",
       "      <th>wake_demand_index</th>\n",
       "      <td>44.45149</td>\n",
       "      <td>44.45149</td>\n",
       "      <td>45.656309</td>\n",
       "    </tr>\n",
       "    <tr>\n",
       "      <th>year</th>\n",
       "      <td>2019</td>\n",
       "      <td>2019</td>\n",
       "      <td>2020</td>\n",
       "    </tr>\n",
       "  </tbody>\n",
       "</table>\n",
       "</div>"
      ],
      "text/plain": [
       "                                       2744422              2744423  \\\n",
       "land_sale_price                            0.0                  0.0   \n",
       "total_sale_price                      602350.0             443100.0   \n",
       "deed_date                  2019-11-01 00:00:00  2019-11-01 00:00:00   \n",
       "assessed_building_value               559351.0             411437.0   \n",
       "story_height                               3.0                  3.0   \n",
       "heated_area                               2307                 1840   \n",
       "utilities                                  ALL                  ALL   \n",
       "bath                                       3.0                  3.0   \n",
       "type_and_use                               1.0                  1.0   \n",
       "physical_zip_code                        27606                27606   \n",
       "physical_city                          RALEIGH              RALEIGH   \n",
       "mort_rate                                  3.7                  3.7   \n",
       "unemploy_rate                              3.1                  3.1   \n",
       "pop_growth_rate                       0.018855             0.018855   \n",
       "covid_cases                                NaN                  NaN   \n",
       "is_covid                                     0                    0   \n",
       "lumber_price                             208.3                208.3   \n",
       "metals_price                             205.1                205.1   \n",
       "build_price                              152.2                152.2   \n",
       "int_rate                              3.432389             3.432389   \n",
       "manufactured_house_number                 94.6                 94.6   \n",
       "hai                                      159.7                159.7   \n",
       "wake_supply_index                    65.504122            65.504122   \n",
       "wake_demand_index                     44.45149             44.45149   \n",
       "year                                      2019                 2019   \n",
       "\n",
       "                                       2744427  \n",
       "land_sale_price                            0.0  \n",
       "total_sale_price                      280000.0  \n",
       "deed_date                  2020-02-01 00:00:00  \n",
       "assessed_building_value               224222.0  \n",
       "story_height                               2.0  \n",
       "heated_area                               2446  \n",
       "utilities                                  ALL  \n",
       "bath                                       2.5  \n",
       "type_and_use                               1.0  \n",
       "physical_zip_code                        27587  \n",
       "physical_city                      WAKE FOREST  \n",
       "mort_rate                                 3.47  \n",
       "unemploy_rate                              3.2  \n",
       "pop_growth_rate                       0.017201  \n",
       "covid_cases                                0.0  \n",
       "is_covid                                     0  \n",
       "lumber_price                             215.2  \n",
       "metals_price                             209.1  \n",
       "build_price                              152.2  \n",
       "int_rate                              2.311078  \n",
       "manufactured_house_number                 94.4  \n",
       "hai                                      169.9  \n",
       "wake_supply_index                    79.074191  \n",
       "wake_demand_index                    45.656309  \n",
       "year                                      2020  "
      ]
     },
     "execution_count": 4,
     "metadata": {},
     "output_type": "execute_result"
    }
   ],
   "source": [
    "house_df.tail(3).T"
   ]
  },
  {
   "cell_type": "markdown",
   "id": "spanish-dakota",
   "metadata": {},
   "source": [
    "## summary stats and distribution"
   ]
  },
  {
   "cell_type": "markdown",
   "id": "differential-snapshot",
   "metadata": {},
   "source": [
    "### land_sale_price"
   ]
  },
  {
   "cell_type": "code",
   "execution_count": 5,
   "id": "stupid-junior",
   "metadata": {},
   "outputs": [
    {
     "data": {
      "text/plain": [
       "<AxesSubplot:>"
      ]
     },
     "execution_count": 5,
     "metadata": {},
     "output_type": "execute_result"
    },
    {
     "data": {
      "image/png": "[encoded data removed]",
      "text/plain": [
       "<Figure size 432x288 with 1 Axes>"
      ]
     },
     "metadata": {
      "needs_background": "light"
     },
     "output_type": "display_data"
    }
   ],
   "source": [
    "house_df.land_sale_price.hist(bins=np.arange(0,1e6,1e4))"
   ]
  },
  {
   "cell_type": "code",
   "execution_count": 6,
   "id": "inclusive-medium",
   "metadata": {},
   "outputs": [
    {
     "data": {
      "text/plain": [
       "0.0         162337\n",
       "30000.0       2110\n",
       "45000.0       1942\n",
       "40000.0       1860\n",
       "35000.0       1770\n",
       "             ...  \n",
       "206000.0         1\n",
       "228700.0         1\n",
       "168100.0         1\n",
       "253000.0         1\n",
       "108920.0         1\n",
       "Name: land_sale_price, Length: 3779, dtype: int64"
      ]
     },
     "execution_count": 6,
     "metadata": {},
     "output_type": "execute_result"
    }
   ],
   "source": [
    "house_df.land_sale_price.value_counts()"
   ]
  },
  {
   "cell_type": "code",
   "execution_count": 7,
   "id": "severe-cedar",
   "metadata": {},
   "outputs": [
    {
     "data": {
      "text/plain": [
       "<AxesSubplot:>"
      ]
     },
     "execution_count": 7,
     "metadata": {},
     "output_type": "execute_result"
    },
    {
     "data": {
      "image/png": "[encoded data removed]",
      "text/plain": [
       "<Figure size 432x288 with 1 Axes>"
      ]
     },
     "metadata": {
      "needs_background": "light"
     },
     "output_type": "display_data"
    }
   ],
   "source": [
    "lsp = house_df.land_sale_price\n",
    "lsp = lsp[lsp != 0]\n",
    "lsp.hist(bins=np.arange(0,4e5,1e4))"
   ]
  },
  {
   "cell_type": "markdown",
   "id": "turkish-syndicate",
   "metadata": {},
   "source": [
    "roughly lognormal distributed"
   ]
  },
  {
   "cell_type": "code",
   "execution_count": 8,
   "id": "superior-upset",
   "metadata": {},
   "outputs": [
    {
     "data": {
      "text/plain": [
       "<AxesSubplot:>"
      ]
     },
     "execution_count": 8,
     "metadata": {},
     "output_type": "execute_result"
    },
    {
     "data": {
      "image/png": "[encoded data removed]",
      "text/plain": [
       "<Figure size 432x288 with 1 Axes>"
      ]
     },
     "metadata": {
      "needs_background": "light"
     },
     "output_type": "display_data"
    }
   ],
   "source": [
    "np.log10(lsp).hist(bins=np.arange(3.5,6.5,0.1))"
   ]
  },
  {
   "cell_type": "code",
   "execution_count": 9,
   "id": "billion-cream",
   "metadata": {},
   "outputs": [
    {
     "data": {
      "text/plain": [
       "count     121690.0\n",
       "mean       61577.0\n",
       "std        67829.0\n",
       "min          190.0\n",
       "25%        31000.0\n",
       "50%        45200.0\n",
       "75%        73500.0\n",
       "max      5538500.0\n",
       "Name: land_sale_price, dtype: float64"
      ]
     },
     "execution_count": 9,
     "metadata": {},
     "output_type": "execute_result"
    }
   ],
   "source": [
    "np.round(lsp.describe())"
   ]
  },
  {
   "cell_type": "markdown",
   "id": "chronic-massage",
   "metadata": {},
   "source": [
    "### total_sale_price\n",
    "\n",
    "this is what we are going to predict"
   ]
  },
  {
   "cell_type": "code",
   "execution_count": 10,
   "id": "occasional-deputy",
   "metadata": {},
   "outputs": [
    {
     "data": {
      "text/plain": [
       "<AxesSubplot:>"
      ]
     },
     "execution_count": 10,
     "metadata": {},
     "output_type": "execute_result"
    },
    {
     "data": {
      "image/png": "[encoded data removed]",
      "text/plain": [
       "<Figure size 432x288 with 1 Axes>"
      ]
     },
     "metadata": {
      "needs_background": "light"
     },
     "output_type": "display_data"
    }
   ],
   "source": [
    "house_df.total_sale_price.hist(bins=np.arange(0,2e6,1e4))"
   ]
  },
  {
   "cell_type": "code",
   "execution_count": 11,
   "id": "corresponding-radar",
   "metadata": {},
   "outputs": [
    {
     "data": {
      "text/plain": [
       "5.0             1\n",
       "250.0           4\n",
       "313.0          15\n",
       "315.0           1\n",
       "500.0         145\n",
       "             ... \n",
       "24306400.0     17\n",
       "25783000.0      3\n",
       "47925000.0      1\n",
       "70600000.0      4\n",
       "91000000.0      2\n",
       "Name: total_sale_price, Length: 4010, dtype: int64"
      ]
     },
     "execution_count": 11,
     "metadata": {},
     "output_type": "execute_result"
    }
   ],
   "source": [
    "house_df.total_sale_price.value_counts().sort_index()"
   ]
  },
  {
   "cell_type": "code",
   "execution_count": 12,
   "id": "eleven-airplane",
   "metadata": {},
   "outputs": [
    {
     "name": "stdout",
     "output_type": "stream",
     "text": [
      "[5.00e+00 2.60e+04 5.00e+04 6.80e+04 8.05e+04 9.00e+04 9.90e+04 1.05e+05\n",
      " 1.11e+05 1.16e+05]\n",
      "[  551500.   572864.   595000.   620000.   648000.   679500.   724000.\n",
      "   777000.   860000.  1050370. 91000000.]\n"
     ]
    }
   ],
   "source": [
    "tsp = house_df.total_sale_price\n",
    "print(np.percentile(tsp, range(0,10)))\n",
    "print(np.percentile(tsp, range(90,101)))"
   ]
  },
  {
   "cell_type": "code",
   "execution_count": 13,
   "id": "correct-witch",
   "metadata": {},
   "outputs": [
    {
     "name": "stdout",
     "output_type": "stream",
     "text": [
      "[5.00e+00 3.00e+03 8.00e+03 1.50e+04 2.00e+04 2.60e+04 3.10e+04 3.65e+04\n",
      " 4.15e+04 4.60e+04 5.00e+04 5.50e+04 5.90e+04 6.20e+04 6.50e+04 6.80e+04]\n",
      "[ 1050370.          1097766.          1140000.          1190000.\n",
      "  1250000.          1300000.          1380000.          1502960.99999992\n",
      "  1706421.99999979  2071934.99999968 91000000.        ]\n"
     ]
    }
   ],
   "source": [
    "print(np.percentile(tsp, np.arange(0,3.1,0.2)))\n",
    "print(np.percentile(tsp, np.arange(99,100.1,0.1)))"
   ]
  },
  {
   "cell_type": "code",
   "execution_count": 14,
   "id": "diagnostic-ballet",
   "metadata": {},
   "outputs": [
    {
     "data": {
      "text/plain": [
       "<AxesSubplot:>"
      ]
     },
     "execution_count": 14,
     "metadata": {},
     "output_type": "execute_result"
    },
    {
     "data": {
      "image/png": "[encoded data removed]",
      "text/plain": [
       "<Figure size 432x288 with 1 Axes>"
      ]
     },
     "metadata": {
      "needs_background": "light"
     },
     "output_type": "display_data"
    }
   ],
   "source": [
    "l, r = np.percentile(tsp, [1, 99.5])\n",
    "tsp = tsp[(tsp > l) & (tsp < r)]\n",
    "tsp.hist(bins=np.arange(0,1e6,1e4))"
   ]
  },
  {
   "cell_type": "code",
   "execution_count": 15,
   "id": "legal-paintball",
   "metadata": {},
   "outputs": [],
   "source": [
    "# clean 1.5% outliers\n",
    "house_df = house_df[(house_df[\"total_sale_price\"] > l) &\n",
    "                    (house_df[\"total_sale_price\"] < r)]\n",
    "# create log house px\n",
    "house_df[\"log_px\"] = np.log10(house_df[\"total_sale_price\"])"
   ]
  },
  {
   "cell_type": "markdown",
   "id": "robust-twins",
   "metadata": {},
   "source": [
    "somewhere between normal and lognormal"
   ]
  },
  {
   "cell_type": "code",
   "execution_count": 16,
   "id": "appointed-needle",
   "metadata": {},
   "outputs": [
    {
     "data": {
      "text/plain": [
       "<AxesSubplot:>"
      ]
     },
     "execution_count": 16,
     "metadata": {},
     "output_type": "execute_result"
    },
    {
     "data": {
      "image/png": "[encoded data removed]",
      "text/plain": [
       "<Figure size 432x288 with 1 Axes>"
      ]
     },
     "metadata": {
      "needs_background": "light"
     },
     "output_type": "display_data"
    }
   ],
   "source": [
    "np.log10(tsp).hist(bins=np.arange(4,6.5,0.1))"
   ]
  },
  {
   "cell_type": "code",
   "execution_count": 17,
   "id": "fundamental-provision",
   "metadata": {},
   "outputs": [
    {
     "data": {
      "text/plain": [
       "count     279674.0\n",
       "mean      312151.0\n",
       "std       181955.0\n",
       "min        26500.0\n",
       "25%       179500.0\n",
       "50%       275000.0\n",
       "75%       399000.0\n",
       "max      1299000.0\n",
       "Name: total_sale_price, dtype: float64"
      ]
     },
     "execution_count": 17,
     "metadata": {},
     "output_type": "execute_result"
    }
   ],
   "source": [
    "# note this is after dropping 2% outliers\n",
    "np.round(tsp.describe())"
   ]
  },
  {
   "cell_type": "code",
   "execution_count": 18,
   "id": "functioning-third",
   "metadata": {},
   "outputs": [
    {
     "data": {
      "text/plain": [
       "<AxesSubplot:xlabel='year'>"
      ]
     },
     "execution_count": 18,
     "metadata": {},
     "output_type": "execute_result"
    },
    {
     "data": {
      "image/png": "[encoded data removed]",
      "text/plain": [
       "<Figure size 432x288 with 1 Axes>"
      ]
     },
     "metadata": {
      "needs_background": "light"
     },
     "output_type": "display_data"
    }
   ],
   "source": [
    "# see trend\n",
    "house_df.groupby(\"year\")[\"total_sale_price\"].median().plot()"
   ]
  },
  {
   "cell_type": "code",
   "execution_count": 52,
   "id": "incomplete-simulation",
   "metadata": {},
   "outputs": [
    {
     "data": {
      "text/plain": [
       "Index(['land_sale_price', 'total_sale_price', 'deed_date',\n",
       "       'assessed_building_value', 'story_height', 'heated_area', 'utilities',\n",
       "       'bath', 'type_and_use', 'physical_zip_code', 'physical_city',\n",
       "       'mort_rate', 'unemploy_rate', 'pop_growth_rate', 'covid_cases',\n",
       "       'is_covid', 'lumber_price', 'metals_price', 'build_price', 'int_rate',\n",
       "       'manufactured_house_number', 'hai', 'wake_supply_index',\n",
       "       'wake_demand_index', 'year', 'log_px', 'bath_unknown'],\n",
       "      dtype='object')"
      ]
     },
     "execution_count": 52,
     "metadata": {},
     "output_type": "execute_result"
    }
   ],
   "source": [
    "house_df.columns"
   ]
  },
  {
   "cell_type": "code",
   "execution_count": 59,
   "id": "accomplished-cleaning",
   "metadata": {},
   "outputs": [
    {
     "data": {
      "text/plain": [
       "<AxesSubplot:xlabel='year'>"
      ]
     },
     "execution_count": 59,
     "metadata": {},
     "output_type": "execute_result"
    },
    {
     "data": {
      "image/png": "[encoded data removed]",
      "text/plain": [
       "<Figure size 432x288 with 1 Axes>"
      ]
     },
     "metadata": {
      "needs_background": "light"
     },
     "output_type": "display_data"
    }
   ],
   "source": [
    "house_df[[\"lumber_price\",\"metals_price\",\"year\"]].drop_duplicates([\"year\"]).set_index(\"year\").sort_index().plot()"
   ]
  },
  {
   "cell_type": "code",
   "execution_count": 60,
   "id": "mexican-tokyo",
   "metadata": {},
   "outputs": [
    {
     "data": {
      "text/plain": [
       "<AxesSubplot:xlabel='year'>"
      ]
     },
     "execution_count": 60,
     "metadata": {},
     "output_type": "execute_result"
    },
    {
     "data": {
      "image/png": "[encoded data removed]",
      "text/plain": [
       "<Figure size 432x288 with 1 Axes>"
      ]
     },
     "metadata": {
      "needs_background": "light"
     },
     "output_type": "display_data"
    }
   ],
   "source": [
    "house_df[[\"mort_rate\",\"year\"]].drop_duplicates([\"year\"]).set_index(\"year\").sort_index().plot()"
   ]
  },
  {
   "cell_type": "code",
   "execution_count": 63,
   "id": "necessary-columbia",
   "metadata": {},
   "outputs": [
    {
     "data": {
      "text/plain": [
       "<AxesSubplot:xlabel='year'>"
      ]
     },
     "execution_count": 63,
     "metadata": {},
     "output_type": "execute_result"
    },
    {
     "data": {
      "image/png": "[encoded data removed]",
      "text/plain": [
       "<Figure size 432x288 with 1 Axes>"
      ]
     },
     "metadata": {
      "needs_background": "light"
     },
     "output_type": "display_data"
    }
   ],
   "source": [
    "house_df[[\"pop_growth_rate\",\"year\"]].drop_duplicates([\"year\"]).set_index(\"year\").sort_index().plot()"
   ]
  },
  {
   "cell_type": "markdown",
   "id": "alike-variety",
   "metadata": {},
   "source": [
    "### deed_date"
   ]
  },
  {
   "cell_type": "code",
   "execution_count": 19,
   "id": "satellite-interim",
   "metadata": {},
   "outputs": [
    {
     "data": {
      "text/plain": [
       "<AxesSubplot:>"
      ]
     },
     "execution_count": 19,
     "metadata": {},
     "output_type": "execute_result"
    },
    {
     "data": {
      "image/png": "[encoded data removed]",
      "text/plain": [
       "<Figure size 432x288 with 1 Axes>"
      ]
     },
     "metadata": {
      "needs_background": "light"
     },
     "output_type": "display_data"
    }
   ],
   "source": [
    "# seeing some trend changes\n",
    "house_df[\"year\"].value_counts().sort_index().plot()"
   ]
  },
  {
   "cell_type": "markdown",
   "id": "sitting-civilization",
   "metadata": {},
   "source": [
    "### assessed_building_value"
   ]
  },
  {
   "cell_type": "code",
   "execution_count": 20,
   "id": "numerical-illness",
   "metadata": {},
   "outputs": [
    {
     "data": {
      "text/plain": [
       "<AxesSubplot:>"
      ]
     },
     "execution_count": 20,
     "metadata": {},
     "output_type": "execute_result"
    },
    {
     "data": {
      "image/png": "[encoded data removed]",
      "text/plain": [
       "<Figure size 432x288 with 1 Axes>"
      ]
     },
     "metadata": {
      "needs_background": "light"
     },
     "output_type": "display_data"
    }
   ],
   "source": [
    "house_df.assessed_building_value.hist(bins=np.arange(0,1e7,1e4))"
   ]
  },
  {
   "cell_type": "code",
   "execution_count": 21,
   "id": "competent-barbados",
   "metadata": {},
   "outputs": [
    {
     "data": {
      "text/plain": [
       "count      279674.0\n",
       "mean       259558.0\n",
       "std        148629.0\n",
       "min             0.0\n",
       "25%        164443.0\n",
       "50%        231192.0\n",
       "75%        322098.0\n",
       "max      18296504.0\n",
       "Name: assessed_building_value, dtype: float64"
      ]
     },
     "execution_count": 21,
     "metadata": {},
     "output_type": "execute_result"
    }
   ],
   "source": [
    "np.round(house_df.assessed_building_value.describe())"
   ]
  },
  {
   "cell_type": "markdown",
   "id": "behavioral-copyright",
   "metadata": {},
   "source": [
    "### story_height"
   ]
  },
  {
   "cell_type": "code",
   "execution_count": 22,
   "id": "happy-treasury",
   "metadata": {},
   "outputs": [
    {
     "data": {
      "text/plain": [
       "2.00    133290\n",
       "1.00     81175\n",
       "1.50     20237\n",
       "1.75     18690\n",
       "1.88     12516\n",
       "1.63      6924\n",
       "1.40      4347\n",
       "3.00      1260\n",
       "2.50         6\n",
       "2.40         3\n",
       "2.63         1\n",
       "2.75         1\n",
       "Name: story_height, dtype: int64"
      ]
     },
     "execution_count": 22,
     "metadata": {},
     "output_type": "execute_result"
    }
   ],
   "source": [
    "house_df.story_height.value_counts()"
   ]
  },
  {
   "cell_type": "markdown",
   "id": "piano-feeling",
   "metadata": {},
   "source": [
    "The numeric value for story height does not have linear relationship with price\n",
    "\n",
    "Non-integer story heights of 1.4, 1.5, 1.63, etc. may correspond to multiple levels, hence better price than 2 story.\n",
    "We need to investigate more the usefulness of this feature."
   ]
  },
  {
   "cell_type": "code",
   "execution_count": 72,
   "id": "french-princeton",
   "metadata": {},
   "outputs": [
    {
     "data": {
      "text/plain": [
       "<AxesSubplot:xlabel='story_height'>"
      ]
     },
     "execution_count": 72,
     "metadata": {},
     "output_type": "execute_result"
    },
    {
     "data": {
      "image/png": "[encoded data removed]",
      "text/plain": [
       "<Figure size 432x288 with 1 Axes>"
      ]
     },
     "metadata": {
      "needs_background": "light"
     },
     "output_type": "display_data"
    }
   ],
   "source": [
    "house_df[(house_df[\"story_height\"] <= 2)].groupby(\"story_height\")[\"total_sale_price\"].median().sort_index().plot()"
   ]
  },
  {
   "cell_type": "code",
   "execution_count": 24,
   "id": "friendly-oregon",
   "metadata": {},
   "outputs": [
    {
     "data": {
      "text/plain": [
       "<AxesSubplot:>"
      ]
     },
     "execution_count": 24,
     "metadata": {},
     "output_type": "execute_result"
    },
    {
     "data": {
      "image/png": "[encoded data removed]",
      "text/plain": [
       "<Figure size 432x288 with 1 Axes>"
      ]
     },
     "metadata": {
      "needs_background": "light"
     },
     "output_type": "display_data"
    }
   ],
   "source": [
    "np.log10(house_df[(house_df[\"story_height\"] == 2)][\"total_sale_price\"]).hist(bins=np.arange(4,7,0.1))"
   ]
  },
  {
   "cell_type": "code",
   "execution_count": 25,
   "id": "parental-hazard",
   "metadata": {},
   "outputs": [
    {
     "data": {
      "text/plain": [
       "<AxesSubplot:>"
      ]
     },
     "execution_count": 25,
     "metadata": {},
     "output_type": "execute_result"
    },
    {
     "data": {
      "image/png": "[encoded data removed]",
      "text/plain": [
       "<Figure size 432x288 with 1 Axes>"
      ]
     },
     "metadata": {
      "needs_background": "light"
     },
     "output_type": "display_data"
    }
   ],
   "source": [
    "np.log10(house_df[(house_df[\"story_height\"] == 1.5)][\"total_sale_price\"]).hist(bins=np.arange(4,7,0.1))"
   ]
  },
  {
   "cell_type": "code",
   "execution_count": 26,
   "id": "resident-friendship",
   "metadata": {},
   "outputs": [
    {
     "data": {
      "text/plain": [
       "<AxesSubplot:>"
      ]
     },
     "execution_count": 26,
     "metadata": {},
     "output_type": "execute_result"
    },
    {
     "data": {
      "image/png": "[encoded data removed]",
      "text/plain": [
       "<Figure size 432x288 with 1 Axes>"
      ]
     },
     "metadata": {
      "needs_background": "light"
     },
     "output_type": "display_data"
    }
   ],
   "source": [
    "np.log10(house_df[(house_df[\"story_height\"] == 1.5)][\"total_sale_price\"]).hist(bins=np.arange(4,7,0.1))"
   ]
  },
  {
   "cell_type": "code",
   "execution_count": 27,
   "id": "divided-amazon",
   "metadata": {},
   "outputs": [
    {
     "data": {
      "text/plain": [
       "story_height\n",
       "1.50    AxesSubplot(0.125,0.125;0.775x0.755)\n",
       "1.75    AxesSubplot(0.125,0.125;0.775x0.755)\n",
       "1.88    AxesSubplot(0.125,0.125;0.775x0.755)\n",
       "Name: total_sale_price, dtype: object"
      ]
     },
     "execution_count": 27,
     "metadata": {},
     "output_type": "execute_result"
    },
    {
     "data": {
      "image/png": "[encoded data removed]",
      "text/plain": [
       "<Figure size 432x288 with 1 Axes>"
      ]
     },
     "metadata": {
      "needs_background": "light"
     },
     "output_type": "display_data"
    }
   ],
   "source": [
    "house_df[(house_df[\"story_height\"].isin([1.5,1.75,1.88]))].groupby(\"story_height\")\\\n",
    "    [\"total_sale_price\"].hist(bins=np.arange(0,1e6,2e4))"
   ]
  },
  {
   "cell_type": "code",
   "execution_count": 28,
   "id": "suburban-million",
   "metadata": {},
   "outputs": [
    {
     "data": {
      "text/plain": [
       "story_height\n",
       "1.4    AxesSubplot(0.125,0.125;0.775x0.755)\n",
       "Name: total_sale_price, dtype: object"
      ]
     },
     "execution_count": 28,
     "metadata": {},
     "output_type": "execute_result"
    },
    {
     "data": {
      "image/png": "[encoded data removed]",
      "text/plain": [
       "<Figure size 432x288 with 1 Axes>"
      ]
     },
     "metadata": {
      "needs_background": "light"
     },
     "output_type": "display_data"
    }
   ],
   "source": [
    "house_df[(house_df[\"story_height\"].isin([1.4]))].groupby(\"story_height\")\\\n",
    "    [\"total_sale_price\"].hist(bins=np.arange(0,1e6,2e4))"
   ]
  },
  {
   "cell_type": "code",
   "execution_count": 29,
   "id": "nearby-identifier",
   "metadata": {},
   "outputs": [
    {
     "data": {
      "text/plain": [
       "<AxesSubplot:xlabel='story_height'>"
      ]
     },
     "execution_count": 29,
     "metadata": {},
     "output_type": "execute_result"
    },
    {
     "data": {
      "image/png": "[encoded data removed]",
      "text/plain": [
       "<Figure size 432x288 with 1 Axes>"
      ]
     },
     "metadata": {
      "needs_background": "light"
     },
     "output_type": "display_data"
    }
   ],
   "source": [
    "house_df[(house_df[\"story_height\"] <= 3)].groupby(\"story_height\")[\"total_sale_price\"].std().sort_index().plot()"
   ]
  },
  {
   "cell_type": "code",
   "execution_count": 51,
   "id": "innovative-insight",
   "metadata": {},
   "outputs": [
    {
     "data": {
      "text/plain": [
       "<AxesSubplot:xlabel='story_height'>"
      ]
     },
     "execution_count": 51,
     "metadata": {},
     "output_type": "execute_result"
    },
    {
     "data": {
      "image/png": "[encoded data removed]",
      "text/plain": [
       "<Figure size 432x288 with 1 Axes>"
      ]
     },
     "metadata": {
      "needs_background": "light"
     },
     "output_type": "display_data"
    }
   ],
   "source": [
    "house_df[(house_df[\"story_height\"] <= 3)].groupby(\"story_height\")[\"log_px\"].std().sort_index().plot()"
   ]
  },
  {
   "cell_type": "markdown",
   "id": "straight-seller",
   "metadata": {},
   "source": [
    "### bath"
   ]
  },
  {
   "cell_type": "code",
   "execution_count": 30,
   "id": "annual-pillow",
   "metadata": {},
   "outputs": [
    {
     "name": "stdout",
     "output_type": "stream",
     "text": [
      "0.0     10269\n",
      "1.0      9127\n",
      "1.5      8043\n",
      "2.0     48189\n",
      "2.5    118981\n",
      "3.0     28336\n",
      "3.5     55491\n",
      "Name: bath, dtype: int64\n"
     ]
    }
   ],
   "source": [
    "# create two features \"bath_unknown\" for bath==0, and \"bath\" for bath >= 0\n",
    "# \"bath_unknown\" includes \"adequate, no plumbing, limited plumbing, no of fixtures\"\n",
    "print(house_df.bath.value_counts().sort_index())\n",
    "house_df[\"bath_unknown\"] = 0\n",
    "house_df.loc[(house_df[\"bath\"] == 0), \"bath_unknown\"] = 1"
   ]
  },
  {
   "cell_type": "code",
   "execution_count": 31,
   "id": "hybrid-vienna",
   "metadata": {},
   "outputs": [
    {
     "data": {
      "text/plain": [
       "<AxesSubplot:xlabel='bath'>"
      ]
     },
     "execution_count": 31,
     "metadata": {},
     "output_type": "execute_result"
    },
    {
     "data": {
      "image/png": "[encoded data removed]",
      "text/plain": [
       "<Figure size 432x288 with 1 Axes>"
      ]
     },
     "metadata": {
      "needs_background": "light"
     },
     "output_type": "display_data"
    }
   ],
   "source": [
    "# from the avg price we see \"bath_unknown\"s' median is somewhere between 1 - 3.5 baths\n",
    "# so it should not be treated as 0 baths.\n",
    "house_df.groupby(\"bath\")[\"total_sale_price\"].median().plot()"
   ]
  },
  {
   "cell_type": "code",
   "execution_count": 32,
   "id": "abandoned-entity",
   "metadata": {},
   "outputs": [
    {
     "data": {
      "text/plain": [
       "<AxesSubplot:xlabel='bath'>"
      ]
     },
     "execution_count": 32,
     "metadata": {},
     "output_type": "execute_result"
    },
    {
     "data": {
      "image/png": "[encoded data removed]",
      "text/plain": [
       "<Figure size 432x288 with 1 Axes>"
      ]
     },
     "metadata": {
      "needs_background": "light"
     },
     "output_type": "display_data"
    }
   ],
   "source": [
    "house_df.groupby(\"bath\")[\"total_sale_price\"].std().plot()"
   ]
  },
  {
   "cell_type": "code",
   "execution_count": 33,
   "id": "sunset-postcard",
   "metadata": {},
   "outputs": [
    {
     "data": {
      "text/plain": [
       "<AxesSubplot:xlabel='bath'>"
      ]
     },
     "execution_count": 33,
     "metadata": {},
     "output_type": "execute_result"
    },
    {
     "data": {
      "image/png": "[encoded data removed]",
      "text/plain": [
       "<Figure size 432x288 with 1 Axes>"
      ]
     },
     "metadata": {
      "needs_background": "light"
     },
     "output_type": "display_data"
    }
   ],
   "source": [
    "house_df[(house_df[\"bath\"] >= 1)].groupby(\"bath\")[\"total_sale_price\"].std().plot()"
   ]
  },
  {
   "cell_type": "code",
   "execution_count": 34,
   "id": "chemical-durham",
   "metadata": {},
   "outputs": [
    {
     "data": {
      "text/plain": [
       "<AxesSubplot:xlabel='bath'>"
      ]
     },
     "execution_count": 34,
     "metadata": {},
     "output_type": "execute_result"
    },
    {
     "data": {
      "image/png": "[encoded data removed]",
      "text/plain": [
       "<Figure size 432x288 with 1 Axes>"
      ]
     },
     "metadata": {
      "needs_background": "light"
     },
     "output_type": "display_data"
    }
   ],
   "source": [
    "house_df[(house_df[\"bath\"] >= 1)].groupby(\"bath\")[\"log_px\"].std().plot()"
   ]
  },
  {
   "cell_type": "code",
   "execution_count": 39,
   "id": "peaceful-clinic",
   "metadata": {},
   "outputs": [
    {
     "data": {
      "text/plain": [
       "<AxesSubplot:>"
      ]
     },
     "execution_count": 39,
     "metadata": {},
     "output_type": "execute_result"
    },
    {
     "data": {
      "image/png": "[encoded data removed]",
      "text/plain": [
       "<Figure size 432x288 with 1 Axes>"
      ]
     },
     "metadata": {
      "needs_background": "light"
     },
     "output_type": "display_data"
    }
   ],
   "source": [
    "house_df[(house_df[\"bath\"]==1)][\"total_sale_price\"].hist(bins=np.arange())"
   ]
  },
  {
   "cell_type": "markdown",
   "id": "minimal-macedonia",
   "metadata": {},
   "source": [
    "### type_use"
   ]
  },
  {
   "cell_type": "code",
   "execution_count": 38,
   "id": "operational-punch",
   "metadata": {},
   "outputs": [
    {
     "name": "stdout",
     "output_type": "stream",
     "text": [
      "1.0    279643\n",
      "Name: type_and_use, dtype: int64\n"
     ]
    }
   ],
   "source": [
    "print(house_df[\"type_and_use\"].value_counts())\n",
    "house_df = house_df[(house_df[\"type_and_use\"] == 1)]"
   ]
  },
  {
   "cell_type": "markdown",
   "id": "passive-survival",
   "metadata": {},
   "source": [
    "### physical_zip_code"
   ]
  },
  {
   "cell_type": "code",
   "execution_count": 42,
   "id": "continent-psychiatry",
   "metadata": {},
   "outputs": [
    {
     "name": "stdout",
     "output_type": "stream",
     "text": [
      "27587    20068\n",
      "27519    16889\n",
      "27610    16241\n",
      "27526    15351\n",
      "27616    14852\n",
      "27502    14239\n",
      "27540    13611\n",
      "27603    12088\n",
      "27615    11584\n",
      "27613    11067\n",
      "27513    10908\n",
      "27604    10629\n",
      "27614     9437\n",
      "27612     8929\n",
      "27529     8537\n",
      "27545     8022\n",
      "27511     7779\n",
      "27606     7465\n",
      "27609     7234\n",
      "27560     7186\n",
      "27539     6909\n",
      "27591     5176\n",
      "27518     5080\n",
      "27523     4581\n",
      "27617     4576\n",
      "27597     3972\n",
      "27607     3725\n",
      "27608     3171\n",
      "27571     2702\n",
      "27592     2368\n",
      "27601     1691\n",
      "27605     1388\n",
      "27562     1184\n",
      "27501      339\n",
      "27520      235\n",
      "27703      144\n",
      "27596      124\n",
      "27522       53\n",
      "27713        1\n",
      "Name: physical_zip_code, dtype: int64\n"
     ]
    }
   ],
   "source": [
    "print(house_df[\"physical_zip_code\"].value_counts())\n",
    "house_df = house_df[(house_df[\"physical_zip_code\"] != 0)]"
   ]
  },
  {
   "cell_type": "code",
   "execution_count": 48,
   "id": "juvenile-dodge",
   "metadata": {},
   "outputs": [
    {
     "data": {
      "text/html": [
       "<div>\n",
       "<style scoped>\n",
       "    .dataframe tbody tr th:only-of-type {\n",
       "        vertical-align: middle;\n",
       "    }\n",
       "\n",
       "    .dataframe tbody tr th {\n",
       "        vertical-align: top;\n",
       "    }\n",
       "\n",
       "    .dataframe thead th {\n",
       "        text-align: right;\n",
       "    }\n",
       "</style>\n",
       "<table border=\"1\" class=\"dataframe\">\n",
       "  <thead>\n",
       "    <tr style=\"text-align: right;\">\n",
       "      <th></th>\n",
       "      <th>count</th>\n",
       "      <th>mean</th>\n",
       "      <th>std</th>\n",
       "      <th>min</th>\n",
       "      <th>25%</th>\n",
       "      <th>50%</th>\n",
       "      <th>75%</th>\n",
       "      <th>max</th>\n",
       "    </tr>\n",
       "    <tr>\n",
       "      <th>physical_zip_code</th>\n",
       "      <th></th>\n",
       "      <th></th>\n",
       "      <th></th>\n",
       "      <th></th>\n",
       "      <th></th>\n",
       "      <th></th>\n",
       "      <th></th>\n",
       "      <th></th>\n",
       "    </tr>\n",
       "  </thead>\n",
       "  <tbody>\n",
       "    <tr>\n",
       "      <th>27703</th>\n",
       "      <td>144.0</td>\n",
       "      <td>5.445853</td>\n",
       "      <td>0.091207</td>\n",
       "      <td>5.093422</td>\n",
       "      <td>5.387167</td>\n",
       "      <td>5.436951</td>\n",
       "      <td>5.495024</td>\n",
       "      <td>5.732394</td>\n",
       "    </tr>\n",
       "    <tr>\n",
       "      <th>27501</th>\n",
       "      <td>339.0</td>\n",
       "      <td>5.445203</td>\n",
       "      <td>0.126783</td>\n",
       "      <td>4.716003</td>\n",
       "      <td>5.391816</td>\n",
       "      <td>5.447158</td>\n",
       "      <td>5.509874</td>\n",
       "      <td>5.767156</td>\n",
       "    </tr>\n",
       "    <tr>\n",
       "      <th>27571</th>\n",
       "      <td>2702.0</td>\n",
       "      <td>5.490098</td>\n",
       "      <td>0.172520</td>\n",
       "      <td>4.537819</td>\n",
       "      <td>5.390935</td>\n",
       "      <td>5.505150</td>\n",
       "      <td>5.603144</td>\n",
       "      <td>6.068260</td>\n",
       "    </tr>\n",
       "    <tr>\n",
       "      <th>27519</th>\n",
       "      <td>16889.0</td>\n",
       "      <td>5.586230</td>\n",
       "      <td>0.184281</td>\n",
       "      <td>4.447158</td>\n",
       "      <td>5.469822</td>\n",
       "      <td>5.588832</td>\n",
       "      <td>5.716003</td>\n",
       "      <td>6.110590</td>\n",
       "    </tr>\n",
       "    <tr>\n",
       "      <th>27560</th>\n",
       "      <td>7186.0</td>\n",
       "      <td>5.451725</td>\n",
       "      <td>0.186176</td>\n",
       "      <td>4.477121</td>\n",
       "      <td>5.322219</td>\n",
       "      <td>5.471292</td>\n",
       "      <td>5.572872</td>\n",
       "      <td>6.105510</td>\n",
       "    </tr>\n",
       "    <tr>\n",
       "      <th>27616</th>\n",
       "      <td>14852.0</td>\n",
       "      <td>5.305152</td>\n",
       "      <td>0.189021</td>\n",
       "      <td>4.431364</td>\n",
       "      <td>5.174277</td>\n",
       "      <td>5.311754</td>\n",
       "      <td>5.439333</td>\n",
       "      <td>6.041393</td>\n",
       "    </tr>\n",
       "    <tr>\n",
       "      <th>27523</th>\n",
       "      <td>4581.0</td>\n",
       "      <td>5.632590</td>\n",
       "      <td>0.198591</td>\n",
       "      <td>4.439333</td>\n",
       "      <td>5.505150</td>\n",
       "      <td>5.643453</td>\n",
       "      <td>5.769746</td>\n",
       "      <td>6.113442</td>\n",
       "    </tr>\n",
       "    <tr>\n",
       "      <th>27520</th>\n",
       "      <td>235.0</td>\n",
       "      <td>5.242791</td>\n",
       "      <td>0.198776</td>\n",
       "      <td>4.423246</td>\n",
       "      <td>5.113943</td>\n",
       "      <td>5.230449</td>\n",
       "      <td>5.397940</td>\n",
       "      <td>5.724276</td>\n",
       "    </tr>\n",
       "    <tr>\n",
       "      <th>27562</th>\n",
       "      <td>1184.0</td>\n",
       "      <td>5.636989</td>\n",
       "      <td>0.202372</td>\n",
       "      <td>4.431364</td>\n",
       "      <td>5.582063</td>\n",
       "      <td>5.642465</td>\n",
       "      <td>5.716838</td>\n",
       "      <td>6.107549</td>\n",
       "    </tr>\n",
       "    <tr>\n",
       "      <th>27592</th>\n",
       "      <td>2368.0</td>\n",
       "      <td>5.372543</td>\n",
       "      <td>0.202376</td>\n",
       "      <td>4.423246</td>\n",
       "      <td>5.243038</td>\n",
       "      <td>5.389166</td>\n",
       "      <td>5.517196</td>\n",
       "      <td>5.949390</td>\n",
       "    </tr>\n",
       "    <tr>\n",
       "      <th>27518</th>\n",
       "      <td>5080.0</td>\n",
       "      <td>5.567739</td>\n",
       "      <td>0.202724</td>\n",
       "      <td>4.462398</td>\n",
       "      <td>5.456935</td>\n",
       "      <td>5.579784</td>\n",
       "      <td>5.694605</td>\n",
       "      <td>6.111934</td>\n",
       "    </tr>\n",
       "    <tr>\n",
       "      <th>27502</th>\n",
       "      <td>14239.0</td>\n",
       "      <td>5.500247</td>\n",
       "      <td>0.204654</td>\n",
       "      <td>4.431364</td>\n",
       "      <td>5.372912</td>\n",
       "      <td>5.512551</td>\n",
       "      <td>5.638489</td>\n",
       "      <td>6.110590</td>\n",
       "    </tr>\n",
       "    <tr>\n",
       "      <th>27526</th>\n",
       "      <td>15351.0</td>\n",
       "      <td>5.420962</td>\n",
       "      <td>0.206498</td>\n",
       "      <td>4.431364</td>\n",
       "      <td>5.301030</td>\n",
       "      <td>5.443732</td>\n",
       "      <td>5.559308</td>\n",
       "      <td>6.113609</td>\n",
       "    </tr>\n",
       "    <tr>\n",
       "      <th>27617</th>\n",
       "      <td>4576.0</td>\n",
       "      <td>5.458159</td>\n",
       "      <td>0.209509</td>\n",
       "      <td>4.477121</td>\n",
       "      <td>5.320146</td>\n",
       "      <td>5.442480</td>\n",
       "      <td>5.595083</td>\n",
       "      <td>6.106021</td>\n",
       "    </tr>\n",
       "    <tr>\n",
       "      <th>27540</th>\n",
       "      <td>13611.0</td>\n",
       "      <td>5.506706</td>\n",
       "      <td>0.209695</td>\n",
       "      <td>4.431364</td>\n",
       "      <td>5.364551</td>\n",
       "      <td>5.527630</td>\n",
       "      <td>5.653213</td>\n",
       "      <td>6.105510</td>\n",
       "    </tr>\n",
       "    <tr>\n",
       "      <th>27545</th>\n",
       "      <td>8022.0</td>\n",
       "      <td>5.296453</td>\n",
       "      <td>0.213754</td>\n",
       "      <td>4.439333</td>\n",
       "      <td>5.143405</td>\n",
       "      <td>5.311754</td>\n",
       "      <td>5.453318</td>\n",
       "      <td>6.000000</td>\n",
       "    </tr>\n",
       "    <tr>\n",
       "      <th>27539</th>\n",
       "      <td>6909.0</td>\n",
       "      <td>5.524604</td>\n",
       "      <td>0.215519</td>\n",
       "      <td>4.447158</td>\n",
       "      <td>5.397940</td>\n",
       "      <td>5.555094</td>\n",
       "      <td>5.672560</td>\n",
       "      <td>6.105510</td>\n",
       "    </tr>\n",
       "    <tr>\n",
       "      <th>27596</th>\n",
       "      <td>124.0</td>\n",
       "      <td>5.162464</td>\n",
       "      <td>0.223047</td>\n",
       "      <td>4.477121</td>\n",
       "      <td>5.021189</td>\n",
       "      <td>5.113943</td>\n",
       "      <td>5.297756</td>\n",
       "      <td>5.672560</td>\n",
       "    </tr>\n",
       "    <tr>\n",
       "      <th>27587</th>\n",
       "      <td>20068.0</td>\n",
       "      <td>5.494975</td>\n",
       "      <td>0.229075</td>\n",
       "      <td>4.431364</td>\n",
       "      <td>5.371068</td>\n",
       "      <td>5.517855</td>\n",
       "      <td>5.638489</td>\n",
       "      <td>6.113609</td>\n",
       "    </tr>\n",
       "    <tr>\n",
       "      <th>27610</th>\n",
       "      <td>16241.0</td>\n",
       "      <td>5.199880</td>\n",
       "      <td>0.229129</td>\n",
       "      <td>4.423246</td>\n",
       "      <td>5.079181</td>\n",
       "      <td>5.193125</td>\n",
       "      <td>5.336460</td>\n",
       "      <td>6.052694</td>\n",
       "    </tr>\n",
       "    <tr>\n",
       "      <th>27613</th>\n",
       "      <td>11067.0</td>\n",
       "      <td>5.469432</td>\n",
       "      <td>0.232614</td>\n",
       "      <td>4.431364</td>\n",
       "      <td>5.313867</td>\n",
       "      <td>5.477121</td>\n",
       "      <td>5.626853</td>\n",
       "      <td>6.107549</td>\n",
       "    </tr>\n",
       "    <tr>\n",
       "      <th>27614</th>\n",
       "      <td>9437.0</td>\n",
       "      <td>5.539455</td>\n",
       "      <td>0.233664</td>\n",
       "      <td>4.462398</td>\n",
       "      <td>5.387390</td>\n",
       "      <td>5.550228</td>\n",
       "      <td>5.689309</td>\n",
       "      <td>6.113107</td>\n",
       "    </tr>\n",
       "    <tr>\n",
       "      <th>27513</th>\n",
       "      <td>10908.0</td>\n",
       "      <td>5.453513</td>\n",
       "      <td>0.238393</td>\n",
       "      <td>4.423246</td>\n",
       "      <td>5.292256</td>\n",
       "      <td>5.462398</td>\n",
       "      <td>5.618048</td>\n",
       "      <td>6.109916</td>\n",
       "    </tr>\n",
       "    <tr>\n",
       "      <th>27604</th>\n",
       "      <td>10629.0</td>\n",
       "      <td>5.259264</td>\n",
       "      <td>0.238562</td>\n",
       "      <td>4.423246</td>\n",
       "      <td>5.113943</td>\n",
       "      <td>5.238046</td>\n",
       "      <td>5.414973</td>\n",
       "      <td>6.094122</td>\n",
       "    </tr>\n",
       "    <tr>\n",
       "      <th>27603</th>\n",
       "      <td>12088.0</td>\n",
       "      <td>5.343242</td>\n",
       "      <td>0.250412</td>\n",
       "      <td>4.423246</td>\n",
       "      <td>5.186108</td>\n",
       "      <td>5.361728</td>\n",
       "      <td>5.518514</td>\n",
       "      <td>6.112270</td>\n",
       "    </tr>\n",
       "    <tr>\n",
       "      <th>27597</th>\n",
       "      <td>3972.0</td>\n",
       "      <td>5.299267</td>\n",
       "      <td>0.251723</td>\n",
       "      <td>4.431364</td>\n",
       "      <td>5.161368</td>\n",
       "      <td>5.360783</td>\n",
       "      <td>5.459581</td>\n",
       "      <td>6.088136</td>\n",
       "    </tr>\n",
       "    <tr>\n",
       "      <th>27529</th>\n",
       "      <td>8537.0</td>\n",
       "      <td>5.288506</td>\n",
       "      <td>0.252426</td>\n",
       "      <td>4.423246</td>\n",
       "      <td>5.127105</td>\n",
       "      <td>5.308564</td>\n",
       "      <td>5.477121</td>\n",
       "      <td>6.077186</td>\n",
       "    </tr>\n",
       "    <tr>\n",
       "      <th>27591</th>\n",
       "      <td>5176.0</td>\n",
       "      <td>5.303084</td>\n",
       "      <td>0.258831</td>\n",
       "      <td>4.431364</td>\n",
       "      <td>5.130334</td>\n",
       "      <td>5.352183</td>\n",
       "      <td>5.488551</td>\n",
       "      <td>5.972666</td>\n",
       "    </tr>\n",
       "    <tr>\n",
       "      <th>27612</th>\n",
       "      <td>8929.0</td>\n",
       "      <td>5.455719</td>\n",
       "      <td>0.261252</td>\n",
       "      <td>4.431364</td>\n",
       "      <td>5.298853</td>\n",
       "      <td>5.457882</td>\n",
       "      <td>5.629410</td>\n",
       "      <td>6.109747</td>\n",
       "    </tr>\n",
       "    <tr>\n",
       "      <th>27511</th>\n",
       "      <td>7779.0</td>\n",
       "      <td>5.351055</td>\n",
       "      <td>0.263234</td>\n",
       "      <td>4.423246</td>\n",
       "      <td>5.190332</td>\n",
       "      <td>5.352183</td>\n",
       "      <td>5.519828</td>\n",
       "      <td>6.112270</td>\n",
       "    </tr>\n",
       "    <tr>\n",
       "      <th>27615</th>\n",
       "      <td>11584.0</td>\n",
       "      <td>5.429852</td>\n",
       "      <td>0.267776</td>\n",
       "      <td>4.431364</td>\n",
       "      <td>5.249198</td>\n",
       "      <td>5.439333</td>\n",
       "      <td>5.624798</td>\n",
       "      <td>6.109410</td>\n",
       "    </tr>\n",
       "    <tr>\n",
       "      <th>27607</th>\n",
       "      <td>3725.0</td>\n",
       "      <td>5.512962</td>\n",
       "      <td>0.295987</td>\n",
       "      <td>4.423246</td>\n",
       "      <td>5.352183</td>\n",
       "      <td>5.528917</td>\n",
       "      <td>5.707570</td>\n",
       "      <td>6.112270</td>\n",
       "    </tr>\n",
       "    <tr>\n",
       "      <th>27606</th>\n",
       "      <td>7465.0</td>\n",
       "      <td>5.333500</td>\n",
       "      <td>0.300704</td>\n",
       "      <td>4.423246</td>\n",
       "      <td>5.123852</td>\n",
       "      <td>5.345374</td>\n",
       "      <td>5.550228</td>\n",
       "      <td>6.110758</td>\n",
       "    </tr>\n",
       "    <tr>\n",
       "      <th>27608</th>\n",
       "      <td>3171.0</td>\n",
       "      <td>5.628290</td>\n",
       "      <td>0.301583</td>\n",
       "      <td>4.439333</td>\n",
       "      <td>5.469822</td>\n",
       "      <td>5.680336</td>\n",
       "      <td>5.848189</td>\n",
       "      <td>6.112437</td>\n",
       "    </tr>\n",
       "    <tr>\n",
       "      <th>27605</th>\n",
       "      <td>1388.0</td>\n",
       "      <td>5.419439</td>\n",
       "      <td>0.311741</td>\n",
       "      <td>4.423246</td>\n",
       "      <td>5.235528</td>\n",
       "      <td>5.398807</td>\n",
       "      <td>5.619093</td>\n",
       "      <td>6.110590</td>\n",
       "    </tr>\n",
       "    <tr>\n",
       "      <th>27609</th>\n",
       "      <td>7234.0</td>\n",
       "      <td>5.384484</td>\n",
       "      <td>0.317839</td>\n",
       "      <td>4.423246</td>\n",
       "      <td>5.176091</td>\n",
       "      <td>5.383815</td>\n",
       "      <td>5.612121</td>\n",
       "      <td>6.112773</td>\n",
       "    </tr>\n",
       "    <tr>\n",
       "      <th>27601</th>\n",
       "      <td>1691.0</td>\n",
       "      <td>5.442352</td>\n",
       "      <td>0.333559</td>\n",
       "      <td>4.423246</td>\n",
       "      <td>5.290035</td>\n",
       "      <td>5.521138</td>\n",
       "      <td>5.672098</td>\n",
       "      <td>6.088136</td>\n",
       "    </tr>\n",
       "    <tr>\n",
       "      <th>27522</th>\n",
       "      <td>53.0</td>\n",
       "      <td>5.250936</td>\n",
       "      <td>0.373306</td>\n",
       "      <td>4.447158</td>\n",
       "      <td>4.954243</td>\n",
       "      <td>5.230449</td>\n",
       "      <td>5.544068</td>\n",
       "      <td>6.021189</td>\n",
       "    </tr>\n",
       "    <tr>\n",
       "      <th>27713</th>\n",
       "      <td>1.0</td>\n",
       "      <td>4.869232</td>\n",
       "      <td>NaN</td>\n",
       "      <td>4.869232</td>\n",
       "      <td>4.869232</td>\n",
       "      <td>4.869232</td>\n",
       "      <td>4.869232</td>\n",
       "      <td>4.869232</td>\n",
       "    </tr>\n",
       "  </tbody>\n",
       "</table>\n",
       "</div>"
      ],
      "text/plain": [
       "                     count      mean       std       min       25%       50%  \\\n",
       "physical_zip_code                                                              \n",
       "27703                144.0  5.445853  0.091207  5.093422  5.387167  5.436951   \n",
       "27501                339.0  5.445203  0.126783  4.716003  5.391816  5.447158   \n",
       "27571               2702.0  5.490098  0.172520  4.537819  5.390935  5.505150   \n",
       "27519              16889.0  5.586230  0.184281  4.447158  5.469822  5.588832   \n",
       "27560               7186.0  5.451725  0.186176  4.477121  5.322219  5.471292   \n",
       "27616              14852.0  5.305152  0.189021  4.431364  5.174277  5.311754   \n",
       "27523               4581.0  5.632590  0.198591  4.439333  5.505150  5.643453   \n",
       "27520                235.0  5.242791  0.198776  4.423246  5.113943  5.230449   \n",
       "27562               1184.0  5.636989  0.202372  4.431364  5.582063  5.642465   \n",
       "27592               2368.0  5.372543  0.202376  4.423246  5.243038  5.389166   \n",
       "27518               5080.0  5.567739  0.202724  4.462398  5.456935  5.579784   \n",
       "27502              14239.0  5.500247  0.204654  4.431364  5.372912  5.512551   \n",
       "27526              15351.0  5.420962  0.206498  4.431364  5.301030  5.443732   \n",
       "27617               4576.0  5.458159  0.209509  4.477121  5.320146  5.442480   \n",
       "27540              13611.0  5.506706  0.209695  4.431364  5.364551  5.527630   \n",
       "27545               8022.0  5.296453  0.213754  4.439333  5.143405  5.311754   \n",
       "27539               6909.0  5.524604  0.215519  4.447158  5.397940  5.555094   \n",
       "27596                124.0  5.162464  0.223047  4.477121  5.021189  5.113943   \n",
       "27587              20068.0  5.494975  0.229075  4.431364  5.371068  5.517855   \n",
       "27610              16241.0  5.199880  0.229129  4.423246  5.079181  5.193125   \n",
       "27613              11067.0  5.469432  0.232614  4.431364  5.313867  5.477121   \n",
       "27614               9437.0  5.539455  0.233664  4.462398  5.387390  5.550228   \n",
       "27513              10908.0  5.453513  0.238393  4.423246  5.292256  5.462398   \n",
       "27604              10629.0  5.259264  0.238562  4.423246  5.113943  5.238046   \n",
       "27603              12088.0  5.343242  0.250412  4.423246  5.186108  5.361728   \n",
       "27597               3972.0  5.299267  0.251723  4.431364  5.161368  5.360783   \n",
       "27529               8537.0  5.288506  0.252426  4.423246  5.127105  5.308564   \n",
       "27591               5176.0  5.303084  0.258831  4.431364  5.130334  5.352183   \n",
       "27612               8929.0  5.455719  0.261252  4.431364  5.298853  5.457882   \n",
       "27511               7779.0  5.351055  0.263234  4.423246  5.190332  5.352183   \n",
       "27615              11584.0  5.429852  0.267776  4.431364  5.249198  5.439333   \n",
       "27607               3725.0  5.512962  0.295987  4.423246  5.352183  5.528917   \n",
       "27606               7465.0  5.333500  0.300704  4.423246  5.123852  5.345374   \n",
       "27608               3171.0  5.628290  0.301583  4.439333  5.469822  5.680336   \n",
       "27605               1388.0  5.419439  0.311741  4.423246  5.235528  5.398807   \n",
       "27609               7234.0  5.384484  0.317839  4.423246  5.176091  5.383815   \n",
       "27601               1691.0  5.442352  0.333559  4.423246  5.290035  5.521138   \n",
       "27522                 53.0  5.250936  0.373306  4.447158  4.954243  5.230449   \n",
       "27713                  1.0  4.869232       NaN  4.869232  4.869232  4.869232   \n",
       "\n",
       "                        75%       max  \n",
       "physical_zip_code                      \n",
       "27703              5.495024  5.732394  \n",
       "27501              5.509874  5.767156  \n",
       "27571              5.603144  6.068260  \n",
       "27519              5.716003  6.110590  \n",
       "27560              5.572872  6.105510  \n",
       "27616              5.439333  6.041393  \n",
       "27523              5.769746  6.113442  \n",
       "27520              5.397940  5.724276  \n",
       "27562              5.716838  6.107549  \n",
       "27592              5.517196  5.949390  \n",
       "27518              5.694605  6.111934  \n",
       "27502              5.638489  6.110590  \n",
       "27526              5.559308  6.113609  \n",
       "27617              5.595083  6.106021  \n",
       "27540              5.653213  6.105510  \n",
       "27545              5.453318  6.000000  \n",
       "27539              5.672560  6.105510  \n",
       "27596              5.297756  5.672560  \n",
       "27587              5.638489  6.113609  \n",
       "27610              5.336460  6.052694  \n",
       "27613              5.626853  6.107549  \n",
       "27614              5.689309  6.113107  \n",
       "27513              5.618048  6.109916  \n",
       "27604              5.414973  6.094122  \n",
       "27603              5.518514  6.112270  \n",
       "27597              5.459581  6.088136  \n",
       "27529              5.477121  6.077186  \n",
       "27591              5.488551  5.972666  \n",
       "27612              5.629410  6.109747  \n",
       "27511              5.519828  6.112270  \n",
       "27615              5.624798  6.109410  \n",
       "27607              5.707570  6.112270  \n",
       "27606              5.550228  6.110758  \n",
       "27608              5.848189  6.112437  \n",
       "27605              5.619093  6.110590  \n",
       "27609              5.612121  6.112773  \n",
       "27601              5.672098  6.088136  \n",
       "27522              5.544068  6.021189  \n",
       "27713              4.869232  4.869232  "
      ]
     },
     "execution_count": 48,
     "metadata": {},
     "output_type": "execute_result"
    }
   ],
   "source": [
    "# use 27587 as base case\n",
    "house_df.groupby(\"physical_zip_code\")[\"log_px\"].describe().sort_values(\"std\")"
   ]
  },
  {
   "cell_type": "code",
   "execution_count": 40,
   "id": "known-evanescence",
   "metadata": {},
   "outputs": [
    {
     "name": "stdout",
     "output_type": "stream",
     "text": [
      "RALEIGH          124078\n",
      "CARY              40659\n",
      "APEX              25733\n",
      "WAKE FOREST       20071\n",
      "FUQUAY VARINA     15351\n",
      "HOLLY SPRINGS     13611\n",
      "GARNER             8537\n",
      "KNIGHTDALE         8022\n",
      "MORRISVILLE        7186\n",
      "WENDELL            5186\n",
      "ZEBULON            3989\n",
      "ROLESVILLE         2702\n",
      "WILLOW SPRING      2369\n",
      "NEW HILL           1188\n",
      "ANGIER              339\n",
      "CLAYTON             235\n",
      "DURHAM              145\n",
      "YOUNGSVILLE         124\n",
      "CREEDMOOR            53\n",
      "Name: physical_city, dtype: int64\n"
     ]
    }
   ],
   "source": [
    "print(house_df[\"physical_city\"].value_counts())"
   ]
  },
  {
   "cell_type": "markdown",
   "id": "direct-rwanda",
   "metadata": {},
   "source": [
    "## Regression"
   ]
  },
  {
   "cell_type": "code",
   "execution_count": 65,
   "id": "public-conditions",
   "metadata": {},
   "outputs": [
    {
     "data": {
      "text/plain": [
       "Index(['land_sale_price', 'total_sale_price', 'deed_date',\n",
       "       'assessed_building_value', 'story_height', 'heated_area', 'utilities',\n",
       "       'bath', 'type_and_use', 'physical_zip_code', 'physical_city',\n",
       "       'mort_rate', 'unemploy_rate', 'pop_growth_rate', 'covid_cases',\n",
       "       'is_covid', 'lumber_price', 'metals_price', 'build_price', 'int_rate',\n",
       "       'manufactured_house_number', 'hai', 'wake_supply_index',\n",
       "       'wake_demand_index', 'year', 'log_px', 'bath_unknown'],\n",
       "      dtype='object')"
      ]
     },
     "execution_count": 65,
     "metadata": {},
     "output_type": "execute_result"
    }
   ],
   "source": [
    "house_df.columns"
   ]
  },
  {
   "cell_type": "code",
   "execution_count": 82,
   "id": "northern-secondary",
   "metadata": {
    "scrolled": true
   },
   "outputs": [
    {
     "name": "stdout",
     "output_type": "stream",
     "text": [
      "                            OLS Regression Results                            \n",
      "==============================================================================\n",
      "Dep. Variable:                 log_px   R-squared:                       0.091\n",
      "Model:                            OLS   Adj. R-squared:                  0.091\n",
      "Method:                 Least Squares   F-statistic:                 2.763e+04\n",
      "Date:                Fri, 30 Sep 2022   Prob (F-statistic):               0.00\n",
      "Time:                        23:08:33   Log-Likelihood:                -4558.2\n",
      "No. Observations:              276455   AIC:                             9120.\n",
      "Df Residuals:                  276453   BIC:                             9141.\n",
      "Df Model:                           1                                         \n",
      "Covariance Type:            nonrobust                                         \n",
      "================================================================================\n",
      "                   coef    std err          t      P>|t|      [0.025      0.975]\n",
      "--------------------------------------------------------------------------------\n",
      "I                5.1669      0.002   3231.555      0.000       5.164       5.170\n",
      "lumber_price     0.0011   6.55e-06    166.235      0.000       0.001       0.001\n",
      "==============================================================================\n",
      "Omnibus:                     9892.308   Durbin-Watson:                   0.812\n",
      "Prob(Omnibus):                  0.000   Jarque-Bera (JB):            12794.365\n",
      "Skew:                          -0.398   Prob(JB):                         0.00\n",
      "Kurtosis:                       3.691   Cond. No.                         835.\n",
      "==============================================================================\n",
      "\n",
      "Notes:\n",
      "[1] Standard Errors assume that the covariance matrix of the errors is correctly specified.\n"
     ]
    }
   ],
   "source": [
    "import statsmodels.api as sm\n",
    "yvar = \"log_px\"\n",
    "\n",
    "intercept = [\"I\"]\n",
    "macro = [\"mort_rate\", \"lumber_price\"]\n",
    "\n",
    "xvars = intercept + macro\n",
    "reg_df = house_df.copy()\n",
    "reg_df[\"I\"] = 1\n",
    "reg_df = reg_df[(reg_df[[yvar]+xvars].notnull().all(axis=1))]\n",
    "\n",
    "model = sm.OLS(reg_df[yvar], reg_df[xvars]).fit()\n",
    "print(model.summary())"
   ]
  },
  {
   "cell_type": "code",
   "execution_count": 69,
   "id": "fleet-fountain",
   "metadata": {},
   "outputs": [
    {
     "data": {
      "text/plain": [
       "218776.16239495517"
      ]
     },
     "execution_count": 69,
     "metadata": {},
     "output_type": "execute_result"
    }
   ],
   "source": [
    "10**5.34"
   ]
  },
  {
   "cell_type": "code",
   "execution_count": 70,
   "id": "geographic-resource",
   "metadata": {},
   "outputs": [
    {
     "name": "stdout",
     "output_type": "stream",
     "text": [
      "                            OLS Regression Results                            \n",
      "==============================================================================\n",
      "Dep. Variable:                 log_px   R-squared:                       0.240\n",
      "Model:                            OLS   Adj. R-squared:                  0.240\n",
      "Method:                 Least Squares   F-statistic:                 1.748e+04\n",
      "Date:                Fri, 30 Sep 2022   Prob (F-statistic):               0.00\n",
      "Time:                        23:03:18   Log-Likelihood:                 20253.\n",
      "No. Observations:              276455   AIC:                        -4.049e+04\n",
      "Df Residuals:                  276449   BIC:                        -4.043e+04\n",
      "Df Model:                           5                                         \n",
      "Covariance Type:            nonrobust                                         \n",
      "=================================================================================\n",
      "                    coef    std err          t      P>|t|      [0.025      0.975]\n",
      "---------------------------------------------------------------------------------\n",
      "I                 5.3468      0.003   1875.107      0.000       5.341       5.352\n",
      "mort_rate        -0.0255      0.000    -63.817      0.000      -0.026      -0.025\n",
      "lumber_price      0.0009   6.66e-06    133.289      0.000       0.001       0.001\n",
      "I_story1         -0.1551      0.001   -154.092      0.000      -0.157      -0.153\n",
      "I_story1-2        0.1021      0.001     93.393      0.000       0.100       0.104\n",
      "I_story_other    -0.2009      0.006    -31.434      0.000      -0.213      -0.188\n",
      "==============================================================================\n",
      "Omnibus:                     7155.580   Durbin-Watson:                   0.985\n",
      "Prob(Omnibus):                  0.000   Jarque-Bera (JB):            10492.128\n",
      "Skew:                          -0.279   Prob(JB):                         0.00\n",
      "Kurtosis:                       3.774   Cond. No.                     3.65e+03\n",
      "==============================================================================\n",
      "\n",
      "Notes:\n",
      "[1] Standard Errors assume that the covariance matrix of the errors is correctly specified.\n",
      "[2] The condition number is large, 3.65e+03. This might indicate that there are\n",
      "strong multicollinearity or other numerical problems.\n"
     ]
    }
   ],
   "source": [
    "import statsmodels.api as sm\n",
    "yvar = \"log_px\"\n",
    "\n",
    "reg_df = house_df.copy()\n",
    "\n",
    "intercept = [\"I\"]\n",
    "macro = [\"mort_rate\", \"lumber_price\"]\n",
    "#### story\n",
    "# base case is story==2, each of below variable represents difference to story==2\n",
    "story = [\"I_story1\", \"I_story1-2\", \"I_story_other\"]\n",
    "\n",
    "reg_df[\"I_story1\"] = 0\n",
    "reg_df.loc[(reg_df[\"story_height\"] == 1), \"I_story1\"] = 1\n",
    "\n",
    "reg_df[\"I_story1-2\"] = 0\n",
    "reg_df.loc[(reg_df[\"story_height\"] > 1) &\n",
    "           (reg_df[\"story_height\"] < 2), \"I_story1-2\"] = 1\n",
    "\n",
    "reg_df[\"I_story_other\"] = 0\n",
    "reg_df.loc[(reg_df[\"story_height\"] > 2), \"I_story_other\"] = 1\n",
    "\n",
    "#### regression\n",
    "xvars = intercept + macro + story \n",
    "\n",
    "reg_df[\"I\"] = 1\n",
    "reg_df = reg_df[(reg_df[[yvar]+xvars].notnull().all(axis=1))]\n",
    "\n",
    "model = sm.OLS(reg_df[yvar], reg_df[xvars]).fit()\n",
    "print(model.summary())"
   ]
  },
  {
   "cell_type": "code",
   "execution_count": 110,
   "id": "compressed-tomato",
   "metadata": {
    "scrolled": false
   },
   "outputs": [
    {
     "name": "stdout",
     "output_type": "stream",
     "text": [
      "                            OLS Regression Results                            \n",
      "==============================================================================\n",
      "Dep. Variable:                 log_px   R-squared:                       0.529\n",
      "Model:                            OLS   Adj. R-squared:                  0.529\n",
      "Method:                 Least Squares   F-statistic:                     3725.\n",
      "Date:                Sat, 01 Oct 2022   Prob (F-statistic):               0.00\n",
      "Time:                        08:12:10   Log-Likelihood:                 86304.\n",
      "No. Observations:              275319   AIC:                        -1.724e+05\n",
      "Df Residuals:                  275235   BIC:                        -1.716e+05\n",
      "Df Model:                          83                                         \n",
      "Covariance Type:            nonrobust                                         \n",
      "====================================================================================\n",
      "                       coef    std err          t      P>|t|      [0.025      0.975]\n",
      "------------------------------------------------------------------------------------\n",
      "I                    4.8080      0.003   1393.365      0.000       4.801       4.815\n",
      "mort_rate           -0.0140      0.000    -42.571      0.000      -0.015      -0.013\n",
      "lumber_price         0.0006   8.09e-06     68.140      0.000       0.001       0.001\n",
      "I_story1             0.0006      0.001      0.661      0.509      -0.001       0.002\n",
      "I_story1-2           0.0630      0.001     72.102      0.000       0.061       0.065\n",
      "I_story_other       -0.1517      0.005    -29.942      0.000      -0.162      -0.142\n",
      "I_bath_unknown       0.5302      0.003    205.403      0.000       0.525       0.535\n",
      "bath                 0.2078      0.001    300.289      0.000       0.206       0.209\n",
      "is_covid             0.0484      0.003     16.326      0.000       0.043       0.054\n",
      "I_zip27608           0.1857      0.004     47.063      0.000       0.178       0.193\n",
      "I_zip27604          -0.1222      0.003    -48.205      0.000      -0.127      -0.117\n",
      "I_zip27529          -0.1119      0.003    -40.640      0.000      -0.117      -0.106\n",
      "I_zip27511          -0.0586      0.003    -21.095      0.000      -0.064      -0.053\n",
      "I_zip27609          -0.0380      0.003    -13.255      0.000      -0.044      -0.032\n",
      "I_zip27615          -0.0040      0.002     -1.645      0.100      -0.009       0.001\n",
      "I_zip27601           0.0748      0.006     13.517      0.000       0.064       0.086\n",
      "I_zip27607           0.0753      0.004     20.602      0.000       0.068       0.082\n",
      "I_zip27610          -0.1850      0.002    -83.045      0.000      -0.189      -0.181\n",
      "I_zip27526          -0.0388      0.002    -16.633      0.000      -0.043      -0.034\n",
      "I_zip27540           0.0023      0.002      0.963      0.335      -0.002       0.007\n",
      "I_zip27545          -0.1161      0.003    -41.993      0.000      -0.122      -0.111\n",
      "I_zip27513           0.0134      0.002      5.441      0.000       0.009       0.018\n",
      "I_zip27603          -0.0630      0.002    -25.869      0.000      -0.068      -0.058\n",
      "I_zip27606          -0.1009      0.003    -35.463      0.000      -0.106      -0.095\n",
      "I_zip27591          -0.1080      0.003    -31.492      0.000      -0.115      -0.101\n",
      "I_zip27612           0.0053      0.003      2.000      0.046       0.000       0.010\n",
      "I_zip27592          -0.0656      0.005    -14.238      0.000      -0.075      -0.057\n",
      "I_zip27539           0.0250      0.003      8.624      0.000       0.019       0.031\n",
      "I_zip27597          -0.1142      0.004    -29.212      0.000      -0.122      -0.107\n",
      "I_zip27613           0.0185      0.002      7.561      0.000       0.014       0.023\n",
      "I_zip27605           0.1184      0.006     20.532      0.000       0.107       0.130\n",
      "I_zip27614           0.0537      0.003     20.912      0.000       0.049       0.059\n",
      "I_zip27518           0.0824      0.003     25.629      0.000       0.076       0.089\n",
      "I_zip27616          -0.1213      0.002    -53.289      0.000      -0.126      -0.117\n",
      "I_zip27502           0.0179      0.002      7.671      0.000       0.013       0.022\n",
      "I_zip27520          -0.1629      0.014    -11.721      0.000      -0.190      -0.136\n",
      "I_zip27523           0.0874      0.004     23.837      0.000       0.080       0.095\n",
      "I_zip27519           0.0687      0.002     31.647      0.000       0.064       0.073\n",
      "I_zip27571          -0.0211      0.004     -4.875      0.000      -0.030      -0.013\n",
      "I_zip27522          -0.0319      0.028     -1.138      0.255      -0.087       0.023\n",
      "I_zip27562           0.0977      0.008     12.836      0.000       0.083       0.113\n",
      "I_zip27501          -0.0693      0.015     -4.611      0.000      -0.099      -0.040\n",
      "I_zip27560          -0.0050      0.003     -1.801      0.072      -0.011       0.000\n",
      "I_zip27617           0.0081      0.003      2.402      0.016       0.001       0.015\n",
      "I_zip27596          -0.1377      0.018     -7.637      0.000      -0.173      -0.102\n",
      "I_zip27703          -0.0250      0.019     -1.349      0.177      -0.061       0.011\n",
      "I_zip27713          -0.6271      0.177     -3.545      0.000      -0.974      -0.280\n",
      "I_zip27608_covid     0.0131      0.008      1.674      0.094      -0.002       0.028\n",
      "I_zip27604_covid     0.0558      0.005     11.638      0.000       0.046       0.065\n",
      "I_zip27529_covid     0.0577      0.005     11.320      0.000       0.048       0.068\n",
      "I_zip27511_covid     0.0558      0.005     10.170      0.000       0.045       0.067\n",
      "I_zip27609_covid     0.0404      0.006      7.322      0.000       0.030       0.051\n",
      "I_zip27615_covid     0.0326      0.005      6.878      0.000       0.023       0.042\n",
      "I_zip27601_covid     0.1007      0.010     10.425      0.000       0.082       0.120\n",
      "I_zip27607_covid     0.0119      0.007      1.605      0.108      -0.003       0.026\n",
      "I_zip27610_covid     0.1030      0.004     24.061      0.000       0.095       0.111\n",
      "I_zip27526_covid     0.0248      0.004      6.014      0.000       0.017       0.033\n",
      "I_zip27540_covid     0.0135      0.004      3.139      0.002       0.005       0.022\n",
      "I_zip27545_covid     0.0376      0.005      7.041      0.000       0.027       0.048\n",
      "I_zip27513_covid -6.527e-06      0.005     -0.001      0.999      -0.010       0.010\n",
      "I_zip27603_covid     0.0516      0.005     11.289      0.000       0.043       0.061\n",
      "I_zip27606_covid     0.0511      0.005      9.429      0.000       0.040       0.062\n",
      "I_zip27591_covid     0.0690      0.006     11.709      0.000       0.057       0.081\n",
      "I_zip27612_covid     0.0112      0.005      2.170      0.030       0.001       0.021\n",
      "I_zip27592_covid     0.0356      0.009      4.141      0.000       0.019       0.053\n",
      "I_zip27539_covid    -0.0016      0.006     -0.290      0.772      -0.013       0.009\n",
      "I_zip27597_covid     0.0406      0.006      6.275      0.000       0.028       0.053\n",
      "I_zip27613_covid     0.0092      0.005      1.879      0.060      -0.000       0.019\n",
      "I_zip27605_covid     0.0499      0.011      4.433      0.000       0.028       0.072\n",
      "I_zip27614_covid    -0.0136      0.005     -2.604      0.009      -0.024      -0.003\n",
      "I_zip27518_covid    -0.0076      0.007     -1.155      0.248      -0.021       0.005\n",
      "I_zip27616_covid     0.0311      0.004      7.170      0.000       0.023       0.040\n",
      "I_zip27502_covid    -0.0043      0.004     -0.995      0.320      -0.013       0.004\n",
      "I_zip27520_covid     0.1024      0.026      3.948      0.000       0.052       0.153\n",
      "I_zip27523_covid    -0.0271      0.006     -4.444      0.000      -0.039      -0.015\n",
      "I_zip27519_covid    -0.0261      0.004     -6.154      0.000      -0.034      -0.018\n",
      "I_zip27571_covid    -0.0055      0.008     -0.689      0.491      -0.021       0.010\n",
      "I_zip27522_covid    -0.0090      0.057     -0.159      0.873      -0.120       0.102\n",
      "I_zip27562_covid    -0.0496      0.011     -4.606      0.000      -0.071      -0.028\n",
      "I_zip27501_covid    -0.0179      0.020     -0.894      0.371      -0.057       0.021\n",
      "I_zip27560_covid    -0.0067      0.006     -1.127      0.260      -0.018       0.005\n",
      "I_zip27617_covid    -0.0226      0.007     -3.392      0.001      -0.036      -0.010\n",
      "I_zip27596_covid    -0.0419      0.040     -1.036      0.300      -0.121       0.037\n",
      "I_zip27703_covid    -0.0333      0.032     -1.045      0.296      -0.096       0.029\n",
      "I_zip27713_covid          0          0        nan        nan           0           0\n",
      "==============================================================================\n",
      "Omnibus:                    32845.836   Durbin-Watson:                   1.286\n",
      "Prob(Omnibus):                  0.000   Jarque-Bera (JB):            97810.923\n",
      "Skew:                          -0.640   Prob(JB):                         0.00\n",
      "Kurtosis:                       5.625   Cond. No.                     1.05e+16\n",
      "==============================================================================\n",
      "\n",
      "Notes:\n",
      "[1] Standard Errors assume that the covariance matrix of the errors is correctly specified.\n",
      "[2] The smallest eigenvalue is 1.49e-22. This might indicate that there are\n",
      "strong multicollinearity problems or that the design matrix is singular.\n"
     ]
    }
   ],
   "source": [
    "import statsmodels.api as sm\n",
    "yvar = \"log_px\"\n",
    "\n",
    "reg_df = house_df.copy()\n",
    "\n",
    "intercept = [\"I\"]\n",
    "macro = [\"mort_rate\", \"lumber_price\"]\n",
    "#### story\n",
    "# base case is story==2, each of below variable represents difference to story==2\n",
    "story = [\"I_story1\", \"I_story1-2\", \"I_story_other\"]\n",
    "\n",
    "reg_df[\"I_story1\"] = 0\n",
    "reg_df.loc[(reg_df[\"story_height\"] == 1), \"I_story1\"] = 1\n",
    "\n",
    "reg_df[\"I_story1-2\"] = 0\n",
    "reg_df.loc[(reg_df[\"story_height\"] > 1) &\n",
    "           (reg_df[\"story_height\"] < 2), \"I_story1-2\"] = 1\n",
    "\n",
    "reg_df[\"I_story_other\"] = 0\n",
    "reg_df.loc[(reg_df[\"story_height\"] > 2), \"I_story_other\"] = 1\n",
    "\n",
    "#### bath\n",
    "bath = [\"I_bath_unknown\", \"bath\"]\n",
    "reg_df[\"I_bath_unknown\"] = 0\n",
    "reg_df.loc[(reg_df[\"bath\"] == 0), \"I_bath_unknown\"] = 1\n",
    "\n",
    "#### zip\n",
    "all_zips = reg_df[\"physical_zip_code\"].unique().tolist()\n",
    "all_zips = [z for z in all_zips if z != 27587]\n",
    "zip_vars = []\n",
    "for z in all_zips:\n",
    "    zip_var = f\"I_zip{z}\"\n",
    "    zip_vars.append(zip_var)\n",
    "    reg_df[zip_var] = 0\n",
    "    reg_df.loc[(reg_df[\"physical_zip_code\"] == z), zip_var] = 1\n",
    "    \n",
    "#### interaction with covid\n",
    "zip_covid = []\n",
    "for z in zip_vars:\n",
    "    col = z + \"_covid\"\n",
    "    zip_covid.append(col)\n",
    "    reg_df[col] = reg_df[z] * reg_df[\"is_covid\"]\n",
    "\n",
    "\n",
    "#### regression\n",
    "xvars = intercept + macro + story + bath + [\"is_covid\"] + zip_vars + zip_covid \n",
    "\n",
    "reg_df[\"I\"] = 1\n",
    "reg_df = reg_df[(reg_df[[yvar]+xvars].notnull().all(axis=1))]\n",
    "\n",
    "model = sm.OLS(reg_df[yvar], reg_df[xvars]).fit()\n",
    "print(model.summary())"
   ]
  },
  {
   "cell_type": "code",
   "execution_count": 107,
   "id": "general-houston",
   "metadata": {},
   "outputs": [
    {
     "data": {
      "text/plain": [
       "<matplotlib.collections.PathCollection at 0x12a579d60>"
      ]
     },
     "execution_count": 107,
     "metadata": {},
     "output_type": "execute_result"
    },
    {
     "data": {
      "image/png": "[encoded data removed]",
      "text/plain": [
       "<Figure size 432x288 with 1 Axes>"
      ]
     },
     "metadata": {
      "needs_background": "light"
     },
     "output_type": "display_data"
    }
   ],
   "source": [
    "res = model.params[zip_vars].reset_index() # price by zip\n",
    "res[\"zip_covid\"] = model.params[zip_covid].values # price chg after covide by zip\n",
    "res[\"zip\"] = all_zips\n",
    "res = res.drop(\"index\", axis=1)\n",
    "\n",
    "counts = reg_df.groupby(\"physical_zip_code\").apply(len).reset_index()\n",
    "counts.columns = [\"zip\", \"cnts\"]\n",
    "res = pd.merge(res, counts, on=\"zip\")\n",
    "res = res[(res.cnts > 300)]\n",
    "\n",
    "plt.scatter(res[0], res[\"zip_covid\"])"
   ]
  },
  {
   "cell_type": "code",
   "execution_count": 108,
   "id": "supreme-blowing",
   "metadata": {},
   "outputs": [
    {
     "data": {
      "text/html": [
       "<div>\n",
       "<style scoped>\n",
       "    .dataframe tbody tr th:only-of-type {\n",
       "        vertical-align: middle;\n",
       "    }\n",
       "\n",
       "    .dataframe tbody tr th {\n",
       "        vertical-align: top;\n",
       "    }\n",
       "\n",
       "    .dataframe thead th {\n",
       "        text-align: right;\n",
       "    }\n",
       "</style>\n",
       "<table border=\"1\" class=\"dataframe\">\n",
       "  <thead>\n",
       "    <tr style=\"text-align: right;\">\n",
       "      <th></th>\n",
       "      <th>0</th>\n",
       "      <th>zip_covid</th>\n",
       "      <th>zip</th>\n",
       "      <th>cnts</th>\n",
       "    </tr>\n",
       "  </thead>\n",
       "  <tbody>\n",
       "    <tr>\n",
       "      <th>0</th>\n",
       "      <td>0.185705</td>\n",
       "      <td>0.013083</td>\n",
       "      <td>27608</td>\n",
       "      <td>3131</td>\n",
       "    </tr>\n",
       "    <tr>\n",
       "      <th>1</th>\n",
       "      <td>-0.122174</td>\n",
       "      <td>0.055831</td>\n",
       "      <td>27604</td>\n",
       "      <td>10479</td>\n",
       "    </tr>\n",
       "    <tr>\n",
       "      <th>2</th>\n",
       "      <td>-0.111861</td>\n",
       "      <td>0.057652</td>\n",
       "      <td>27529</td>\n",
       "      <td>8384</td>\n",
       "    </tr>\n",
       "    <tr>\n",
       "      <th>3</th>\n",
       "      <td>-0.058621</td>\n",
       "      <td>0.055814</td>\n",
       "      <td>27511</td>\n",
       "      <td>7680</td>\n",
       "    </tr>\n",
       "    <tr>\n",
       "      <th>4</th>\n",
       "      <td>-0.038027</td>\n",
       "      <td>0.040416</td>\n",
       "      <td>27609</td>\n",
       "      <td>7141</td>\n",
       "    </tr>\n",
       "    <tr>\n",
       "      <th>5</th>\n",
       "      <td>-0.004013</td>\n",
       "      <td>0.032598</td>\n",
       "      <td>27615</td>\n",
       "      <td>11429</td>\n",
       "    </tr>\n",
       "    <tr>\n",
       "      <th>6</th>\n",
       "      <td>0.074790</td>\n",
       "      <td>0.100690</td>\n",
       "      <td>27601</td>\n",
       "      <td>1656</td>\n",
       "    </tr>\n",
       "    <tr>\n",
       "      <th>7</th>\n",
       "      <td>0.075281</td>\n",
       "      <td>0.011898</td>\n",
       "      <td>27607</td>\n",
       "      <td>3689</td>\n",
       "    </tr>\n",
       "    <tr>\n",
       "      <th>8</th>\n",
       "      <td>-0.184970</td>\n",
       "      <td>0.102998</td>\n",
       "      <td>27610</td>\n",
       "      <td>15913</td>\n",
       "    </tr>\n",
       "    <tr>\n",
       "      <th>9</th>\n",
       "      <td>-0.038770</td>\n",
       "      <td>0.024815</td>\n",
       "      <td>27526</td>\n",
       "      <td>14959</td>\n",
       "    </tr>\n",
       "    <tr>\n",
       "      <th>10</th>\n",
       "      <td>0.002302</td>\n",
       "      <td>0.013462</td>\n",
       "      <td>27540</td>\n",
       "      <td>13374</td>\n",
       "    </tr>\n",
       "    <tr>\n",
       "      <th>11</th>\n",
       "      <td>-0.116094</td>\n",
       "      <td>0.037557</td>\n",
       "      <td>27545</td>\n",
       "      <td>7878</td>\n",
       "    </tr>\n",
       "    <tr>\n",
       "      <th>12</th>\n",
       "      <td>0.013404</td>\n",
       "      <td>-0.000007</td>\n",
       "      <td>27513</td>\n",
       "      <td>10786</td>\n",
       "    </tr>\n",
       "    <tr>\n",
       "      <th>13</th>\n",
       "      <td>-0.063007</td>\n",
       "      <td>0.051645</td>\n",
       "      <td>27603</td>\n",
       "      <td>11902</td>\n",
       "    </tr>\n",
       "    <tr>\n",
       "      <th>14</th>\n",
       "      <td>-0.100901</td>\n",
       "      <td>0.051080</td>\n",
       "      <td>27606</td>\n",
       "      <td>7357</td>\n",
       "    </tr>\n",
       "    <tr>\n",
       "      <th>15</th>\n",
       "      <td>-0.107974</td>\n",
       "      <td>0.069028</td>\n",
       "      <td>27591</td>\n",
       "      <td>5102</td>\n",
       "    </tr>\n",
       "    <tr>\n",
       "      <th>16</th>\n",
       "      <td>0.005278</td>\n",
       "      <td>0.011231</td>\n",
       "      <td>27612</td>\n",
       "      <td>8834</td>\n",
       "    </tr>\n",
       "    <tr>\n",
       "      <th>17</th>\n",
       "      <td>-0.065636</td>\n",
       "      <td>0.035643</td>\n",
       "      <td>27592</td>\n",
       "      <td>2310</td>\n",
       "    </tr>\n",
       "    <tr>\n",
       "      <th>18</th>\n",
       "      <td>0.025024</td>\n",
       "      <td>-0.001629</td>\n",
       "      <td>27539</td>\n",
       "      <td>6824</td>\n",
       "    </tr>\n",
       "    <tr>\n",
       "      <th>19</th>\n",
       "      <td>-0.114232</td>\n",
       "      <td>0.040581</td>\n",
       "      <td>27597</td>\n",
       "      <td>3897</td>\n",
       "    </tr>\n",
       "    <tr>\n",
       "      <th>20</th>\n",
       "      <td>0.018485</td>\n",
       "      <td>0.009217</td>\n",
       "      <td>27613</td>\n",
       "      <td>10948</td>\n",
       "    </tr>\n",
       "    <tr>\n",
       "      <th>21</th>\n",
       "      <td>0.118396</td>\n",
       "      <td>0.049877</td>\n",
       "      <td>27605</td>\n",
       "      <td>1373</td>\n",
       "    </tr>\n",
       "    <tr>\n",
       "      <th>22</th>\n",
       "      <td>0.053663</td>\n",
       "      <td>-0.013559</td>\n",
       "      <td>27614</td>\n",
       "      <td>9337</td>\n",
       "    </tr>\n",
       "    <tr>\n",
       "      <th>23</th>\n",
       "      <td>0.082363</td>\n",
       "      <td>-0.007611</td>\n",
       "      <td>27518</td>\n",
       "      <td>5026</td>\n",
       "    </tr>\n",
       "    <tr>\n",
       "      <th>24</th>\n",
       "      <td>-0.121312</td>\n",
       "      <td>0.031146</td>\n",
       "      <td>27616</td>\n",
       "      <td>14620</td>\n",
       "    </tr>\n",
       "    <tr>\n",
       "      <th>25</th>\n",
       "      <td>0.017897</td>\n",
       "      <td>-0.004266</td>\n",
       "      <td>27502</td>\n",
       "      <td>14010</td>\n",
       "    </tr>\n",
       "    <tr>\n",
       "      <th>27</th>\n",
       "      <td>0.087436</td>\n",
       "      <td>-0.027067</td>\n",
       "      <td>27523</td>\n",
       "      <td>4517</td>\n",
       "    </tr>\n",
       "    <tr>\n",
       "      <th>28</th>\n",
       "      <td>0.068736</td>\n",
       "      <td>-0.026097</td>\n",
       "      <td>27519</td>\n",
       "      <td>16734</td>\n",
       "    </tr>\n",
       "    <tr>\n",
       "      <th>29</th>\n",
       "      <td>-0.021101</td>\n",
       "      <td>-0.005550</td>\n",
       "      <td>27571</td>\n",
       "      <td>2667</td>\n",
       "    </tr>\n",
       "    <tr>\n",
       "      <th>31</th>\n",
       "      <td>0.097707</td>\n",
       "      <td>-0.049558</td>\n",
       "      <td>27562</td>\n",
       "      <td>1160</td>\n",
       "    </tr>\n",
       "    <tr>\n",
       "      <th>32</th>\n",
       "      <td>-0.069282</td>\n",
       "      <td>-0.017891</td>\n",
       "      <td>27501</td>\n",
       "      <td>325</td>\n",
       "    </tr>\n",
       "    <tr>\n",
       "      <th>33</th>\n",
       "      <td>-0.005029</td>\n",
       "      <td>-0.006684</td>\n",
       "      <td>27560</td>\n",
       "      <td>7081</td>\n",
       "    </tr>\n",
       "    <tr>\n",
       "      <th>34</th>\n",
       "      <td>0.008133</td>\n",
       "      <td>-0.022551</td>\n",
       "      <td>27617</td>\n",
       "      <td>4540</td>\n",
       "    </tr>\n",
       "  </tbody>\n",
       "</table>\n",
       "</div>"
      ],
      "text/plain": [
       "           0  zip_covid    zip   cnts\n",
       "0   0.185705   0.013083  27608   3131\n",
       "1  -0.122174   0.055831  27604  10479\n",
       "2  -0.111861   0.057652  27529   8384\n",
       "3  -0.058621   0.055814  27511   7680\n",
       "4  -0.038027   0.040416  27609   7141\n",
       "5  -0.004013   0.032598  27615  11429\n",
       "6   0.074790   0.100690  27601   1656\n",
       "7   0.075281   0.011898  27607   3689\n",
       "8  -0.184970   0.102998  27610  15913\n",
       "9  -0.038770   0.024815  27526  14959\n",
       "10  0.002302   0.013462  27540  13374\n",
       "11 -0.116094   0.037557  27545   7878\n",
       "12  0.013404  -0.000007  27513  10786\n",
       "13 -0.063007   0.051645  27603  11902\n",
       "14 -0.100901   0.051080  27606   7357\n",
       "15 -0.107974   0.069028  27591   5102\n",
       "16  0.005278   0.011231  27612   8834\n",
       "17 -0.065636   0.035643  27592   2310\n",
       "18  0.025024  -0.001629  27539   6824\n",
       "19 -0.114232   0.040581  27597   3897\n",
       "20  0.018485   0.009217  27613  10948\n",
       "21  0.118396   0.049877  27605   1373\n",
       "22  0.053663  -0.013559  27614   9337\n",
       "23  0.082363  -0.007611  27518   5026\n",
       "24 -0.121312   0.031146  27616  14620\n",
       "25  0.017897  -0.004266  27502  14010\n",
       "27  0.087436  -0.027067  27523   4517\n",
       "28  0.068736  -0.026097  27519  16734\n",
       "29 -0.021101  -0.005550  27571   2667\n",
       "31  0.097707  -0.049558  27562   1160\n",
       "32 -0.069282  -0.017891  27501    325\n",
       "33 -0.005029  -0.006684  27560   7081\n",
       "34  0.008133  -0.022551  27617   4540"
      ]
     },
     "execution_count": 108,
     "metadata": {},
     "output_type": "execute_result"
    }
   ],
   "source": [
    "res"
   ]
  },
  {
   "cell_type": "code",
   "execution_count": null,
   "id": "forward-bradford",
   "metadata": {},
   "outputs": [],
   "source": []
  },
  {
   "cell_type": "code",
   "execution_count": null,
   "id": "acting-azerbaijan",
   "metadata": {},
   "outputs": [],
   "source": []
  },
  {
   "cell_type": "code",
   "execution_count": null,
   "id": "handy-event",
   "metadata": {},
   "outputs": [],
   "source": []
  },
  {
   "cell_type": "code",
   "execution_count": null,
   "id": "aboriginal-lambda",
   "metadata": {},
   "outputs": [],
   "source": []
  },
  {
   "cell_type": "code",
   "execution_count": null,
   "id": "aging-script",
   "metadata": {},
   "outputs": [],
   "source": []
  },
  {
   "cell_type": "code",
   "execution_count": null,
   "id": "curious-index",
   "metadata": {},
   "outputs": [],
   "source": []
  }
 ],
 "metadata": {
  "kernelspec": {
   "display_name": "Python 3",
   "language": "python",
   "name": "python3"
  },
  "language_info": {
   "codemirror_mode": {
    "name": "ipython",
    "version": 3
   },
   "file_extension": ".py",
   "mimetype": "text/x-python",
   "name": "python",
   "nbconvert_exporter": "python",
   "pygments_lexer": "ipython3",
   "version": "3.9.13"
  }
 },
 "nbformat": 4,
 "nbformat_minor": 5
}
