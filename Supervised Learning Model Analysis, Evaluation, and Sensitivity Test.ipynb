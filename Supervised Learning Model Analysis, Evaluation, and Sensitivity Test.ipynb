{
 "cells": [
  {
   "cell_type": "code",
   "execution_count": 1,
   "id": "partial-orbit",
   "metadata": {},
   "outputs": [],
   "source": [
    "import pandas as pd\n",
    "import numpy as np\n",
    "import matplotlib as mpl\n",
    "import matplotlib.pyplot as plt\n",
    "import statsmodels.api as sm\n",
    "from sklearn import metrics\n",
    "import time\n",
    "from sklearn.ensemble import RandomForestRegressor\n",
    "from sklearn.tree import DecisionTreeRegressor\n",
    "from sklearn.metrics import explained_variance_score\n",
    "from sklearn.ensemble import GradientBoostingRegressor\n",
    "from sklearn.linear_model import Ridge\n",
    "from sklearn import linear_model\n",
    "from sklearn.linear_model import LassoCV\n",
    "from yellowbrick.datasets import load_concrete\n",
    "from yellowbrick.regressor import AlphaSelection\n",
    "from sklearn.neighbors import KNeighborsRegressor\n",
    "import seaborn as sns\n",
    "from sklearn.model_selection import KFold\n",
    "from sklearn.datasets import make_classification\n",
    "\n",
    "\n",
    "import warnings\n",
    "warnings.filterwarnings(\"ignore\")"
   ]
  },
  {
   "cell_type": "code",
   "execution_count": 2,
   "id": "downtown-level",
   "metadata": {},
   "outputs": [],
   "source": [
    "def data_cleaning():\n",
    "    # read data\n",
    "    house_df = pd.read_csv('assets/updated_house_df.csv')\n",
    "    \n",
    "    # add covid dummy\n",
    "    house_df['is_covid'] = 0\n",
    "    house_df.loc[(house_df['covid_cases'] > 0), 'is_covid'] = 1\n",
    "    # clean 1.5% outliers\n",
    "    tsp = house_df.total_sale_price\n",
    "    l, r = np.percentile(tsp, [1, 99.5])\n",
    "    house_df = house_df[(house_df[\"total_sale_price\"] > l) &\n",
    "                        (house_df[\"total_sale_price\"] < r)]\n",
    "    # drop zip == 0\n",
    "    house_df = house_df[(house_df[\"physical_zip_code\"] != 0)]\n",
    "    \n",
    "    # log total_sale_price \n",
    "    house_df['log_px'] = np.log10(house_df[\"total_sale_price\"])\n",
    "    return house_df\n",
    "\n",
    "house_df = data_cleaning()"
   ]
  },
  {
   "cell_type": "code",
   "execution_count": 3,
   "id": "collectible-punch",
   "metadata": {},
   "outputs": [
    {
     "data": {
      "text/html": [
       "<div>\n",
       "<style scoped>\n",
       "    .dataframe tbody tr th:only-of-type {\n",
       "        vertical-align: middle;\n",
       "    }\n",
       "\n",
       "    .dataframe tbody tr th {\n",
       "        vertical-align: top;\n",
       "    }\n",
       "\n",
       "    .dataframe thead th {\n",
       "        text-align: right;\n",
       "    }\n",
       "</style>\n",
       "<table border=\"1\" class=\"dataframe\">\n",
       "  <thead>\n",
       "    <tr style=\"text-align: right;\">\n",
       "      <th></th>\n",
       "      <th>deed_date</th>\n",
       "      <th>land_sale_price</th>\n",
       "      <th>total_sale_price</th>\n",
       "      <th>assessed_building_value</th>\n",
       "      <th>story_height</th>\n",
       "      <th>heated_area</th>\n",
       "      <th>bath</th>\n",
       "      <th>bath_fixtures</th>\n",
       "      <th>physical_zip_code</th>\n",
       "      <th>physical_city</th>\n",
       "      <th>...</th>\n",
       "      <th>year</th>\n",
       "      <th>crime</th>\n",
       "      <th>electric</th>\n",
       "      <th>gas</th>\n",
       "      <th>water</th>\n",
       "      <th>sewer</th>\n",
       "      <th>all</th>\n",
       "      <th>assessed_value_per_heated_area</th>\n",
       "      <th>covid_year_timeline</th>\n",
       "      <th>log_px</th>\n",
       "    </tr>\n",
       "  </thead>\n",
       "  <tbody>\n",
       "    <tr>\n",
       "      <th>0</th>\n",
       "      <td>2000-01-01</td>\n",
       "      <td>0.0</td>\n",
       "      <td>145000.0</td>\n",
       "      <td>158106.0</td>\n",
       "      <td>2.0</td>\n",
       "      <td>1600</td>\n",
       "      <td>2.0</td>\n",
       "      <td>0</td>\n",
       "      <td>27609</td>\n",
       "      <td>raleigh</td>\n",
       "      <td>...</td>\n",
       "      <td>2000</td>\n",
       "      <td>2049</td>\n",
       "      <td>1</td>\n",
       "      <td>1</td>\n",
       "      <td>1</td>\n",
       "      <td>1</td>\n",
       "      <td>1</td>\n",
       "      <td>98.816250</td>\n",
       "      <td>-20</td>\n",
       "      <td>5.161368</td>\n",
       "    </tr>\n",
       "    <tr>\n",
       "      <th>2</th>\n",
       "      <td>2000-01-01</td>\n",
       "      <td>0.0</td>\n",
       "      <td>170000.0</td>\n",
       "      <td>178501.0</td>\n",
       "      <td>1.0</td>\n",
       "      <td>1937</td>\n",
       "      <td>2.0</td>\n",
       "      <td>0</td>\n",
       "      <td>27511</td>\n",
       "      <td>cary</td>\n",
       "      <td>...</td>\n",
       "      <td>2000</td>\n",
       "      <td>78</td>\n",
       "      <td>1</td>\n",
       "      <td>1</td>\n",
       "      <td>1</td>\n",
       "      <td>1</td>\n",
       "      <td>1</td>\n",
       "      <td>92.153330</td>\n",
       "      <td>-20</td>\n",
       "      <td>5.230449</td>\n",
       "    </tr>\n",
       "    <tr>\n",
       "      <th>4</th>\n",
       "      <td>2000-01-01</td>\n",
       "      <td>0.0</td>\n",
       "      <td>179000.0</td>\n",
       "      <td>73083.0</td>\n",
       "      <td>1.0</td>\n",
       "      <td>2510</td>\n",
       "      <td>3.0</td>\n",
       "      <td>0</td>\n",
       "      <td>27612</td>\n",
       "      <td>raleigh</td>\n",
       "      <td>...</td>\n",
       "      <td>2000</td>\n",
       "      <td>2049</td>\n",
       "      <td>1</td>\n",
       "      <td>1</td>\n",
       "      <td>1</td>\n",
       "      <td>1</td>\n",
       "      <td>1</td>\n",
       "      <td>29.116733</td>\n",
       "      <td>-20</td>\n",
       "      <td>5.252853</td>\n",
       "    </tr>\n",
       "    <tr>\n",
       "      <th>5</th>\n",
       "      <td>2000-01-01</td>\n",
       "      <td>0.0</td>\n",
       "      <td>44000.0</td>\n",
       "      <td>37216.0</td>\n",
       "      <td>1.0</td>\n",
       "      <td>928</td>\n",
       "      <td>1.0</td>\n",
       "      <td>0</td>\n",
       "      <td>27603</td>\n",
       "      <td>raleigh</td>\n",
       "      <td>...</td>\n",
       "      <td>2000</td>\n",
       "      <td>2049</td>\n",
       "      <td>1</td>\n",
       "      <td>1</td>\n",
       "      <td>1</td>\n",
       "      <td>1</td>\n",
       "      <td>1</td>\n",
       "      <td>40.103448</td>\n",
       "      <td>-20</td>\n",
       "      <td>4.643453</td>\n",
       "    </tr>\n",
       "    <tr>\n",
       "      <th>6</th>\n",
       "      <td>2000-01-01</td>\n",
       "      <td>0.0</td>\n",
       "      <td>165000.0</td>\n",
       "      <td>205423.0</td>\n",
       "      <td>1.0</td>\n",
       "      <td>2098</td>\n",
       "      <td>2.5</td>\n",
       "      <td>0</td>\n",
       "      <td>27511</td>\n",
       "      <td>cary</td>\n",
       "      <td>...</td>\n",
       "      <td>2000</td>\n",
       "      <td>78</td>\n",
       "      <td>1</td>\n",
       "      <td>1</td>\n",
       "      <td>1</td>\n",
       "      <td>1</td>\n",
       "      <td>1</td>\n",
       "      <td>97.913727</td>\n",
       "      <td>-20</td>\n",
       "      <td>5.217484</td>\n",
       "    </tr>\n",
       "  </tbody>\n",
       "</table>\n",
       "<p>5 rows × 33 columns</p>\n",
       "</div>"
      ],
      "text/plain": [
       "    deed_date  land_sale_price  total_sale_price  assessed_building_value  \\\n",
       "0  2000-01-01              0.0          145000.0                 158106.0   \n",
       "2  2000-01-01              0.0          170000.0                 178501.0   \n",
       "4  2000-01-01              0.0          179000.0                  73083.0   \n",
       "5  2000-01-01              0.0           44000.0                  37216.0   \n",
       "6  2000-01-01              0.0          165000.0                 205423.0   \n",
       "\n",
       "   story_height  heated_area  bath  bath_fixtures  physical_zip_code  \\\n",
       "0           2.0         1600   2.0              0              27609   \n",
       "2           1.0         1937   2.0              0              27511   \n",
       "4           1.0         2510   3.0              0              27612   \n",
       "5           1.0          928   1.0              0              27603   \n",
       "6           1.0         2098   2.5              0              27511   \n",
       "\n",
       "  physical_city  ...  year  crime  electric  gas  water  sewer  all  \\\n",
       "0       raleigh  ...  2000   2049         1    1      1      1    1   \n",
       "2          cary  ...  2000     78         1    1      1      1    1   \n",
       "4       raleigh  ...  2000   2049         1    1      1      1    1   \n",
       "5       raleigh  ...  2000   2049         1    1      1      1    1   \n",
       "6          cary  ...  2000     78         1    1      1      1    1   \n",
       "\n",
       "   assessed_value_per_heated_area  covid_year_timeline    log_px  \n",
       "0                       98.816250                  -20  5.161368  \n",
       "2                       92.153330                  -20  5.230449  \n",
       "4                       29.116733                  -20  5.252853  \n",
       "5                       40.103448                  -20  4.643453  \n",
       "6                       97.913727                  -20  5.217484  \n",
       "\n",
       "[5 rows x 33 columns]"
      ]
     },
     "execution_count": 3,
     "metadata": {},
     "output_type": "execute_result"
    }
   ],
   "source": [
    "house_df.head()"
   ]
  },
  {
   "cell_type": "code",
   "execution_count": 4,
   "id": "worst-tuner",
   "metadata": {},
   "outputs": [],
   "source": [
    "def add_features(house_df,\n",
    "                 start_year=None,\n",
    "                 end_year=None,\n",
    "                 test_size=0.2,\n",
    "                 random_seed=42\n",
    "                ):\n",
    "    yvar = \"log_px\"\n",
    "    xvar_dict = dict()\n",
    "\n",
    "    reg_df = house_df.copy()\n",
    "    \n",
    "    if start_year is not None:\n",
    "        reg_df = reg_df[(reg_df.deed_date >= str(start_year)+\"-01-01\")]\n",
    "    if end_year is not None:\n",
    "        reg_df = reg_df[(reg_df.deed_date <= str(end_year)+\"-12-31\")]\n",
    "\n",
    "\n",
    "    intercept = [\"I\"]\n",
    "    macro = [\"mort_rate\", \"lumber_price\", \"metals_price\"]\n",
    "    #### story\n",
    "    # base case is story==2, each of below variable represents difference to story==2\n",
    "    story = [\"I_story1\", \"I_story1-2\", \"I_story_other\"]\n",
    "\n",
    "    reg_df[\"is_covid\"] = 0\n",
    "    reg_df.loc[reg_df[\"covid_cases\"] > 0, \"is_covid\"] = 1\n",
    "\n",
    "    reg_df[\"I_story1\"] = 0\n",
    "    reg_df.loc[(reg_df[\"story_height\"] == 1), \"I_story1\"] = 1\n",
    "\n",
    "    reg_df[\"I_story1-2\"] = 0\n",
    "    reg_df.loc[(reg_df[\"story_height\"] > 1) &\n",
    "               (reg_df[\"story_height\"] < 2), \"I_story1-2\"] = 1\n",
    "\n",
    "    reg_df[\"I_story_other\"] = 0\n",
    "    reg_df.loc[(reg_df[\"story_height\"] > 2), \"I_story_other\"] = 1\n",
    "\n",
    "    #### bath\n",
    "    bath = [\"I_bath_unknown\", \"bath\"]\n",
    "    reg_df[\"I_bath_unknown\"] = 0\n",
    "    reg_df.loc[(reg_df[\"bath\"] == 0), \"I_bath_unknown\"] = 1\n",
    "\n",
    "    #### heated area\n",
    "    reg_df[\"log_heated_area\"] = np.log10(reg_df[\"heated_area\"])\n",
    "\n",
    "    #### zip 27587 has the most number of the observations. so we set it as a benchmark.\n",
    "    all_zips = reg_df[\"physical_zip_code\"].unique().tolist()\n",
    "    zip_vars = []\n",
    "    for z in all_zips:\n",
    "        if z == 27587:\n",
    "            continue\n",
    "        zip_var = f\"I_zip{z}\"\n",
    "        zip_vars.append(zip_var)\n",
    "        reg_df[zip_var] = 0\n",
    "        reg_df.loc[(reg_df[\"physical_zip_code\"] == z), zip_var] = 1\n",
    "\n",
    "    #### zip interaction with covid\n",
    "    zip_covid = []\n",
    "    for z in zip_vars:\n",
    "        col = z + \"_covid\"\n",
    "        zip_covid.append(col)\n",
    "        reg_df[col] = reg_df[z] * reg_df[\"is_covid\"]\n",
    "\n",
    "    zip_vars = [z for z in zip_vars if z != \"I_27587\"]\n",
    "\n",
    "    #### bath interaction with covid\n",
    "    #### The relative impact of covid to each zip code relative to 27587\n",
    "    reg_df[\"bath_covid\"] = reg_df[\"bath\"] * reg_df[\"is_covid\"]\n",
    "    reg_df[\"I_story1_covid\"] = reg_df[\"I_story1\"] * reg_df[\"is_covid\"]\n",
    "    reg_df[\"I_story1-2_covid\"] = reg_df[\"I_story1-2\"] * reg_df[\"is_covid\"]\n",
    "    reg_df[\"I_story_other_covid\"] = reg_df[\"I_story_other\"] * reg_df[\"is_covid\"]\n",
    "\n",
    "    #### regression\n",
    "    potential_xvars = intercept + macro + story + bath + ['gas', 'sewer', 'crime', 'log_heated_area'] +\\\n",
    "        [\"bath_covid\",\"I_story1_covid\",\"I_story1-2_covid\",\"I_story_other_covid\"]+\\\n",
    "        ['is_covid'] + zip_vars + zip_covid\n",
    "\n",
    "    reg_df[\"I\"] = 1\n",
    "    reg_df = reg_df[(reg_df[[yvar]+potential_xvars].notnull().all(axis=1))]\n",
    "\n",
    "    X, y = reg_df[potential_xvars], reg_df[yvar]\n",
    "    from sklearn.model_selection import train_test_split\n",
    "    if test_size == 0:\n",
    "        X_train, X_test, y_train, y_test = X, X.iloc[:0], y, y.iloc[:0]\n",
    "    else:\n",
    "        X_train, X_test, y_train, y_test = train_test_split(X, y, test_size=test_size, random_state=random_seed)\n",
    "    \n",
    "    # Demeaning\n",
    "    demean_ls = ['log_heated_area', 'mort_rate', 'lumber_price', 'metals_price']\n",
    "    items0 = []\n",
    "    for item in demean_ls:\n",
    "        item0 = f\"{item}0\"\n",
    "        items0.append(item0)\n",
    "\n",
    "    for i in range(len(demean_ls)):\n",
    "        item, item0 = demean_ls[i], items0[i]\n",
    "        X_train[item0] = X_train[item] - X_train[item].mean()\n",
    "        if test_size != 0:\n",
    "            X_test[item0] = X_test[item] - X_train[item].mean()\n",
    "\n",
    "    # bath want to demean by 2\n",
    "    X_train[\"bath0\"] = X_train[\"bath\"] - 2\n",
    "    X_train[\"bath0_covid\"] = X_train[\"bath0\"] * X_train[\"is_covid\"]\n",
    "\n",
    "    ## X_train,X_test interaction\n",
    "    X_train[\"log_heated_area0_covid\"] = X_train[\"is_covid\"] * X_train[\"log_heated_area0\"]\n",
    "    \n",
    "    if test_size != 0:\n",
    "        X_test[\"bath0\"] = X_test[\"bath\"] - 2\n",
    "        X_test[\"bath0_covid\"] = X_test[\"bath0\"] * X_test[\"is_covid\"]\n",
    "        X_test[\"log_heated_area0_covid\"] = X_test[\"is_covid\"] * X_test[\"log_heated_area0\"]\n",
    "\n",
    "    macro0 = [c + \"0\" for c in macro]\n",
    "    \n",
    "    xvar_dict[\"I\"] = [\"I\"]\n",
    "    xvar_dict[\"mort_rate0\"] = [\"mort_rate0\"]\n",
    "    xvar_dict[\"lumber_price0\"] = [\"lumber_price0\"]\n",
    "    xvar_dict[\"metals_price0\"] = [\"metals_price0\"]\n",
    "    xvar_dict[\"log_heated_area0\"] = [\"log_heated_area0\"]\n",
    "    xvar_dict[\"gas\"] = [\"gas\"]\n",
    "    xvar_dict[\"sewer\"] = [\"sewer\"]\n",
    "    xvar_dict[\"crime\"] = [\"crime\"]\n",
    "    xvar_dict[\"story\"] = story\n",
    "    xvar_dict[\"bath0\"] = [\"bath0\"]\n",
    "    xvar_dict[\"is_covid\"] = [\"is_covid\"]\n",
    "    xvar_dict[\"bath0_covid\"] = [\"bath0_covid\"]\n",
    "    xvar_dict[\"log_heated_area0_covid\"] = [\"log_heated_area0_covid\"]\n",
    "    xvar_dict[\"story_covid\"] = [\"I_story1_covid\",\"I_story1-2_covid\",\"I_story_other_covid\"]\n",
    "    xvar_dict[\"zip\"] = zip_vars\n",
    "    xvar_dict[\"zip_covid\"] = zip_covid\n",
    "    groups = [\"I\", \"mort_rate0\", \"lumber_price0\", \"metals_price0\", \"log_heated_area0\", \"gas\", \"sewer\", \"crime\",\n",
    "              \"story\", \"bath0\", \"is_covid\", \"bath0_covid\", \"log_heated_area0_covid\", \"story_covid\",\n",
    "              \"zip\", \"zip_covid\"]\n",
    "    return X_train, X_test, y_train, y_test, xvar_dict, groups"
   ]
  },
  {
   "cell_type": "markdown",
   "id": "1b2fa2fd",
   "metadata": {},
   "source": [
    "## Linear Regression "
   ]
  },
  {
   "cell_type": "markdown",
   "id": "3bd1827f",
   "metadata": {},
   "source": [
    "### Results using full dataset"
   ]
  },
  {
   "cell_type": "code",
   "execution_count": 5,
   "id": "e4272cde",
   "metadata": {},
   "outputs": [],
   "source": [
    "X_train, X_test, y_train, y_test, xvar_dict, groups = add_features(house_df,\n",
    "                                                                   start_year=None,\n",
    "                                                                   end_year=None\n",
    "                                                                  )\n",
    "\n",
    "# full model\n",
    "xvars = []\n",
    "for g in groups:\n",
    "    xvars += xvar_dict[g]\n",
    "X_train_tmp, X_test_tmp = X_train[xvars], X_test[xvars]\n",
    "reg_model = sm.OLS(y_train, X_train_tmp).fit()\n",
    "full_model = reg_model"
   ]
  },
  {
   "cell_type": "code",
   "execution_count": 6,
   "id": "df4a4041",
   "metadata": {},
   "outputs": [
    {
     "data": {
      "text/html": [
       "<table class=\"simpletable\">\n",
       "<caption>OLS Regression Results</caption>\n",
       "<tr>\n",
       "  <th>Dep. Variable:</th>         <td>log_px</td>      <th>  R-squared:         </th>  <td>   0.688</td> \n",
       "</tr>\n",
       "<tr>\n",
       "  <th>Model:</th>                   <td>OLS</td>       <th>  Adj. R-squared:    </th>  <td>   0.688</td> \n",
       "</tr>\n",
       "<tr>\n",
       "  <th>Method:</th>             <td>Least Squares</td>  <th>  F-statistic:       </th>  <td>   6232.</td> \n",
       "</tr>\n",
       "<tr>\n",
       "  <th>Date:</th>             <td>Fri, 21 Oct 2022</td> <th>  Prob (F-statistic):</th>   <td>  0.00</td>  \n",
       "</tr>\n",
       "<tr>\n",
       "  <th>Time:</th>                 <td>20:54:00</td>     <th>  Log-Likelihood:    </th> <td>1.1162e+05</td>\n",
       "</tr>\n",
       "<tr>\n",
       "  <th>No. Observations:</th>      <td>217324</td>      <th>  AIC:               </th> <td>-2.231e+05</td>\n",
       "</tr>\n",
       "<tr>\n",
       "  <th>Df Residuals:</th>          <td>217246</td>      <th>  BIC:               </th> <td>-2.223e+05</td>\n",
       "</tr>\n",
       "<tr>\n",
       "  <th>Df Model:</th>              <td>    77</td>      <th>                     </th>      <td> </td>    \n",
       "</tr>\n",
       "<tr>\n",
       "  <th>Covariance Type:</th>      <td>nonrobust</td>    <th>                     </th>      <td> </td>    \n",
       "</tr>\n",
       "</table>\n",
       "<table class=\"simpletable\">\n",
       "<tr>\n",
       "             <td></td>               <th>coef</th>     <th>std err</th>      <th>t</th>      <th>P>|t|</th>  <th>[0.025</th>    <th>0.975]</th>  \n",
       "</tr>\n",
       "<tr>\n",
       "  <th>I</th>                      <td>    5.3668</td> <td>    0.002</td> <td> 3200.455</td> <td> 0.000</td> <td>    5.363</td> <td>    5.370</td>\n",
       "</tr>\n",
       "<tr>\n",
       "  <th>mort_rate0</th>             <td>   -0.0131</td> <td>    0.000</td> <td>  -42.588</td> <td> 0.000</td> <td>   -0.014</td> <td>   -0.012</td>\n",
       "</tr>\n",
       "<tr>\n",
       "  <th>lumber_price0</th>          <td>    0.0003</td> <td> 8.93e-06</td> <td>   37.697</td> <td> 0.000</td> <td>    0.000</td> <td>    0.000</td>\n",
       "</tr>\n",
       "<tr>\n",
       "  <th>metals_price0</th>          <td>    0.0004</td> <td> 6.48e-06</td> <td>   54.566</td> <td> 0.000</td> <td>    0.000</td> <td>    0.000</td>\n",
       "</tr>\n",
       "<tr>\n",
       "  <th>log_heated_area0</th>       <td>    0.9112</td> <td>    0.003</td> <td>  294.788</td> <td> 0.000</td> <td>    0.905</td> <td>    0.917</td>\n",
       "</tr>\n",
       "<tr>\n",
       "  <th>gas</th>                    <td>    0.0175</td> <td>    0.002</td> <td>   11.498</td> <td> 0.000</td> <td>    0.015</td> <td>    0.021</td>\n",
       "</tr>\n",
       "<tr>\n",
       "  <th>sewer</th>                  <td>   -0.0186</td> <td>    0.002</td> <td>  -11.495</td> <td> 0.000</td> <td>   -0.022</td> <td>   -0.015</td>\n",
       "</tr>\n",
       "<tr>\n",
       "  <th>crime</th>                  <td> -8.68e-06</td> <td> 7.41e-07</td> <td>  -11.707</td> <td> 0.000</td> <td>-1.01e-05</td> <td>-7.23e-06</td>\n",
       "</tr>\n",
       "<tr>\n",
       "  <th>I_story1</th>               <td>    0.0225</td> <td>    0.001</td> <td>   22.857</td> <td> 0.000</td> <td>    0.021</td> <td>    0.024</td>\n",
       "</tr>\n",
       "<tr>\n",
       "  <th>I_story1-2</th>             <td>    0.0323</td> <td>    0.001</td> <td>   34.220</td> <td> 0.000</td> <td>    0.030</td> <td>    0.034</td>\n",
       "</tr>\n",
       "<tr>\n",
       "  <th>I_story_other</th>          <td>   -0.0889</td> <td>    0.006</td> <td>  -15.808</td> <td> 0.000</td> <td>   -0.100</td> <td>   -0.078</td>\n",
       "</tr>\n",
       "<tr>\n",
       "  <th>bath0</th>                  <td>    0.0441</td> <td>    0.001</td> <td>   53.081</td> <td> 0.000</td> <td>    0.042</td> <td>    0.046</td>\n",
       "</tr>\n",
       "<tr>\n",
       "  <th>is_covid</th>               <td>    0.0614</td> <td>    0.003</td> <td>   19.120</td> <td> 0.000</td> <td>    0.055</td> <td>    0.068</td>\n",
       "</tr>\n",
       "<tr>\n",
       "  <th>bath0_covid</th>            <td>   -0.0143</td> <td>    0.002</td> <td>   -8.796</td> <td> 0.000</td> <td>   -0.017</td> <td>   -0.011</td>\n",
       "</tr>\n",
       "<tr>\n",
       "  <th>log_heated_area0_covid</th> <td>   -0.1156</td> <td>    0.006</td> <td>  -19.138</td> <td> 0.000</td> <td>   -0.127</td> <td>   -0.104</td>\n",
       "</tr>\n",
       "<tr>\n",
       "  <th>I_story1_covid</th>         <td>    0.0126</td> <td>    0.002</td> <td>    6.606</td> <td> 0.000</td> <td>    0.009</td> <td>    0.016</td>\n",
       "</tr>\n",
       "<tr>\n",
       "  <th>I_story1-2_covid</th>       <td>   -0.0031</td> <td>    0.002</td> <td>   -1.673</td> <td> 0.094</td> <td>   -0.007</td> <td>    0.001</td>\n",
       "</tr>\n",
       "<tr>\n",
       "  <th>I_story_other_covid</th>    <td>    0.0176</td> <td>    0.010</td> <td>    1.801</td> <td> 0.072</td> <td>   -0.002</td> <td>    0.037</td>\n",
       "</tr>\n",
       "<tr>\n",
       "  <th>I_zip27609</th>             <td>    0.0009</td> <td>    0.003</td> <td>    0.307</td> <td> 0.759</td> <td>   -0.005</td> <td>    0.006</td>\n",
       "</tr>\n",
       "<tr>\n",
       "  <th>I_zip27511</th>             <td>   -0.0151</td> <td>    0.003</td> <td>   -5.918</td> <td> 0.000</td> <td>   -0.020</td> <td>   -0.010</td>\n",
       "</tr>\n",
       "<tr>\n",
       "  <th>I_zip27612</th>             <td>    0.0435</td> <td>    0.003</td> <td>   16.575</td> <td> 0.000</td> <td>    0.038</td> <td>    0.049</td>\n",
       "</tr>\n",
       "<tr>\n",
       "  <th>I_zip27603</th>             <td>   -0.0074</td> <td>    0.002</td> <td>   -3.000</td> <td> 0.003</td> <td>   -0.012</td> <td>   -0.003</td>\n",
       "</tr>\n",
       "<tr>\n",
       "  <th>I_zip27610</th>             <td>   -0.1019</td> <td>    0.002</td> <td>  -44.408</td> <td> 0.000</td> <td>   -0.106</td> <td>   -0.097</td>\n",
       "</tr>\n",
       "<tr>\n",
       "  <th>I_zip27604</th>             <td>   -0.0289</td> <td>    0.003</td> <td>  -11.278</td> <td> 0.000</td> <td>   -0.034</td> <td>   -0.024</td>\n",
       "</tr>\n",
       "<tr>\n",
       "  <th>I_zip27502</th>             <td>    0.0382</td> <td>    0.002</td> <td>   17.809</td> <td> 0.000</td> <td>    0.034</td> <td>    0.042</td>\n",
       "</tr>\n",
       "<tr>\n",
       "  <th>I_zip27613</th>             <td>    0.0416</td> <td>    0.002</td> <td>   16.856</td> <td> 0.000</td> <td>    0.037</td> <td>    0.046</td>\n",
       "</tr>\n",
       "<tr>\n",
       "  <th>I_zip27591</th>             <td>   -0.0618</td> <td>    0.003</td> <td>  -19.780</td> <td> 0.000</td> <td>   -0.068</td> <td>   -0.056</td>\n",
       "</tr>\n",
       "<tr>\n",
       "  <th>I_zip27529</th>             <td>   -0.0833</td> <td>    0.003</td> <td>  -33.114</td> <td> 0.000</td> <td>   -0.088</td> <td>   -0.078</td>\n",
       "</tr>\n",
       "<tr>\n",
       "  <th>I_zip27615</th>             <td>    0.0233</td> <td>    0.002</td> <td>    9.496</td> <td> 0.000</td> <td>    0.018</td> <td>    0.028</td>\n",
       "</tr>\n",
       "<tr>\n",
       "  <th>I_zip27597</th>             <td>   -0.0823</td> <td>    0.004</td> <td>  -22.913</td> <td> 0.000</td> <td>   -0.089</td> <td>   -0.075</td>\n",
       "</tr>\n",
       "<tr>\n",
       "  <th>I_zip27539</th>             <td>    0.0223</td> <td>    0.003</td> <td>    8.466</td> <td> 0.000</td> <td>    0.017</td> <td>    0.028</td>\n",
       "</tr>\n",
       "<tr>\n",
       "  <th>I_zip27614</th>             <td>    0.0383</td> <td>    0.003</td> <td>   14.918</td> <td> 0.000</td> <td>    0.033</td> <td>    0.043</td>\n",
       "</tr>\n",
       "<tr>\n",
       "  <th>I_zip27545</th>             <td>   -0.0678</td> <td>    0.003</td> <td>  -26.823</td> <td> 0.000</td> <td>   -0.073</td> <td>   -0.063</td>\n",
       "</tr>\n",
       "<tr>\n",
       "  <th>I_zip27608</th>             <td>    0.1986</td> <td>    0.004</td> <td>   52.944</td> <td> 0.000</td> <td>    0.191</td> <td>    0.206</td>\n",
       "</tr>\n",
       "<tr>\n",
       "  <th>I_zip27607</th>             <td>    0.0943</td> <td>    0.003</td> <td>   26.977</td> <td> 0.000</td> <td>    0.087</td> <td>    0.101</td>\n",
       "</tr>\n",
       "<tr>\n",
       "  <th>I_zip27513</th>             <td>    0.0363</td> <td>    0.002</td> <td>   16.080</td> <td> 0.000</td> <td>    0.032</td> <td>    0.041</td>\n",
       "</tr>\n",
       "<tr>\n",
       "  <th>I_zip27616</th>             <td>   -0.0452</td> <td>    0.002</td> <td>  -19.469</td> <td> 0.000</td> <td>   -0.050</td> <td>   -0.041</td>\n",
       "</tr>\n",
       "<tr>\n",
       "  <th>I_zip27606</th>             <td>   -0.0176</td> <td>    0.003</td> <td>   -6.352</td> <td> 0.000</td> <td>   -0.023</td> <td>   -0.012</td>\n",
       "</tr>\n",
       "<tr>\n",
       "  <th>I_zip27617</th>             <td>    0.0659</td> <td>    0.003</td> <td>   20.198</td> <td> 0.000</td> <td>    0.059</td> <td>    0.072</td>\n",
       "</tr>\n",
       "<tr>\n",
       "  <th>I_zip27540</th>             <td>    0.0137</td> <td>    0.002</td> <td>    6.275</td> <td> 0.000</td> <td>    0.009</td> <td>    0.018</td>\n",
       "</tr>\n",
       "<tr>\n",
       "  <th>I_zip27518</th>             <td>    0.0414</td> <td>    0.003</td> <td>   13.961</td> <td> 0.000</td> <td>    0.036</td> <td>    0.047</td>\n",
       "</tr>\n",
       "<tr>\n",
       "  <th>I_zip27526</th>             <td>   -0.0267</td> <td>    0.002</td> <td>  -12.627</td> <td> 0.000</td> <td>   -0.031</td> <td>   -0.023</td>\n",
       "</tr>\n",
       "<tr>\n",
       "  <th>I_zip27519</th>             <td>    0.0601</td> <td>    0.002</td> <td>   30.121</td> <td> 0.000</td> <td>    0.056</td> <td>    0.064</td>\n",
       "</tr>\n",
       "<tr>\n",
       "  <th>I_zip27560</th>             <td>    0.0275</td> <td>    0.003</td> <td>   10.737</td> <td> 0.000</td> <td>    0.022</td> <td>    0.033</td>\n",
       "</tr>\n",
       "<tr>\n",
       "  <th>I_zip27523</th>             <td>    0.0717</td> <td>    0.003</td> <td>   21.417</td> <td> 0.000</td> <td>    0.065</td> <td>    0.078</td>\n",
       "</tr>\n",
       "<tr>\n",
       "  <th>I_zip27605</th>             <td>    0.2273</td> <td>    0.005</td> <td>   42.941</td> <td> 0.000</td> <td>    0.217</td> <td>    0.238</td>\n",
       "</tr>\n",
       "<tr>\n",
       "  <th>I_zip27601</th>             <td>    0.1214</td> <td>    0.006</td> <td>   21.959</td> <td> 0.000</td> <td>    0.111</td> <td>    0.132</td>\n",
       "</tr>\n",
       "<tr>\n",
       "  <th>I_zip27571</th>             <td>   -0.0281</td> <td>    0.004</td> <td>   -7.210</td> <td> 0.000</td> <td>   -0.036</td> <td>   -0.020</td>\n",
       "</tr>\n",
       "<tr>\n",
       "  <th>I_zip27609_covid</th>       <td>    0.0215</td> <td>    0.005</td> <td>    4.159</td> <td> 0.000</td> <td>    0.011</td> <td>    0.032</td>\n",
       "</tr>\n",
       "<tr>\n",
       "  <th>I_zip27511_covid</th>       <td>    0.0290</td> <td>    0.005</td> <td>    5.679</td> <td> 0.000</td> <td>    0.019</td> <td>    0.039</td>\n",
       "</tr>\n",
       "<tr>\n",
       "  <th>I_zip27612_covid</th>       <td>    0.0022</td> <td>    0.005</td> <td>    0.456</td> <td> 0.648</td> <td>   -0.007</td> <td>    0.012</td>\n",
       "</tr>\n",
       "<tr>\n",
       "  <th>I_zip27603_covid</th>       <td>    0.0114</td> <td>    0.004</td> <td>    2.632</td> <td> 0.008</td> <td>    0.003</td> <td>    0.020</td>\n",
       "</tr>\n",
       "<tr>\n",
       "  <th>I_zip27610_covid</th>       <td>    0.0529</td> <td>    0.004</td> <td>   12.869</td> <td> 0.000</td> <td>    0.045</td> <td>    0.061</td>\n",
       "</tr>\n",
       "<tr>\n",
       "  <th>I_zip27604_covid</th>       <td>    0.0051</td> <td>    0.004</td> <td>    1.142</td> <td> 0.253</td> <td>   -0.004</td> <td>    0.014</td>\n",
       "</tr>\n",
       "<tr>\n",
       "  <th>I_zip27502_covid</th>       <td>   -0.0011</td> <td>    0.004</td> <td>   -0.264</td> <td> 0.792</td> <td>   -0.009</td> <td>    0.007</td>\n",
       "</tr>\n",
       "<tr>\n",
       "  <th>I_zip27613_covid</th>       <td>   -0.0078</td> <td>    0.005</td> <td>   -1.686</td> <td> 0.092</td> <td>   -0.017</td> <td>    0.001</td>\n",
       "</tr>\n",
       "<tr>\n",
       "  <th>I_zip27591_covid</th>       <td>    0.0307</td> <td>    0.005</td> <td>    5.631</td> <td> 0.000</td> <td>    0.020</td> <td>    0.041</td>\n",
       "</tr>\n",
       "<tr>\n",
       "  <th>I_zip27529_covid</th>       <td>    0.0267</td> <td>    0.005</td> <td>    5.594</td> <td> 0.000</td> <td>    0.017</td> <td>    0.036</td>\n",
       "</tr>\n",
       "<tr>\n",
       "  <th>I_zip27615_covid</th>       <td>    0.0119</td> <td>    0.004</td> <td>    2.676</td> <td> 0.007</td> <td>    0.003</td> <td>    0.021</td>\n",
       "</tr>\n",
       "<tr>\n",
       "  <th>I_zip27597_covid</th>       <td>    0.0066</td> <td>    0.006</td> <td>    1.126</td> <td> 0.260</td> <td>   -0.005</td> <td>    0.018</td>\n",
       "</tr>\n",
       "<tr>\n",
       "  <th>I_zip27539_covid</th>       <td>   -0.0028</td> <td>    0.005</td> <td>   -0.540</td> <td> 0.589</td> <td>   -0.013</td> <td>    0.007</td>\n",
       "</tr>\n",
       "<tr>\n",
       "  <th>I_zip27614_covid</th>       <td>   -0.0186</td> <td>    0.005</td> <td>   -3.809</td> <td> 0.000</td> <td>   -0.028</td> <td>   -0.009</td>\n",
       "</tr>\n",
       "<tr>\n",
       "  <th>I_zip27545_covid</th>       <td>    0.0015</td> <td>    0.005</td> <td>    0.301</td> <td> 0.763</td> <td>   -0.008</td> <td>    0.011</td>\n",
       "</tr>\n",
       "<tr>\n",
       "  <th>I_zip27608_covid</th>       <td>    0.0215</td> <td>    0.007</td> <td>    2.943</td> <td> 0.003</td> <td>    0.007</td> <td>    0.036</td>\n",
       "</tr>\n",
       "<tr>\n",
       "  <th>I_zip27607_covid</th>       <td>    0.0041</td> <td>    0.007</td> <td>    0.600</td> <td> 0.548</td> <td>   -0.009</td> <td>    0.018</td>\n",
       "</tr>\n",
       "<tr>\n",
       "  <th>I_zip27513_covid</th>       <td>   -0.0083</td> <td>    0.005</td> <td>   -1.810</td> <td> 0.070</td> <td>   -0.017</td> <td>    0.001</td>\n",
       "</tr>\n",
       "<tr>\n",
       "  <th>I_zip27616_covid</th>       <td>    0.0040</td> <td>    0.004</td> <td>    0.961</td> <td> 0.337</td> <td>   -0.004</td> <td>    0.012</td>\n",
       "</tr>\n",
       "<tr>\n",
       "  <th>I_zip27606_covid</th>       <td>    0.0069</td> <td>    0.005</td> <td>    1.354</td> <td> 0.176</td> <td>   -0.003</td> <td>    0.017</td>\n",
       "</tr>\n",
       "<tr>\n",
       "  <th>I_zip27617_covid</th>       <td>   -0.0416</td> <td>    0.006</td> <td>   -6.734</td> <td> 0.000</td> <td>   -0.054</td> <td>   -0.029</td>\n",
       "</tr>\n",
       "<tr>\n",
       "  <th>I_zip27540_covid</th>       <td>    0.0063</td> <td>    0.004</td> <td>    1.596</td> <td> 0.111</td> <td>   -0.001</td> <td>    0.014</td>\n",
       "</tr>\n",
       "<tr>\n",
       "  <th>I_zip27518_covid</th>       <td>   -0.0085</td> <td>    0.006</td> <td>   -1.382</td> <td> 0.167</td> <td>   -0.021</td> <td>    0.004</td>\n",
       "</tr>\n",
       "<tr>\n",
       "  <th>I_zip27526_covid</th>       <td>    0.0078</td> <td>    0.004</td> <td>    2.045</td> <td> 0.041</td> <td>    0.000</td> <td>    0.015</td>\n",
       "</tr>\n",
       "<tr>\n",
       "  <th>I_zip27519_covid</th>       <td>   -0.0052</td> <td>    0.004</td> <td>   -1.324</td> <td> 0.186</td> <td>   -0.013</td> <td>    0.003</td>\n",
       "</tr>\n",
       "<tr>\n",
       "  <th>I_zip27560_covid</th>       <td>   -0.0117</td> <td>    0.005</td> <td>   -2.132</td> <td> 0.033</td> <td>   -0.022</td> <td>   -0.001</td>\n",
       "</tr>\n",
       "<tr>\n",
       "  <th>I_zip27523_covid</th>       <td>   -0.0105</td> <td>    0.006</td> <td>   -1.863</td> <td> 0.062</td> <td>   -0.022</td> <td>    0.001</td>\n",
       "</tr>\n",
       "<tr>\n",
       "  <th>I_zip27605_covid</th>       <td>    0.0351</td> <td>    0.010</td> <td>    3.626</td> <td> 0.000</td> <td>    0.016</td> <td>    0.054</td>\n",
       "</tr>\n",
       "<tr>\n",
       "  <th>I_zip27601_covid</th>       <td>    0.0992</td> <td>    0.010</td> <td>   10.238</td> <td> 0.000</td> <td>    0.080</td> <td>    0.118</td>\n",
       "</tr>\n",
       "<tr>\n",
       "  <th>I_zip27571_covid</th>       <td>    0.0093</td> <td>    0.007</td> <td>    1.251</td> <td> 0.211</td> <td>   -0.005</td> <td>    0.024</td>\n",
       "</tr>\n",
       "</table>\n",
       "<table class=\"simpletable\">\n",
       "<tr>\n",
       "  <th>Omnibus:</th>       <td>80530.996</td> <th>  Durbin-Watson:     </th>  <td>   1.995</td> \n",
       "</tr>\n",
       "<tr>\n",
       "  <th>Prob(Omnibus):</th>  <td> 0.000</td>   <th>  Jarque-Bera (JB):  </th> <td>807830.028</td>\n",
       "</tr>\n",
       "<tr>\n",
       "  <th>Skew:</th>           <td>-1.499</td>   <th>  Prob(JB):          </th>  <td>    0.00</td> \n",
       "</tr>\n",
       "<tr>\n",
       "  <th>Kurtosis:</th>       <td>11.957</td>   <th>  Cond. No.          </th>  <td>5.17e+04</td> \n",
       "</tr>\n",
       "</table><br/><br/>Notes:<br/>[1] Standard Errors assume that the covariance matrix of the errors is correctly specified.<br/>[2] The condition number is large, 5.17e+04. This might indicate that there are<br/>strong multicollinearity or other numerical problems."
      ],
      "text/plain": [
       "<class 'statsmodels.iolib.summary.Summary'>\n",
       "\"\"\"\n",
       "                            OLS Regression Results                            \n",
       "==============================================================================\n",
       "Dep. Variable:                 log_px   R-squared:                       0.688\n",
       "Model:                            OLS   Adj. R-squared:                  0.688\n",
       "Method:                 Least Squares   F-statistic:                     6232.\n",
       "Date:                Fri, 21 Oct 2022   Prob (F-statistic):               0.00\n",
       "Time:                        20:54:00   Log-Likelihood:             1.1162e+05\n",
       "No. Observations:              217324   AIC:                        -2.231e+05\n",
       "Df Residuals:                  217246   BIC:                        -2.223e+05\n",
       "Df Model:                          77                                         \n",
       "Covariance Type:            nonrobust                                         \n",
       "==========================================================================================\n",
       "                             coef    std err          t      P>|t|      [0.025      0.975]\n",
       "------------------------------------------------------------------------------------------\n",
       "I                          5.3668      0.002   3200.455      0.000       5.363       5.370\n",
       "mort_rate0                -0.0131      0.000    -42.588      0.000      -0.014      -0.012\n",
       "lumber_price0              0.0003   8.93e-06     37.697      0.000       0.000       0.000\n",
       "metals_price0              0.0004   6.48e-06     54.566      0.000       0.000       0.000\n",
       "log_heated_area0           0.9112      0.003    294.788      0.000       0.905       0.917\n",
       "gas                        0.0175      0.002     11.498      0.000       0.015       0.021\n",
       "sewer                     -0.0186      0.002    -11.495      0.000      -0.022      -0.015\n",
       "crime                   -8.68e-06   7.41e-07    -11.707      0.000   -1.01e-05   -7.23e-06\n",
       "I_story1                   0.0225      0.001     22.857      0.000       0.021       0.024\n",
       "I_story1-2                 0.0323      0.001     34.220      0.000       0.030       0.034\n",
       "I_story_other             -0.0889      0.006    -15.808      0.000      -0.100      -0.078\n",
       "bath0                      0.0441      0.001     53.081      0.000       0.042       0.046\n",
       "is_covid                   0.0614      0.003     19.120      0.000       0.055       0.068\n",
       "bath0_covid               -0.0143      0.002     -8.796      0.000      -0.017      -0.011\n",
       "log_heated_area0_covid    -0.1156      0.006    -19.138      0.000      -0.127      -0.104\n",
       "I_story1_covid             0.0126      0.002      6.606      0.000       0.009       0.016\n",
       "I_story1-2_covid          -0.0031      0.002     -1.673      0.094      -0.007       0.001\n",
       "I_story_other_covid        0.0176      0.010      1.801      0.072      -0.002       0.037\n",
       "I_zip27609                 0.0009      0.003      0.307      0.759      -0.005       0.006\n",
       "I_zip27511                -0.0151      0.003     -5.918      0.000      -0.020      -0.010\n",
       "I_zip27612                 0.0435      0.003     16.575      0.000       0.038       0.049\n",
       "I_zip27603                -0.0074      0.002     -3.000      0.003      -0.012      -0.003\n",
       "I_zip27610                -0.1019      0.002    -44.408      0.000      -0.106      -0.097\n",
       "I_zip27604                -0.0289      0.003    -11.278      0.000      -0.034      -0.024\n",
       "I_zip27502                 0.0382      0.002     17.809      0.000       0.034       0.042\n",
       "I_zip27613                 0.0416      0.002     16.856      0.000       0.037       0.046\n",
       "I_zip27591                -0.0618      0.003    -19.780      0.000      -0.068      -0.056\n",
       "I_zip27529                -0.0833      0.003    -33.114      0.000      -0.088      -0.078\n",
       "I_zip27615                 0.0233      0.002      9.496      0.000       0.018       0.028\n",
       "I_zip27597                -0.0823      0.004    -22.913      0.000      -0.089      -0.075\n",
       "I_zip27539                 0.0223      0.003      8.466      0.000       0.017       0.028\n",
       "I_zip27614                 0.0383      0.003     14.918      0.000       0.033       0.043\n",
       "I_zip27545                -0.0678      0.003    -26.823      0.000      -0.073      -0.063\n",
       "I_zip27608                 0.1986      0.004     52.944      0.000       0.191       0.206\n",
       "I_zip27607                 0.0943      0.003     26.977      0.000       0.087       0.101\n",
       "I_zip27513                 0.0363      0.002     16.080      0.000       0.032       0.041\n",
       "I_zip27616                -0.0452      0.002    -19.469      0.000      -0.050      -0.041\n",
       "I_zip27606                -0.0176      0.003     -6.352      0.000      -0.023      -0.012\n",
       "I_zip27617                 0.0659      0.003     20.198      0.000       0.059       0.072\n",
       "I_zip27540                 0.0137      0.002      6.275      0.000       0.009       0.018\n",
       "I_zip27518                 0.0414      0.003     13.961      0.000       0.036       0.047\n",
       "I_zip27526                -0.0267      0.002    -12.627      0.000      -0.031      -0.023\n",
       "I_zip27519                 0.0601      0.002     30.121      0.000       0.056       0.064\n",
       "I_zip27560                 0.0275      0.003     10.737      0.000       0.022       0.033\n",
       "I_zip27523                 0.0717      0.003     21.417      0.000       0.065       0.078\n",
       "I_zip27605                 0.2273      0.005     42.941      0.000       0.217       0.238\n",
       "I_zip27601                 0.1214      0.006     21.959      0.000       0.111       0.132\n",
       "I_zip27571                -0.0281      0.004     -7.210      0.000      -0.036      -0.020\n",
       "I_zip27609_covid           0.0215      0.005      4.159      0.000       0.011       0.032\n",
       "I_zip27511_covid           0.0290      0.005      5.679      0.000       0.019       0.039\n",
       "I_zip27612_covid           0.0022      0.005      0.456      0.648      -0.007       0.012\n",
       "I_zip27603_covid           0.0114      0.004      2.632      0.008       0.003       0.020\n",
       "I_zip27610_covid           0.0529      0.004     12.869      0.000       0.045       0.061\n",
       "I_zip27604_covid           0.0051      0.004      1.142      0.253      -0.004       0.014\n",
       "I_zip27502_covid          -0.0011      0.004     -0.264      0.792      -0.009       0.007\n",
       "I_zip27613_covid          -0.0078      0.005     -1.686      0.092      -0.017       0.001\n",
       "I_zip27591_covid           0.0307      0.005      5.631      0.000       0.020       0.041\n",
       "I_zip27529_covid           0.0267      0.005      5.594      0.000       0.017       0.036\n",
       "I_zip27615_covid           0.0119      0.004      2.676      0.007       0.003       0.021\n",
       "I_zip27597_covid           0.0066      0.006      1.126      0.260      -0.005       0.018\n",
       "I_zip27539_covid          -0.0028      0.005     -0.540      0.589      -0.013       0.007\n",
       "I_zip27614_covid          -0.0186      0.005     -3.809      0.000      -0.028      -0.009\n",
       "I_zip27545_covid           0.0015      0.005      0.301      0.763      -0.008       0.011\n",
       "I_zip27608_covid           0.0215      0.007      2.943      0.003       0.007       0.036\n",
       "I_zip27607_covid           0.0041      0.007      0.600      0.548      -0.009       0.018\n",
       "I_zip27513_covid          -0.0083      0.005     -1.810      0.070      -0.017       0.001\n",
       "I_zip27616_covid           0.0040      0.004      0.961      0.337      -0.004       0.012\n",
       "I_zip27606_covid           0.0069      0.005      1.354      0.176      -0.003       0.017\n",
       "I_zip27617_covid          -0.0416      0.006     -6.734      0.000      -0.054      -0.029\n",
       "I_zip27540_covid           0.0063      0.004      1.596      0.111      -0.001       0.014\n",
       "I_zip27518_covid          -0.0085      0.006     -1.382      0.167      -0.021       0.004\n",
       "I_zip27526_covid           0.0078      0.004      2.045      0.041       0.000       0.015\n",
       "I_zip27519_covid          -0.0052      0.004     -1.324      0.186      -0.013       0.003\n",
       "I_zip27560_covid          -0.0117      0.005     -2.132      0.033      -0.022      -0.001\n",
       "I_zip27523_covid          -0.0105      0.006     -1.863      0.062      -0.022       0.001\n",
       "I_zip27605_covid           0.0351      0.010      3.626      0.000       0.016       0.054\n",
       "I_zip27601_covid           0.0992      0.010     10.238      0.000       0.080       0.118\n",
       "I_zip27571_covid           0.0093      0.007      1.251      0.211      -0.005       0.024\n",
       "==============================================================================\n",
       "Omnibus:                    80530.996   Durbin-Watson:                   1.995\n",
       "Prob(Omnibus):                  0.000   Jarque-Bera (JB):           807830.028\n",
       "Skew:                          -1.499   Prob(JB):                         0.00\n",
       "Kurtosis:                      11.957   Cond. No.                     5.17e+04\n",
       "==============================================================================\n",
       "\n",
       "Notes:\n",
       "[1] Standard Errors assume that the covariance matrix of the errors is correctly specified.\n",
       "[2] The condition number is large, 5.17e+04. This might indicate that there are\n",
       "strong multicollinearity or other numerical problems.\n",
       "\"\"\""
      ]
     },
     "execution_count": 6,
     "metadata": {},
     "output_type": "execute_result"
    }
   ],
   "source": [
    "full_model.summary()"
   ]
  },
  {
   "cell_type": "markdown",
   "id": "bb1b313c",
   "metadata": {},
   "source": [
    "#### full model cv"
   ]
  },
  {
   "cell_type": "code",
   "execution_count": 75,
   "id": "b5541d85",
   "metadata": {},
   "outputs": [
    {
     "name": "stdout",
     "output_type": "stream",
     "text": [
      "regression cross validation used 12.464936017990112 seconds\n"
     ]
    },
    {
     "data": {
      "text/plain": [
       "0.6892370887076513"
      ]
     },
     "execution_count": 75,
     "metadata": {},
     "output_type": "execute_result"
    }
   ],
   "source": [
    "from sklearn.model_selection import KFold\n",
    "\n",
    "def create_regression_cv(X, y, xvars):\n",
    "    t0 = time.time()\n",
    "    X1 = X[xvars]\n",
    "    scores = []\n",
    "    kf = KFold(n_splits=5, shuffle=True, random_state=42)\n",
    "    for train, test in kf.split(X1):\n",
    "        X_train, X_test, y_train, y_test = X1.iloc[train, :], X1.iloc[test, :], y.iloc[train], y.iloc[test]\n",
    "        reg_model = sm.OLS(y_train, X_train).fit()\n",
    "        score = 1 - metrics.mean_squared_error(y_test, reg_model.predict(X_test)) / y_test.var()\n",
    "        scores.append(score)\n",
    "    print(f\"regression cross validation used {time.time()-t0} seconds\")\n",
    "    return np.mean(scores)\n",
    "\n",
    "X, X_test, y, y_test, xvar_dict, groups = add_features(house_df,\n",
    "                                                       start_year=None,\n",
    "                                                       end_year=None,\n",
    "                                                       test_size=0\n",
    "                                                      )\n",
    "xvars = []\n",
    "for g in groups:\n",
    "    xvars += xvar_dict[g]\n",
    "create_regression_cv(X, y, xvars)"
   ]
  },
  {
   "cell_type": "markdown",
   "id": "22cd73d4",
   "metadata": {},
   "source": [
    "#### House price changes after covid by zip code using full dataset"
   ]
  },
  {
   "cell_type": "code",
   "execution_count": 8,
   "id": "6ed0aef6",
   "metadata": {},
   "outputs": [
    {
     "data": {
      "text/plain": [
       "Text(0.5, 0, 'avg price pre_COVID by zip')"
      ]
     },
     "execution_count": 8,
     "metadata": {},
     "output_type": "execute_result"
    },
    {
     "data": {
      "image/png": "[encoded data removed]",
      "text/plain": [
       "<Figure size 576x432 with 1 Axes>"
      ]
     },
     "metadata": {},
     "output_type": "display_data"
    }
   ],
   "source": [
    "df_house_copy = house_df.copy()\n",
    "all_zips = df_house_copy[(df_house_copy[\"physical_zip_code\"]) != 27587]['physical_zip_code'].unique().tolist()\n",
    "\n",
    "res = full_model.params[xvar_dict[\"zip\"]].reset_index() # price by zip\n",
    "res[\"zip_covid\"] = full_model.params[xvar_dict[\"zip_covid\"]].values # price chg after covide by zip\n",
    "res[\"zip\"] = all_zips\n",
    "res = res.drop(\"index\", axis=1)\n",
    "\n",
    "counts = df_house_copy.groupby(\"physical_zip_code\").apply(len).reset_index()\n",
    "counts.columns = [\"zip\", \"cnts\"]\n",
    "res = pd.merge(res, counts, on=\"zip\")\n",
    "res = res[(res.cnts > 300)]\n",
    "\n",
    "fig, ax = plt.subplots(figsize=[8,6])\n",
    "ax.scatter(res[0], res[\"zip_covid\"])\n",
    "ax.set_title(\"pre-COVID house price vs house price change post-COVID by zip with full data\")\n",
    "ax.set_ylabel(\"price chg post_COVID by zip\")\n",
    "ax.set_xlabel(\"avg price pre_COVID by zip\")"
   ]
  },
  {
   "cell_type": "markdown",
   "id": "c016481f",
   "metadata": {},
   "source": [
    "### Results using data after 2017"
   ]
  },
  {
   "cell_type": "code",
   "execution_count": 9,
   "id": "b8eddc67",
   "metadata": {
    "scrolled": true
   },
   "outputs": [
    {
     "data": {
      "text/html": [
       "<table class=\"simpletable\">\n",
       "<caption>OLS Regression Results</caption>\n",
       "<tr>\n",
       "  <th>Dep. Variable:</th>         <td>log_px</td>      <th>  R-squared:         </th>  <td>   0.630</td> \n",
       "</tr>\n",
       "<tr>\n",
       "  <th>Model:</th>                   <td>OLS</td>       <th>  Adj. R-squared:    </th>  <td>   0.630</td> \n",
       "</tr>\n",
       "<tr>\n",
       "  <th>Method:</th>             <td>Least Squares</td>  <th>  F-statistic:       </th>  <td>   2448.</td> \n",
       "</tr>\n",
       "<tr>\n",
       "  <th>Date:</th>             <td>Fri, 21 Oct 2022</td> <th>  Prob (F-statistic):</th>   <td>  0.00</td>  \n",
       "</tr>\n",
       "<tr>\n",
       "  <th>Time:</th>                 <td>20:54:20</td>     <th>  Log-Likelihood:    </th>  <td>  58136.</td> \n",
       "</tr>\n",
       "<tr>\n",
       "  <th>No. Observations:</th>      <td>110854</td>      <th>  AIC:               </th> <td>-1.161e+05</td>\n",
       "</tr>\n",
       "<tr>\n",
       "  <th>Df Residuals:</th>          <td>110776</td>      <th>  BIC:               </th> <td>-1.154e+05</td>\n",
       "</tr>\n",
       "<tr>\n",
       "  <th>Df Model:</th>              <td>    77</td>      <th>                     </th>      <td> </td>    \n",
       "</tr>\n",
       "<tr>\n",
       "  <th>Covariance Type:</th>      <td>nonrobust</td>    <th>                     </th>      <td> </td>    \n",
       "</tr>\n",
       "</table>\n",
       "<table class=\"simpletable\">\n",
       "<tr>\n",
       "             <td></td>               <th>coef</th>     <th>std err</th>      <th>t</th>      <th>P>|t|</th>  <th>[0.025</th>    <th>0.975]</th>  \n",
       "</tr>\n",
       "<tr>\n",
       "  <th>I</th>                      <td>    5.4142</td> <td>    0.003</td> <td> 1981.673</td> <td> 0.000</td> <td>    5.409</td> <td>    5.420</td>\n",
       "</tr>\n",
       "<tr>\n",
       "  <th>mort_rate0</th>             <td>    0.0150</td> <td>    0.001</td> <td>   19.959</td> <td> 0.000</td> <td>    0.014</td> <td>    0.016</td>\n",
       "</tr>\n",
       "<tr>\n",
       "  <th>lumber_price0</th>          <td> 4.713e-05</td> <td> 9.95e-06</td> <td>    4.736</td> <td> 0.000</td> <td> 2.76e-05</td> <td> 6.66e-05</td>\n",
       "</tr>\n",
       "<tr>\n",
       "  <th>metals_price0</th>          <td>    0.0004</td> <td> 8.82e-06</td> <td>   45.405</td> <td> 0.000</td> <td>    0.000</td> <td>    0.000</td>\n",
       "</tr>\n",
       "<tr>\n",
       "  <th>log_heated_area0</th>       <td>    0.8585</td> <td>    0.005</td> <td>  158.445</td> <td> 0.000</td> <td>    0.848</td> <td>    0.869</td>\n",
       "</tr>\n",
       "<tr>\n",
       "  <th>gas</th>                    <td>    0.0222</td> <td>    0.002</td> <td>   10.342</td> <td> 0.000</td> <td>    0.018</td> <td>    0.026</td>\n",
       "</tr>\n",
       "<tr>\n",
       "  <th>sewer</th>                  <td>   -0.0213</td> <td>    0.002</td> <td>   -9.384</td> <td> 0.000</td> <td>   -0.026</td> <td>   -0.017</td>\n",
       "</tr>\n",
       "<tr>\n",
       "  <th>crime</th>                  <td> 1.956e-05</td> <td> 1.02e-06</td> <td>   19.114</td> <td> 0.000</td> <td> 1.76e-05</td> <td> 2.16e-05</td>\n",
       "</tr>\n",
       "<tr>\n",
       "  <th>I_story1</th>               <td>    0.0345</td> <td>    0.002</td> <td>   20.304</td> <td> 0.000</td> <td>    0.031</td> <td>    0.038</td>\n",
       "</tr>\n",
       "<tr>\n",
       "  <th>I_story1-2</th>             <td>    0.0305</td> <td>    0.002</td> <td>   19.125</td> <td> 0.000</td> <td>    0.027</td> <td>    0.034</td>\n",
       "</tr>\n",
       "<tr>\n",
       "  <th>I_story_other</th>          <td>   -0.0876</td> <td>    0.009</td> <td>  -10.268</td> <td> 0.000</td> <td>   -0.104</td> <td>   -0.071</td>\n",
       "</tr>\n",
       "<tr>\n",
       "  <th>bath0</th>                  <td>    0.0436</td> <td>    0.001</td> <td>   30.189</td> <td> 0.000</td> <td>    0.041</td> <td>    0.046</td>\n",
       "</tr>\n",
       "<tr>\n",
       "  <th>is_covid</th>               <td>    0.0742</td> <td>    0.004</td> <td>   19.435</td> <td> 0.000</td> <td>    0.067</td> <td>    0.082</td>\n",
       "</tr>\n",
       "<tr>\n",
       "  <th>bath0_covid</th>            <td>   -0.0132</td> <td>    0.002</td> <td>   -6.640</td> <td> 0.000</td> <td>   -0.017</td> <td>   -0.009</td>\n",
       "</tr>\n",
       "<tr>\n",
       "  <th>log_heated_area0_covid</th> <td>   -0.0598</td> <td>    0.007</td> <td>   -8.035</td> <td> 0.000</td> <td>   -0.074</td> <td>   -0.045</td>\n",
       "</tr>\n",
       "<tr>\n",
       "  <th>I_story1_covid</th>         <td>    0.0011</td> <td>    0.002</td> <td>    0.491</td> <td> 0.623</td> <td>   -0.003</td> <td>    0.006</td>\n",
       "</tr>\n",
       "<tr>\n",
       "  <th>I_story1-2_covid</th>       <td>   -0.0025</td> <td>    0.002</td> <td>   -1.123</td> <td> 0.261</td> <td>   -0.007</td> <td>    0.002</td>\n",
       "</tr>\n",
       "<tr>\n",
       "  <th>I_story_other_covid</th>    <td>    0.0247</td> <td>    0.012</td> <td>    2.084</td> <td> 0.037</td> <td>    0.001</td> <td>    0.048</td>\n",
       "</tr>\n",
       "<tr>\n",
       "  <th>I_zip27604</th>             <td>   -0.0435</td> <td>    0.004</td> <td>  -10.607</td> <td> 0.000</td> <td>   -0.052</td> <td>   -0.035</td>\n",
       "</tr>\n",
       "<tr>\n",
       "  <th>I_zip27607</th>             <td>    0.1054</td> <td>    0.006</td> <td>   17.744</td> <td> 0.000</td> <td>    0.094</td> <td>    0.117</td>\n",
       "</tr>\n",
       "<tr>\n",
       "  <th>I_zip27545</th>             <td>   -0.0605</td> <td>    0.004</td> <td>  -14.550</td> <td> 0.000</td> <td>   -0.069</td> <td>   -0.052</td>\n",
       "</tr>\n",
       "<tr>\n",
       "  <th>I_zip27608</th>             <td>    0.2107</td> <td>    0.006</td> <td>   34.201</td> <td> 0.000</td> <td>    0.199</td> <td>    0.223</td>\n",
       "</tr>\n",
       "<tr>\n",
       "  <th>I_zip27529</th>             <td>   -0.0756</td> <td>    0.004</td> <td>  -17.623</td> <td> 0.000</td> <td>   -0.084</td> <td>   -0.067</td>\n",
       "</tr>\n",
       "<tr>\n",
       "  <th>I_zip27609</th>             <td>   -0.0054</td> <td>    0.005</td> <td>   -1.182</td> <td> 0.237</td> <td>   -0.014</td> <td>    0.004</td>\n",
       "</tr>\n",
       "<tr>\n",
       "  <th>I_zip27511</th>             <td>    0.0101</td> <td>    0.004</td> <td>    2.289</td> <td> 0.022</td> <td>    0.001</td> <td>    0.019</td>\n",
       "</tr>\n",
       "<tr>\n",
       "  <th>I_zip27606</th>             <td>   -0.0307</td> <td>    0.004</td> <td>   -6.896</td> <td> 0.000</td> <td>   -0.039</td> <td>   -0.022</td>\n",
       "</tr>\n",
       "<tr>\n",
       "  <th>I_zip27597</th>             <td>   -0.0936</td> <td>    0.006</td> <td>  -16.858</td> <td> 0.000</td> <td>   -0.104</td> <td>   -0.083</td>\n",
       "</tr>\n",
       "<tr>\n",
       "  <th>I_zip27612</th>             <td>    0.0299</td> <td>    0.004</td> <td>    7.050</td> <td> 0.000</td> <td>    0.022</td> <td>    0.038</td>\n",
       "</tr>\n",
       "<tr>\n",
       "  <th>I_zip27591</th>             <td>   -0.0382</td> <td>    0.005</td> <td>   -8.049</td> <td> 0.000</td> <td>   -0.048</td> <td>   -0.029</td>\n",
       "</tr>\n",
       "<tr>\n",
       "  <th>I_zip27610</th>             <td>   -0.1026</td> <td>    0.004</td> <td>  -28.330</td> <td> 0.000</td> <td>   -0.110</td> <td>   -0.096</td>\n",
       "</tr>\n",
       "<tr>\n",
       "  <th>I_zip27603</th>             <td>   -0.0238</td> <td>    0.004</td> <td>   -6.167</td> <td> 0.000</td> <td>   -0.031</td> <td>   -0.016</td>\n",
       "</tr>\n",
       "<tr>\n",
       "  <th>I_zip27615</th>             <td>    0.0038</td> <td>    0.004</td> <td>    0.965</td> <td> 0.335</td> <td>   -0.004</td> <td>    0.011</td>\n",
       "</tr>\n",
       "<tr>\n",
       "  <th>I_zip27605</th>             <td>    0.2149</td> <td>    0.009</td> <td>   23.382</td> <td> 0.000</td> <td>    0.197</td> <td>    0.233</td>\n",
       "</tr>\n",
       "<tr>\n",
       "  <th>I_zip27513</th>             <td>    0.0517</td> <td>    0.004</td> <td>   13.052</td> <td> 0.000</td> <td>    0.044</td> <td>    0.059</td>\n",
       "</tr>\n",
       "<tr>\n",
       "  <th>I_zip27601</th>             <td>    0.2000</td> <td>    0.008</td> <td>   23.647</td> <td> 0.000</td> <td>    0.183</td> <td>    0.217</td>\n",
       "</tr>\n",
       "<tr>\n",
       "  <th>I_zip27526</th>             <td>   -0.0177</td> <td>    0.003</td> <td>   -5.203</td> <td> 0.000</td> <td>   -0.024</td> <td>   -0.011</td>\n",
       "</tr>\n",
       "<tr>\n",
       "  <th>I_zip27613</th>             <td>    0.0242</td> <td>    0.004</td> <td>    6.025</td> <td> 0.000</td> <td>    0.016</td> <td>    0.032</td>\n",
       "</tr>\n",
       "<tr>\n",
       "  <th>I_zip27539</th>             <td>    0.0229</td> <td>    0.004</td> <td>    5.187</td> <td> 0.000</td> <td>    0.014</td> <td>    0.031</td>\n",
       "</tr>\n",
       "<tr>\n",
       "  <th>I_zip27614</th>             <td>   -0.0139</td> <td>    0.004</td> <td>   -3.304</td> <td> 0.001</td> <td>   -0.022</td> <td>   -0.006</td>\n",
       "</tr>\n",
       "<tr>\n",
       "  <th>I_zip27616</th>             <td>   -0.0647</td> <td>    0.004</td> <td>  -17.994</td> <td> 0.000</td> <td>   -0.072</td> <td>   -0.058</td>\n",
       "</tr>\n",
       "<tr>\n",
       "  <th>I_zip27502</th>             <td>    0.0497</td> <td>    0.003</td> <td>   14.451</td> <td> 0.000</td> <td>    0.043</td> <td>    0.056</td>\n",
       "</tr>\n",
       "<tr>\n",
       "  <th>I_zip27518</th>             <td>    0.0384</td> <td>    0.005</td> <td>    7.328</td> <td> 0.000</td> <td>    0.028</td> <td>    0.049</td>\n",
       "</tr>\n",
       "<tr>\n",
       "  <th>I_zip27617</th>             <td>    0.0266</td> <td>    0.005</td> <td>    4.907</td> <td> 0.000</td> <td>    0.016</td> <td>    0.037</td>\n",
       "</tr>\n",
       "<tr>\n",
       "  <th>I_zip27540</th>             <td>    0.0258</td> <td>    0.003</td> <td>    7.453</td> <td> 0.000</td> <td>    0.019</td> <td>    0.033</td>\n",
       "</tr>\n",
       "<tr>\n",
       "  <th>I_zip27519</th>             <td>    0.0737</td> <td>    0.003</td> <td>   21.585</td> <td> 0.000</td> <td>    0.067</td> <td>    0.080</td>\n",
       "</tr>\n",
       "<tr>\n",
       "  <th>I_zip27523</th>             <td>    0.0769</td> <td>    0.004</td> <td>   17.710</td> <td> 0.000</td> <td>    0.068</td> <td>    0.085</td>\n",
       "</tr>\n",
       "<tr>\n",
       "  <th>I_zip27560</th>             <td>    0.0488</td> <td>    0.005</td> <td>   10.431</td> <td> 0.000</td> <td>    0.040</td> <td>    0.058</td>\n",
       "</tr>\n",
       "<tr>\n",
       "  <th>I_zip27571</th>             <td>   -0.0320</td> <td>    0.006</td> <td>   -5.061</td> <td> 0.000</td> <td>   -0.044</td> <td>   -0.020</td>\n",
       "</tr>\n",
       "<tr>\n",
       "  <th>I_zip27604_covid</th>       <td>    0.0076</td> <td>    0.005</td> <td>    1.392</td> <td> 0.164</td> <td>   -0.003</td> <td>    0.018</td>\n",
       "</tr>\n",
       "<tr>\n",
       "  <th>I_zip27607_covid</th>       <td>   -0.0184</td> <td>    0.008</td> <td>   -2.194</td> <td> 0.028</td> <td>   -0.035</td> <td>   -0.002</td>\n",
       "</tr>\n",
       "<tr>\n",
       "  <th>I_zip27545_covid</th>       <td>   -0.0040</td> <td>    0.006</td> <td>   -0.672</td> <td> 0.501</td> <td>   -0.016</td> <td>    0.008</td>\n",
       "</tr>\n",
       "<tr>\n",
       "  <th>I_zip27608_covid</th>       <td>   -0.0110</td> <td>    0.009</td> <td>   -1.263</td> <td> 0.207</td> <td>   -0.028</td> <td>    0.006</td>\n",
       "</tr>\n",
       "<tr>\n",
       "  <th>I_zip27529_covid</th>       <td>    0.0160</td> <td>    0.006</td> <td>    2.726</td> <td> 0.006</td> <td>    0.004</td> <td>    0.027</td>\n",
       "</tr>\n",
       "<tr>\n",
       "  <th>I_zip27609_covid</th>       <td>    0.0154</td> <td>    0.006</td> <td>    2.455</td> <td> 0.014</td> <td>    0.003</td> <td>    0.028</td>\n",
       "</tr>\n",
       "<tr>\n",
       "  <th>I_zip27511_covid</th>       <td>    0.0080</td> <td>    0.006</td> <td>    1.284</td> <td> 0.199</td> <td>   -0.004</td> <td>    0.020</td>\n",
       "</tr>\n",
       "<tr>\n",
       "  <th>I_zip27606_covid</th>       <td>    0.0096</td> <td>    0.006</td> <td>    1.577</td> <td> 0.115</td> <td>   -0.002</td> <td>    0.022</td>\n",
       "</tr>\n",
       "<tr>\n",
       "  <th>I_zip27597_covid</th>       <td>    0.0172</td> <td>    0.007</td> <td>    2.381</td> <td> 0.017</td> <td>    0.003</td> <td>    0.031</td>\n",
       "</tr>\n",
       "<tr>\n",
       "  <th>I_zip27612_covid</th>       <td>   -0.0016</td> <td>    0.006</td> <td>   -0.280</td> <td> 0.779</td> <td>   -0.013</td> <td>    0.010</td>\n",
       "</tr>\n",
       "<tr>\n",
       "  <th>I_zip27591_covid</th>       <td>    0.0050</td> <td>    0.006</td> <td>    0.783</td> <td> 0.434</td> <td>   -0.008</td> <td>    0.018</td>\n",
       "</tr>\n",
       "<tr>\n",
       "  <th>I_zip27610_covid</th>       <td>    0.0349</td> <td>    0.005</td> <td>    7.075</td> <td> 0.000</td> <td>    0.025</td> <td>    0.045</td>\n",
       "</tr>\n",
       "<tr>\n",
       "  <th>I_zip27603_covid</th>       <td>    0.0131</td> <td>    0.005</td> <td>    2.498</td> <td> 0.013</td> <td>    0.003</td> <td>    0.023</td>\n",
       "</tr>\n",
       "<tr>\n",
       "  <th>I_zip27615_covid</th>       <td>    0.0144</td> <td>    0.005</td> <td>    2.677</td> <td> 0.007</td> <td>    0.004</td> <td>    0.025</td>\n",
       "</tr>\n",
       "<tr>\n",
       "  <th>I_zip27605_covid</th>       <td>    0.0205</td> <td>    0.012</td> <td>    1.685</td> <td> 0.092</td> <td>   -0.003</td> <td>    0.044</td>\n",
       "</tr>\n",
       "<tr>\n",
       "  <th>I_zip27513_covid</th>       <td>   -0.0215</td> <td>    0.006</td> <td>   -3.860</td> <td> 0.000</td> <td>   -0.032</td> <td>   -0.011</td>\n",
       "</tr>\n",
       "<tr>\n",
       "  <th>I_zip27601_covid</th>       <td>    0.0044</td> <td>    0.011</td> <td>    0.385</td> <td> 0.700</td> <td>   -0.018</td> <td>    0.027</td>\n",
       "</tr>\n",
       "<tr>\n",
       "  <th>I_zip27526_covid</th>       <td>    0.0009</td> <td>    0.005</td> <td>    0.200</td> <td> 0.841</td> <td>   -0.008</td> <td>    0.010</td>\n",
       "</tr>\n",
       "<tr>\n",
       "  <th>I_zip27613_covid</th>       <td>   -0.0085</td> <td>    0.006</td> <td>   -1.530</td> <td> 0.126</td> <td>   -0.019</td> <td>    0.002</td>\n",
       "</tr>\n",
       "<tr>\n",
       "  <th>I_zip27539_covid</th>       <td> 9.704e-05</td> <td>    0.006</td> <td>    0.016</td> <td> 0.988</td> <td>   -0.012</td> <td>    0.012</td>\n",
       "</tr>\n",
       "<tr>\n",
       "  <th>I_zip27614_covid</th>       <td>    0.0169</td> <td>    0.006</td> <td>    2.888</td> <td> 0.004</td> <td>    0.005</td> <td>    0.028</td>\n",
       "</tr>\n",
       "<tr>\n",
       "  <th>I_zip27616_covid</th>       <td>    0.0078</td> <td>    0.005</td> <td>    1.593</td> <td> 0.111</td> <td>   -0.002</td> <td>    0.017</td>\n",
       "</tr>\n",
       "<tr>\n",
       "  <th>I_zip27502_covid</th>       <td>   -0.0112</td> <td>    0.005</td> <td>   -2.352</td> <td> 0.019</td> <td>   -0.021</td> <td>   -0.002</td>\n",
       "</tr>\n",
       "<tr>\n",
       "  <th>I_zip27518_covid</th>       <td>   -0.0026</td> <td>    0.007</td> <td>   -0.342</td> <td> 0.732</td> <td>   -0.017</td> <td>    0.012</td>\n",
       "</tr>\n",
       "<tr>\n",
       "  <th>I_zip27617_covid</th>       <td>   -0.0160</td> <td>    0.007</td> <td>   -2.133</td> <td> 0.033</td> <td>   -0.031</td> <td>   -0.001</td>\n",
       "</tr>\n",
       "<tr>\n",
       "  <th>I_zip27540_covid</th>       <td>   -0.0057</td> <td>    0.005</td> <td>   -1.202</td> <td> 0.229</td> <td>   -0.015</td> <td>    0.004</td>\n",
       "</tr>\n",
       "<tr>\n",
       "  <th>I_zip27519_covid</th>       <td>   -0.0186</td> <td>    0.005</td> <td>   -3.886</td> <td> 0.000</td> <td>   -0.028</td> <td>   -0.009</td>\n",
       "</tr>\n",
       "<tr>\n",
       "  <th>I_zip27523_covid</th>       <td>   -0.0111</td> <td>    0.006</td> <td>   -1.783</td> <td> 0.075</td> <td>   -0.023</td> <td>    0.001</td>\n",
       "</tr>\n",
       "<tr>\n",
       "  <th>I_zip27560_covid</th>       <td>   -0.0274</td> <td>    0.007</td> <td>   -4.076</td> <td> 0.000</td> <td>   -0.041</td> <td>   -0.014</td>\n",
       "</tr>\n",
       "<tr>\n",
       "  <th>I_zip27571_covid</th>       <td>    0.0117</td> <td>    0.009</td> <td>    1.318</td> <td> 0.187</td> <td>   -0.006</td> <td>    0.029</td>\n",
       "</tr>\n",
       "</table>\n",
       "<table class=\"simpletable\">\n",
       "<tr>\n",
       "  <th>Omnibus:</th>       <td>48216.724</td> <th>  Durbin-Watson:     </th>  <td>   1.999</td> \n",
       "</tr>\n",
       "<tr>\n",
       "  <th>Prob(Omnibus):</th>  <td> 0.000</td>   <th>  Jarque-Bera (JB):  </th> <td>508918.052</td>\n",
       "</tr>\n",
       "<tr>\n",
       "  <th>Skew:</th>           <td>-1.813</td>   <th>  Prob(JB):          </th>  <td>    0.00</td> \n",
       "</tr>\n",
       "<tr>\n",
       "  <th>Kurtosis:</th>       <td>12.851</td>   <th>  Cond. No.          </th>  <td>3.41e+04</td> \n",
       "</tr>\n",
       "</table><br/><br/>Notes:<br/>[1] Standard Errors assume that the covariance matrix of the errors is correctly specified.<br/>[2] The condition number is large, 3.41e+04. This might indicate that there are<br/>strong multicollinearity or other numerical problems."
      ],
      "text/plain": [
       "<class 'statsmodels.iolib.summary.Summary'>\n",
       "\"\"\"\n",
       "                            OLS Regression Results                            \n",
       "==============================================================================\n",
       "Dep. Variable:                 log_px   R-squared:                       0.630\n",
       "Model:                            OLS   Adj. R-squared:                  0.630\n",
       "Method:                 Least Squares   F-statistic:                     2448.\n",
       "Date:                Fri, 21 Oct 2022   Prob (F-statistic):               0.00\n",
       "Time:                        20:54:20   Log-Likelihood:                 58136.\n",
       "No. Observations:              110854   AIC:                        -1.161e+05\n",
       "Df Residuals:                  110776   BIC:                        -1.154e+05\n",
       "Df Model:                          77                                         \n",
       "Covariance Type:            nonrobust                                         \n",
       "==========================================================================================\n",
       "                             coef    std err          t      P>|t|      [0.025      0.975]\n",
       "------------------------------------------------------------------------------------------\n",
       "I                          5.4142      0.003   1981.673      0.000       5.409       5.420\n",
       "mort_rate0                 0.0150      0.001     19.959      0.000       0.014       0.016\n",
       "lumber_price0           4.713e-05   9.95e-06      4.736      0.000    2.76e-05    6.66e-05\n",
       "metals_price0              0.0004   8.82e-06     45.405      0.000       0.000       0.000\n",
       "log_heated_area0           0.8585      0.005    158.445      0.000       0.848       0.869\n",
       "gas                        0.0222      0.002     10.342      0.000       0.018       0.026\n",
       "sewer                     -0.0213      0.002     -9.384      0.000      -0.026      -0.017\n",
       "crime                   1.956e-05   1.02e-06     19.114      0.000    1.76e-05    2.16e-05\n",
       "I_story1                   0.0345      0.002     20.304      0.000       0.031       0.038\n",
       "I_story1-2                 0.0305      0.002     19.125      0.000       0.027       0.034\n",
       "I_story_other             -0.0876      0.009    -10.268      0.000      -0.104      -0.071\n",
       "bath0                      0.0436      0.001     30.189      0.000       0.041       0.046\n",
       "is_covid                   0.0742      0.004     19.435      0.000       0.067       0.082\n",
       "bath0_covid               -0.0132      0.002     -6.640      0.000      -0.017      -0.009\n",
       "log_heated_area0_covid    -0.0598      0.007     -8.035      0.000      -0.074      -0.045\n",
       "I_story1_covid             0.0011      0.002      0.491      0.623      -0.003       0.006\n",
       "I_story1-2_covid          -0.0025      0.002     -1.123      0.261      -0.007       0.002\n",
       "I_story_other_covid        0.0247      0.012      2.084      0.037       0.001       0.048\n",
       "I_zip27604                -0.0435      0.004    -10.607      0.000      -0.052      -0.035\n",
       "I_zip27607                 0.1054      0.006     17.744      0.000       0.094       0.117\n",
       "I_zip27545                -0.0605      0.004    -14.550      0.000      -0.069      -0.052\n",
       "I_zip27608                 0.2107      0.006     34.201      0.000       0.199       0.223\n",
       "I_zip27529                -0.0756      0.004    -17.623      0.000      -0.084      -0.067\n",
       "I_zip27609                -0.0054      0.005     -1.182      0.237      -0.014       0.004\n",
       "I_zip27511                 0.0101      0.004      2.289      0.022       0.001       0.019\n",
       "I_zip27606                -0.0307      0.004     -6.896      0.000      -0.039      -0.022\n",
       "I_zip27597                -0.0936      0.006    -16.858      0.000      -0.104      -0.083\n",
       "I_zip27612                 0.0299      0.004      7.050      0.000       0.022       0.038\n",
       "I_zip27591                -0.0382      0.005     -8.049      0.000      -0.048      -0.029\n",
       "I_zip27610                -0.1026      0.004    -28.330      0.000      -0.110      -0.096\n",
       "I_zip27603                -0.0238      0.004     -6.167      0.000      -0.031      -0.016\n",
       "I_zip27615                 0.0038      0.004      0.965      0.335      -0.004       0.011\n",
       "I_zip27605                 0.2149      0.009     23.382      0.000       0.197       0.233\n",
       "I_zip27513                 0.0517      0.004     13.052      0.000       0.044       0.059\n",
       "I_zip27601                 0.2000      0.008     23.647      0.000       0.183       0.217\n",
       "I_zip27526                -0.0177      0.003     -5.203      0.000      -0.024      -0.011\n",
       "I_zip27613                 0.0242      0.004      6.025      0.000       0.016       0.032\n",
       "I_zip27539                 0.0229      0.004      5.187      0.000       0.014       0.031\n",
       "I_zip27614                -0.0139      0.004     -3.304      0.001      -0.022      -0.006\n",
       "I_zip27616                -0.0647      0.004    -17.994      0.000      -0.072      -0.058\n",
       "I_zip27502                 0.0497      0.003     14.451      0.000       0.043       0.056\n",
       "I_zip27518                 0.0384      0.005      7.328      0.000       0.028       0.049\n",
       "I_zip27617                 0.0266      0.005      4.907      0.000       0.016       0.037\n",
       "I_zip27540                 0.0258      0.003      7.453      0.000       0.019       0.033\n",
       "I_zip27519                 0.0737      0.003     21.585      0.000       0.067       0.080\n",
       "I_zip27523                 0.0769      0.004     17.710      0.000       0.068       0.085\n",
       "I_zip27560                 0.0488      0.005     10.431      0.000       0.040       0.058\n",
       "I_zip27571                -0.0320      0.006     -5.061      0.000      -0.044      -0.020\n",
       "I_zip27604_covid           0.0076      0.005      1.392      0.164      -0.003       0.018\n",
       "I_zip27607_covid          -0.0184      0.008     -2.194      0.028      -0.035      -0.002\n",
       "I_zip27545_covid          -0.0040      0.006     -0.672      0.501      -0.016       0.008\n",
       "I_zip27608_covid          -0.0110      0.009     -1.263      0.207      -0.028       0.006\n",
       "I_zip27529_covid           0.0160      0.006      2.726      0.006       0.004       0.027\n",
       "I_zip27609_covid           0.0154      0.006      2.455      0.014       0.003       0.028\n",
       "I_zip27511_covid           0.0080      0.006      1.284      0.199      -0.004       0.020\n",
       "I_zip27606_covid           0.0096      0.006      1.577      0.115      -0.002       0.022\n",
       "I_zip27597_covid           0.0172      0.007      2.381      0.017       0.003       0.031\n",
       "I_zip27612_covid          -0.0016      0.006     -0.280      0.779      -0.013       0.010\n",
       "I_zip27591_covid           0.0050      0.006      0.783      0.434      -0.008       0.018\n",
       "I_zip27610_covid           0.0349      0.005      7.075      0.000       0.025       0.045\n",
       "I_zip27603_covid           0.0131      0.005      2.498      0.013       0.003       0.023\n",
       "I_zip27615_covid           0.0144      0.005      2.677      0.007       0.004       0.025\n",
       "I_zip27605_covid           0.0205      0.012      1.685      0.092      -0.003       0.044\n",
       "I_zip27513_covid          -0.0215      0.006     -3.860      0.000      -0.032      -0.011\n",
       "I_zip27601_covid           0.0044      0.011      0.385      0.700      -0.018       0.027\n",
       "I_zip27526_covid           0.0009      0.005      0.200      0.841      -0.008       0.010\n",
       "I_zip27613_covid          -0.0085      0.006     -1.530      0.126      -0.019       0.002\n",
       "I_zip27539_covid        9.704e-05      0.006      0.016      0.988      -0.012       0.012\n",
       "I_zip27614_covid           0.0169      0.006      2.888      0.004       0.005       0.028\n",
       "I_zip27616_covid           0.0078      0.005      1.593      0.111      -0.002       0.017\n",
       "I_zip27502_covid          -0.0112      0.005     -2.352      0.019      -0.021      -0.002\n",
       "I_zip27518_covid          -0.0026      0.007     -0.342      0.732      -0.017       0.012\n",
       "I_zip27617_covid          -0.0160      0.007     -2.133      0.033      -0.031      -0.001\n",
       "I_zip27540_covid          -0.0057      0.005     -1.202      0.229      -0.015       0.004\n",
       "I_zip27519_covid          -0.0186      0.005     -3.886      0.000      -0.028      -0.009\n",
       "I_zip27523_covid          -0.0111      0.006     -1.783      0.075      -0.023       0.001\n",
       "I_zip27560_covid          -0.0274      0.007     -4.076      0.000      -0.041      -0.014\n",
       "I_zip27571_covid           0.0117      0.009      1.318      0.187      -0.006       0.029\n",
       "==============================================================================\n",
       "Omnibus:                    48216.724   Durbin-Watson:                   1.999\n",
       "Prob(Omnibus):                  0.000   Jarque-Bera (JB):           508918.052\n",
       "Skew:                          -1.813   Prob(JB):                         0.00\n",
       "Kurtosis:                      12.851   Cond. No.                     3.41e+04\n",
       "==============================================================================\n",
       "\n",
       "Notes:\n",
       "[1] Standard Errors assume that the covariance matrix of the errors is correctly specified.\n",
       "[2] The condition number is large, 3.41e+04. This might indicate that there are\n",
       "strong multicollinearity or other numerical problems.\n",
       "\"\"\""
      ]
     },
     "execution_count": 9,
     "metadata": {},
     "output_type": "execute_result"
    }
   ],
   "source": [
    "X_train, X_test, y_train, y_test, xvar_dict, groups = add_features(house_df,\n",
    "                                                                   start_year=2017,\n",
    "                                                                   end_year=None\n",
    "                                                                  )\n",
    "\n",
    "# full model\n",
    "xvars = []\n",
    "for g in groups:\n",
    "    xvars += xvar_dict[g]\n",
    "X_train_tmp, X_test_tmp = X_train[xvars], X_test[xvars]\n",
    "reg_model_2017 = sm.OLS(y_train, X_train_tmp).fit()\n",
    "reg_model_2017.summary()"
   ]
  },
  {
   "cell_type": "markdown",
   "id": "86cc5ee5",
   "metadata": {},
   "source": [
    "#### House price changes after covid by zip code since 2017 to update"
   ]
  },
  {
   "cell_type": "code",
   "execution_count": 10,
   "id": "005eac85",
   "metadata": {},
   "outputs": [
    {
     "data": {
      "text/plain": [
       "Text(0.5, 0, 'avg price pre_COVID by zip')"
      ]
     },
     "execution_count": 10,
     "metadata": {},
     "output_type": "execute_result"
    },
    {
     "data": {
      "image/png": "[encoded data removed]",
      "text/plain": [
       "<Figure size 576x432 with 1 Axes>"
      ]
     },
     "metadata": {},
     "output_type": "display_data"
    }
   ],
   "source": [
    "house_2017 = house_df[(house_df['year']>=2017)]\n",
    "all_zips = house_2017[(house_2017[\"physical_zip_code\"]) != 27587]['physical_zip_code'].unique().tolist()\n",
    "\n",
    "res_2017 = reg_model_2017.params[xvar_dict[\"zip\"]].reset_index() # price by zip\n",
    "res_2017[\"zip_covid\"] = reg_model_2017.params[xvar_dict[\"zip_covid\"]].values # price chg after covide by zip\n",
    "res_2017[\"zip\"] = all_zips\n",
    "res_2017 = res_2017.drop(\"index\", axis=1)\n",
    "\n",
    "counts = house_df.groupby(\"physical_zip_code\").apply(len).reset_index()\n",
    "counts.columns = [\"zip\", \"cnts\"]\n",
    "res_2017 = pd.merge(res_2017, counts, on=\"zip\")\n",
    "res_2017 = res_2017[(res_2017.cnts > 300)]\n",
    "\n",
    "fig, ax = plt.subplots(figsize=[8,6])\n",
    "ax.scatter(res_2017[0], res_2017[\"zip_covid\"])\n",
    "ax.set_title(\"pre-COVID house price vs house price change post-COVID by zip using data after 2017\")\n",
    "ax.set_ylabel(\"price chg post_COVID by zip\")\n",
    "ax.set_xlabel(\"avg price pre_COVID by zip\")"
   ]
  },
  {
   "cell_type": "markdown",
   "id": "elegant-guidance",
   "metadata": {},
   "source": [
    "### Feature ablation for Linear Regression"
   ]
  },
  {
   "cell_type": "code",
   "execution_count": 11,
   "id": "pressing-exercise",
   "metadata": {},
   "outputs": [],
   "source": [
    "X_train, X_test, y_train, y_test, xvar_dict, groups = add_features(house_df,\n",
    "          start_year=None,\n",
    "          end_year=None\n",
    "         )\n",
    "\n",
    "# full model\n",
    "xvars = []\n",
    "for g in groups:\n",
    "    xvars += xvar_dict[g]\n",
    "X_train_tmp, X_test_tmp = X_train[xvars], X_test[xvars]\n",
    "reg_model = sm.OLS(y_train, X_train_tmp).fit()\n",
    "full_model = reg_model\n",
    "rg_y_pred = full_model.predict(X_test_tmp)\n",
    "full_score = 1 - metrics.mean_squared_error(y_test, rg_y_pred) / y_test.var()\n",
    "lr_full_score = full_score\n",
    "\n",
    "# leave one out models\n",
    "reg_results = dict()\n",
    "reg_scores = dict()\n",
    "for i in range(1, len(groups)):\n",
    "    # select groups, by dropping i-th group\n",
    "    xvars = []\n",
    "    for j in range(len(groups)):\n",
    "        if j == i:\n",
    "            continue\n",
    "        xvars += xvar_dict[groups[j]]\n",
    "    X_train_tmp, X_test_tmp = X_train[xvars], X_test[xvars]\n",
    "\n",
    "    reg_model = sm.OLS(y_train, X_train_tmp).fit()\n",
    "    reg_results[groups[i]] = reg_model\n",
    "    reg_scores[groups[i]] = 1 - metrics.mean_squared_error(y_test, reg_model.predict(X_test_tmp)) / y_test.var()"
   ]
  },
  {
   "cell_type": "code",
   "execution_count": 12,
   "id": "indoor-purpose",
   "metadata": {},
   "outputs": [
    {
     "name": "stdout",
     "output_type": "stream",
     "text": [
      "Mean Absolute Error: 0.09708225778104664\n",
      "Mean Squared Error: 0.020391240497883288\n",
      "Root Mean Squared Error: 0.14279790088752456\n"
     ]
    }
   ],
   "source": [
    "print('Mean Absolute Error:', metrics.mean_absolute_error(y_test, rg_y_pred))\n",
    "print('Mean Squared Error:', metrics.mean_squared_error(y_test, rg_y_pred))\n",
    "print('Root Mean Squared Error:', np.sqrt(metrics.mean_squared_error(y_test, rg_y_pred)))"
   ]
  },
  {
   "cell_type": "code",
   "execution_count": 13,
   "id": "waiting-friend",
   "metadata": {},
   "outputs": [
    {
     "data": {
      "text/plain": [
       "Text(0, 0.5, 'scores')"
      ]
     },
     "execution_count": 13,
     "metadata": {},
     "output_type": "execute_result"
    },
    {
     "data": {
      "image/png": "[encoded data removed]",
      "text/plain": [
       "<Figure size 864x216 with 1 Axes>"
      ]
     },
     "metadata": {},
     "output_type": "display_data"
    }
   ],
   "source": [
    "importance = pd.Series({k: full_score - reg_scores[k] for k in reg_scores})\n",
    "\n",
    "fig, ax = plt.subplots(figsize=[12,3])\n",
    "ax.bar(range(len(importance)), importance)\n",
    "ax.set_xticks(range(len(importance)))\n",
    "ax.set_xticklabels(importance.index, rotation=90)\n",
    "plt.title('Feature Importance for Linear Regression', fontsize = 15) \n",
    "plt.xlabel('features', fontsize = 12) \n",
    "plt.ylabel('scores', fontsize = 12)"
   ]
  },
  {
   "cell_type": "markdown",
   "id": "ec95edc7",
   "metadata": {},
   "source": [
    "#### Cross-Validation Feature Ablation for linear regression"
   ]
  },
  {
   "cell_type": "code",
   "execution_count": 14,
   "id": "85a291cc",
   "metadata": {},
   "outputs": [
    {
     "data": {
      "text/plain": [
       "Text(0, 0.5, 'scores')"
      ]
     },
     "execution_count": 14,
     "metadata": {},
     "output_type": "execute_result"
    },
    {
     "data": {
      "image/png": "[encoded data removed]",
      "text/plain": [
       "<Figure size 864x216 with 1 Axes>"
      ]
     },
     "metadata": {},
     "output_type": "display_data"
    }
   ],
   "source": [
    "X, X_test, y, y_test, xvar_dict, groups = add_features(house_df,\n",
    "                                                       start_year=None,\n",
    "                                                       end_year=None,\n",
    "                                                       test_size=0\n",
    "                                                      )\n",
    "# full model\n",
    "xvars = []\n",
    "for g in groups:\n",
    "    xvars += xvar_dict[g]\n",
    "lr_full_score = create_regression_cv(X, y, xvars)\n",
    "\n",
    "# leave one out models\n",
    "reg_results = dict()\n",
    "reg_scores = dict()\n",
    "for i in range(1, len(groups)):\n",
    "    # select groups, by dropping i-th group\n",
    "    xvars = []\n",
    "    for j in range(len(groups)):\n",
    "        if j == i:\n",
    "            continue\n",
    "        xvars += xvar_dict[groups[j]]\n",
    "    reg_scores[groups[i]] = create_regression_cv(X, y, xvars)\n",
    "\n",
    "\n",
    "importance = pd.Series({k: lr_full_score - reg_scores[k] for k in reg_scores})\n",
    "fig, ax = plt.subplots(figsize=[12,3])\n",
    "ax.bar(range(len(importance)), importance)\n",
    "ax.set_xticks(range(len(importance)))\n",
    "ax.set_xticklabels(importance.index, rotation=90)\n",
    "plt.title('Feature Importance for Linear Regression', fontsize = 15) \n",
    "plt.xlabel('features', fontsize = 12) \n",
    "plt.ylabel('scores', fontsize = 12)"
   ]
  },
  {
   "cell_type": "markdown",
   "id": "737f320d",
   "metadata": {},
   "source": [
    "### Sensitivity analysis for Linear Regression"
   ]
  },
  {
   "cell_type": "markdown",
   "id": "hispanic-prior",
   "metadata": {},
   "source": [
    "### Training size vs accuracy\n",
    "\n",
    "each training size draw 10 times and take average score"
   ]
  },
  {
   "cell_type": "code",
   "execution_count": 22,
   "id": "white-playback",
   "metadata": {},
   "outputs": [],
   "source": [
    "reg_results = dict()\n",
    "score_results = dict()\n",
    "\n",
    "t0 = time.time()\n",
    "for test_size in np.arange(0.1, 1, 0.1):\n",
    "    seed_scores = []\n",
    "    for seed in range(10):\n",
    "        X_train, X_test, y_train, y_test, xvar_dict, groups = add_features(house_df,\n",
    "                                                                           start_year=None,\n",
    "                                                                           end_year=None,\n",
    "                                                                           test_size=test_size,\n",
    "                                                                           random_seed=seed)\n",
    "        # full model\n",
    "        xvars = []\n",
    "        for g in groups:\n",
    "            xvars += xvar_dict[g]\n",
    "        X_train_tmp, X_test_tmp = X_train[xvars], X_test[xvars]\n",
    "        reg_model = sm.OLS(y_train, X_train_tmp).fit()\n",
    "        mse = metrics.mean_squared_error(y_test, reg_model.predict(X_test_tmp))\n",
    "        reg_results[test_size] = reg_model\n",
    "        seed_scores.append(1 - metrics.mean_squared_error(y_test, reg_model.predict(X_test_tmp)) / y_test.var())\n",
    "    print(f\"finished test size {test_size} {time.time() - t0}\")\n",
    "    score_results[test_size] = np.mean(seed_scores)"
   ]
  },
  {
   "cell_type": "code",
   "execution_count": 23,
   "id": "generous-triple",
   "metadata": {},
   "outputs": [
    {
     "data": {
      "text/plain": [
       "Text(0, 0.5, 'scores')"
      ]
     },
     "execution_count": 23,
     "metadata": {},
     "output_type": "execute_result"
    },
    {
     "data": {
      "image/png": "[encoded data removed]",
      "text/plain": [
       "<Figure size 864x216 with 1 Axes>"
      ]
     },
     "metadata": {},
     "output_type": "display_data"
    }
   ],
   "source": [
    "size_sensitivity = pd.Series(score_results).sort_index()\n",
    "\n",
    "fig, ax = plt.subplots(figsize=[12,3])\n",
    "ax.plot(size_sensitivity)\n",
    "ax.set_xticks(size_sensitivity.index)\n",
    "ax.set_xticklabels(np.round(size_sensitivity.index, 2), rotation=90)\n",
    "plt.title('Training Size Sensitivity for Linear Regression', fontsize = 15)\n",
    "plt.xlabel('test size', fontsize = 12)\n",
    "plt.ylabel('scores', fontsize = 12)"
   ]
  },
  {
   "cell_type": "markdown",
   "id": "956bfce4",
   "metadata": {},
   "source": [
    "### Year Sensitivity for Linear Regression"
   ]
  },
  {
   "cell_type": "code",
   "execution_count": 19,
   "id": "alone-front",
   "metadata": {},
   "outputs": [],
   "source": [
    "reg_results = dict()\n",
    "score_results = dict()\n",
    "for start_year in np.arange(2000, 2019, 1):\n",
    "    X_train, X_test, y_train, y_test, xvar_dict, groups = add_features(house_df,\n",
    "                                                                       start_year=start_year,\n",
    "                                                                       end_year=None)\n",
    "    # full model\n",
    "    xvars = []\n",
    "    for g in groups:\n",
    "        xvars += xvar_dict[g]\n",
    "    X_train_tmp, X_test_tmp = X_train[xvars], X_test[xvars]\n",
    "    reg_model = sm.OLS(y_train, X_train_tmp).fit()\n",
    "    mse = metrics.mean_squared_error(y_test, reg_model.predict(X_test_tmp))\n",
    "    reg_results[start_year] = reg_model\n",
    "    score_results[start_year] = 1 - metrics.mean_squared_error(y_test, reg_model.predict(X_test_tmp)) / y_test.var()"
   ]
  },
  {
   "cell_type": "code",
   "execution_count": 20,
   "id": "opened-committee",
   "metadata": {},
   "outputs": [
    {
     "data": {
      "text/plain": [
       "Text(0, 0.5, 'scores')"
      ]
     },
     "execution_count": 20,
     "metadata": {},
     "output_type": "execute_result"
    },
    {
     "data": {
      "image/png": "[encoded data removed]",
      "text/plain": [
       "<Figure size 864x216 with 1 Axes>"
      ]
     },
     "metadata": {},
     "output_type": "display_data"
    }
   ],
   "source": [
    "year_sensitivity = pd.Series(score_results).sort_index()\n",
    "\n",
    "fig, ax = plt.subplots(figsize=[12,3])\n",
    "ax.plot(year_sensitivity)\n",
    "ax.set_xticks(year_sensitivity.index)\n",
    "ax.set_xticklabels(np.round(year_sensitivity.index, 2), rotation=90)\n",
    "plt.title('Year Sensitivity for Linear Regression', fontsize = 15) \n",
    "plt.xlabel('years', fontsize = 12) \n",
    "plt.ylabel('scores', fontsize = 12)"
   ]
  },
  {
   "cell_type": "markdown",
   "id": "316a1743",
   "metadata": {},
   "source": [
    "#### CV for Year Sensitivity for Linear Regression"
   ]
  },
  {
   "cell_type": "code",
   "execution_count": 30,
   "id": "71efa9b4",
   "metadata": {},
   "outputs": [
    {
     "data": {
      "text/html": [
       "<div>\n",
       "<style scoped>\n",
       "    .dataframe tbody tr th:only-of-type {\n",
       "        vertical-align: middle;\n",
       "    }\n",
       "\n",
       "    .dataframe tbody tr th {\n",
       "        vertical-align: top;\n",
       "    }\n",
       "\n",
       "    .dataframe thead th {\n",
       "        text-align: right;\n",
       "    }\n",
       "</style>\n",
       "<table border=\"1\" class=\"dataframe\">\n",
       "  <thead>\n",
       "    <tr style=\"text-align: right;\">\n",
       "      <th></th>\n",
       "      <th>I</th>\n",
       "      <th>mort_rate0</th>\n",
       "      <th>lumber_price0</th>\n",
       "      <th>metals_price0</th>\n",
       "      <th>log_heated_area0</th>\n",
       "      <th>gas</th>\n",
       "      <th>sewer</th>\n",
       "      <th>crime</th>\n",
       "      <th>I_story1</th>\n",
       "      <th>I_story1-2</th>\n",
       "      <th>...</th>\n",
       "      <th>I_zip27617_covid</th>\n",
       "      <th>I_zip27540_covid</th>\n",
       "      <th>I_zip27518_covid</th>\n",
       "      <th>I_zip27526_covid</th>\n",
       "      <th>I_zip27519_covid</th>\n",
       "      <th>I_zip27560_covid</th>\n",
       "      <th>I_zip27523_covid</th>\n",
       "      <th>I_zip27605_covid</th>\n",
       "      <th>I_zip27601_covid</th>\n",
       "      <th>I_zip27571_covid</th>\n",
       "    </tr>\n",
       "  </thead>\n",
       "  <tbody>\n",
       "    <tr>\n",
       "      <th>0</th>\n",
       "      <td>1</td>\n",
       "      <td>3.889195</td>\n",
       "      <td>-43.77912</td>\n",
       "      <td>-117.943425</td>\n",
       "      <td>-0.120894</td>\n",
       "      <td>1</td>\n",
       "      <td>1</td>\n",
       "      <td>2049</td>\n",
       "      <td>0</td>\n",
       "      <td>0</td>\n",
       "      <td>...</td>\n",
       "      <td>0</td>\n",
       "      <td>0</td>\n",
       "      <td>0</td>\n",
       "      <td>0</td>\n",
       "      <td>0</td>\n",
       "      <td>0</td>\n",
       "      <td>0</td>\n",
       "      <td>0</td>\n",
       "      <td>0</td>\n",
       "      <td>0</td>\n",
       "    </tr>\n",
       "    <tr>\n",
       "      <th>2</th>\n",
       "      <td>1</td>\n",
       "      <td>3.889195</td>\n",
       "      <td>-43.77912</td>\n",
       "      <td>-117.943425</td>\n",
       "      <td>-0.037885</td>\n",
       "      <td>1</td>\n",
       "      <td>1</td>\n",
       "      <td>78</td>\n",
       "      <td>1</td>\n",
       "      <td>0</td>\n",
       "      <td>...</td>\n",
       "      <td>0</td>\n",
       "      <td>0</td>\n",
       "      <td>0</td>\n",
       "      <td>0</td>\n",
       "      <td>0</td>\n",
       "      <td>0</td>\n",
       "      <td>0</td>\n",
       "      <td>0</td>\n",
       "      <td>0</td>\n",
       "      <td>0</td>\n",
       "    </tr>\n",
       "    <tr>\n",
       "      <th>4</th>\n",
       "      <td>1</td>\n",
       "      <td>3.889195</td>\n",
       "      <td>-43.77912</td>\n",
       "      <td>-117.943425</td>\n",
       "      <td>0.074659</td>\n",
       "      <td>1</td>\n",
       "      <td>1</td>\n",
       "      <td>2049</td>\n",
       "      <td>1</td>\n",
       "      <td>0</td>\n",
       "      <td>...</td>\n",
       "      <td>0</td>\n",
       "      <td>0</td>\n",
       "      <td>0</td>\n",
       "      <td>0</td>\n",
       "      <td>0</td>\n",
       "      <td>0</td>\n",
       "      <td>0</td>\n",
       "      <td>0</td>\n",
       "      <td>0</td>\n",
       "      <td>0</td>\n",
       "    </tr>\n",
       "    <tr>\n",
       "      <th>5</th>\n",
       "      <td>1</td>\n",
       "      <td>3.889195</td>\n",
       "      <td>-43.77912</td>\n",
       "      <td>-117.943425</td>\n",
       "      <td>-0.357466</td>\n",
       "      <td>1</td>\n",
       "      <td>1</td>\n",
       "      <td>2049</td>\n",
       "      <td>1</td>\n",
       "      <td>0</td>\n",
       "      <td>...</td>\n",
       "      <td>0</td>\n",
       "      <td>0</td>\n",
       "      <td>0</td>\n",
       "      <td>0</td>\n",
       "      <td>0</td>\n",
       "      <td>0</td>\n",
       "      <td>0</td>\n",
       "      <td>0</td>\n",
       "      <td>0</td>\n",
       "      <td>0</td>\n",
       "    </tr>\n",
       "    <tr>\n",
       "      <th>6</th>\n",
       "      <td>1</td>\n",
       "      <td>3.889195</td>\n",
       "      <td>-43.77912</td>\n",
       "      <td>-117.943425</td>\n",
       "      <td>-0.003209</td>\n",
       "      <td>1</td>\n",
       "      <td>1</td>\n",
       "      <td>78</td>\n",
       "      <td>1</td>\n",
       "      <td>0</td>\n",
       "      <td>...</td>\n",
       "      <td>0</td>\n",
       "      <td>0</td>\n",
       "      <td>0</td>\n",
       "      <td>0</td>\n",
       "      <td>0</td>\n",
       "      <td>0</td>\n",
       "      <td>0</td>\n",
       "      <td>0</td>\n",
       "      <td>0</td>\n",
       "      <td>0</td>\n",
       "    </tr>\n",
       "    <tr>\n",
       "      <th>...</th>\n",
       "      <td>...</td>\n",
       "      <td>...</td>\n",
       "      <td>...</td>\n",
       "      <td>...</td>\n",
       "      <td>...</td>\n",
       "      <td>...</td>\n",
       "      <td>...</td>\n",
       "      <td>...</td>\n",
       "      <td>...</td>\n",
       "      <td>...</td>\n",
       "      <td>...</td>\n",
       "      <td>...</td>\n",
       "      <td>...</td>\n",
       "      <td>...</td>\n",
       "      <td>...</td>\n",
       "      <td>...</td>\n",
       "      <td>...</td>\n",
       "      <td>...</td>\n",
       "      <td>...</td>\n",
       "      <td>...</td>\n",
       "      <td>...</td>\n",
       "    </tr>\n",
       "    <tr>\n",
       "      <th>275842</th>\n",
       "      <td>1</td>\n",
       "      <td>1.089195</td>\n",
       "      <td>91.17088</td>\n",
       "      <td>157.249575</td>\n",
       "      <td>-0.046261</td>\n",
       "      <td>1</td>\n",
       "      <td>1</td>\n",
       "      <td>0</td>\n",
       "      <td>0</td>\n",
       "      <td>0</td>\n",
       "      <td>...</td>\n",
       "      <td>0</td>\n",
       "      <td>0</td>\n",
       "      <td>0</td>\n",
       "      <td>0</td>\n",
       "      <td>0</td>\n",
       "      <td>0</td>\n",
       "      <td>0</td>\n",
       "      <td>0</td>\n",
       "      <td>0</td>\n",
       "      <td>0</td>\n",
       "    </tr>\n",
       "    <tr>\n",
       "      <th>275843</th>\n",
       "      <td>1</td>\n",
       "      <td>1.089195</td>\n",
       "      <td>91.17088</td>\n",
       "      <td>157.249575</td>\n",
       "      <td>-0.099705</td>\n",
       "      <td>1</td>\n",
       "      <td>1</td>\n",
       "      <td>0</td>\n",
       "      <td>0</td>\n",
       "      <td>0</td>\n",
       "      <td>...</td>\n",
       "      <td>0</td>\n",
       "      <td>0</td>\n",
       "      <td>0</td>\n",
       "      <td>0</td>\n",
       "      <td>0</td>\n",
       "      <td>0</td>\n",
       "      <td>0</td>\n",
       "      <td>0</td>\n",
       "      <td>0</td>\n",
       "      <td>0</td>\n",
       "    </tr>\n",
       "    <tr>\n",
       "      <th>275844</th>\n",
       "      <td>1</td>\n",
       "      <td>1.089195</td>\n",
       "      <td>91.17088</td>\n",
       "      <td>157.249575</td>\n",
       "      <td>-0.128838</td>\n",
       "      <td>1</td>\n",
       "      <td>1</td>\n",
       "      <td>0</td>\n",
       "      <td>0</td>\n",
       "      <td>0</td>\n",
       "      <td>...</td>\n",
       "      <td>0</td>\n",
       "      <td>0</td>\n",
       "      <td>0</td>\n",
       "      <td>0</td>\n",
       "      <td>0</td>\n",
       "      <td>0</td>\n",
       "      <td>0</td>\n",
       "      <td>0</td>\n",
       "      <td>0</td>\n",
       "      <td>0</td>\n",
       "    </tr>\n",
       "    <tr>\n",
       "      <th>275845</th>\n",
       "      <td>1</td>\n",
       "      <td>1.089195</td>\n",
       "      <td>91.17088</td>\n",
       "      <td>157.249575</td>\n",
       "      <td>-0.032094</td>\n",
       "      <td>1</td>\n",
       "      <td>1</td>\n",
       "      <td>0</td>\n",
       "      <td>0</td>\n",
       "      <td>0</td>\n",
       "      <td>...</td>\n",
       "      <td>0</td>\n",
       "      <td>0</td>\n",
       "      <td>0</td>\n",
       "      <td>0</td>\n",
       "      <td>0</td>\n",
       "      <td>0</td>\n",
       "      <td>0</td>\n",
       "      <td>0</td>\n",
       "      <td>0</td>\n",
       "      <td>0</td>\n",
       "    </tr>\n",
       "    <tr>\n",
       "      <th>275846</th>\n",
       "      <td>1</td>\n",
       "      <td>1.089195</td>\n",
       "      <td>91.17088</td>\n",
       "      <td>157.249575</td>\n",
       "      <td>0.405283</td>\n",
       "      <td>1</td>\n",
       "      <td>1</td>\n",
       "      <td>0</td>\n",
       "      <td>0</td>\n",
       "      <td>1</td>\n",
       "      <td>...</td>\n",
       "      <td>0</td>\n",
       "      <td>0</td>\n",
       "      <td>0</td>\n",
       "      <td>0</td>\n",
       "      <td>0</td>\n",
       "      <td>0</td>\n",
       "      <td>0</td>\n",
       "      <td>0</td>\n",
       "      <td>0</td>\n",
       "      <td>0</td>\n",
       "    </tr>\n",
       "  </tbody>\n",
       "</table>\n",
       "<p>271656 rows × 78 columns</p>\n",
       "</div>"
      ],
      "text/plain": [
       "        I  mort_rate0  lumber_price0  metals_price0  log_heated_area0  gas  \\\n",
       "0       1    3.889195      -43.77912    -117.943425         -0.120894    1   \n",
       "2       1    3.889195      -43.77912    -117.943425         -0.037885    1   \n",
       "4       1    3.889195      -43.77912    -117.943425          0.074659    1   \n",
       "5       1    3.889195      -43.77912    -117.943425         -0.357466    1   \n",
       "6       1    3.889195      -43.77912    -117.943425         -0.003209    1   \n",
       "...    ..         ...            ...            ...               ...  ...   \n",
       "275842  1    1.089195       91.17088     157.249575         -0.046261    1   \n",
       "275843  1    1.089195       91.17088     157.249575         -0.099705    1   \n",
       "275844  1    1.089195       91.17088     157.249575         -0.128838    1   \n",
       "275845  1    1.089195       91.17088     157.249575         -0.032094    1   \n",
       "275846  1    1.089195       91.17088     157.249575          0.405283    1   \n",
       "\n",
       "        sewer  crime  I_story1  I_story1-2  ...  I_zip27617_covid  \\\n",
       "0           1   2049         0           0  ...                 0   \n",
       "2           1     78         1           0  ...                 0   \n",
       "4           1   2049         1           0  ...                 0   \n",
       "5           1   2049         1           0  ...                 0   \n",
       "6           1     78         1           0  ...                 0   \n",
       "...       ...    ...       ...         ...  ...               ...   \n",
       "275842      1      0         0           0  ...                 0   \n",
       "275843      1      0         0           0  ...                 0   \n",
       "275844      1      0         0           0  ...                 0   \n",
       "275845      1      0         0           0  ...                 0   \n",
       "275846      1      0         0           1  ...                 0   \n",
       "\n",
       "        I_zip27540_covid  I_zip27518_covid  I_zip27526_covid  \\\n",
       "0                      0                 0                 0   \n",
       "2                      0                 0                 0   \n",
       "4                      0                 0                 0   \n",
       "5                      0                 0                 0   \n",
       "6                      0                 0                 0   \n",
       "...                  ...               ...               ...   \n",
       "275842                 0                 0                 0   \n",
       "275843                 0                 0                 0   \n",
       "275844                 0                 0                 0   \n",
       "275845                 0                 0                 0   \n",
       "275846                 0                 0                 0   \n",
       "\n",
       "        I_zip27519_covid  I_zip27560_covid  I_zip27523_covid  \\\n",
       "0                      0                 0                 0   \n",
       "2                      0                 0                 0   \n",
       "4                      0                 0                 0   \n",
       "5                      0                 0                 0   \n",
       "6                      0                 0                 0   \n",
       "...                  ...               ...               ...   \n",
       "275842                 0                 0                 0   \n",
       "275843                 0                 0                 0   \n",
       "275844                 0                 0                 0   \n",
       "275845                 0                 0                 0   \n",
       "275846                 0                 0                 0   \n",
       "\n",
       "        I_zip27605_covid  I_zip27601_covid  I_zip27571_covid  \n",
       "0                      0                 0                 0  \n",
       "2                      0                 0                 0  \n",
       "4                      0                 0                 0  \n",
       "5                      0                 0                 0  \n",
       "6                      0                 0                 0  \n",
       "...                  ...               ...               ...  \n",
       "275842                 0                 0                 0  \n",
       "275843                 0                 0                 0  \n",
       "275844                 0                 0                 0  \n",
       "275845                 0                 0                 0  \n",
       "275846                 0                 0                 0  \n",
       "\n",
       "[271656 rows x 78 columns]"
      ]
     },
     "execution_count": 30,
     "metadata": {},
     "output_type": "execute_result"
    }
   ],
   "source": [
    "X_train[xvars]"
   ]
  },
  {
   "cell_type": "code",
   "execution_count": 31,
   "id": "96c14a77",
   "metadata": {},
   "outputs": [
    {
     "name": "stdout",
     "output_type": "stream",
     "text": [
      "regression cross validation used 11.125209093093872 seconds\n",
      "regression cross validation used 10.715648889541626 seconds\n",
      "regression cross validation used 11.237958908081055 seconds\n",
      "regression cross validation used 10.1441171169281 seconds\n",
      "regression cross validation used 9.820088148117065 seconds\n",
      "regression cross validation used 9.498172998428345 seconds\n",
      "regression cross validation used 9.46114993095398 seconds\n",
      "regression cross validation used 8.848317861557007 seconds\n",
      "regression cross validation used 8.412436962127686 seconds\n",
      "regression cross validation used 8.419881820678711 seconds\n",
      "regression cross validation used 7.796950101852417 seconds\n",
      "regression cross validation used 8.686802864074707 seconds\n",
      "regression cross validation used 9.253467798233032 seconds\n",
      "regression cross validation used 7.039999008178711 seconds\n",
      "regression cross validation used 6.419120788574219 seconds\n",
      "regression cross validation used 5.86766505241394 seconds\n",
      "regression cross validation used 5.180888891220093 seconds\n",
      "regression cross validation used 4.700354814529419 seconds\n",
      "regression cross validation used 3.9983928203582764 seconds\n"
     ]
    }
   ],
   "source": [
    "reg_results = dict()\n",
    "score_results = dict()\n",
    "for start_year in np.arange(2000, 2019, 1):\n",
    "    X_train, X_test, y_train, y_test, xvar_dict, groups = add_features(house_df,\n",
    "                                                                       start_year=start_year,\n",
    "                                                                       end_year=None,\n",
    "                                                                       test_size=0)\n",
    "    # full model\n",
    "    xvars = []\n",
    "    for g in groups:\n",
    "        xvars += xvar_dict[g]\n",
    "    X_train_tmp = X_train[xvars]\n",
    "    score_results[start_year] = create_regression_cv(X_train_tmp, y_train, xvars)"
   ]
  },
  {
   "cell_type": "code",
   "execution_count": 32,
   "id": "19606e08",
   "metadata": {},
   "outputs": [
    {
     "data": {
      "text/plain": [
       "Text(0, 0.5, 'scores')"
      ]
     },
     "execution_count": 32,
     "metadata": {},
     "output_type": "execute_result"
    },
    {
     "data": {
      "image/png": "[encoded data removed]",
      "text/plain": [
       "<Figure size 864x216 with 1 Axes>"
      ]
     },
     "metadata": {},
     "output_type": "display_data"
    }
   ],
   "source": [
    "year_sensitivity = pd.Series(score_results).sort_index()\n",
    "\n",
    "fig, ax = plt.subplots(figsize=[12,3])\n",
    "ax.plot(year_sensitivity)\n",
    "ax.set_xticks(year_sensitivity.index)\n",
    "ax.set_xticklabels(np.round(year_sensitivity.index, 2), rotation=90)\n",
    "plt.title('Year Sensitivity for Linear Regression', fontsize = 15) \n",
    "plt.xlabel('years', fontsize = 12) \n",
    "plt.ylabel('scores', fontsize = 12)"
   ]
  },
  {
   "cell_type": "markdown",
   "id": "virgin-italian",
   "metadata": {},
   "source": [
    "## Random Forest"
   ]
  },
  {
   "cell_type": "code",
   "execution_count": 62,
   "id": "interior-version",
   "metadata": {},
   "outputs": [],
   "source": [
    "X_train, X_test, y_train, y_test, xvar_dict, groups = add_features(house_df,\n",
    "                                                                   start_year=None,\n",
    "                                                                   end_year=None\n",
    "                                                                  )\n",
    "\n",
    "# full model\n",
    "xvars = []\n",
    "for g in groups:\n",
    "    xvars += xvar_dict[g]\n",
    "X_train_tmp, X_test_tmp = X_train[xvars], X_test[xvars]\n",
    "rf_reg = RandomForestRegressor(n_estimators=20, max_depth=20, random_state=42)\n",
    "rf_reg.fit(X_train_tmp, y_train)\n",
    "full_model = rf_reg\n",
    "rf_y_pred = full_model.predict(X_test_tmp)\n",
    "full_score = rf_reg.score(X_test_tmp, y_test)\n",
    "rf_full_score = full_score\n",
    "\n",
    "# leave one out models\n",
    "random_result = dict()\n",
    "random_mse = dict()\n",
    "for i in range(1, len(groups)):\n",
    "    # select groups, by dropping i-th group\n",
    "    xvars = []\n",
    "    for j in range(len(groups)):\n",
    "        if j == i:\n",
    "            continue\n",
    "        xvars += xvar_dict[groups[j]]\n",
    "    X_train_tmp, X_test_tmp = X_train[xvars], X_test[xvars]\n",
    "    rf_reg = RandomForestRegressor(n_estimators=20, random_state=42)\n",
    "    rf_reg.fit(X_train_tmp, y_train)\n",
    "    random_result[groups[i]] = rf_reg\n",
    "    random_mse[groups[i]] = rf_reg.score(X_test_tmp, y_test)"
   ]
  },
  {
   "cell_type": "code",
   "execution_count": 63,
   "id": "irish-torture",
   "metadata": {},
   "outputs": [
    {
     "name": "stdout",
     "output_type": "stream",
     "text": [
      "Mean Absolute Error: 0.08902490967987314\n",
      "Mean Squared Error: 0.018606146279388062\n",
      "Root Mean Squared Error: 0.1364043484621662\n"
     ]
    }
   ],
   "source": [
    "print('Mean Absolute Error:', metrics.mean_absolute_error(y_test, rf_y_pred))\n",
    "print('Mean Squared Error:', metrics.mean_squared_error(y_test, rf_y_pred))\n",
    "print('Root Mean Squared Error:', np.sqrt(metrics.mean_squared_error(y_test, rf_y_pred)))"
   ]
  },
  {
   "cell_type": "code",
   "execution_count": 64,
   "id": "e59cc463",
   "metadata": {},
   "outputs": [
    {
     "data": {
      "text/plain": [
       "log_heated_area0          0.649593\n",
       "log_heated_area0_covid    0.061847\n",
       "is_covid                  0.044821\n",
       "lumber_price0             0.043091\n",
       "metals_price0             0.032925\n",
       "                            ...   \n",
       "I_zip27614_covid          0.000116\n",
       "I_zip27560_covid          0.000092\n",
       "I_zip27571_covid          0.000062\n",
       "I_zip27617_covid          0.000042\n",
       "I                         0.000000\n",
       "Length: 78, dtype: float64"
      ]
     },
     "execution_count": 64,
     "metadata": {},
     "output_type": "execute_result"
    }
   ],
   "source": [
    "xvars = []\n",
    "for g in groups:\n",
    "    xvars += xvar_dict[g]\n",
    "pd.Series(full_model.feature_importances_, index=xvars).sort_values(ascending=False)"
   ]
  },
  {
   "cell_type": "code",
   "execution_count": 65,
   "id": "3ab4dc5f",
   "metadata": {},
   "outputs": [
    {
     "data": {
      "text/plain": [
       "Text(0, 0.5, 'importance level')"
      ]
     },
     "execution_count": 65,
     "metadata": {},
     "output_type": "execute_result"
    },
    {
     "data": {
      "image/png": "[encoded data removed]",
      "text/plain": [
       "<Figure size 864x576 with 1 Axes>"
      ]
     },
     "metadata": {},
     "output_type": "display_data"
    }
   ],
   "source": [
    "fig, ax = plt.subplots(figsize = [12,8])\n",
    "ax.bar(range(len(xvars)), pd.Series(full_model.feature_importances_, index=xvars))\n",
    "ax.set_xticks(range(len(xvars)))\n",
    "ax.set_xticklabels(xvars, rotation=90)\n",
    "plt.title('Feature importance using full dataset', fontsize = 15) \n",
    "plt.xlabel('features', fontsize = 12) \n",
    "plt.ylabel('importance level', fontsize = 12)"
   ]
  },
  {
   "cell_type": "markdown",
   "id": "340f1580",
   "metadata": {},
   "source": [
    "#### CV Function and Score for Full Random Forest Model"
   ]
  },
  {
   "cell_type": "code",
   "execution_count": 74,
   "id": "13a199c3",
   "metadata": {},
   "outputs": [
    {
     "name": "stdout",
     "output_type": "stream",
     "text": [
      "random forest cv used 143.08605408668518 seconds\n"
     ]
    },
    {
     "data": {
      "text/plain": [
       "0.7178382230714238"
      ]
     },
     "execution_count": 74,
     "metadata": {},
     "output_type": "execute_result"
    }
   ],
   "source": [
    "def create_rf_cv(X, y, xvars):\n",
    "    t0 = time.time()\n",
    "    X1 = X[xvars]\n",
    "    scores = []\n",
    "    kf = KFold(n_splits=5, shuffle=True, random_state=42)\n",
    "    for train, test in kf.split(X1):\n",
    "        X_train, X_test, y_train, y_test = X1.iloc[train, :], X1.iloc[test, :], y.iloc[train], y.iloc[test]\n",
    "        rf_reg = RandomForestRegressor(n_estimators=20, max_depth=20, random_state=42)\n",
    "        rf_reg.fit(X_train, y_train)\n",
    "        score = 1 - metrics.mean_squared_error(y_test, rf_reg.predict(X_test)) / y_test.var()\n",
    "        scores.append(score)\n",
    "    print(f\"random forest cv used {time.time()-t0} seconds\")\n",
    "    return np.mean(scores)\n",
    "\n",
    "X, X_test, y, y_test, xvar_dict, groups = add_features(house_df,\n",
    "                                                       start_year=None,\n",
    "                                                       end_year=None,\n",
    "                                                       test_size=0)\n",
    "xvars = []\n",
    "for g in groups:\n",
    "    xvars += xvar_dict[g]\n",
    "create_rf_cv(X, y, xvars)"
   ]
  },
  {
   "cell_type": "markdown",
   "id": "602adb28",
   "metadata": {},
   "source": [
    "### Random Forest using data after 2017"
   ]
  },
  {
   "cell_type": "code",
   "execution_count": 28,
   "id": "a6927500",
   "metadata": {},
   "outputs": [],
   "source": [
    "X_train, X_test, y_train, y_test, xvar_dict, groups = add_features(house_df,\n",
    "                                                                   start_year=2017,\n",
    "                                                                   end_year=None\n",
    "                                                                  )\n",
    "# full model\n",
    "xvars = []\n",
    "for g in groups:\n",
    "    xvars += xvar_dict[g]\n",
    "X_train_tmp, X_test_tmp = X_train[xvars], X_test[xvars]\n",
    "rf_reg_2017 = RandomForestRegressor(n_estimators=20, max_depth=20, random_state=42)\n",
    "rf_reg_2017.fit(X_train_tmp, y_train)\n",
    "rf_y_pred_2017 = rf_reg_2017.predict(X_test_tmp)\n",
    "rf_score_2017 = rf_reg_2017.score(X_test_tmp, y_test)"
   ]
  },
  {
   "cell_type": "code",
   "execution_count": 29,
   "id": "69ba7993",
   "metadata": {},
   "outputs": [
    {
     "data": {
      "text/plain": [
       "0.6188830084229033"
      ]
     },
     "execution_count": 29,
     "metadata": {},
     "output_type": "execute_result"
    }
   ],
   "source": [
    "rf_score_2017"
   ]
  },
  {
   "cell_type": "code",
   "execution_count": 30,
   "id": "c19a42e7",
   "metadata": {},
   "outputs": [
    {
     "name": "stdout",
     "output_type": "stream",
     "text": [
      "Mean Absolute Error: 0.09261532539099307\n",
      "Mean Squared Error: 0.020937628547878187\n",
      "Root Mean Squared Error: 0.14469840547800858\n"
     ]
    }
   ],
   "source": [
    "print('Mean Absolute Error:', metrics.mean_absolute_error(y_test, rf_y_pred_2017))\n",
    "print('Mean Squared Error:', metrics.mean_squared_error(y_test, rf_y_pred_2017))\n",
    "print('Root Mean Squared Error:', np.sqrt(metrics.mean_squared_error(y_test, rf_y_pred_2017)))"
   ]
  },
  {
   "cell_type": "code",
   "execution_count": 31,
   "id": "b3661d73",
   "metadata": {},
   "outputs": [
    {
     "data": {
      "text/plain": [
       "log_heated_area0          0.593628\n",
       "log_heated_area0_covid    0.057873\n",
       "metals_price0             0.053962\n",
       "mort_rate0                0.037359\n",
       "lumber_price0             0.031324\n",
       "                            ...   \n",
       "I_zip27571                0.000422\n",
       "I_story_other_covid       0.000268\n",
       "I_zip27617_covid          0.000237\n",
       "I_zip27571_covid          0.000223\n",
       "I                         0.000000\n",
       "Length: 78, dtype: float64"
      ]
     },
     "execution_count": 31,
     "metadata": {},
     "output_type": "execute_result"
    }
   ],
   "source": [
    "xvars = []\n",
    "for g in groups:\n",
    "    xvars += xvar_dict[g]\n",
    "pd.Series(rf_reg_2017.feature_importances_, index=xvars).sort_values(ascending=False)"
   ]
  },
  {
   "cell_type": "code",
   "execution_count": 32,
   "id": "c5995bae",
   "metadata": {},
   "outputs": [
    {
     "data": {
      "text/plain": [
       "Text(0, 0.5, 'importance level')"
      ]
     },
     "execution_count": 32,
     "metadata": {},
     "output_type": "execute_result"
    },
    {
     "data": {
      "image/png": "[encoded data removed]",
      "text/plain": [
       "<Figure size 864x576 with 1 Axes>"
      ]
     },
     "metadata": {},
     "output_type": "display_data"
    }
   ],
   "source": [
    "fig, ax = plt.subplots(figsize = [12,8])\n",
    "ax.bar(range(len(xvars)), pd.Series(rf_reg_2017.feature_importances_, index=xvars))\n",
    "ax.set_xticks(range(len(xvars)))\n",
    "ax.set_xticklabels(xvars, rotation=90)\n",
    "plt.title('Feature importance after 2017', fontsize = 15) \n",
    "plt.xlabel('features', fontsize = 12) \n",
    "plt.ylabel('importance level', fontsize = 12)"
   ]
  },
  {
   "cell_type": "markdown",
   "id": "8ee44916",
   "metadata": {},
   "source": [
    "#### CV - Model Score after 2017 for Random Forest"
   ]
  },
  {
   "cell_type": "code",
   "execution_count": 33,
   "id": "5b13b51c",
   "metadata": {},
   "outputs": [
    {
     "data": {
      "text/plain": [
       "0.6355300032284008"
      ]
     },
     "execution_count": 33,
     "metadata": {},
     "output_type": "execute_result"
    }
   ],
   "source": [
    "X_train, X_test, y_train, y_test, xvar_dict, groups = add_features(house_df,\n",
    "                                                                   start_year=2017,\n",
    "                                                                   end_year=None,\n",
    "                                                                   test_size=0)\n",
    "# full model\n",
    "xvars = []\n",
    "for g in groups:\n",
    "    xvars += xvar_dict[g]\n",
    "create_rf_cv(X_train, y_train, xvars)"
   ]
  },
  {
   "cell_type": "markdown",
   "id": "domestic-sheep",
   "metadata": {},
   "source": [
    "### Feature ablation for Random Forest"
   ]
  },
  {
   "cell_type": "code",
   "execution_count": 34,
   "id": "dee7a199",
   "metadata": {},
   "outputs": [],
   "source": [
    "X_train, X_test, y_train, y_test, xvar_dict, groups = add_features(house_df,\n",
    "                                                                   start_year=None,\n",
    "                                                                   end_year=None)\n",
    "# full model\n",
    "xvars = []\n",
    "for g in groups:\n",
    "    xvars += xvar_dict[g]\n",
    "X_train_tmp, X_test_tmp = X_train[xvars], X_test[xvars]\n",
    "rf_reg = RandomForestRegressor(n_estimators=50, max_depth=20, random_state=42)\n",
    "rf_reg.fit(X_train_tmp, y_train)\n",
    "full_model = rf_reg\n",
    "rf_y_pred = full_model.predict(X_test_tmp)\n",
    "full_score = rf_reg.score(X_test_tmp, y_test)\n",
    "rf_full_score = full_score\n",
    "\n",
    "# leave one out models\n",
    "random_result = dict()\n",
    "random_mse = dict()\n",
    "for i in range(1, len(groups)):\n",
    "    # select groups, by dropping i-th group\n",
    "    xvars = []\n",
    "    for j in range(len(groups)):\n",
    "        if j == i:\n",
    "            continue\n",
    "        xvars += xvar_dict[groups[j]]\n",
    "    X_train_tmp, X_test_tmp = X_train[xvars], X_test[xvars]\n",
    "    rf_reg = RandomForestRegressor(n_estimators=20,max_depth=20, random_state=42)\n",
    "    rf_reg.fit(X_train_tmp, y_train)\n",
    "    random_result[groups[i]] = rf_reg\n",
    "    random_mse[groups[i]] = rf_reg.score(X_test_tmp, y_test)"
   ]
  },
  {
   "cell_type": "code",
   "execution_count": 35,
   "id": "nutritional-mailman",
   "metadata": {},
   "outputs": [
    {
     "data": {
      "text/plain": [
       "Text(0, 0.5, 'scores')"
      ]
     },
     "execution_count": 35,
     "metadata": {},
     "output_type": "execute_result"
    },
    {
     "data": {
      "image/png": "[encoded data removed]",
      "text/plain": [
       "<Figure size 864x216 with 1 Axes>"
      ]
     },
     "metadata": {},
     "output_type": "display_data"
    }
   ],
   "source": [
    "rf_importance = pd.Series({k: full_score - random_mse[k] for k in random_mse})\n",
    "\n",
    "fig, ax = plt.subplots(figsize=[12,3])\n",
    "ax.bar(range(len(rf_importance)), rf_importance)\n",
    "ax.set_xticks(range(len(rf_importance)))\n",
    "ax.set_xticklabels(rf_importance.index, rotation=90)\n",
    "plt.title('Feature Importance for Random Forest', fontsize = 15) \n",
    "plt.xlabel('features', fontsize = 12) \n",
    "plt.ylabel('scores', fontsize = 12)"
   ]
  },
  {
   "cell_type": "markdown",
   "id": "0c9649d7",
   "metadata": {},
   "source": [
    "#### CV for Feature Ablation for Random Forest"
   ]
  },
  {
   "cell_type": "code",
   "execution_count": 36,
   "id": "b59589cc",
   "metadata": {},
   "outputs": [
    {
     "name": "stdout",
     "output_type": "stream",
     "text": [
      "random forest cv used 140.33453798294067 seconds\n",
      "random forest cv used 136.2046821117401 seconds\n",
      "random forest cv used 144.35347700119019 seconds\n",
      "random forest cv used 135.61204934120178 seconds\n",
      "random forest cv used 124.11873412132263 seconds\n",
      "random forest cv used 148.30873918533325 seconds\n",
      "random forest cv used 145.3657238483429 seconds\n",
      "random forest cv used 166.2900836467743 seconds\n",
      "random forest cv used 173.76023387908936 seconds\n",
      "random forest cv used 175.4387047290802 seconds\n",
      "random forest cv used 143.83841109275818 seconds\n",
      "random forest cv used 142.27342534065247 seconds\n",
      "random forest cv used 138.0179431438446 seconds\n",
      "random forest cv used 141.09434390068054 seconds\n",
      "random forest cv used 113.4531397819519 seconds\n",
      "random forest cv used 123.86862707138062 seconds\n"
     ]
    },
    {
     "data": {
      "text/plain": [
       "Text(0, 0.5, 'scores')"
      ]
     },
     "execution_count": 36,
     "metadata": {},
     "output_type": "execute_result"
    },
    {
     "data": {
      "image/png": "[encoded data removed]",
      "text/plain": [
       "<Figure size 864x216 with 1 Axes>"
      ]
     },
     "metadata": {},
     "output_type": "display_data"
    }
   ],
   "source": [
    "X, X_test, y, y_test, xvar_dict, groups = add_features(house_df,\n",
    "                                                       start_year=None,\n",
    "                                                       end_year=None,\n",
    "                                                       test_size=0)\n",
    "# full model\n",
    "xvars = []\n",
    "for g in groups:\n",
    "    xvars += xvar_dict[g]\n",
    "rf_full_score = create_rf_cv(X, y, xvars)\n",
    "\n",
    "# leave one out models\n",
    "reg_results = dict()\n",
    "reg_scores = dict()\n",
    "for i in range(1, len(groups)):\n",
    "    # select groups, by dropping i-th group\n",
    "    xvars = []\n",
    "    for j in range(len(groups)):\n",
    "        if j == i:\n",
    "            continue\n",
    "        xvars += xvar_dict[groups[j]]\n",
    "    reg_scores[groups[i]] = create_rf_cv(X, y, xvars)\n",
    "\n",
    "importance = pd.Series({k: rf_full_score - reg_scores[k] for k in reg_scores})\n",
    "fig, ax = plt.subplots(figsize=[12,3])\n",
    "ax.bar(range(len(importance)), importance)\n",
    "ax.set_xticks(range(len(importance)))\n",
    "ax.set_xticklabels(importance.index, rotation=90)\n",
    "plt.title('Feature Importance for Random Forest', fontsize = 15)\n",
    "plt.xlabel('features', fontsize = 12)\n",
    "plt.ylabel('scores', fontsize = 12)"
   ]
  },
  {
   "cell_type": "markdown",
   "id": "passive-vietnam",
   "metadata": {},
   "source": [
    "### Grid Search"
   ]
  },
  {
   "cell_type": "code",
   "execution_count": 71,
   "id": "f7bb2bf8",
   "metadata": {},
   "outputs": [
    {
     "name": "stdout",
     "output_type": "stream",
     "text": [
      "finished 20 5 in 12.969819784164429\n",
      "finished 20 10 in 23.587523937225342\n",
      "finished 20 20 in 35.737688064575195\n",
      "finished 20 30 in 46.195411920547485\n",
      "finished 50 5 in 31.974704027175903\n",
      "finished 50 10 in 61.32623600959778\n",
      "finished 50 20 in 87.32987880706787\n",
      "finished 50 30 in 100.09800219535828\n",
      "finished 100 5 in 53.88168287277222\n",
      "finished 100 10 in 105.82007813453674\n",
      "finished 100 20 in 162.52803492546082\n",
      "finished 100 30 in 200.78691244125366\n",
      "finished 200 5 in 105.86260414123535\n",
      "finished 200 10 in 244.33390402793884\n",
      "finished 200 20 in 331.28292202949524\n",
      "finished 200 30 in 985.9412291049957\n"
     ]
    }
   ],
   "source": [
    "X_train, X_test, y_train, y_test, xvar_dict, groups = add_features(house_df,\n",
    "                                                                   start_year=None,\n",
    "                                                                   end_year=None\n",
    "                                                                  )\n",
    "\n",
    "\n",
    "n_estimators = [20, 50, 100, 200]\n",
    "max_depth = [5, 10, 20, 30]\n",
    "rf_grid_scores = pd.DataFrame(index=n_estimators, columns=max_depth)\n",
    "rf_grid_models = dict()\n",
    "\n",
    "xvars = []\n",
    "for g in groups:\n",
    "    xvars += xvar_dict[g]\n",
    "X_train_tmp, X_test_tmp = X_train[xvars], X_test[xvars]\n",
    "\n",
    "for i in range(len(n_estimators)):\n",
    "    n_est = n_estimators[i]\n",
    "    rf_grid_models_by_depth = dict()\n",
    "    for j in range(len(max_depth)):\n",
    "        t0 = time.time()\n",
    "        \n",
    "        max_dep = max_depth[j]\n",
    "        rf_reg = RandomForestRegressor(n_estimators=n_est, max_depth=max_dep, random_state=42)\n",
    "        rf_reg.fit(X_train_tmp, y_train)\n",
    "        rf_grid_models_by_depth[max_dep] = rf_reg\n",
    "        rf_y_pred = rf_reg.predict(X_test_tmp)\n",
    "        this_score = rf_reg.score(X_test_tmp, y_test)\n",
    "        rf_grid_scores.loc[n_est, max_dep] = this_score\n",
    "        \n",
    "        print(f\"finished {n_est} {max_dep} in {time.time()-t0}\")\n",
    "    rf_grid_models[n_est] = rf_grid_models_by_depth"
   ]
  },
  {
   "cell_type": "code",
   "execution_count": 72,
   "id": "8101d34e",
   "metadata": {},
   "outputs": [
    {
     "data": {
      "text/html": [
       "<div>\n",
       "<style scoped>\n",
       "    .dataframe tbody tr th:only-of-type {\n",
       "        vertical-align: middle;\n",
       "    }\n",
       "\n",
       "    .dataframe tbody tr th {\n",
       "        vertical-align: top;\n",
       "    }\n",
       "\n",
       "    .dataframe thead th {\n",
       "        text-align: right;\n",
       "    }\n",
       "</style>\n",
       "<table border=\"1\" class=\"dataframe\">\n",
       "  <thead>\n",
       "    <tr style=\"text-align: right;\">\n",
       "      <th></th>\n",
       "      <th>5</th>\n",
       "      <th>10</th>\n",
       "      <th>20</th>\n",
       "      <th>30</th>\n",
       "    </tr>\n",
       "  </thead>\n",
       "  <tbody>\n",
       "    <tr>\n",
       "      <th>20</th>\n",
       "      <td>0.651597</td>\n",
       "      <td>0.698820</td>\n",
       "      <td>0.720548</td>\n",
       "      <td>0.712771</td>\n",
       "    </tr>\n",
       "    <tr>\n",
       "      <th>50</th>\n",
       "      <td>0.651773</td>\n",
       "      <td>0.699817</td>\n",
       "      <td>0.724266</td>\n",
       "      <td>0.719242</td>\n",
       "    </tr>\n",
       "    <tr>\n",
       "      <th>100</th>\n",
       "      <td>0.651824</td>\n",
       "      <td>0.699890</td>\n",
       "      <td>0.725707</td>\n",
       "      <td>0.721567</td>\n",
       "    </tr>\n",
       "    <tr>\n",
       "      <th>200</th>\n",
       "      <td>0.651785</td>\n",
       "      <td>0.700164</td>\n",
       "      <td>0.726516</td>\n",
       "      <td>0.722889</td>\n",
       "    </tr>\n",
       "  </tbody>\n",
       "</table>\n",
       "</div>"
      ],
      "text/plain": [
       "           5         10        20        30\n",
       "20   0.651597  0.698820  0.720548  0.712771\n",
       "50   0.651773  0.699817  0.724266  0.719242\n",
       "100  0.651824  0.699890  0.725707  0.721567\n",
       "200  0.651785  0.700164  0.726516  0.722889"
      ]
     },
     "execution_count": 72,
     "metadata": {},
     "output_type": "execute_result"
    }
   ],
   "source": [
    "rf_grid_scores.dtypes\n",
    "rf_grid_scores= rf_grid_scores.astype(float)\n",
    "rf_grid_scores"
   ]
  },
  {
   "cell_type": "code",
   "execution_count": 73,
   "id": "34b5cb46",
   "metadata": {},
   "outputs": [
    {
     "data": {
      "text/plain": [
       "Text(52.0, 0.5, 'n_estimators')"
      ]
     },
     "execution_count": 73,
     "metadata": {},
     "output_type": "execute_result"
    },
    {
     "data": {
      "image/png": "[encoded data removed]",
      "text/plain": [
       "<Figure size 576x396 with 2 Axes>"
      ]
     },
     "metadata": {},
     "output_type": "display_data"
    }
   ],
   "source": [
    "ax = sns.heatmap(rf_grid_scores, vmin=0.5, annot=True)\n",
    "plt.title('Hyper-parameters', fontsize = 15) \n",
    "plt.xlabel('max_depth', fontsize = 12) \n",
    "plt.ylabel('n_estimators', fontsize = 12)"
   ]
  },
  {
   "cell_type": "markdown",
   "id": "5964d28d",
   "metadata": {},
   "source": [
    "### Training size vs Accuracy for Random Forest"
   ]
  },
  {
   "cell_type": "code",
   "execution_count": 34,
   "id": "978d6916",
   "metadata": {},
   "outputs": [
    {
     "name": "stdout",
     "output_type": "stream",
     "text": [
      "0.1 used 222.8013231754303 seconds\n",
      "0.2 used 200.98380088806152 seconds\n",
      "0.30000000000000004 used 169.13391184806824 seconds\n",
      "0.4 used 145.50199818611145 seconds\n",
      "0.5 used 123.2381649017334 seconds\n",
      "0.6 used 96.49885702133179 seconds\n",
      "0.7000000000000001 used 74.21032810211182 seconds\n",
      "0.8 used 54.985050201416016 seconds\n",
      "0.9 used 36.28480815887451 seconds\n"
     ]
    }
   ],
   "source": [
    "rf_reg_results = dict()\n",
    "rf_score_results = dict()\n",
    "for test_size in np.arange(0.1, 1, 0.1):\n",
    "    seed_scores = []\n",
    "    t0 = time.time()\n",
    "    for seed in range(5):\n",
    "        X_train, X_test, y_train, y_test, xvar_dict, groups = add_features(house_df,\n",
    "                                                                           start_year=None,\n",
    "                                                                           end_year=None,\n",
    "                                                                           test_size=test_size,\n",
    "                                                                           random_seed=seed)\n",
    "        xvars = []\n",
    "        for g in groups:\n",
    "            xvars += xvar_dict[g]\n",
    "        X_train_tmp, X_test_tmp = X_train[xvars], X_test[xvars]\n",
    "        rf_reg = RandomForestRegressor(n_estimators=20, max_depth=20, random_state=42)\n",
    "        rf_reg.fit(X_train_tmp, y_train)\n",
    "        mse = metrics.mean_squared_error(y_test, rf_reg.predict(X_test_tmp))\n",
    "        rf_reg_results[test_size] = rf_reg\n",
    "        seed_scores.append(1 - metrics.mean_squared_error(y_test, rf_reg.predict(X_test_tmp)) / y_test.var())\n",
    "    print(f\"{test_size} used {time.time()-t0} seconds\")\n",
    "    rf_score_results[test_size] = np.mean(seed_scores)"
   ]
  },
  {
   "cell_type": "code",
   "execution_count": 35,
   "id": "9662d5bc",
   "metadata": {
    "scrolled": false
   },
   "outputs": [
    {
     "data": {
      "text/plain": [
       "Text(0, 0.5, 'scores')"
      ]
     },
     "execution_count": 35,
     "metadata": {},
     "output_type": "execute_result"
    },
    {
     "data": {
      "image/png": "[encoded data removed]",
      "text/plain": [
       "<Figure size 864x216 with 1 Axes>"
      ]
     },
     "metadata": {},
     "output_type": "display_data"
    }
   ],
   "source": [
    "size_sensitivity_rf = pd.Series(rf_score_results).sort_index()\n",
    "\n",
    "fig, ax = plt.subplots(figsize=[12,3])\n",
    "ax.plot(size_sensitivity_rf)\n",
    "ax.set_xticks(size_sensitivity_rf.index)\n",
    "ax.set_xticklabels(np.round(size_sensitivity_rf.index, 2), rotation=90)\n",
    "plt.title('Training Size Sensitivity for Random Forest', fontsize = 15) \n",
    "plt.xlabel('test size', fontsize = 12) \n",
    "plt.ylabel('scores', fontsize = 12)"
   ]
  },
  {
   "cell_type": "markdown",
   "id": "635198e5",
   "metadata": {},
   "source": [
    "### Year Sensitivity for Random Forest"
   ]
  },
  {
   "cell_type": "code",
   "execution_count": 38,
   "id": "df74b09c",
   "metadata": {},
   "outputs": [],
   "source": [
    "rf_year_reg_results = dict()\n",
    "rf_year_score_results = dict()\n",
    "for start_year in np.arange(2000, 2019, 1):\n",
    "    X_train, X_test, y_train, y_test, xvar_dict, groups = add_features(house_df,\n",
    "                                                                       start_year=start_year,\n",
    "                                                                       end_year=None)\n",
    "    xvars = []\n",
    "    for g in groups:\n",
    "        xvars += xvar_dict[g]\n",
    "    X_train_tmp, X_test_tmp = X_train[xvars], X_test[xvars]\n",
    "    rf_reg = RandomForestRegressor(n_estimators=20, max_depth=20, random_state=42)\n",
    "    rf_reg.fit(X_train_tmp, y_train)\n",
    "    mse = metrics.mean_squared_error(y_test, rf_reg.predict(X_test_tmp))\n",
    "    rf_year_reg_results[start_year] = rf_reg\n",
    "    rf_year_score_results[start_year] = 1 - metrics.mean_squared_error(y_test, rf_reg.predict(X_test_tmp)) / y_test.var()\n",
    "    "
   ]
  },
  {
   "cell_type": "code",
   "execution_count": 39,
   "id": "6ee219ca",
   "metadata": {},
   "outputs": [
    {
     "data": {
      "text/plain": [
       "Text(0, 0.5, 'scores')"
      ]
     },
     "execution_count": 39,
     "metadata": {},
     "output_type": "execute_result"
    },
    {
     "data": {
      "image/png": "[encoded data removed]",
      "text/plain": [
       "<Figure size 864x216 with 1 Axes>"
      ]
     },
     "metadata": {},
     "output_type": "display_data"
    }
   ],
   "source": [
    "year_sensitivity_rf = pd.Series(rf_year_score_results).sort_index()\n",
    "\n",
    "fig, ax = plt.subplots(figsize=[12,3])\n",
    "ax.plot(year_sensitivity_rf)\n",
    "ax.set_xticks(year_sensitivity_rf.index)\n",
    "ax.set_xticklabels(np.round(year_sensitivity_rf.index, 2), rotation=90)\n",
    "plt.title('Year Sensitivity for Random Forest', fontsize = 15) \n",
    "plt.xlabel('years', fontsize = 12) \n",
    "plt.ylabel('scores', fontsize = 12)"
   ]
  },
  {
   "cell_type": "markdown",
   "id": "375dec2f",
   "metadata": {},
   "source": [
    "#### CV for Year Sensitivity for Random Forest"
   ]
  },
  {
   "cell_type": "code",
   "execution_count": 42,
   "id": "47522812",
   "metadata": {},
   "outputs": [
    {
     "name": "stdout",
     "output_type": "stream",
     "text": [
      "random forest cv used 198.03001976013184 seconds\n",
      "random forest cv used 166.742693901062 seconds\n",
      "random forest cv used 176.42827606201172 seconds\n",
      "random forest cv used 138.67288899421692 seconds\n",
      "random forest cv used 134.96927118301392 seconds\n",
      "random forest cv used 133.04906010627747 seconds\n",
      "random forest cv used 127.98462080955505 seconds\n",
      "random forest cv used 121.64807319641113 seconds\n",
      "random forest cv used 118.5472309589386 seconds\n",
      "random forest cv used 114.5475537776947 seconds\n",
      "random forest cv used 113.43890619277954 seconds\n",
      "random forest cv used 109.06203603744507 seconds\n",
      "random forest cv used 106.6186101436615 seconds\n",
      "random forest cv used 113.47310590744019 seconds\n",
      "random forest cv used 602.1810920238495 seconds\n",
      "random forest cv used 91.82605385780334 seconds\n",
      "random forest cv used 84.36754012107849 seconds\n",
      "random forest cv used 76.10629487037659 seconds\n",
      "random forest cv used 67.52456021308899 seconds\n"
     ]
    }
   ],
   "source": [
    "rf_year_reg_results = dict()\n",
    "rf_year_score_results = dict()\n",
    "for start_year in np.arange(2000, 2019, 1):\n",
    "    X_train, X_test, y_train, y_test, xvar_dict, groups = add_features(house_df,\n",
    "                                                                       start_year=start_year,\n",
    "                                                                       end_year=None, test_size=0)\n",
    "    xvars = []\n",
    "    for g in groups:\n",
    "        xvars += xvar_dict[g]\n",
    "    X_train_tmp = X_train[xvars]\n",
    "    rf_year_score_results[start_year] = create_rf_cv(X_train_tmp, y_train, xvars)"
   ]
  },
  {
   "cell_type": "code",
   "execution_count": 43,
   "id": "9e99d7a2",
   "metadata": {},
   "outputs": [
    {
     "data": {
      "text/plain": [
       "Text(0, 0.5, 'scores')"
      ]
     },
     "execution_count": 43,
     "metadata": {},
     "output_type": "execute_result"
    },
    {
     "data": {
      "image/png": "[encoded data removed]",
      "text/plain": [
       "<Figure size 864x216 with 1 Axes>"
      ]
     },
     "metadata": {},
     "output_type": "display_data"
    }
   ],
   "source": [
    "year_sensitivity_rf = pd.Series(rf_year_score_results).sort_index()\n",
    "\n",
    "fig, ax = plt.subplots(figsize=[12,3])\n",
    "ax.plot(year_sensitivity_rf)\n",
    "ax.set_xticks(year_sensitivity_rf.index)\n",
    "ax.set_xticklabels(np.round(year_sensitivity_rf.index, 2), rotation=90)\n",
    "plt.title('Year Sensitivity for Random Forest', fontsize = 15) \n",
    "plt.xlabel('years', fontsize = 12) \n",
    "plt.ylabel('scores', fontsize = 12)"
   ]
  },
  {
   "cell_type": "markdown",
   "id": "external-gather",
   "metadata": {},
   "source": [
    "## Comparison of different models"
   ]
  },
  {
   "cell_type": "markdown",
   "id": "round-trustee",
   "metadata": {},
   "source": [
    "## Gradient Boosted Decision Tree"
   ]
  },
  {
   "cell_type": "code",
   "execution_count": 44,
   "id": "configured-classics",
   "metadata": {},
   "outputs": [],
   "source": [
    "X_train, X_test, y_train, y_test, xvar_dict, groups = add_features(house_df,\n",
    "                                                                   start_year=None,\n",
    "                                                                   end_year=None\n",
    "                                                                  )\n",
    "xvars = []\n",
    "for g in groups:\n",
    "    xvars += xvar_dict[g]\n",
    "X_train_tmp, X_test_tmp = X_train[xvars], X_test[xvars]\n",
    "gbc=GradientBoostingRegressor(n_estimators=50,learning_rate=0.05,random_state=100 )\n",
    "gbc.fit(X_train_tmp, y_train)\n",
    "full_model = gbc\n",
    "gbc_y_pred = full_model.predict(X_test_tmp)\n",
    "gbc_full_score = gbc.score(X_test_tmp, y_test)"
   ]
  },
  {
   "cell_type": "code",
   "execution_count": 45,
   "id": "wrong-bangladesh",
   "metadata": {},
   "outputs": [
    {
     "data": {
      "text/plain": [
       "0.29381131392447135"
      ]
     },
     "execution_count": 45,
     "metadata": {},
     "output_type": "execute_result"
    }
   ],
   "source": [
    "expl_clf = explained_variance_score(gbc_y_pred, y_test)\n",
    "expl_clf"
   ]
  },
  {
   "cell_type": "code",
   "execution_count": 46,
   "id": "employed-uncle",
   "metadata": {},
   "outputs": [
    {
     "data": {
      "text/plain": [
       "0.6579124907690992"
      ]
     },
     "execution_count": 46,
     "metadata": {},
     "output_type": "execute_result"
    }
   ],
   "source": [
    "gbc_full_score"
   ]
  },
  {
   "cell_type": "markdown",
   "id": "smart-brooks",
   "metadata": {},
   "source": [
    "## Logistic Regression"
   ]
  },
  {
   "cell_type": "markdown",
   "id": "wicked-rings",
   "metadata": {},
   "source": [
    "Logistic Regression is used when the dependent variable(target) is categorical.\n",
    "\n",
    "For example,\n",
    "\n",
    "To predict whether an email is spam (1) or (0)\n",
    "Whether the tumor is malignant (1) or not (0)"
   ]
  },
  {
   "cell_type": "markdown",
   "id": "commercial-functionality",
   "metadata": {},
   "source": [
    "## Ridge Regression"
   ]
  },
  {
   "cell_type": "code",
   "execution_count": 47,
   "id": "wrapped-redhead",
   "metadata": {},
   "outputs": [],
   "source": [
    "\n",
    "X_train, X_test, y_train, y_test, xvar_dict, groups = add_features(house_df,\n",
    "                                                                   start_year=None,\n",
    "                                                                   end_year=None\n",
    "                                                                  )\n",
    "xvars = []\n",
    "for g in groups:\n",
    "    xvars += xvar_dict[g]\n",
    "X_train_tmp, X_test_tmp = X_train[xvars], X_test[xvars]\n",
    "clf = Ridge(alpha=1)\n",
    "clf.fit(X_train_tmp, y_train)\n",
    "full_model = clf\n",
    "clf_y_pred = full_model.predict(X_test_tmp)\n",
    "clf_full_score = clf.score(X_test_tmp, y_test)\n",
    "expl_clf = explained_variance_score(clf_y_pred, y_test)"
   ]
  },
  {
   "cell_type": "code",
   "execution_count": 48,
   "id": "instant-executive",
   "metadata": {},
   "outputs": [
    {
     "data": {
      "text/plain": [
       "0.5564980839942224"
      ]
     },
     "execution_count": 48,
     "metadata": {},
     "output_type": "execute_result"
    }
   ],
   "source": [
    "expl_clf"
   ]
  },
  {
   "cell_type": "code",
   "execution_count": 49,
   "id": "dirty-midwest",
   "metadata": {},
   "outputs": [
    {
     "data": {
      "text/plain": [
       "0.6937350068117152"
      ]
     },
     "execution_count": 49,
     "metadata": {},
     "output_type": "execute_result"
    }
   ],
   "source": [
    "clf_full_score"
   ]
  },
  {
   "cell_type": "markdown",
   "id": "naked-requirement",
   "metadata": {},
   "source": [
    "## Lasso"
   ]
  },
  {
   "cell_type": "code",
   "execution_count": 50,
   "id": "configured-formula",
   "metadata": {},
   "outputs": [],
   "source": [
    "\n",
    "X_train, X_test, y_train, y_test, xvar_dict, groups = add_features(house_df,\n",
    "                                                                   start_year=None,\n",
    "                                                                   end_year=None\n",
    "                                                                  )\n",
    "xvars = []\n",
    "for g in groups:\n",
    "    xvars += xvar_dict[g]\n",
    "X_train_tmp, X_test_tmp = X_train[xvars], X_test[xvars]\n",
    "lasso_rg = linear_model.Lasso(alpha=0.0001)\n",
    "lasso_rg.fit(X_train_tmp, y_train)\n",
    "full_model = lasso_rg\n",
    "lasso_y_pred = full_model.predict(X_test_tmp)\n",
    "lasso_full_score = lasso_rg.score(X_test_tmp, y_test)"
   ]
  },
  {
   "cell_type": "code",
   "execution_count": 51,
   "id": "right-shape",
   "metadata": {},
   "outputs": [],
   "source": [
    "expl_lasso = explained_variance_score(lasso_y_pred, y_test)"
   ]
  },
  {
   "cell_type": "code",
   "execution_count": 52,
   "id": "declared-poetry",
   "metadata": {},
   "outputs": [
    {
     "data": {
      "text/plain": [
       "0.5489104355599048"
      ]
     },
     "execution_count": 52,
     "metadata": {},
     "output_type": "execute_result"
    }
   ],
   "source": [
    "expl_lasso"
   ]
  },
  {
   "cell_type": "code",
   "execution_count": 53,
   "id": "professional-chrome",
   "metadata": {},
   "outputs": [
    {
     "data": {
      "image/png": "[encoded data removed]",
      "text/plain": [
       "<Figure size 576x396 with 1 Axes>"
      ]
     },
     "metadata": {},
     "output_type": "display_data"
    },
    {
     "data": {
      "text/plain": [
       "<AxesSubplot:title={'center':'LassoCV Alpha Error'}, xlabel='alpha', ylabel='error (or score)'>"
      ]
     },
     "execution_count": 53,
     "metadata": {},
     "output_type": "execute_result"
    }
   ],
   "source": [
    "\n",
    "alphas = np.logspace(-4, -1, 50)\n",
    "lasso_rg = LassoCV(alphas=alphas)\n",
    "visualizer = AlphaSelection(lasso_rg)\n",
    "visualizer.fit(X_train_tmp, y_train)\n",
    "visualizer.show()"
   ]
  },
  {
   "cell_type": "code",
   "execution_count": 54,
   "id": "through-median",
   "metadata": {},
   "outputs": [
    {
     "data": {
      "text/plain": [
       "0.6927226285751945"
      ]
     },
     "execution_count": 54,
     "metadata": {},
     "output_type": "execute_result"
    }
   ],
   "source": [
    "lasso_full_score"
   ]
  },
  {
   "cell_type": "markdown",
   "id": "agricultural-projector",
   "metadata": {},
   "source": [
    "## KNN"
   ]
  },
  {
   "cell_type": "code",
   "execution_count": 55,
   "id": "surface-subsection",
   "metadata": {},
   "outputs": [],
   "source": [
    "\n",
    "X_train, X_test, y_train, y_test, xvar_dict, groups = add_features(house_df,\n",
    "                                                                   start_year=None,\n",
    "                                                                   end_year=None\n",
    "                                                                  )\n",
    "xvars = []\n",
    "for g in groups:\n",
    "    xvars += xvar_dict[g]\n",
    "X_train_tmp, X_test_tmp = X_train[xvars], X_test[xvars]\n",
    "neigh = KNeighborsRegressor(n_neighbors=10)\n",
    "neigh.fit(X_train_tmp, y_train)\n",
    "full_model = neigh\n",
    "knn_y_pred = full_model.predict(X_test_tmp)\n",
    "knn_full_score = neigh.score(X_test_tmp, y_test)\n",
    "expl_knn = explained_variance_score(knn_y_pred, y_test)"
   ]
  },
  {
   "cell_type": "code",
   "execution_count": 56,
   "id": "guided-helping",
   "metadata": {},
   "outputs": [
    {
     "data": {
      "text/plain": [
       "0.23135389210725454"
      ]
     },
     "execution_count": 56,
     "metadata": {},
     "output_type": "execute_result"
    }
   ],
   "source": [
    "expl_knn"
   ]
  },
  {
   "cell_type": "code",
   "execution_count": 57,
   "id": "insured-shore",
   "metadata": {},
   "outputs": [
    {
     "data": {
      "text/plain": [
       "0.5735382794825477"
      ]
     },
     "execution_count": 57,
     "metadata": {},
     "output_type": "execute_result"
    }
   ],
   "source": [
    "knn_full_score"
   ]
  },
  {
   "cell_type": "markdown",
   "id": "logical-progressive",
   "metadata": {},
   "source": [
    "### Decision Tree"
   ]
  },
  {
   "cell_type": "code",
   "execution_count": 58,
   "id": "about-dollar",
   "metadata": {},
   "outputs": [
    {
     "name": "stdout",
     "output_type": "stream",
     "text": [
      "0.45919139223100247 0.480907897198826\n"
     ]
    }
   ],
   "source": [
    "\n",
    "X_train, X_test, y_train, y_test, xvar_dict, groups = add_features(house_df,\n",
    "                                                                   start_year=None,\n",
    "                                                                   end_year=None\n",
    "                                                                  )\n",
    "xvars = []\n",
    "for g in groups:\n",
    "    xvars += xvar_dict[g]\n",
    "X_train_tmp, X_test_tmp = X_train[xvars], X_test[xvars]\n",
    "dr_reg = DecisionTreeRegressor(random_state=42).fit(X_train_tmp, y_train)\n",
    "dr_score = dr_reg.score(X_test_tmp, y_test)\n",
    "dr_y_pred = dr_reg.predict(X_test_tmp)\n",
    "expl_dr = explained_variance_score(dr_y_pred, y_test)\n",
    "print(dr_score, expl_dr)"
   ]
  },
  {
   "cell_type": "markdown",
   "id": "residential-facing",
   "metadata": {},
   "source": [
    "### Comparison Table"
   ]
  },
  {
   "cell_type": "code",
   "execution_count": 59,
   "id": "correct-therapist",
   "metadata": {},
   "outputs": [],
   "source": [
    "comparison = pd.DataFrame(columns=['Accuracy Score','Explained Variance Score','Mean Absolute Error',\\\n",
    "                                   'Mean Squared Error','Root Mean Squared Error'],\n",
    "                         index = ['Linear Regression', 'Random Forest', \\\n",
    "                                  'Gradient Boosted Decision Tree','Ridge Regression',\n",
    "                                 'Lasso','KNN', 'Decision Tree'])\n"
   ]
  },
  {
   "cell_type": "code",
   "execution_count": 66,
   "id": "julian-notice",
   "metadata": {},
   "outputs": [],
   "source": [
    "comparison.loc['Linear Regression', :] = [lr_full_score,explained_variance_score(rg_y_pred, y_test),\\\n",
    "                                          metrics.mean_absolute_error(y_test, rg_y_pred),\\\n",
    "metrics.mean_squared_error(y_test, rg_y_pred),\n",
    "np.sqrt(metrics.mean_squared_error(y_test, rg_y_pred))]\n",
    "\n",
    "comparison.loc['Random Forest', :] = [rf_full_score,explained_variance_score(rf_y_pred, y_test),\\\n",
    "                                      metrics.mean_absolute_error(y_test, rf_y_pred),\\\n",
    "metrics.mean_squared_error(y_test, rf_y_pred),\n",
    "np.sqrt(metrics.mean_squared_error(y_test, rf_y_pred))]\n",
    "\n",
    "comparison.loc['Gradient Boosted Decision Tree', :] = [gbc_full_score,explained_variance_score(gbc_y_pred, y_test),\\\n",
    "                                                       metrics.mean_absolute_error(y_test, gbc_y_pred),\\\n",
    "metrics.mean_squared_error(y_test, gbc_y_pred),\n",
    "np.sqrt(metrics.mean_squared_error(y_test, gbc_y_pred))]\n",
    "\n",
    "\n",
    "comparison.loc['Ridge Regression', :] = [clf_full_score,explained_variance_score(clf_y_pred, y_test),\\\n",
    "                                         metrics.mean_absolute_error(y_test, clf_y_pred),\\\n",
    "metrics.mean_squared_error(y_test, clf_y_pred),\n",
    "np.sqrt(metrics.mean_squared_error(y_test, clf_y_pred))]\n",
    "\n",
    "comparison.loc['Lasso', :] = [lasso_full_score,explained_variance_score(lasso_y_pred, y_test),\\\n",
    "                              metrics.mean_absolute_error(y_test, lasso_y_pred),\\\n",
    "metrics.mean_squared_error(y_test, lasso_y_pred),\n",
    "np.sqrt(metrics.mean_squared_error(y_test, lasso_y_pred))]\n",
    "\n",
    "comparison.loc['KNN', :] = [knn_full_score,explained_variance_score(knn_y_pred, y_test),\\\n",
    "                            metrics.mean_absolute_error(y_test, knn_y_pred),\\\n",
    "metrics.mean_squared_error(y_test, knn_y_pred),\n",
    "np.sqrt(metrics.mean_squared_error(y_test, knn_y_pred))]\n",
    "\n",
    "\n",
    "comparison.loc['Decision Tree', :] = [dr_score,explained_variance_score(dr_y_pred, y_test),\\\n",
    "                                      metrics.mean_absolute_error(y_test, dr_y_pred),\\\n",
    "metrics.mean_squared_error(y_test, dr_y_pred),\n",
    "np.sqrt(metrics.mean_squared_error(y_test, dr_y_pred))]\n"
   ]
  },
  {
   "cell_type": "code",
   "execution_count": 67,
   "id": "authentic-thailand",
   "metadata": {
    "scrolled": false
   },
   "outputs": [
    {
     "data": {
      "text/html": [
       "<div>\n",
       "<style scoped>\n",
       "    .dataframe tbody tr th:only-of-type {\n",
       "        vertical-align: middle;\n",
       "    }\n",
       "\n",
       "    .dataframe tbody tr th {\n",
       "        vertical-align: top;\n",
       "    }\n",
       "\n",
       "    .dataframe thead th {\n",
       "        text-align: right;\n",
       "    }\n",
       "</style>\n",
       "<table border=\"1\" class=\"dataframe\">\n",
       "  <thead>\n",
       "    <tr style=\"text-align: right;\">\n",
       "      <th></th>\n",
       "      <th>Accuracy Score</th>\n",
       "      <th>Explained Variance Score</th>\n",
       "      <th>Mean Absolute Error</th>\n",
       "      <th>Mean Squared Error</th>\n",
       "      <th>Root Mean Squared Error</th>\n",
       "    </tr>\n",
       "  </thead>\n",
       "  <tbody>\n",
       "    <tr>\n",
       "      <th>Random Forest</th>\n",
       "      <td>0.720548</td>\n",
       "      <td>0.625524</td>\n",
       "      <td>0.089025</td>\n",
       "      <td>0.018606</td>\n",
       "      <td>0.136404</td>\n",
       "    </tr>\n",
       "    <tr>\n",
       "      <th>Ridge Regression</th>\n",
       "      <td>0.693735</td>\n",
       "      <td>0.556498</td>\n",
       "      <td>0.097085</td>\n",
       "      <td>0.020391</td>\n",
       "      <td>0.142798</td>\n",
       "    </tr>\n",
       "    <tr>\n",
       "      <th>Lasso</th>\n",
       "      <td>0.692723</td>\n",
       "      <td>0.54891</td>\n",
       "      <td>0.097468</td>\n",
       "      <td>0.020459</td>\n",
       "      <td>0.143034</td>\n",
       "    </tr>\n",
       "    <tr>\n",
       "      <th>Linear Regression</th>\n",
       "      <td>0.689237</td>\n",
       "      <td>0.556594</td>\n",
       "      <td>0.097082</td>\n",
       "      <td>0.020391</td>\n",
       "      <td>0.142798</td>\n",
       "    </tr>\n",
       "    <tr>\n",
       "      <th>Gradient Boosted Decision Tree</th>\n",
       "      <td>0.657912</td>\n",
       "      <td>0.293811</td>\n",
       "      <td>0.106248</td>\n",
       "      <td>0.022776</td>\n",
       "      <td>0.150919</td>\n",
       "    </tr>\n",
       "    <tr>\n",
       "      <th>KNN</th>\n",
       "      <td>0.573538</td>\n",
       "      <td>0.231354</td>\n",
       "      <td>0.120943</td>\n",
       "      <td>0.028394</td>\n",
       "      <td>0.168506</td>\n",
       "    </tr>\n",
       "    <tr>\n",
       "      <th>Decision Tree</th>\n",
       "      <td>0.459191</td>\n",
       "      <td>0.480908</td>\n",
       "      <td>0.120814</td>\n",
       "      <td>0.036007</td>\n",
       "      <td>0.189756</td>\n",
       "    </tr>\n",
       "  </tbody>\n",
       "</table>\n",
       "</div>"
      ],
      "text/plain": [
       "                               Accuracy Score Explained Variance Score  \\\n",
       "Random Forest                        0.720548                 0.625524   \n",
       "Ridge Regression                     0.693735                 0.556498   \n",
       "Lasso                                0.692723                  0.54891   \n",
       "Linear Regression                    0.689237                 0.556594   \n",
       "Gradient Boosted Decision Tree       0.657912                 0.293811   \n",
       "KNN                                  0.573538                 0.231354   \n",
       "Decision Tree                        0.459191                 0.480908   \n",
       "\n",
       "                               Mean Absolute Error Mean Squared Error  \\\n",
       "Random Forest                             0.089025           0.018606   \n",
       "Ridge Regression                          0.097085           0.020391   \n",
       "Lasso                                     0.097468           0.020459   \n",
       "Linear Regression                         0.097082           0.020391   \n",
       "Gradient Boosted Decision Tree            0.106248           0.022776   \n",
       "KNN                                       0.120943           0.028394   \n",
       "Decision Tree                             0.120814           0.036007   \n",
       "\n",
       "                               Root Mean Squared Error  \n",
       "Random Forest                                 0.136404  \n",
       "Ridge Regression                              0.142798  \n",
       "Lasso                                         0.143034  \n",
       "Linear Regression                             0.142798  \n",
       "Gradient Boosted Decision Tree                0.150919  \n",
       "KNN                                           0.168506  \n",
       "Decision Tree                                 0.189756  "
      ]
     },
     "execution_count": 67,
     "metadata": {},
     "output_type": "execute_result"
    }
   ],
   "source": [
    "comparison.sort_values(['Accuracy Score'], ascending=False)"
   ]
  },
  {
   "cell_type": "code",
   "execution_count": null,
   "id": "7d6fd96f",
   "metadata": {},
   "outputs": [],
   "source": []
  },
  {
   "cell_type": "code",
   "execution_count": null,
   "id": "08323fcf",
   "metadata": {},
   "outputs": [],
   "source": []
  },
  {
   "cell_type": "code",
   "execution_count": null,
   "id": "5c985715",
   "metadata": {},
   "outputs": [],
   "source": []
  },
  {
   "cell_type": "code",
   "execution_count": null,
   "id": "ce5d0cf9",
   "metadata": {},
   "outputs": [],
   "source": []
  },
  {
   "cell_type": "code",
   "execution_count": null,
   "id": "c8920911",
   "metadata": {},
   "outputs": [],
   "source": []
  },
  {
   "cell_type": "code",
   "execution_count": null,
   "id": "d7740dcb",
   "metadata": {},
   "outputs": [],
   "source": []
  },
  {
   "cell_type": "code",
   "execution_count": null,
   "id": "39acbf61",
   "metadata": {},
   "outputs": [],
   "source": []
  },
  {
   "cell_type": "code",
   "execution_count": null,
   "id": "6bca0ff4",
   "metadata": {},
   "outputs": [],
   "source": []
  },
  {
   "cell_type": "code",
   "execution_count": null,
   "id": "360a1342",
   "metadata": {},
   "outputs": [],
   "source": []
  },
  {
   "cell_type": "code",
   "execution_count": null,
   "id": "b362db20",
   "metadata": {},
   "outputs": [],
   "source": []
  },
  {
   "cell_type": "code",
   "execution_count": null,
   "id": "accepted-cleaner",
   "metadata": {},
   "outputs": [],
   "source": []
  }
 ],
 "metadata": {
  "kernelspec": {
   "display_name": "Python 3",
   "language": "python",
   "name": "python3"
  },
  "language_info": {
   "codemirror_mode": {
    "name": "ipython",
    "version": 3
   },
   "file_extension": ".py",
   "mimetype": "text/x-python",
   "name": "python",
   "nbconvert_exporter": "python",
   "pygments_lexer": "ipython3",
   "version": "3.9.13"
  }
 },
 "nbformat": 4,
 "nbformat_minor": 5
}
