{
 "cells": [
  {
   "cell_type": "code",
   "execution_count": 1,
   "metadata": {},
   "outputs": [],
   "source": [
    "import pandas as pd\n",
    "import numpy as np\n",
    "from datetime import date\n",
    "import os"
   ]
  },
  {
   "cell_type": "code",
   "execution_count": 2,
   "metadata": {},
   "outputs": [],
   "source": [
    "# Read in the data\n",
    "house_df = pd.read_csv('assets/updated_house_price.csv')\n",
    "pop_growth_df_1 = pd.read_csv('assets/population_growth_2000_2010.csv', encoding='latin-1')\n",
    "pop_growth_df_2 = pd.read_csv('assets\\population_growth_2010-2020.csv', encoding='latin-1')\n",
    "pop_growth_df_3 = pd.read_csv('assets/population_growth_2020-2021.csv', encoding='latin-1')\n",
    "unemploy_df = pd.read_csv('assets/wake_unemployment.csv')\n",
    "covid_df = pd.read_csv('assets/covid_confirmed.csv')\n",
    "mort_rate_df = pd.read_csv('assets/mort_rate.csv')\n",
    "lumber_df = pd.read_csv('assets/lumber.csv')\n",
    "metals_df = pd.read_csv('assets/metals.csv')\n",
    "build_df = pd.read_csv('assets/build_material.csv')\n",
    "int_rate_df = pd.read_csv('assets/int_rate.csv')\n",
    "us_house_supply_df = pd.read_excel('assets/HousingSupply.xlsx', sheet_name=\"Manufactured_Annual\")\n",
    "us_house_demand_df = pd.read_excel('assets/HAI.xlsx', sheet_name=\"HAI_Annual\")\n",
    "wake_supply_df = pd.read_csv('assets\\market_hotness_supply_index.csv')\n",
    "wake_demand_df = pd.read_csv('assets\\market_hotness_demand_index.csv')"
   ]
  },
  {
   "cell_type": "markdown",
   "metadata": {},
   "source": [
    "## Mortgage rate"
   ]
  },
  {
   "cell_type": "code",
   "execution_count": null,
   "metadata": {},
   "outputs": [],
   "source": [
    "# Work on the mortgage rate data\n",
    "mort_rate_df.rename(columns={'Unnamed: 0': 'date'}, inplace=True)\n",
    "mort_rate_df['date'] = pd.to_datetime(mort_rate_df['date'])\n",
    "mort_rate_df['date'] = mort_rate_df['date'].dt.strftime('%Y-%m')\n",
    "mort_rate_df.head()"
   ]
  },
  {
   "cell_type": "code",
   "execution_count": null,
   "metadata": {},
   "outputs": [],
   "source": [
    "house_df['Deed_Date'] = pd.to_datetime(house_df['Deed_Date'])\n",
    "house_df['Deed_Date'] = house_df['Deed_Date'].dt.strftime('%Y-%m')\n",
    "house_df.drop(columns=['Unnamed: 0'], inplace=True)\n",
    "house_df"
   ]
  },
  {
   "cell_type": "markdown",
   "metadata": {},
   "source": [
    "### Combine mortgage rate to house price data"
   ]
  },
  {
   "cell_type": "code",
   "execution_count": null,
   "metadata": {},
   "outputs": [],
   "source": [
    "updated_house_df = house_df.merge(mort_rate_df, left_on='Deed_Date', right_on='date', how='left')\n",
    "updated_house_df.rename(columns={'Rate': 'mort_rate'}, inplace=True)\n",
    "updated_house_df.drop(columns=['date'], inplace=True)\n",
    "updated_house_df.columns = map(str.lower, updated_house_df.columns)\n",
    "updated_house_df"
   ]
  },
  {
   "cell_type": "markdown",
   "metadata": {},
   "source": [
    "## Unemployment rate"
   ]
  },
  {
   "cell_type": "code",
   "execution_count": null,
   "metadata": {},
   "outputs": [],
   "source": [
    "unemploy_df['Year'] = unemploy_df['Year'].astype(str)\n",
    "unemploy_df['Month'] = unemploy_df['Month'].astype(str)\n",
    "unemploy_df['date'] = unemploy_df['Year'] + '-' + unemploy_df['Month']\n",
    "unemploy_df['date'] = pd.to_datetime(unemploy_df['date'])\n",
    "unemploy_df['date'] = unemploy_df['date'].dt.strftime('%Y-%m')\n",
    "unemploy_df.rename(columns={'Unemployment Rate(%)': 'unemploy_rate'}, inplace=True)"
   ]
  },
  {
   "cell_type": "markdown",
   "metadata": {},
   "source": [
    "### Combine unemployment rate to house price data"
   ]
  },
  {
   "cell_type": "code",
   "execution_count": null,
   "metadata": {},
   "outputs": [],
   "source": [
    "unemploy_df = unemploy_df[['date', 'unemploy_rate']].copy()\n",
    "updated_house_df = updated_house_df.merge(unemploy_df, left_on='deed_date', right_on='date', how='left')\n",
    "updated_house_df.drop(columns=['date'], inplace=True)\n",
    "# updated_house_df.columns = map(str.lower, updated_house_df.columns)\n",
    "updated_house_df"
   ]
  },
  {
   "cell_type": "markdown",
   "metadata": {},
   "source": [
    "## Population growth\n",
    "### 2000-2010"
   ]
  },
  {
   "cell_type": "code",
   "execution_count": null,
   "metadata": {},
   "outputs": [],
   "source": [
    "pop_growth_df_1 = pop_growth_df_1.loc[pop_growth_df_1['STNAME'] == 'North Carolina']\n",
    "pop_growth_df_1 = pop_growth_df_1.loc[pop_growth_df_1['CTYNAME'] == 'Wake County']\n",
    "pop_growth_df_1.drop(columns=['SUMLEV', 'REGION', 'DIVISION', 'STATE', 'COUNTY', 'STNAME'], inplace=True)"
   ]
  },
  {
   "cell_type": "code",
   "execution_count": null,
   "metadata": {},
   "outputs": [],
   "source": [
    "pop_growth_df_1['rate_2001'] = (pop_growth_df_1['POPESTIMATE2001'] - pop_growth_df_1['POPESTIMATE2000']) / pop_growth_df_1['POPESTIMATE2000']\n",
    "pop_growth_df_1['rate_2002'] = (pop_growth_df_1['POPESTIMATE2002'] - pop_growth_df_1['POPESTIMATE2001']) / pop_growth_df_1['POPESTIMATE2001']\n",
    "pop_growth_df_1['rate_2003'] = (pop_growth_df_1['POPESTIMATE2003'] - pop_growth_df_1['POPESTIMATE2002']) / pop_growth_df_1['POPESTIMATE2002']\n",
    "pop_growth_df_1['rate_2004'] = (pop_growth_df_1['POPESTIMATE2004'] - pop_growth_df_1['POPESTIMATE2003']) / pop_growth_df_1['POPESTIMATE2003']\n",
    "pop_growth_df_1['rate_2005'] = (pop_growth_df_1['POPESTIMATE2005'] - pop_growth_df_1['POPESTIMATE2004']) / pop_growth_df_1['POPESTIMATE2004']\n",
    "pop_growth_df_1['rate_2006'] = (pop_growth_df_1['POPESTIMATE2006'] - pop_growth_df_1['POPESTIMATE2005']) / pop_growth_df_1['POPESTIMATE2005']\n",
    "pop_growth_df_1['rate_2007'] = (pop_growth_df_1['POPESTIMATE2007'] - pop_growth_df_1['POPESTIMATE2006']) / pop_growth_df_1['POPESTIMATE2006']\n",
    "pop_growth_df_1['rate_2008'] = (pop_growth_df_1['POPESTIMATE2008'] - pop_growth_df_1['POPESTIMATE2007']) / pop_growth_df_1['POPESTIMATE2007']\n",
    "pop_growth_df_1['rate_2009'] = (pop_growth_df_1['POPESTIMATE2009'] - pop_growth_df_1['POPESTIMATE2008']) / pop_growth_df_1['POPESTIMATE2008']\n",
    "pop_growth_df_1['rate_2010'] = (pop_growth_df_1['POPESTIMATE2010'] - pop_growth_df_1['POPESTIMATE2009']) / pop_growth_df_1['POPESTIMATE2009']"
   ]
  },
  {
   "cell_type": "code",
   "execution_count": null,
   "metadata": {},
   "outputs": [],
   "source": [
    "pop_growth_df_1.drop(columns=['ESTIMATESBASE2000', 'CENSUS2010POP', 'POPESTIMATE2000', 'POPESTIMATE2001', 'POPESTIMATE2002', 'POPESTIMATE2003', 'POPESTIMATE2004', 'POPESTIMATE2005', 'POPESTIMATE2006', 'POPESTIMATE2007', 'POPESTIMATE2008', 'POPESTIMATE2009', 'POPESTIMATE2010'], inplace=True)\n",
    "pop_growth_df_1.set_index('CTYNAME', inplace=True)\n",
    "pop_growth_df_1.head()"
   ]
  },
  {
   "cell_type": "markdown",
   "metadata": {},
   "source": [
    "### 2011-2020"
   ]
  },
  {
   "cell_type": "code",
   "execution_count": null,
   "metadata": {},
   "outputs": [],
   "source": [
    "pop_growth_df_2 = pop_growth_df_2.loc[pop_growth_df_2['STNAME'] == 'North Carolina']\n",
    "pop_growth_df_2 = pop_growth_df_2.loc[pop_growth_df_2['CTYNAME'] == 'Wake County']\n",
    "pop_growth_df_2.drop(columns=['SUMLEV', 'REGION', 'DIVISION', 'STATE', 'COUNTY', 'STNAME'], inplace=True)"
   ]
  },
  {
   "cell_type": "code",
   "execution_count": null,
   "metadata": {},
   "outputs": [],
   "source": [
    "pop_growth_df_2['rate_2011'] = (pop_growth_df_2['POPESTIMATE2011'] - pop_growth_df_2['POPESTIMATE2010']) / pop_growth_df_2['POPESTIMATE2010']\n",
    "pop_growth_df_2['rate_2012'] = (pop_growth_df_2['POPESTIMATE2012'] - pop_growth_df_2['POPESTIMATE2011']) / pop_growth_df_2['POPESTIMATE2011']\n",
    "pop_growth_df_2['rate_2013'] = (pop_growth_df_2['POPESTIMATE2013'] - pop_growth_df_2['POPESTIMATE2012']) / pop_growth_df_2['POPESTIMATE2012']\n",
    "pop_growth_df_2['rate_2014'] = (pop_growth_df_2['POPESTIMATE2014'] - pop_growth_df_2['POPESTIMATE2013']) / pop_growth_df_2['POPESTIMATE2013']\n",
    "pop_growth_df_2['rate_2015'] = (pop_growth_df_2['POPESTIMATE2015'] - pop_growth_df_2['POPESTIMATE2014']) / pop_growth_df_2['POPESTIMATE2014']\n",
    "pop_growth_df_2['rate_2016'] = (pop_growth_df_2['POPESTIMATE2016'] - pop_growth_df_2['POPESTIMATE2015']) / pop_growth_df_2['POPESTIMATE2015']\n",
    "pop_growth_df_2['rate_2017'] = (pop_growth_df_2['POPESTIMATE2017'] - pop_growth_df_2['POPESTIMATE2016']) / pop_growth_df_2['POPESTIMATE2016']\n",
    "pop_growth_df_2['rate_2018'] = (pop_growth_df_2['POPESTIMATE2018'] - pop_growth_df_2['POPESTIMATE2017']) / pop_growth_df_2['POPESTIMATE2017']\n",
    "pop_growth_df_2['rate_2019'] = (pop_growth_df_2['POPESTIMATE2019'] - pop_growth_df_2['POPESTIMATE2018']) / pop_growth_df_2['POPESTIMATE2018']\n",
    "pop_growth_df_2['rate_2020'] = (pop_growth_df_2['POPESTIMATE2020'] - pop_growth_df_2['POPESTIMATE2019']) / pop_growth_df_2['POPESTIMATE2020']\n"
   ]
  },
  {
   "cell_type": "code",
   "execution_count": null,
   "metadata": {},
   "outputs": [],
   "source": [
    "pop_growth_df_2 = pop_growth_df_2[['CTYNAME', 'rate_2011', 'rate_2012', 'rate_2013', 'rate_2014', 'rate_2015', 'rate_2016', 'rate_2017', 'rate_2018', 'rate_2019', 'rate_2020']]\n",
    "pop_growth_df_2.set_index('CTYNAME', inplace=True)\n",
    "pop_growth_df_2.head()"
   ]
  },
  {
   "cell_type": "markdown",
   "metadata": {},
   "source": [
    "### 2021"
   ]
  },
  {
   "cell_type": "code",
   "execution_count": null,
   "metadata": {},
   "outputs": [],
   "source": [
    "pop_growth_df_3 = pop_growth_df_3.loc[pop_growth_df_3['STNAME'] == 'North Carolina']\n",
    "pop_growth_df_3 = pop_growth_df_3.loc[pop_growth_df_3['CTYNAME'] == 'Wake County']\n",
    "pop_growth_df_3.drop(columns=['SUMLEV', 'REGION', 'DIVISION', 'STATE', 'COUNTY', 'STNAME'], inplace=True)"
   ]
  },
  {
   "cell_type": "code",
   "execution_count": null,
   "metadata": {},
   "outputs": [],
   "source": [
    "pop_growth_df_3['rate_2021'] = (pop_growth_df_3['POPESTIMATE2021'] - pop_growth_df_3['POPESTIMATE2020']) / pop_growth_df_3['POPESTIMATE2020']\n",
    "pop_growth_df_3 = pop_growth_df_3[['CTYNAME', 'rate_2021']].copy()\n",
    "pop_growth_df_3.set_index('CTYNAME', inplace=True)\n",
    "\n",
    "pop_growth_df_3.head()\n"
   ]
  },
  {
   "cell_type": "markdown",
   "metadata": {},
   "source": [
    "#### Combine all population growth datasets together"
   ]
  },
  {
   "cell_type": "code",
   "execution_count": null,
   "metadata": {},
   "outputs": [],
   "source": [
    "pop_growth_df = pd.concat([pop_growth_df_1, pop_growth_df_2, pop_growth_df_3], axis=1)\n",
    "pop_growth_df.head()"
   ]
  },
  {
   "cell_type": "code",
   "execution_count": null,
   "metadata": {},
   "outputs": [],
   "source": [
    "final_pop_growth = pop_growth_df.transpose()\n",
    "final_pop_growth.reset_index(inplace=True)\n",
    "final_pop_growth.rename(columns={'index':'year', 'Wake County':'pop_growth_rate'}, inplace=True)\n",
    "final_pop_growth['year'] = final_pop_growth['year'].str.split('_').str[1]\n",
    "final_pop_growth['year'] = pd.to_datetime(final_pop_growth['year'], format='%Y')\n",
    "final_pop_growth['year'] = final_pop_growth['year'].dt.strftime('%Y')\n",
    "\n",
    "final_pop_growth.rename_axis(None, axis=1, inplace=True)\n",
    "final_pop_growth.head()"
   ]
  },
  {
   "cell_type": "code",
   "execution_count": null,
   "metadata": {},
   "outputs": [],
   "source": [
    "updated_house_df['year'] = pd.to_datetime(updated_house_df['deed_date']).dt.year\n",
    "updated_house_df['year'] = updated_house_df['year'].astype(str)\n",
    "updated_house_df = updated_house_df.merge(final_pop_growth, left_on='year', right_on='year', how='left')\n",
    "updated_house_df.drop(columns=['year'], inplace=True)\n",
    "updated_house_df"
   ]
  },
  {
   "cell_type": "markdown",
   "metadata": {},
   "source": [
    "## COVID data"
   ]
  },
  {
   "cell_type": "code",
   "execution_count": null,
   "metadata": {},
   "outputs": [],
   "source": [
    "nc_covid = covid_df.loc[covid_df['State'] == 'NC']\n",
    "# nc_covid.head()\n",
    "wake_covid = nc_covid.loc[nc_covid['County Name'] == 'Wake County ']\n",
    "wake_covid.drop(columns=['countyFIPS', 'StateFIPS', 'State', 'County Name'], inplace=True)\n",
    "wake_covid.reset_index(drop=True, inplace=True)\n",
    "wake_covid.head()"
   ]
  },
  {
   "cell_type": "code",
   "execution_count": null,
   "metadata": {},
   "outputs": [],
   "source": [
    "final_wake_covid = wake_covid.transpose()\n",
    "final_wake_covid.reset_index(inplace=True)\n",
    "final_wake_covid.rename(columns={'index':'date', 0:'covid_cases'}, inplace=True)\n",
    "final_wake_covid['date'] = pd.to_datetime(final_wake_covid['date'])\n",
    "final_wake_covid['date'] = final_wake_covid['date'].dt.strftime('%Y-%m')\n",
    "final_wake_covid\n"
   ]
  },
  {
   "cell_type": "code",
   "execution_count": null,
   "metadata": {},
   "outputs": [],
   "source": [
    "updated_house_df = updated_house_df.merge(final_wake_covid, left_on='deed_date', right_on='date', how='left')\n",
    "updated_house_df.drop(columns=['date'], inplace=True)\n",
    "\n",
    "updated_house_df['is_covid'] = 0\n",
    "updated_house_df['deed_date'] = pd.to_datetime(updated_house_df['deed_date'])\n",
    "# updated_house_df.info()\n",
    "covid_house_df = updated_house_df.loc[updated_house_df['deed_date'] >= '2020-03-01']\n",
    "covid_house_df['is_covid'] = 1\n",
    "uncovid_house_df = updated_house_df.loc[updated_house_df['deed_date'] < '2020-03-01']\n",
    "uncovid_house_df['is_covid'] = 0\n",
    "updated_house_df = pd.concat([covid_house_df, uncovid_house_df], axis=0)\n",
    "updated_house_df.reset_index(drop=True, inplace=True)\n",
    "updated_house_df\n"
   ]
  },
  {
   "cell_type": "markdown",
   "metadata": {},
   "source": [
    "## Raw materials data\n",
    "### Lumber"
   ]
  },
  {
   "cell_type": "code",
   "execution_count": null,
   "metadata": {},
   "outputs": [],
   "source": [
    "lumber_df.rename(columns={'DATE':'date', 'WPU081':'lumber_price'}, inplace=True)\n",
    "lumber_df['date'] = pd.to_datetime(lumber_df['date'])\n",
    "lumber_df['date'] = lumber_df['date'].dt.strftime('%Y-%m')\n",
    "lumber_df = lumber_df[lumber_df['date'] >= '2000-01']\n",
    "lumber_df.reset_index(drop=True, inplace=True)\n",
    "lumber_df.head()"
   ]
  },
  {
   "cell_type": "markdown",
   "metadata": {},
   "source": [
    "### Metals"
   ]
  },
  {
   "cell_type": "code",
   "execution_count": null,
   "metadata": {},
   "outputs": [],
   "source": [
    "metals_df.rename(columns={'DATE':'date', 'WPU101':'metals_price'}, inplace=True)\n",
    "metals_df['date'] = pd.to_datetime(metals_df['date'])\n",
    "metals_df['date'] = metals_df['date'].dt.strftime('%Y-%m')\n",
    "metals_df = metals_df[metals_df['date'] >= '2000-01']\n",
    "metals_df.reset_index(drop=True, inplace=True)\n",
    "metals_df.head()"
   ]
  },
  {
   "cell_type": "markdown",
   "metadata": {},
   "source": [
    "### Build materials"
   ]
  },
  {
   "cell_type": "code",
   "execution_count": null,
   "metadata": {},
   "outputs": [],
   "source": [
    "build_df.rename(columns={'DATE':'date', 'PCU44414441':'build_price'}, inplace=True)\n",
    "build_df['date'] = pd.to_datetime(build_df['date'])\n",
    "build_df['date'] = build_df['date'].dt.strftime('%Y-%m')\n",
    "build_df = build_df[build_df['date'] >= '2000-01']\n",
    "build_df.reset_index(drop=True, inplace=True)\n",
    "build_df.head()"
   ]
  },
  {
   "cell_type": "markdown",
   "metadata": {},
   "source": [
    "### Combine all together"
   ]
  },
  {
   "cell_type": "code",
   "execution_count": null,
   "metadata": {},
   "outputs": [],
   "source": [
    "lumber_metals_df = lumber_df.merge(metals_df, left_on='date', right_on='date', how='left')\n",
    "\n",
    "final_material_df = lumber_metals_df.merge(build_df, left_on='date', right_on='date', how='left')\n",
    "final_material_df.fillna(0, inplace=True)\n",
    "final_material_df.head()"
   ]
  },
  {
   "cell_type": "markdown",
   "metadata": {},
   "source": [
    "### Combine raw material data to house data"
   ]
  },
  {
   "cell_type": "code",
   "execution_count": null,
   "metadata": {},
   "outputs": [],
   "source": [
    "final_material_df['date'] = pd.to_datetime(final_material_df['date'])\n",
    "updated_house_df = updated_house_df.merge(final_material_df, left_on='deed_date', right_on='date', how='left')\n",
    "updated_house_df.drop(columns=['date'], inplace=True)\n",
    "updated_house_df.head()"
   ]
  },
  {
   "cell_type": "markdown",
   "metadata": {},
   "source": [
    "## Interest rate data"
   ]
  },
  {
   "cell_type": "code",
   "execution_count": null,
   "metadata": {},
   "outputs": [],
   "source": [
    "int_rate_df.drop(labels=[0,1,2], axis=0, inplace=True)\n",
    "int_rate_df.columns = int_rate_df.iloc[0]\n",
    "int_rate_df.drop(labels=[3], axis=0, inplace=True)\n",
    "int_rate_df.reset_index(drop=True, inplace=True)"
   ]
  },
  {
   "cell_type": "code",
   "execution_count": null,
   "metadata": {},
   "outputs": [],
   "source": [
    "us_int_rate_df = int_rate_df.loc[int_rate_df['Country Code'] == 'USA']\n",
    "us_int_rate_df.drop(columns=['Country Name', 'Indicator Name', 'Indicator Code'], inplace=True)\n",
    "us_int_rate_df.reset_index(drop=True, inplace=True)"
   ]
  },
  {
   "cell_type": "code",
   "execution_count": null,
   "metadata": {},
   "outputs": [],
   "source": [
    "us_int_rate_df = us_int_rate_df.transpose()\n",
    "new_header = us_int_rate_df.iloc[0] #grab the first row for the header\n",
    "us_int_rate_df = us_int_rate_df[1:] #take the data less the header row\n",
    "us_int_rate_df.columns = new_header #set the header row as the df header\n",
    "us_int_rate_df.reset_index(inplace=True)"
   ]
  },
  {
   "cell_type": "code",
   "execution_count": null,
   "metadata": {},
   "outputs": [],
   "source": [
    "us_int_rate_df.rename(columns={3:'date', 'USA':'int_rate'}, inplace=True)\n",
    "us_int_rate_df['date'] = us_int_rate_df['date'].astype(str)\n",
    "us_int_rate_df['year'] = us_int_rate_df['date'].str.split('.',0).str[0]\n",
    "us_int_rate_df['year'] = pd.to_datetime(us_int_rate_df['year'])\n",
    "us_int_rate_df['year'] = us_int_rate_df['year'].dt.strftime('%Y-%m')\n",
    "us_int_rate_df.drop(columns=['date'], inplace=True)\n",
    "us_int_rate_df = us_int_rate_df.rename_axis(None, axis=1)"
   ]
  },
  {
   "cell_type": "code",
   "execution_count": null,
   "metadata": {},
   "outputs": [],
   "source": [
    "us_int_rate_final = us_int_rate_df.loc[us_int_rate_df['year'] >= '2000-01']\n",
    "us_int_rate_final['year'] = pd.to_datetime(us_int_rate_final['year'])\n",
    "\n",
    "us_int_rate_final.head()"
   ]
  },
  {
   "cell_type": "code",
   "execution_count": null,
   "metadata": {},
   "outputs": [],
   "source": [
    "# uncomment the below to save the dataframes to csv files\n",
    "us_int_rate_final.to_csv('assets/us_int_rate.csv')"
   ]
  },
  {
   "cell_type": "markdown",
   "metadata": {},
   "source": [
    "### Combine interest rate to dataset"
   ]
  },
  {
   "cell_type": "code",
   "execution_count": null,
   "metadata": {},
   "outputs": [],
   "source": [
    "updated_house_df['year'] = updated_house_df['deed_date'].dt.strftime('%Y')\n",
    "updated_house_df['year'] = pd.to_datetime(updated_house_df['year'])\n",
    "updated_house_df = updated_house_df.merge(us_int_rate_final, left_on='year', right_on='year', how='left')\n",
    "updated_house_df.drop(columns=['year'], inplace=True)\n",
    "updated_house_df.head()"
   ]
  },
  {
   "cell_type": "markdown",
   "metadata": {},
   "source": [
    "## House demand and supply data\n",
    "### US House demand and supply"
   ]
  },
  {
   "cell_type": "markdown",
   "metadata": {},
   "source": [
    "#### US house supply data"
   ]
  },
  {
   "cell_type": "code",
   "execution_count": null,
   "metadata": {},
   "outputs": [],
   "source": [
    "us_house_supply_df.drop(columns=['DealInvt_US'], inplace=True)\n",
    "us_house_supply_df.rename(columns={'Year':'date', 'Shipments_US': 'manufactured_house_number'}, inplace=True)\n",
    "us_house_supply_df['date'] = us_house_supply_df['date'].astype(str)\n",
    "us_house_supply_df['date'] = pd.to_datetime(us_house_supply_df['date'])\n",
    "us_house_supply_df['date'] = us_house_supply_df['date'].dt.strftime('%Y-%m')\n",
    "us_house_supply_df = us_house_supply_df[us_house_supply_df['date'] >= '2000-01']\n",
    "us_house_supply_df.reset_index(drop=True, inplace=True)\n",
    "us_house_supply_df.head()\n"
   ]
  },
  {
   "cell_type": "markdown",
   "metadata": {},
   "source": [
    "#### US house demand data \n",
    "House affordability index"
   ]
  },
  {
   "cell_type": "code",
   "execution_count": null,
   "metadata": {},
   "outputs": [],
   "source": [
    "us_house_demand_df = us_house_demand_df[['Year', 'FIXED_US']]\n",
    "us_house_demand_df.rename(columns={'Year':'date', 'FIXED_US': 'hai'}, inplace=True)\n",
    "# us_house_demand_df.info()\n",
    "us_house_demand_df['date'] = us_house_demand_df['date'].astype(str)\n",
    "us_house_demand_df['date'] = pd.to_datetime(us_house_demand_df['date'])\n",
    "us_house_demand_df['date'] = us_house_demand_df['date'].dt.strftime('%Y-%m')\n",
    "us_house_demand_df = us_house_demand_df[us_house_demand_df['date'] >= '2000-01']\n",
    "us_house_demand_df.reset_index(drop=True, inplace=True)\n",
    "us_house_demand_df.head()"
   ]
  },
  {
   "cell_type": "markdown",
   "metadata": {},
   "source": [
    "#### Combine US house supply and demand datasets"
   ]
  },
  {
   "cell_type": "code",
   "execution_count": null,
   "metadata": {},
   "outputs": [],
   "source": [
    "us_house_supply_demand_df = us_house_supply_df.merge(us_house_demand_df, left_on='date', right_on='date', how='left')\n",
    "us_house_supply_demand_df.sort_values(by='date', inplace=True)\n",
    "us_house_supply_demand_df = pd.DataFrame(np.repeat(us_house_supply_demand_df.values, 12, axis=0))\n",
    "us_house_supply_demand_df.rename(columns={0:'date', 1:'manufactured_house_number', 2:'hai'}, inplace=True)\n",
    "\n",
    "date_df = pd.DataFrame({'date': pd.date_range(start='2000-01-01', end='2021-12-31', freq='MS')})\n",
    "us_house_supply_demand_df['new_date'] = date_df['date'].dt.strftime('%Y-%m')\n",
    "us_house_supply_demand_df.drop(columns=['date'], inplace=True)\n",
    "us_house_supply_demand_df.rename(columns={'new_date':'date'}, inplace=True)\n",
    "final_us_house_supply_demand = us_house_supply_demand_df[['date', 'manufactured_house_number', 'hai']].copy()\n",
    "final_us_house_supply_demand"
   ]
  },
  {
   "cell_type": "markdown",
   "metadata": {},
   "source": [
    "### Wake Market Hotness\n",
    "Wake market hotness only contains data after 2017\n",
    "#### Wake supply"
   ]
  },
  {
   "cell_type": "code",
   "execution_count": null,
   "metadata": {},
   "outputs": [],
   "source": [
    "wake_supply_df.rename(columns={'DATE':'date', 'SUSCCOUNTY37183':'wake_supply_index'}, inplace=True)\n",
    "wake_supply_df['date'] = pd.to_datetime(wake_supply_df['date'])\n",
    "wake_supply_df['date'] = wake_supply_df['date'].dt.strftime('%Y-%m')\n",
    "wake_supply_df.reset_index(drop=True, inplace=True)\n",
    "wake_supply_df.head()"
   ]
  },
  {
   "cell_type": "markdown",
   "metadata": {},
   "source": [
    "#### Wake demand"
   ]
  },
  {
   "cell_type": "code",
   "execution_count": null,
   "metadata": {},
   "outputs": [],
   "source": [
    "wake_demand_df.rename(columns={'DATE':'date', 'DESCCOUNTY37183':'wake_demand_index'}, inplace=True)\n",
    "wake_demand_df['date'] = pd.to_datetime(wake_demand_df['date'])\n",
    "wake_demand_df['date'] = wake_demand_df['date'].dt.strftime('%Y-%m')\n",
    "wake_demand_df.reset_index(drop=True, inplace=True)\n",
    "wake_demand_df.head()"
   ]
  },
  {
   "cell_type": "markdown",
   "metadata": {},
   "source": [
    "#### Combine wake supply and demand data"
   ]
  },
  {
   "cell_type": "code",
   "execution_count": null,
   "metadata": {},
   "outputs": [],
   "source": [
    "wake_house_supply_demand_df = wake_supply_df.merge(wake_demand_df, left_on='date', right_on='date', how='left')\n",
    "wake_house_supply_demand_df.head()\n"
   ]
  },
  {
   "cell_type": "markdown",
   "metadata": {},
   "source": [
    "## Crime data in Wake, NC"
   ]
  },
  {
   "cell_type": "code",
   "execution_count": 117,
   "metadata": {},
   "outputs": [],
   "source": [
    "# Read in the crime data\n",
    "angier = pd.read_csv('assets/crime_rate/angier.csv')\n",
    "angier = angier.transpose()\n",
    "angier.reset_index(inplace=True)\n",
    "\n",
    "angier.drop(labels=[0], axis=0, inplace=True)\n",
    "angier.rename(columns={'index':'year', 0:'angier'}, inplace=True)\n",
    "angier.drop(labels=[1], axis=1, inplace=True)\n",
    "# fille out missed value for 2000, 2001, 2019 and 2020\n",
    "angier = angier.append({'year':2000, 'angier':angier.iloc[0:4, 1].median()}, ignore_index=True)\n",
    "angier = angier.append({'year':2001, 'angier':angier.iloc[1:5, 1].median()}, ignore_index=True)\n",
    "angier = angier.append({'year':2019, 'angier':angier.iloc[13:17, 1].median()}, ignore_index=True)\n",
    "angier = angier.append({'year':2020, 'angier':angier.iloc[14:18, 1].median()}, ignore_index=True)\n",
    "angier['year'] = angier['year'].astype(int)\n",
    "angier['angier'] = angier['angier'].astype(int)\n",
    "angier.sort_values(by='year', inplace=True)\n",
    "angier.reset_index(inplace=True, drop=True)\n",
    "# angier"
   ]
  },
  {
   "cell_type": "code",
   "execution_count": 118,
   "metadata": {},
   "outputs": [],
   "source": [
    "# Read in the crime data\n",
    "apex = pd.read_csv('assets/crime_rate/apex.csv')\n",
    "apex = apex.transpose()\n",
    "apex.reset_index(inplace=True)\n",
    "\n",
    "apex.drop(labels=[0], axis=0, inplace=True)\n",
    "apex.rename(columns={'index':'year', 0:'apex'}, inplace=True)\n",
    "apex.drop(labels=[1], axis=1, inplace=True)\n",
    "# fille out missed value for 2007\n",
    "apex = apex.append({'year':2007, 'apex':apex.iloc[0:7, 1].median()}, ignore_index=True)\n",
    "apex['year'] = apex['year'].astype(int)\n",
    "apex['apex'] = apex['apex'].astype(int)\n",
    "apex = apex.sort_values(by='year')\n",
    "apex.reset_index(inplace=True, drop=True)\n",
    "# apex"
   ]
  },
  {
   "cell_type": "code",
   "execution_count": 119,
   "metadata": {},
   "outputs": [],
   "source": [
    "# Read in the crime data\n",
    "cary = pd.read_csv('assets/crime_rate/cary.csv')\n",
    "cary = cary.transpose()\n",
    "cary.reset_index(inplace=True)\n",
    "\n",
    "cary.drop(labels=[0], axis=0, inplace=True)\n",
    "cary.rename(columns={'index':'year', 0:'cary'}, inplace=True)\n",
    "cary.drop(labels=[1], axis=1, inplace=True)\n",
    "cary['year'] = cary['year'].astype(int)\n",
    "cary['cary'] = cary['cary'].astype(int)\n",
    "cary.reset_index(inplace=True, drop=True)\n",
    "# cary"
   ]
  },
  {
   "cell_type": "code",
   "execution_count": 120,
   "metadata": {},
   "outputs": [],
   "source": [
    "# Read in the crime data\n",
    "fuquay_varina = pd.read_csv('assets/crime_rate/fuquay_varina.csv')\n",
    "fuquay_varina = fuquay_varina.transpose()\n",
    "fuquay_varina.reset_index(inplace=True)\n",
    "\n",
    "fuquay_varina.drop(labels=[0], axis=0, inplace=True)\n",
    "fuquay_varina.rename(columns={'index':'year', 0:'fuquay_varina'}, inplace=True)\n",
    "fuquay_varina.drop(labels=[1], axis=1, inplace=True)\n",
    "fuquay_varina['year'] = fuquay_varina['year'].astype(int)\n",
    "fuquay_varina['fuquay_varina'] = fuquay_varina['fuquay_varina'].astype(int)\n",
    "fuquay_varina.reset_index(inplace=True, drop=True)\n",
    "# fuquay_varina"
   ]
  },
  {
   "cell_type": "code",
   "execution_count": 121,
   "metadata": {},
   "outputs": [],
   "source": [
    "# Read in the crime data\n",
    "garner = pd.read_csv('assets/crime_rate/garner.csv')\n",
    "garner = garner.transpose()\n",
    "garner.reset_index(inplace=True)\n",
    "\n",
    "garner.drop(labels=[0], axis=0, inplace=True)\n",
    "garner.rename(columns={'index':'year', 0:'garner'}, inplace=True)\n",
    "garner.drop(labels=[1], axis=1, inplace=True)\n",
    "garner['year'] = garner['year'].astype(int)\n",
    "garner['garner'] = garner['garner'].astype(int)\n",
    "garner.reset_index(inplace=True, drop=True)\n",
    "# garner"
   ]
  },
  {
   "cell_type": "code",
   "execution_count": 122,
   "metadata": {},
   "outputs": [],
   "source": [
    "# Read in the crime data\n",
    "knightdale = pd.read_csv('assets/crime_rate/knightdale.csv')\n",
    "knightdale = knightdale.transpose()\n",
    "knightdale.reset_index(inplace=True)\n",
    "\n",
    "knightdale.drop(labels=[0], axis=0, inplace=True)\n",
    "knightdale.rename(columns={'index':'year', 0:'knightdale'}, inplace=True)\n",
    "knightdale.drop(labels=[1], axis=1, inplace=True)\n",
    "# fille out missed value for 2002 and 2003\n",
    "knightdale = knightdale.append({'year':2002, 'knightdale':knightdale.iloc[0:4, 1].median()}, ignore_index=True)\n",
    "knightdale = knightdale.append({'year':2003, 'knightdale':knightdale.iloc[1:5, 1].median()}, ignore_index=True)\n",
    "knightdale['year'] = knightdale['year'].astype(int)\n",
    "knightdale['knightdale'] = knightdale['knightdale'].astype(int)\n",
    "knightdale = knightdale.sort_values(by='year')\n",
    "knightdale.reset_index(inplace=True, drop=True)\n",
    "# knightdale"
   ]
  },
  {
   "cell_type": "code",
   "execution_count": 123,
   "metadata": {},
   "outputs": [],
   "source": [
    "# Read in the crime data\n",
    "morrisville = pd.read_csv('assets/crime_rate/morrisville.csv')\n",
    "morrisville = morrisville.transpose()\n",
    "morrisville.reset_index(inplace=True)\n",
    "\n",
    "morrisville.drop(labels=[0], axis=0, inplace=True)\n",
    "morrisville.rename(columns={'index':'year', 0:'morrisville'}, inplace=True)\n",
    "morrisville.drop(labels=[1], axis=1, inplace=True)\n",
    "morrisville['year'] = morrisville['year'].astype(int)\n",
    "morrisville['morrisville'] = morrisville['morrisville'].astype(int)\n",
    "# morrisville"
   ]
  },
  {
   "cell_type": "code",
   "execution_count": 124,
   "metadata": {},
   "outputs": [],
   "source": [
    "# Read in the crime data\n",
    "hollyspring = pd.read_csv('assets/crime_rate/hollyspring.csv')\n",
    "hollyspring = hollyspring.transpose()\n",
    "hollyspring.reset_index(inplace=True)\n",
    "\n",
    "hollyspring.drop(labels=[0], axis=0, inplace=True)\n",
    "hollyspring.rename(columns={'index':'year', 0:'hollyspring'}, inplace=True)\n",
    "hollyspring.drop(labels=[1], axis=1, inplace=True)\n",
    "# fille out missed value for 2008\n",
    "hollyspring = hollyspring.append({'year':2008, 'hollyspring':hollyspring.iloc[6:10, 1].median()}, ignore_index=True)\n",
    "hollyspring['year'] = hollyspring['year'].astype(int)\n",
    "hollyspring['hollyspring'] = hollyspring['hollyspring'].astype(int)\n",
    "hollyspring = hollyspring.sort_values(by='year')\n",
    "hollyspring.reset_index(inplace=True, drop=True)\n",
    "# hollyspring"
   ]
  },
  {
   "cell_type": "code",
   "execution_count": 125,
   "metadata": {},
   "outputs": [],
   "source": [
    "# Read in the crime data\n",
    "raleigh = pd.read_csv('assets/crime_rate/raleigh.csv')\n",
    "raleigh = raleigh.transpose()\n",
    "raleigh.reset_index(inplace=True)\n",
    "\n",
    "raleigh.drop(labels=[0], axis=0, inplace=True)\n",
    "raleigh.rename(columns={'index':'year', 0:'raleigh'}, inplace=True)\n",
    "raleigh.drop(labels=[1], axis=1, inplace=True)\n",
    "# fille out missed value for 2015 2016 and 2017\n",
    "raleigh = raleigh.append({'year':2015, 'raleigh':raleigh.iloc[12:15, 1].median()}, ignore_index=True)\n",
    "raleigh = raleigh.append({'year':2016, 'raleigh':raleigh.iloc[13:16, 1].median()}, ignore_index=True)\n",
    "raleigh = raleigh.append({'year':2017, 'raleigh':raleigh.iloc[14:17, 1].median()}, ignore_index=True)\n",
    "\n",
    "raleigh['year'] = raleigh['year'].astype(int)\n",
    "raleigh['raleigh'] = raleigh['raleigh'].astype(int)\n",
    "raleigh = raleigh.sort_values(by='year')\n",
    "raleigh.reset_index(inplace=True, drop=True)\n",
    "# raleigh"
   ]
  },
  {
   "cell_type": "code",
   "execution_count": 126,
   "metadata": {},
   "outputs": [],
   "source": [
    "# Read in the crime data\n",
    "rolesville = pd.read_csv('assets/crime_rate/rolesville.csv')\n",
    "rolesville = rolesville.transpose()\n",
    "rolesville.reset_index(inplace=True)\n",
    "\n",
    "rolesville.drop(labels=[0], axis=0, inplace=True)\n",
    "rolesville.rename(columns={'index':'year', 0:'rolesville'}, inplace=True)\n",
    "rolesville.drop(labels=[1], axis=1, inplace=True)\n",
    "# fille out missed value for 2006\n",
    "rolesville = rolesville.append({'year':2006, 'rolesville':rolesville.iloc[4:8, 1].median()}, ignore_index=True)\n",
    "rolesville['year'] = rolesville['year'].astype(int)\n",
    "rolesville['rolesville'] = rolesville['rolesville'].astype(int)\n",
    "rolesville = rolesville.sort_values(by='year')\n",
    "rolesville.reset_index(inplace=True, drop=True)\n",
    "# rolesville"
   ]
  },
  {
   "cell_type": "code",
   "execution_count": 127,
   "metadata": {},
   "outputs": [],
   "source": [
    "# Read in the crime data\n",
    "wake_forest = pd.read_csv('assets/crime_rate/wake_forest.csv')\n",
    "wake_forest = wake_forest.transpose()\n",
    "wake_forest.reset_index(inplace=True)\n",
    "\n",
    "wake_forest.drop(labels=[0], axis=0, inplace=True)\n",
    "wake_forest.rename(columns={'index':'year', 0:'wake_forest'}, inplace=True)\n",
    "wake_forest.drop(labels=[1], axis=1, inplace=True)\n",
    "# fille out missed value for 2000\n",
    "wake_forest = wake_forest.append({'year':2000, 'wake_forest':wake_forest.iloc[0:4, 1].median()}, ignore_index=True)\n",
    "wake_forest['year'] = wake_forest['year'].astype(int)\n",
    "wake_forest['wake_forest'] = wake_forest['wake_forest'].astype(int)\n",
    "wake_forest = wake_forest.sort_values(by='year')\n",
    "wake_forest.reset_index(inplace=True, drop=True)\n",
    "# wake_forest"
   ]
  },
  {
   "cell_type": "code",
   "execution_count": 128,
   "metadata": {},
   "outputs": [
    {
     "data": {
      "text/html": [
       "<div>\n",
       "<style scoped>\n",
       "    .dataframe tbody tr th:only-of-type {\n",
       "        vertical-align: middle;\n",
       "    }\n",
       "\n",
       "    .dataframe tbody tr th {\n",
       "        vertical-align: top;\n",
       "    }\n",
       "\n",
       "    .dataframe thead th {\n",
       "        text-align: right;\n",
       "    }\n",
       "</style>\n",
       "<table border=\"1\" class=\"dataframe\">\n",
       "  <thead>\n",
       "    <tr style=\"text-align: right;\">\n",
       "      <th></th>\n",
       "      <th>year</th>\n",
       "      <th>angier</th>\n",
       "      <th>apex</th>\n",
       "      <th>cary</th>\n",
       "      <th>fuquay_varina</th>\n",
       "      <th>garner</th>\n",
       "      <th>knightdale</th>\n",
       "      <th>morrisville</th>\n",
       "      <th>hollyspring</th>\n",
       "      <th>raleigh</th>\n",
       "      <th>rolesville</th>\n",
       "      <th>wake_forest</th>\n",
       "    </tr>\n",
       "  </thead>\n",
       "  <tbody>\n",
       "    <tr>\n",
       "      <th>0</th>\n",
       "      <td>2000</td>\n",
       "      <td>29</td>\n",
       "      <td>50</td>\n",
       "      <td>78</td>\n",
       "      <td>0</td>\n",
       "      <td>64</td>\n",
       "      <td>20</td>\n",
       "      <td>7</td>\n",
       "      <td>6</td>\n",
       "      <td>2049</td>\n",
       "      <td>0</td>\n",
       "      <td>35</td>\n",
       "    </tr>\n",
       "    <tr>\n",
       "      <th>1</th>\n",
       "      <td>2001</td>\n",
       "      <td>25</td>\n",
       "      <td>62</td>\n",
       "      <td>108</td>\n",
       "      <td>44</td>\n",
       "      <td>85</td>\n",
       "      <td>12</td>\n",
       "      <td>14</td>\n",
       "      <td>11</td>\n",
       "      <td>2187</td>\n",
       "      <td>2</td>\n",
       "      <td>37</td>\n",
       "    </tr>\n",
       "    <tr>\n",
       "      <th>2</th>\n",
       "      <td>2002</td>\n",
       "      <td>44</td>\n",
       "      <td>41</td>\n",
       "      <td>112</td>\n",
       "      <td>40</td>\n",
       "      <td>79</td>\n",
       "      <td>18</td>\n",
       "      <td>9</td>\n",
       "      <td>14</td>\n",
       "      <td>1966</td>\n",
       "      <td>0</td>\n",
       "      <td>42</td>\n",
       "    </tr>\n",
       "    <tr>\n",
       "      <th>3</th>\n",
       "      <td>2003</td>\n",
       "      <td>17</td>\n",
       "      <td>84</td>\n",
       "      <td>109</td>\n",
       "      <td>31</td>\n",
       "      <td>97</td>\n",
       "      <td>19</td>\n",
       "      <td>11</td>\n",
       "      <td>9</td>\n",
       "      <td>2004</td>\n",
       "      <td>7</td>\n",
       "      <td>34</td>\n",
       "    </tr>\n",
       "    <tr>\n",
       "      <th>4</th>\n",
       "      <td>2004</td>\n",
       "      <td>26</td>\n",
       "      <td>70</td>\n",
       "      <td>94</td>\n",
       "      <td>51</td>\n",
       "      <td>95</td>\n",
       "      <td>16</td>\n",
       "      <td>8</td>\n",
       "      <td>19</td>\n",
       "      <td>1867</td>\n",
       "      <td>2</td>\n",
       "      <td>34</td>\n",
       "    </tr>\n",
       "    <tr>\n",
       "      <th>5</th>\n",
       "      <td>2005</td>\n",
       "      <td>32</td>\n",
       "      <td>46</td>\n",
       "      <td>135</td>\n",
       "      <td>47</td>\n",
       "      <td>76</td>\n",
       "      <td>22</td>\n",
       "      <td>12</td>\n",
       "      <td>17</td>\n",
       "      <td>2050</td>\n",
       "      <td>0</td>\n",
       "      <td>27</td>\n",
       "    </tr>\n",
       "    <tr>\n",
       "      <th>6</th>\n",
       "      <td>2006</td>\n",
       "      <td>25</td>\n",
       "      <td>18</td>\n",
       "      <td>131</td>\n",
       "      <td>71</td>\n",
       "      <td>73</td>\n",
       "      <td>27</td>\n",
       "      <td>10</td>\n",
       "      <td>22</td>\n",
       "      <td>2223</td>\n",
       "      <td>2</td>\n",
       "      <td>40</td>\n",
       "    </tr>\n",
       "    <tr>\n",
       "      <th>7</th>\n",
       "      <td>2007</td>\n",
       "      <td>48</td>\n",
       "      <td>50</td>\n",
       "      <td>134</td>\n",
       "      <td>30</td>\n",
       "      <td>99</td>\n",
       "      <td>22</td>\n",
       "      <td>8</td>\n",
       "      <td>2</td>\n",
       "      <td>2098</td>\n",
       "      <td>3</td>\n",
       "      <td>49</td>\n",
       "    </tr>\n",
       "    <tr>\n",
       "      <th>8</th>\n",
       "      <td>2008</td>\n",
       "      <td>38</td>\n",
       "      <td>28</td>\n",
       "      <td>107</td>\n",
       "      <td>52</td>\n",
       "      <td>106</td>\n",
       "      <td>29</td>\n",
       "      <td>15</td>\n",
       "      <td>16</td>\n",
       "      <td>2245</td>\n",
       "      <td>5</td>\n",
       "      <td>52</td>\n",
       "    </tr>\n",
       "    <tr>\n",
       "      <th>9</th>\n",
       "      <td>2009</td>\n",
       "      <td>22</td>\n",
       "      <td>50</td>\n",
       "      <td>132</td>\n",
       "      <td>70</td>\n",
       "      <td>62</td>\n",
       "      <td>14</td>\n",
       "      <td>4</td>\n",
       "      <td>13</td>\n",
       "      <td>2001</td>\n",
       "      <td>6</td>\n",
       "      <td>34</td>\n",
       "    </tr>\n",
       "    <tr>\n",
       "      <th>10</th>\n",
       "      <td>2010</td>\n",
       "      <td>21</td>\n",
       "      <td>34</td>\n",
       "      <td>120</td>\n",
       "      <td>49</td>\n",
       "      <td>48</td>\n",
       "      <td>18</td>\n",
       "      <td>12</td>\n",
       "      <td>19</td>\n",
       "      <td>1740</td>\n",
       "      <td>3</td>\n",
       "      <td>26</td>\n",
       "    </tr>\n",
       "    <tr>\n",
       "      <th>11</th>\n",
       "      <td>2011</td>\n",
       "      <td>39</td>\n",
       "      <td>24</td>\n",
       "      <td>108</td>\n",
       "      <td>78</td>\n",
       "      <td>57</td>\n",
       "      <td>20</td>\n",
       "      <td>16</td>\n",
       "      <td>36</td>\n",
       "      <td>1724</td>\n",
       "      <td>5</td>\n",
       "      <td>45</td>\n",
       "    </tr>\n",
       "    <tr>\n",
       "      <th>12</th>\n",
       "      <td>2012</td>\n",
       "      <td>13</td>\n",
       "      <td>33</td>\n",
       "      <td>115</td>\n",
       "      <td>82</td>\n",
       "      <td>65</td>\n",
       "      <td>25</td>\n",
       "      <td>11</td>\n",
       "      <td>14</td>\n",
       "      <td>1780</td>\n",
       "      <td>9</td>\n",
       "      <td>49</td>\n",
       "    </tr>\n",
       "    <tr>\n",
       "      <th>13</th>\n",
       "      <td>2013</td>\n",
       "      <td>11</td>\n",
       "      <td>36</td>\n",
       "      <td>102</td>\n",
       "      <td>19</td>\n",
       "      <td>52</td>\n",
       "      <td>19</td>\n",
       "      <td>12</td>\n",
       "      <td>23</td>\n",
       "      <td>1683</td>\n",
       "      <td>4</td>\n",
       "      <td>43</td>\n",
       "    </tr>\n",
       "    <tr>\n",
       "      <th>14</th>\n",
       "      <td>2014</td>\n",
       "      <td>22</td>\n",
       "      <td>28</td>\n",
       "      <td>98</td>\n",
       "      <td>57</td>\n",
       "      <td>51</td>\n",
       "      <td>25</td>\n",
       "      <td>11</td>\n",
       "      <td>20</td>\n",
       "      <td>667</td>\n",
       "      <td>6</td>\n",
       "      <td>56</td>\n",
       "    </tr>\n",
       "    <tr>\n",
       "      <th>15</th>\n",
       "      <td>2015</td>\n",
       "      <td>12</td>\n",
       "      <td>9</td>\n",
       "      <td>81</td>\n",
       "      <td>35</td>\n",
       "      <td>44</td>\n",
       "      <td>14</td>\n",
       "      <td>16</td>\n",
       "      <td>18</td>\n",
       "      <td>1683</td>\n",
       "      <td>7</td>\n",
       "      <td>46</td>\n",
       "    </tr>\n",
       "    <tr>\n",
       "      <th>16</th>\n",
       "      <td>2016</td>\n",
       "      <td>14</td>\n",
       "      <td>40</td>\n",
       "      <td>151</td>\n",
       "      <td>28</td>\n",
       "      <td>86</td>\n",
       "      <td>21</td>\n",
       "      <td>15</td>\n",
       "      <td>9</td>\n",
       "      <td>667</td>\n",
       "      <td>6</td>\n",
       "      <td>54</td>\n",
       "    </tr>\n",
       "    <tr>\n",
       "      <th>17</th>\n",
       "      <td>2017</td>\n",
       "      <td>8</td>\n",
       "      <td>30</td>\n",
       "      <td>122</td>\n",
       "      <td>35</td>\n",
       "      <td>98</td>\n",
       "      <td>10</td>\n",
       "      <td>22</td>\n",
       "      <td>17</td>\n",
       "      <td>667</td>\n",
       "      <td>2</td>\n",
       "      <td>47</td>\n",
       "    </tr>\n",
       "    <tr>\n",
       "      <th>18</th>\n",
       "      <td>2018</td>\n",
       "      <td>9</td>\n",
       "      <td>52</td>\n",
       "      <td>124</td>\n",
       "      <td>25</td>\n",
       "      <td>73</td>\n",
       "      <td>34</td>\n",
       "      <td>19</td>\n",
       "      <td>25</td>\n",
       "      <td>112</td>\n",
       "      <td>2</td>\n",
       "      <td>50</td>\n",
       "    </tr>\n",
       "    <tr>\n",
       "      <th>19</th>\n",
       "      <td>2019</td>\n",
       "      <td>10</td>\n",
       "      <td>56</td>\n",
       "      <td>115</td>\n",
       "      <td>26</td>\n",
       "      <td>81</td>\n",
       "      <td>42</td>\n",
       "      <td>12</td>\n",
       "      <td>25</td>\n",
       "      <td>1468</td>\n",
       "      <td>4</td>\n",
       "      <td>24</td>\n",
       "    </tr>\n",
       "    <tr>\n",
       "      <th>20</th>\n",
       "      <td>2020</td>\n",
       "      <td>11</td>\n",
       "      <td>30</td>\n",
       "      <td>116</td>\n",
       "      <td>23</td>\n",
       "      <td>84</td>\n",
       "      <td>48</td>\n",
       "      <td>24</td>\n",
       "      <td>31</td>\n",
       "      <td>1891</td>\n",
       "      <td>5</td>\n",
       "      <td>66</td>\n",
       "    </tr>\n",
       "  </tbody>\n",
       "</table>\n",
       "</div>"
      ],
      "text/plain": [
       "    year  angier  apex  cary  fuquay_varina  garner  knightdale  morrisville  \\\n",
       "0   2000      29    50    78              0      64          20            7   \n",
       "1   2001      25    62   108             44      85          12           14   \n",
       "2   2002      44    41   112             40      79          18            9   \n",
       "3   2003      17    84   109             31      97          19           11   \n",
       "4   2004      26    70    94             51      95          16            8   \n",
       "5   2005      32    46   135             47      76          22           12   \n",
       "6   2006      25    18   131             71      73          27           10   \n",
       "7   2007      48    50   134             30      99          22            8   \n",
       "8   2008      38    28   107             52     106          29           15   \n",
       "9   2009      22    50   132             70      62          14            4   \n",
       "10  2010      21    34   120             49      48          18           12   \n",
       "11  2011      39    24   108             78      57          20           16   \n",
       "12  2012      13    33   115             82      65          25           11   \n",
       "13  2013      11    36   102             19      52          19           12   \n",
       "14  2014      22    28    98             57      51          25           11   \n",
       "15  2015      12     9    81             35      44          14           16   \n",
       "16  2016      14    40   151             28      86          21           15   \n",
       "17  2017       8    30   122             35      98          10           22   \n",
       "18  2018       9    52   124             25      73          34           19   \n",
       "19  2019      10    56   115             26      81          42           12   \n",
       "20  2020      11    30   116             23      84          48           24   \n",
       "\n",
       "    hollyspring  raleigh  rolesville  wake_forest  \n",
       "0             6     2049           0           35  \n",
       "1            11     2187           2           37  \n",
       "2            14     1966           0           42  \n",
       "3             9     2004           7           34  \n",
       "4            19     1867           2           34  \n",
       "5            17     2050           0           27  \n",
       "6            22     2223           2           40  \n",
       "7             2     2098           3           49  \n",
       "8            16     2245           5           52  \n",
       "9            13     2001           6           34  \n",
       "10           19     1740           3           26  \n",
       "11           36     1724           5           45  \n",
       "12           14     1780           9           49  \n",
       "13           23     1683           4           43  \n",
       "14           20      667           6           56  \n",
       "15           18     1683           7           46  \n",
       "16            9      667           6           54  \n",
       "17           17      667           2           47  \n",
       "18           25      112           2           50  \n",
       "19           25     1468           4           24  \n",
       "20           31     1891           5           66  "
      ]
     },
     "execution_count": 128,
     "metadata": {},
     "output_type": "execute_result"
    }
   ],
   "source": [
    "# Merge all crime datasets\n",
    "crime_1 = pd.merge(angier, apex, on='year')\n",
    "crime_2 = pd.merge(crime_1, cary, on='year')\n",
    "crime_3 = pd.merge(crime_2, fuquay_varina, on='year')\n",
    "crime_4 = pd.merge(crime_3, garner, on='year')\n",
    "crime_5 = pd.merge(crime_4, knightdale, on='year')\n",
    "crime_6 = pd.merge(crime_5, morrisville, on='year')\n",
    "crime_7 = pd.merge(crime_6, hollyspring, on='year')\n",
    "crime_8 = pd.merge(crime_7, raleigh, on='year')\n",
    "crime_9 = pd.merge(crime_8, rolesville, on='year')\n",
    "crime_final = pd.merge(crime_9, wake_forest, on='year')\n",
    "crime_final['year'] = pd.to_datetime(crime_final['year'], format='%Y')\n",
    "crime_final['year'] = crime_final['year'].dt.year\n",
    "# crime_final.to_csv('assets/crime_final.csv', index=False)\n",
    "crime_final"
   ]
  },
  {
   "cell_type": "markdown",
   "metadata": {},
   "source": [
    "### Combine US house supply and demand data to the main data"
   ]
  },
  {
   "cell_type": "code",
   "execution_count": null,
   "metadata": {},
   "outputs": [],
   "source": [
    "updated_house_df['year'] = updated_house_df['deed_date'].dt.strftime('%Y-%m')\n",
    "updated_house_df['year'] = pd.to_datetime(updated_house_df['year'])\n",
    "final_us_house_supply_demand['date'] = pd.to_datetime(final_us_house_supply_demand['date'])\n",
    "wake_house_supply_demand_df['date'] = pd.to_datetime(wake_house_supply_demand_df['date'])\n",
    "updated_house_df = updated_house_df.merge(final_us_house_supply_demand, left_on='year', right_on='date', how='left')\n",
    "updated_house_df = updated_house_df.merge(wake_house_supply_demand_df, left_on='year', right_on='date', how='left')\n",
    "updated_house_df.drop(columns=['year', 'date_x', 'date_y'], inplace=True)"
   ]
  },
  {
   "cell_type": "code",
   "execution_count": null,
   "metadata": {},
   "outputs": [],
   "source": [
    "updated_house_df.head()"
   ]
  },
  {
   "cell_type": "markdown",
   "metadata": {},
   "source": [
    "# Save as a CSV file"
   ]
  },
  {
   "cell_type": "code",
   "execution_count": null,
   "metadata": {},
   "outputs": [],
   "source": [
    "# uncomment to save the data as a CSV file in your local drive if needed\n",
    "# updated_house_df.to_csv('assets/updated_house_df.csv', index=False)"
   ]
  },
  {
   "cell_type": "code",
   "execution_count": null,
   "metadata": {},
   "outputs": [],
   "source": []
  }
 ],
 "metadata": {
  "kernelspec": {
   "display_name": "Python 3.9.8 64-bit",
   "language": "python",
   "name": "python3"
  },
  "language_info": {
   "codemirror_mode": {
    "name": "ipython",
    "version": 3
   },
   "file_extension": ".py",
   "mimetype": "text/x-python",
   "name": "python",
   "nbconvert_exporter": "python",
   "pygments_lexer": "ipython3",
   "version": "3.9.8"
  },
  "orig_nbformat": 4,
  "vscode": {
   "interpreter": {
    "hash": "72572667d892e1791183c326e3aa8bbc0ee980c8a9bf058479e648f1904c68bf"
   }
  }
 },
 "nbformat": 4,
 "nbformat_minor": 2
}
