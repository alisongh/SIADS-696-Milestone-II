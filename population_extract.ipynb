{
 "cells": [
  {
   "cell_type": "code",
   "execution_count": 22,
   "metadata": {},
   "outputs": [],
   "source": [
    "from selenium import webdriver\n",
    "from selenium.webdriver.common.by import By\n",
    "from selenium.webdriver.common.keys import Keys\n",
    "import time\n",
    "import pandas as pd"
   ]
  },
  {
   "cell_type": "code",
   "execution_count": 21,
   "metadata": {},
   "outputs": [
    {
     "name": "stderr",
     "output_type": "stream",
     "text": [
      "C:\\Users\\aliso\\AppData\\Local\\Temp/ipykernel_23596/3673087661.py:2: DeprecationWarning: executable_path has been deprecated, please pass in a Service object\n",
      "  driver = webdriver.Chrome(driver_path)\n"
     ]
    },
    {
     "data": {
      "text/plain": [
       "{'27502': ['43,345', '15,109', '$115,718.00', '$130,769.00'],\n",
       " '27511': ['34,108', '13,427', '$81,579.00', '$108,599.00'],\n",
       " '27513': ['46,660', '18,953', '$99,585.00', '$129,283.00'],\n",
       " '27518': ['18,397', '7,704', '$108,937.00', '$144,573.00'],\n",
       " '27519': ['58,178', '19,516', '$136,019.00', '$155,626.00'],\n",
       " '27522': ['12,457', '4,813', '$64,898.00', '$73,591.00'],\n",
       " '27523': ['14,946', '5,634', '$90,862.00', '$130,731.00'],\n",
       " '27526': ['48,946', '17,112', '$80,335.00', '$97,269.00'],\n",
       " '27529': ['49,632', '18,154', '$69,313.00', '$86,503.00'],\n",
       " '27539': ['23,488', '8,022', '$110,579.00', '$126,004.00']}"
      ]
     },
     "execution_count": 21,
     "metadata": {},
     "output_type": "execute_result"
    }
   ],
   "source": [
    "driver_path = \"chromedriver.exe\"\n",
    "driver = webdriver.Chrome(driver_path)\n",
    "\n",
    "# go to the website\n",
    "driver.get(\"https://www.point2homes.com/US/Neighborhood/NC/Wake-County-Demographics.html#MedianIncomeByZipcode\")\n",
    "time.sleep(1)\n",
    "table_id = driver.find_element(By.ID, 'median-income-table')\n",
    "population_dic = {}\n",
    "zipcode = None\n",
    "population = None\n",
    "household = None\n",
    "median_income = None\n",
    "avg_income = None\n",
    "\n",
    "\n",
    "for row in range(0, 4):\n",
    "    rows = table_id.find_elements(By.TAG_NAME, \"tr\") # get all of the rows in the table\n",
    "    for row_data in rows:\n",
    "        col = row_data.find_elements(By.TAG_NAME, \"td\") #note: index start from 0, 1 is col 2\n",
    "        for i in range(len(col)):\n",
    "            zipcode = col[0].text\n",
    "            population = col[1].text\n",
    "            household = col[2].text\n",
    "            median_income = col[3].text\n",
    "            avg_income = col[4].text\n",
    "            population_dic[zipcode] = [population, household, median_income, avg_income]\n",
    "\n",
    "population_dic"
   ]
  },
  {
   "cell_type": "code",
   "execution_count": 75,
   "metadata": {},
   "outputs": [],
   "source": [
    "population = []\n",
    "household = []\n",
    "median_income = []\n",
    "avg_income = []\n",
    "for key in population_dic.keys():\n",
    "    population.append(population_dic[key][0])\n",
    "    household.append(population_dic[key][1])\n",
    "    median_income.append(population_dic[key][2])\n",
    "    avg_income.append(population_dic[key][3])\n",
    "population_df = pd.DataFrame({'zipcode': population_dic.keys(), 'population': population, 'household': household, 'median_income': median_income, 'avg_income': avg_income})"
   ]
  },
  {
   "cell_type": "code",
   "execution_count": 77,
   "metadata": {},
   "outputs": [],
   "source": [
    "population_df.to_csv('assets/population.csv')"
   ]
  },
  {
   "cell_type": "code",
   "execution_count": null,
   "metadata": {},
   "outputs": [],
   "source": []
  }
 ],
 "metadata": {
  "kernelspec": {
   "display_name": "Python 3.9.8 64-bit",
   "language": "python",
   "name": "python3"
  },
  "language_info": {
   "codemirror_mode": {
    "name": "ipython",
    "version": 3
   },
   "file_extension": ".py",
   "mimetype": "text/x-python",
   "name": "python",
   "nbconvert_exporter": "python",
   "pygments_lexer": "ipython3",
   "version": "3.9.8"
  },
  "orig_nbformat": 4,
  "vscode": {
   "interpreter": {
    "hash": "72572667d892e1791183c326e3aa8bbc0ee980c8a9bf058479e648f1904c68bf"
   }
  }
 },
 "nbformat": 4,
 "nbformat_minor": 2
}
